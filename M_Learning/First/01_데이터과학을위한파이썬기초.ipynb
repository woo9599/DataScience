{
  "nbformat": 4,
  "nbformat_minor": 0,
  "metadata": {
    "colab": {
      "name": "01_데이터과학을 위한 파이썬 기초.ipynb",
      "provenance": [],
      "collapsed_sections": []
    },
    "kernelspec": {
      "name": "python3",
      "display_name": "Python 3"
    },
    "language_info": {
      "name": "python"
    }
  },
  "cells": [
    {
      "cell_type": "markdown",
      "metadata": {
        "id": "i7Vf9ZQzv7qb"
      },
      "source": [
        "**strip () 공백 제거 함수 **"
      ]
    },
    {
      "cell_type": "code",
      "metadata": {
        "colab": {
          "base_uri": "https://localhost:8080/",
          "height": 35
        },
        "id": "llkoW-bkvbjs",
        "outputId": "1f5f558c-1679-4342-fea0-4fb834f02414"
      },
      "source": [
        "st = ' Hello, World! \\t\\t\\n' # 모든 줄 바꿈과 탭(\\n,\\r,\\t)\n",
        "st"
      ],
      "execution_count": null,
      "outputs": [
        {
          "output_type": "execute_result",
          "data": {
            "application/vnd.google.colaboratory.intrinsic+json": {
              "type": "string"
            },
            "text/plain": [
              "' Hello, World! \\t\\t\\n'"
            ]
          },
          "metadata": {
            "tags": []
          },
          "execution_count": 1
        }
      ]
    },
    {
      "cell_type": "code",
      "metadata": {
        "colab": {
          "base_uri": "https://localhost:8080/",
          "height": 35
        },
        "id": "GWuY-WEiwa0q",
        "outputId": "86662a5d-39c2-42f6-ac02-81e358669f6f"
      },
      "source": [
        "st.strip() # 모든 공배 제거 "
      ],
      "execution_count": null,
      "outputs": [
        {
          "output_type": "execute_result",
          "data": {
            "application/vnd.google.colaboratory.intrinsic+json": {
              "type": "string"
            },
            "text/plain": [
              "'Hello, World!'"
            ]
          },
          "metadata": {
            "tags": []
          },
          "execution_count": 7
        }
      ]
    },
    {
      "cell_type": "code",
      "metadata": {
        "colab": {
          "base_uri": "https://localhost:8080/",
          "height": 35
        },
        "id": "xsTnYxCDwwVi",
        "outputId": "ce86f173-6ca2-4920-e881-b5736d747ff2"
      },
      "source": [
        "st.lstrip() # 왼쪽 공배 제거"
      ],
      "execution_count": null,
      "outputs": [
        {
          "output_type": "execute_result",
          "data": {
            "application/vnd.google.colaboratory.intrinsic+json": {
              "type": "string"
            },
            "text/plain": [
              "'Hello, World! \\t\\t\\n'"
            ]
          },
          "metadata": {
            "tags": []
          },
          "execution_count": 3
        }
      ]
    },
    {
      "cell_type": "code",
      "metadata": {
        "colab": {
          "base_uri": "https://localhost:8080/",
          "height": 35
        },
        "id": "SDUjSS39w8bK",
        "outputId": "60bf2e74-ffef-41f4-d448-226b38ca7353"
      },
      "source": [
        "st.rstrip() # 오른쪽 공백 제거"
      ],
      "execution_count": null,
      "outputs": [
        {
          "output_type": "execute_result",
          "data": {
            "application/vnd.google.colaboratory.intrinsic+json": {
              "type": "string"
            },
            "text/plain": [
              "' Hello, World!'"
            ]
          },
          "metadata": {
            "tags": []
          },
          "execution_count": 4
        }
      ]
    },
    {
      "cell_type": "markdown",
      "metadata": {
        "id": "E2vB2U2AxLN9"
      },
      "source": [
        "**split(delim =\"\") 문자열 자르기 함수**\n"
      ]
    },
    {
      "cell_type": "code",
      "metadata": {
        "colab": {
          "base_uri": "https://localhost:8080/"
        },
        "id": "jvUrlS3BxUFo",
        "outputId": "0d75264b-ace9-4b3f-ff48-de8926060093"
      },
      "source": [
        "'Hello, World!'.split() # delim 구분자 --> default 공백"
      ],
      "execution_count": null,
      "outputs": [
        {
          "output_type": "execute_result",
          "data": {
            "text/plain": [
              "['Hello,', 'World!']"
            ]
          },
          "metadata": {
            "tags": []
          },
          "execution_count": 12
        }
      ]
    },
    {
      "cell_type": "code",
      "metadata": {
        "colab": {
          "base_uri": "https://localhost:8080/"
        },
        "id": "3hg8KiQCxkDT",
        "outputId": "217cfcbf-92c9-4e16-9c2e-4091ad7dd511"
      },
      "source": [
        "'Hello, World!'.split(\",\") #구분자 --> ,(콤마)"
      ],
      "execution_count": null,
      "outputs": [
        {
          "output_type": "execute_result",
          "data": {
            "text/plain": [
              "['Hello', ' World!']"
            ]
          },
          "metadata": {
            "tags": []
          },
          "execution_count": 14
        }
      ]
    },
    {
      "cell_type": "code",
      "metadata": {
        "colab": {
          "base_uri": "https://localhost:8080/"
        },
        "id": "WFN6nglKyIdO",
        "outputId": "896e9a2c-d9f7-4a1a-ce43-4eec6c8c41f8"
      },
      "source": [
        "\"www.networksciencelab.com\".split(\".\") # .---> 으로 분리"
      ],
      "execution_count": null,
      "outputs": [
        {
          "output_type": "execute_result",
          "data": {
            "text/plain": [
              "['www', 'networksciencelab', 'com']"
            ]
          },
          "metadata": {
            "tags": []
          },
          "execution_count": 17
        }
      ]
    },
    {
      "cell_type": "markdown",
      "metadata": {
        "id": "4IDNGwuRyqLt"
      },
      "source": [
        "**join (list) 문자열을 연결시키는 함수**"
      ]
    },
    {
      "cell_type": "code",
      "metadata": {
        "colab": {
          "base_uri": "https://localhost:8080/",
          "height": 35
        },
        "id": "Kf6qjxSjy1J-",
        "outputId": "4f10a06c-78a0-4dea-fca9-baca73024e4f"
      },
      "source": [
        "\",\".join([\"alpha\",\"brawo\",\"charlie\",\"delta\"]) #문자열 리스트 하나의 문자열로 붙임 -> 문자열조각을 재조합"
      ],
      "execution_count": null,
      "outputs": [
        {
          "output_type": "execute_result",
          "data": {
            "application/vnd.google.colaboratory.intrinsic+json": {
              "type": "string"
            },
            "text/plain": [
              "'alpha,brawo,charlie,delta'"
            ]
          },
          "metadata": {
            "tags": []
          },
          "execution_count": 20
        }
      ]
    },
    {
      "cell_type": "code",
      "metadata": {
        "colab": {
          "base_uri": "https://localhost:8080/",
          "height": 35
        },
        "id": "HDsmZ-xfzS9x",
        "outputId": "2d771758-2941-48bb-c072-9071bbbdb7fe"
      },
      "source": [
        "\"-\".join(\"1.617.305.1985\".split(\".\")) "
      ],
      "execution_count": null,
      "outputs": [
        {
          "output_type": "execute_result",
          "data": {
            "application/vnd.google.colaboratory.intrinsic+json": {
              "type": "string"
            },
            "text/plain": [
              "'1-617-305-1985'"
            ]
          },
          "metadata": {
            "tags": []
          },
          "execution_count": 25
        }
      ]
    },
    {
      "cell_type": "code",
      "metadata": {
        "colab": {
          "base_uri": "https://localhost:8080/",
          "height": 35
        },
        "id": "739L6mE4z7pm",
        "outputId": "decae360-81cf-4121-f8d8-9cc42b24bae6"
      },
      "source": [
        "#1)구분자로 자른다\n",
        "ls =\"1.617.305.1985\".split(\".\")\n",
        "#2)ls를 - 구분자로 붙인다\n",
        "\"-\".join(ls)"
      ],
      "execution_count": null,
      "outputs": [
        {
          "output_type": "execute_result",
          "data": {
            "application/vnd.google.colaboratory.intrinsic+json": {
              "type": "string"
            },
            "text/plain": [
              "'1-617-305-1985'"
            ]
          },
          "metadata": {
            "tags": []
          },
          "execution_count": 27
        }
      ]
    },
    {
      "cell_type": "code",
      "metadata": {
        "colab": {
          "base_uri": "https://localhost:8080/",
          "height": 35
        },
        "id": "abaOnf5v0aU4",
        "outputId": "3b2529cb-127e-479d-efa1-4b00cf1d665d"
      },
      "source": [
        "\" \".join(\"This string\\n\\r has many\\t\\tspaces\".split())"
      ],
      "execution_count": null,
      "outputs": [
        {
          "output_type": "execute_result",
          "data": {
            "application/vnd.google.colaboratory.intrinsic+json": {
              "type": "string"
            },
            "text/plain": [
              "'This string has many spaces'"
            ]
          },
          "metadata": {
            "tags": []
          },
          "execution_count": 29
        }
      ]
    },
    {
      "cell_type": "code",
      "metadata": {
        "colab": {
          "base_uri": "https://localhost:8080/",
          "height": 35
        },
        "id": "Xi6ZpN4z0oOq",
        "outputId": "e802c5ae-2082-455d-e3fe-7ecf7089afed"
      },
      "source": [
        "#1)\\n\\r 공배데이터 기준으로 자르기\n",
        "ls = \"This string\\n\\r has many\\t\\tspaces\".split()\n",
        "ls\n",
        "#2) 공백 한칸으로 재조합\n",
        "\" \".join(ls)"
      ],
      "execution_count": null,
      "outputs": [
        {
          "output_type": "execute_result",
          "data": {
            "application/vnd.google.colaboratory.intrinsic+json": {
              "type": "string"
            },
            "text/plain": [
              "'This string has many spaces'"
            ]
          },
          "metadata": {
            "tags": []
          },
          "execution_count": 38
        }
      ]
    },
    {
      "cell_type": "code",
      "metadata": {
        "colab": {
          "base_uri": "https://localhost:8080/",
          "height": 35
        },
        "id": "eiiksgQT0xgC",
        "outputId": "8c236fd6-70ff-4ebc-f3a4-a96278ae5128"
      },
      "source": [
        "\" \".join(\"This string\\n\\r has many\\t\\tspaces\".split())"
      ],
      "execution_count": null,
      "outputs": [
        {
          "output_type": "execute_result",
          "data": {
            "application/vnd.google.colaboratory.intrinsic+json": {
              "type": "string"
            },
            "text/plain": [
              "'This string has many spaces'"
            ]
          },
          "metadata": {
            "tags": []
          },
          "execution_count": 39
        }
      ]
    },
    {
      "cell_type": "markdown",
      "metadata": {
        "id": "E52RxG1b1lrR"
      },
      "source": [
        "**find(needle)해당 문자열에 부분 문자열 needle 처음 등장하는 인덱스 반환(위치) 없으면 -1 반환하는 함수 (대소문자 구분)**\n"
      ]
    },
    {
      "cell_type": "code",
      "metadata": {
        "colab": {
          "base_uri": "https://localhost:8080/"
        },
        "id": "CfJPp2D21yOu",
        "outputId": "14225341-2176-49f3-ff9a-4d41df1215ba"
      },
      "source": [
        "\"www.networksciencelab.com\".find(\".com\")# 인덱스 문자열 위치 [0] 부터 시작"
      ],
      "execution_count": null,
      "outputs": [
        {
          "output_type": "execute_result",
          "data": {
            "text/plain": [
              "21"
            ]
          },
          "metadata": {
            "tags": []
          },
          "execution_count": 41
        }
      ]
    },
    {
      "cell_type": "code",
      "metadata": {
        "colab": {
          "base_uri": "https://localhost:8080/"
        },
        "id": "Z_Z3Hk4h2UYB",
        "outputId": "f36b4b05-f211-4b56-d379-6e0c300b53f9"
      },
      "source": [
        "\"www.networksciencelab.Com\".find(\".com\") # -1 의미: 문자열이 존재 하지 않다."
      ],
      "execution_count": null,
      "outputs": [
        {
          "output_type": "execute_result",
          "data": {
            "text/plain": [
              "-1"
            ]
          },
          "metadata": {
            "tags": []
          },
          "execution_count": 43
        }
      ]
    },
    {
      "cell_type": "markdown",
      "metadata": {
        "id": "uPrDYpn62hv-"
      },
      "source": [
        "**count(needle) 해당 문자열에서 등장하는 횟수를 반환하는 함수 (대소문자 구분)**\n",
        "\n"
      ]
    },
    {
      "cell_type": "code",
      "metadata": {
        "colab": {
          "base_uri": "https://localhost:8080/"
        },
        "id": "iUfeyK9R2tdr",
        "outputId": "2ea603b4-7bfe-4360-dd02-b95f0b0e59c7"
      },
      "source": [
        "\"www.networksciencelab.com\".count(\".\") #.의 개수 출력 "
      ],
      "execution_count": null,
      "outputs": [
        {
          "output_type": "execute_result",
          "data": {
            "text/plain": [
              "2"
            ]
          },
          "metadata": {
            "tags": []
          },
          "execution_count": 45
        }
      ]
    },
    {
      "cell_type": "code",
      "metadata": {
        "colab": {
          "base_uri": "https://localhost:8080/"
        },
        "id": "XmiYXSQI22aR",
        "outputId": "3bbee342-b259-4cea-b7f9-33f2cc29ff77"
      },
      "source": [
        "\"www.networksciencelab.com\".count(\"w\") # w의 개수 출력 "
      ],
      "execution_count": null,
      "outputs": [
        {
          "output_type": "execute_result",
          "data": {
            "text/plain": [
              "4"
            ]
          },
          "metadata": {
            "tags": []
          },
          "execution_count": 47
        }
      ]
    },
    {
      "cell_type": "code",
      "metadata": {
        "colab": {
          "base_uri": "https://localhost:8080/"
        },
        "id": "sF7pFI9W3EPz",
        "outputId": "71e3c1dd-4955-4682-9f4d-fdb6f0f796e2"
      },
      "source": [
        "\"www.networksciencelab.com\".count(\"C\") # count에 해당 문자가 없을 경우 0 출력"
      ],
      "execution_count": null,
      "outputs": [
        {
          "output_type": "execute_result",
          "data": {
            "text/plain": [
              "0"
            ]
          },
          "metadata": {
            "tags": []
          },
          "execution_count": 49
        }
      ]
    },
    {
      "cell_type": "markdown",
      "metadata": {
        "id": "rSoxQQ463SAn"
      },
      "source": [
        "**프레디케이트 함수 -> 문자열 s가 특정 클래스에 속하는지 Ture,False로 반환**"
      ]
    },
    {
      "cell_type": "code",
      "metadata": {
        "colab": {
          "base_uri": "https://localhost:8080/"
        },
        "id": "K9Jja1CW3Zen",
        "outputId": "d577faf3-a779-42b6-ad4c-5bdd2d004f94"
      },
      "source": [
        "\"www.networksciencelab.com\".islower() # 모든 알파벳 문자가 소문자인지 체크"
      ],
      "execution_count": null,
      "outputs": [
        {
          "output_type": "execute_result",
          "data": {
            "text/plain": [
              "True"
            ]
          },
          "metadata": {
            "tags": []
          },
          "execution_count": 54
        }
      ]
    },
    {
      "cell_type": "code",
      "metadata": {
        "colab": {
          "base_uri": "https://localhost:8080/"
        },
        "id": "yLjlW22l4OxE",
        "outputId": "157288d5-f3d6-46ec-8141-c0576d3bd42c"
      },
      "source": [
        "\"www.networksciencelab.com\".isupper() # 모든 알파벳 문자가 대문자인지 체크"
      ],
      "execution_count": null,
      "outputs": [
        {
          "output_type": "execute_result",
          "data": {
            "text/plain": [
              "False"
            ]
          },
          "metadata": {
            "tags": []
          },
          "execution_count": 56
        }
      ]
    },
    {
      "cell_type": "code",
      "metadata": {
        "colab": {
          "base_uri": "https://localhost:8080/"
        },
        "id": "OBLy4xdN4WTR",
        "outputId": "75fa1e3a-a6f7-4b6a-df7d-a2411e77ff11"
      },
      "source": [
        "\"www.networksciencelab.com\".isdigit() #0~9 사이 숫자인지 확인"
      ],
      "execution_count": null,
      "outputs": [
        {
          "output_type": "execute_result",
          "data": {
            "text/plain": [
              "False"
            ]
          },
          "metadata": {
            "tags": []
          },
          "execution_count": 61
        }
      ]
    },
    {
      "cell_type": "code",
      "metadata": {
        "colab": {
          "base_uri": "https://localhost:8080/"
        },
        "id": "cARJIIjv33Jr",
        "outputId": "203f31f3-44e5-4536-c0bf-b3739c700781"
      },
      "source": [
        "\"www.networksciencelab.com\".isalpha()# dot(.)제거 해야만 True"
      ],
      "execution_count": null,
      "outputs": [
        {
          "output_type": "execute_result",
          "data": {
            "text/plain": [
              "False"
            ]
          },
          "metadata": {
            "tags": []
          },
          "execution_count": 59
        }
      ]
    },
    {
      "cell_type": "code",
      "metadata": {
        "colab": {
          "base_uri": "https://localhost:8080/"
        },
        "id": "AxdBofPK4A3b",
        "outputId": "26fbf1e6-2e6a-4ef9-bdb7-05dbf3216cbd"
      },
      "source": [
        "\"wwwnetworksciencelabcom\".isalpha()# dot(.)제거 해야만 True -> 알파벳(숫자,특수기호X)인지체크"
      ],
      "execution_count": null,
      "outputs": [
        {
          "output_type": "execute_result",
          "data": {
            "text/plain": [
              "True"
            ]
          },
          "metadata": {
            "tags": []
          },
          "execution_count": 62
        }
      ]
    },
    {
      "cell_type": "markdown",
      "metadata": {
        "id": "5d_TB4xQ5CBg"
      },
      "source": [
        "**대.소문자 변환 함수 -> 모든 문자 대.소문자 변환\n",
        "(문자열 s의 복사본 반환)**"
      ]
    },
    {
      "cell_type": "code",
      "metadata": {
        "colab": {
          "base_uri": "https://localhost:8080/",
          "height": 35
        },
        "id": "voq5oDCK5KED",
        "outputId": "bde05799-fa6e-45df-d065-bd08cd7e819e"
      },
      "source": [
        "st = \"www.networksciencelab.com\".upper() # 소문자 ---> 대문자로   \n",
        "                                         # 만약 그냥 출력 하면 읽기모드 \n",
        "st                                       # 변수에 저장하고 출력 "
      ],
      "execution_count": null,
      "outputs": [
        {
          "output_type": "execute_result",
          "data": {
            "application/vnd.google.colaboratory.intrinsic+json": {
              "type": "string"
            },
            "text/plain": [
              "'WWW.NETWORKSCIENCELAB.COM'"
            ]
          },
          "metadata": {
            "tags": []
          },
          "execution_count": 65
        }
      ]
    },
    {
      "cell_type": "code",
      "metadata": {
        "colab": {
          "base_uri": "https://localhost:8080/",
          "height": 35
        },
        "id": "Y6GEbP5N5QlA",
        "outputId": "c25b8310-26a2-45f7-e8b6-25d13be330d6"
      },
      "source": [
        "st.lower()"
      ],
      "execution_count": null,
      "outputs": [
        {
          "output_type": "execute_result",
          "data": {
            "application/vnd.google.colaboratory.intrinsic+json": {
              "type": "string"
            },
            "text/plain": [
              "'www.networksciencelab.com'"
            ]
          },
          "metadata": {
            "tags": []
          },
          "execution_count": 69
        }
      ]
    },
    {
      "cell_type": "code",
      "metadata": {
        "colab": {
          "base_uri": "https://localhost:8080/",
          "height": 35
        },
        "id": "5CE6sIAq5bPP",
        "outputId": "625a7c79-f477-4a62-aad5-11555a2312f3"
      },
      "source": [
        "st = st.lower()        #대문자 ----> 소문자\n",
        "st"
      ],
      "execution_count": null,
      "outputs": [
        {
          "output_type": "execute_result",
          "data": {
            "application/vnd.google.colaboratory.intrinsic+json": {
              "type": "string"
            },
            "text/plain": [
              "'www.networksciencelab.com'"
            ]
          },
          "metadata": {
            "tags": []
          },
          "execution_count": 71
        }
      ]
    },
    {
      "cell_type": "code",
      "metadata": {
        "colab": {
          "base_uri": "https://localhost:8080/",
          "height": 35
        },
        "id": "HJ0qAoB55T9r",
        "outputId": "59b77f26-9f5d-4fa0-dbfd-d42275240b57"
      },
      "source": [
        "st"
      ],
      "execution_count": null,
      "outputs": [
        {
          "output_type": "execute_result",
          "data": {
            "application/vnd.google.colaboratory.intrinsic+json": {
              "type": "string"
            },
            "text/plain": [
              "'www.networksciencelab.com'"
            ]
          },
          "metadata": {
            "tags": []
          },
          "execution_count": 72
        }
      ]
    },
    {
      "cell_type": "markdown",
      "metadata": {
        "id": "zJtGmhO0NrEH"
      },
      "source": [
        "**2.올바른 자료구조 선택하기**"
      ]
    },
    {
      "cell_type": "markdown",
      "metadata": {
        "id": "VdnQ1W9fNw0v"
      },
      "source": [
        "**중복된 아이템이 있는 리스트  -> myList**"
      ]
    },
    {
      "cell_type": "code",
      "metadata": {
        "colab": {
          "base_uri": "https://localhost:8080/"
        },
        "id": "ktewL4UyN1NH",
        "outputId": "8a7ef247-e543-4076-d837-7272d9ccbc90"
      },
      "source": [
        "myList = \"This string\\n\\r has many\\t\\tspaces\\tThis string\\n\\r has many\\t\\tspaces\".split()\n",
        "myList\n",
        "\n",
        "    \n"
      ],
      "execution_count": null,
      "outputs": [
        {
          "output_type": "execute_result",
          "data": {
            "text/plain": [
              "['This',\n",
              " 'string',\n",
              " 'has',\n",
              " 'many',\n",
              " 'spaces',\n",
              " 'This',\n",
              " 'string',\n",
              " 'has',\n",
              " 'many',\n",
              " 'spaces']"
            ]
          },
          "metadata": {
            "tags": []
          },
          "execution_count": 74
        }
      ]
    },
    {
      "cell_type": "markdown",
      "metadata": {
        "id": "DlV92jFDOLvH"
      },
      "source": [
        "**리스트 -> 셋 변환 -> 다시 리스트로 변환**"
      ]
    },
    {
      "cell_type": "code",
      "metadata": {
        "colab": {
          "base_uri": "https://localhost:8080/"
        },
        "id": "kae8jxZUN93T",
        "outputId": "ba2f535c-9112-4f1a-ac86-833ea8f6db52"
      },
      "source": [
        "#1 셋 변환 (중복제거)\n",
        "set(myList)\n",
        "\n",
        "#2 중복제거한 데이터를 리스트로 변환\n",
        "myList = list(set(myList))\n",
        "myList"
      ],
      "execution_count": null,
      "outputs": [
        {
          "output_type": "execute_result",
          "data": {
            "text/plain": [
              "['has', 'This', 'many', 'spaces', 'string']"
            ]
          },
          "metadata": {
            "tags": []
          },
          "execution_count": 79
        }
      ]
    },
    {
      "cell_type": "markdown",
      "metadata": {
        "id": "3dUpP5g2PPCZ"
      },
      "source": [
        "**리스트 vs 셋 회원 명단 조회하**"
      ]
    },
    {
      "cell_type": "code",
      "metadata": {
        "colab": {
          "base_uri": "https://localhost:8080/"
        },
        "id": "mkjtXktWPSEN",
        "outputId": "3bca700e-5e7b-4c14-9dd1-b4fbf196485d"
      },
      "source": [
        "bigList = [str(i) for i in range(10000000)] #리스트 내포 \n",
        "\"abc\" in bigList #bigList 리스트에 abc 데이터 in(포함) 되어 있는지 확인(True, False 둘중에 하나 출력)"
      ],
      "execution_count": null,
      "outputs": [
        {
          "output_type": "execute_result",
          "data": {
            "text/plain": [
              "False"
            ]
          },
          "metadata": {
            "tags": []
          },
          "execution_count": 87
        }
      ]
    },
    {
      "cell_type": "code",
      "metadata": {
        "id": "Sw1QW4iARFCB"
      },
      "source": [
        "for i in range(10000000):  #위에 풀이 \n",
        "  bigList = str(i)"
      ],
      "execution_count": null,
      "outputs": []
    },
    {
      "cell_type": "code",
      "metadata": {
        "colab": {
          "base_uri": "https://localhost:8080/"
        },
        "id": "aiXi1Mp-QACh",
        "outputId": "251eb0ac-614c-48ac-c7db-d4fe335e95ba"
      },
      "source": [
        "bigList = set(bigList)#셋으로 변환 하면 중복 제거 되기 때문에 데이터 조회시 빠름\n",
        "\"abc\" in bigList # 0초걸림"
      ],
      "execution_count": null,
      "outputs": [
        {
          "output_type": "execute_result",
          "data": {
            "text/plain": [
              "False"
            ]
          },
          "metadata": {
            "tags": []
          },
          "execution_count": 85
        }
      ]
    },
    {
      "cell_type": "markdown",
      "metadata": {
        "id": "EIQA4TnjRcEK"
      },
      "source": [
        "**딕셔너리 (키 - 값으로 검색해야 할 때 매우 유용)**"
      ]
    },
    {
      "cell_type": "markdown",
      "metadata": {
        "id": "jEJD16TGSSSx"
      },
      "source": [
        "**리스트 딕셔너리 만들기 -enumerate**"
      ]
    },
    {
      "cell_type": "code",
      "metadata": {
        "colab": {
          "base_uri": "https://localhost:8080/"
        },
        "id": "dj2umNnJRgxW",
        "outputId": "c49bf28f-ac91-48ca-f751-bbcc07731817"
      },
      "source": [
        "\n",
        "#1)리스트준비\n",
        "seq = [\"alpha\",\"brawo\",\"charlie\",\"delta\"]\n",
        "#2) 딕셔너리 만들기 ----> 인덱스 정보를 key, Data를 value\n",
        "dict(enumerate(seq)) # 인덱스 값을 같이 뽑아준다."
      ],
      "execution_count": null,
      "outputs": [
        {
          "output_type": "execute_result",
          "data": {
            "text/plain": [
              "{0: 'alpha', 1: 'brawo', 2: 'charlie', 3: 'delta'}"
            ]
          },
          "metadata": {
            "tags": []
          },
          "execution_count": 93
        }
      ]
    },
    {
      "cell_type": "markdown",
      "metadata": {
        "id": "PRtJ0bmuTMsC"
      },
      "source": [
        "**리스트 딕셔너리 만들기 - 키순서열과 값 순서열에 클래스 생성자인 zip(key,value)사용**"
      ]
    },
    {
      "cell_type": "code",
      "metadata": {
        "colab": {
          "base_uri": "https://localhost:8080/"
        },
        "id": "6lBWLmsfTG3Q",
        "outputId": "551ac623-8bb1-44fb-ff12-0c1f62bd4dcc"
      },
      "source": [
        "kseq =\"abcd\"#문자열 또한, 순서열이다.\n",
        "vseq = [\"alpha\",\"brawo\",\"charlie\",\"delta\"]\n",
        "dict(zip(kseq,vseq))"
      ],
      "execution_count": null,
      "outputs": [
        {
          "output_type": "execute_result",
          "data": {
            "text/plain": [
              "{'a': 'alpha', 'b': 'brawo', 'c': 'charlie', 'd': 'delta'}"
            ]
          },
          "metadata": {
            "tags": []
          },
          "execution_count": 98
        }
      ]
    },
    {
      "cell_type": "code",
      "metadata": {
        "colab": {
          "base_uri": "https://localhost:8080/"
        },
        "id": "qLDODnPlUHGR",
        "outputId": "308cf8ba-84ba-4a02-e0cc-ca412a263a24"
      },
      "source": [
        "kseq =\"aaaa\"\n",
        "seq = [\"alpha\",\"brawo\",\"charlie\",\"delta\"]\n",
        "\n",
        "dict(zip(kseq,vseq))# 키는 중복되면 안되기 떄문에 키 값은 a만 나오고 최종적으로 마지막에 담긴 데이터만 나옴"
      ],
      "execution_count": null,
      "outputs": [
        {
          "output_type": "execute_result",
          "data": {
            "text/plain": [
              "{'a': 'delta'}"
            ]
          },
          "metadata": {
            "tags": []
          },
          "execution_count": 100
        }
      ]
    },
    {
      "cell_type": "markdown",
      "metadata": {
        "id": "IuamrxbaaBbl"
      },
      "source": [
        "**키운터 (counter)는 딕셔너리 스타일의 컬렉션에서 다른 컬렉션 안의 아이템개수셀때 사용**"
      ]
    },
    {
      "cell_type": "code",
      "metadata": {
        "colab": {
          "base_uri": "https://localhost:8080/"
        },
        "id": "l4Q4xkXYUkTF",
        "outputId": "076e666b-8996-4d64-decf-9add4a5d6b12"
      },
      "source": [
        "from collections import Counter\n",
        "\n",
        "phrase = \"a man a plan a canal panama\"\n",
        "\n",
        "cntr = Counter(phrase.split())\n",
        "\n",
        "cntr.most_common(1) # 가장 빈번하게 등장한 n개의 아이템과 빈도 추출 () 빈번하게 보고싶은 출력물 갯수"
      ],
      "execution_count": null,
      "outputs": [
        {
          "output_type": "execute_result",
          "data": {
            "text/plain": [
              "[('a', 3)]"
            ]
          },
          "metadata": {
            "tags": []
          },
          "execution_count": 108
        }
      ]
    },
    {
      "cell_type": "code",
      "metadata": {
        "colab": {
          "base_uri": "https://localhost:8080/"
        },
        "id": "_y8MwCwqboX6",
        "outputId": "12d2c04d-7e45-4722-caff-d247ba0d9e39"
      },
      "source": [
        "phrase = \"a man a plan a canal panama\"\n",
        "ls = phrase.split()\n",
        "ls"
      ],
      "execution_count": null,
      "outputs": [
        {
          "output_type": "execute_result",
          "data": {
            "text/plain": [
              "['a', 'man', 'a', 'plan', 'a', 'canal', 'panama']"
            ]
          },
          "metadata": {
            "tags": []
          },
          "execution_count": 110
        }
      ]
    },
    {
      "cell_type": "code",
      "metadata": {
        "colab": {
          "base_uri": "https://localhost:8080/"
        },
        "id": "79CFj6Ppa0QG",
        "outputId": "813f64a5-b5af-48c3-a840-3ccf6c2d8b15"
      },
      "source": [
        "cntr # 스플릿으로 잘린 값들이 키값 숫자가 벨류 값 # 동일한 벨류값에서는 인덱스값이 빠른사람이 먼저나옴"
      ],
      "execution_count": null,
      "outputs": [
        {
          "output_type": "execute_result",
          "data": {
            "text/plain": [
              "Counter({'a': 3, 'canal': 1, 'man': 1, 'panama': 1, 'plan': 1})"
            ]
          },
          "metadata": {
            "tags": []
          },
          "execution_count": 107
        }
      ]
    },
    {
      "cell_type": "markdown",
      "metadata": {
        "id": "KuYsECxpcWqw"
      },
      "source": [
        "**출력한 리스트를 디셔너리로 변환하면 가독성 좋아짐**"
      ]
    },
    {
      "cell_type": "code",
      "metadata": {
        "colab": {
          "base_uri": "https://localhost:8080/"
        },
        "id": "LzDwFjBsbdIO",
        "outputId": "b28d2cfb-6253-4d17-97df-0e0c7d49eedf"
      },
      "source": [
        "cntrDict =dict(cntr.most_common()) # key :추출된 아이템, value : 아이템빈도\n",
        "cntrDict"
      ],
      "execution_count": null,
      "outputs": [
        {
          "output_type": "execute_result",
          "data": {
            "text/plain": [
              "{'a': 3, 'canal': 1, 'man': 1, 'panama': 1, 'plan': 1}"
            ]
          },
          "metadata": {
            "tags": []
          },
          "execution_count": 113
        }
      ]
    },
    {
      "cell_type": "code",
      "metadata": {
        "colab": {
          "base_uri": "https://localhost:8080/"
        },
        "id": "Y9BeDYWCcuB5",
        "outputId": "9949bc4d-a655-465e-d069-8f43713a72ed"
      },
      "source": [
        "cntrDict['plan']"
      ],
      "execution_count": null,
      "outputs": [
        {
          "output_type": "execute_result",
          "data": {
            "text/plain": [
              "1"
            ]
          },
          "metadata": {
            "tags": []
          },
          "execution_count": 115
        }
      ]
    },
    {
      "cell_type": "markdown",
      "metadata": {
        "id": "9Ddh4DXTeCKV"
      },
      "source": [
        "**웹에 접근하기**"
      ]
    },
    {
      "cell_type": "code",
      "metadata": {
        "colab": {
          "base_uri": "https://localhost:8080/"
        },
        "id": "Jk6JwloLd3xW",
        "outputId": "25b0b5c5-34c4-4309-8f9b-819adb9365b8"
      },
      "source": [
        "import urllib.request#request 요청\n",
        "\n",
        "try:                                          #오류가 발생했으면 except가고 안나면 실행하면 됨\n",
        "  with urllib.urlopen(\"http://networksciencelab.com\") as doc:\n",
        "    html = doc.read()\n",
        "    print(html)\n",
        "\n",
        "except:\n",
        "  print(\"Could not open\")"
      ],
      "execution_count": null,
      "outputs": [
        {
          "output_type": "stream",
          "text": [
            "Could not open\n"
          ],
          "name": "stdout"
        }
      ]
    },
    {
      "cell_type": "code",
      "metadata": {
        "colab": {
          "base_uri": "https://localhost:8080/"
        },
        "id": "PQJc12FYg0Ad",
        "outputId": "5158376f-7fc0-4503-d42f-14cfdccb83c1"
      },
      "source": [
        "import urllib.parse\n",
        "\n",
        "URL = \"http://networksciencelab.com/index.html;param?foo=bar#content\" # url 파싱하여 6개의 아이템으로 구성된 튜플로 분리 스키마\n",
        "                                                                      # 네트워크 주소, 파일 시스템 경로, 파라미터, 쿼리, 플래그먼트\n",
        "\n",
        "urllib.parse.urlparse(URL)\n"
      ],
      "execution_count": null,
      "outputs": [
        {
          "output_type": "execute_result",
          "data": {
            "text/plain": [
              "ParseResult(scheme='http', netloc='networksciencelab.com', path='/index.html', params='param', query='foo=bar', fragment='content')"
            ]
          },
          "metadata": {
            "tags": []
          },
          "execution_count": 119
        }
      ]
    },
    {
      "cell_type": "markdown",
      "metadata": {
        "id": "GEz4-kQ_nN-T"
      },
      "source": [
        "**정규식**"
      ]
    },
    {
      "cell_type": "code",
      "metadata": {
        "colab": {
          "base_uri": "https://localhost:8080/"
        },
        "id": "NYS1hJtqhYX3",
        "outputId": "6701fd35-c0c3-419e-bfcc-807036c95ae8"
      },
      "source": [
        "a = 'abcdef\\n'\n",
        "print(a)\n",
        "\n",
        "b = r'abcdef\\n\\n' # r은 원천 문자열(raw string)로 인식\n",
        "c = r'abcdef\\t'\n",
        "print(b)\n",
        "print(c)"
      ],
      "execution_count": null,
      "outputs": [
        {
          "output_type": "stream",
          "text": [
            "abcdef\n",
            "\n",
            "abcdef\\n\\n\n",
            "abcdef\\t\n"
          ],
          "name": "stdout"
        }
      ]
    },
    {
      "cell_type": "code",
      "metadata": {
        "colab": {
          "base_uri": "https://localhost:8080/"
        },
        "id": "LUHnPsHipZ-C",
        "outputId": "a6e9c55e-8862-4d32-8b2d-f8fcf3e175a5"
      },
      "source": [
        "import re\n",
        "\n",
        "re.compile(r'(\\d+)/(\\d+)/(\\d+)') # raw string -> 0/0/0 1/1/1 3/3/3"
      ],
      "execution_count": null,
      "outputs": [
        {
          "output_type": "execute_result",
          "data": {
            "text/plain": [
              "re.compile(r'(\\d+)/(\\d+)/(\\d+)', re.UNICODE)"
            ]
          },
          "metadata": {
            "tags": []
          },
          "execution_count": 129
        }
      ]
    },
    {
      "cell_type": "code",
      "metadata": {
        "colab": {
          "base_uri": "https://localhost:8080/"
        },
        "id": "AALjO2MTos6i",
        "outputId": "383759b2-4f43-4fb6-a788-24bebb47c565"
      },
      "source": [
        "re.compile('(\\\\d+)/(\\\\d+)/(\\\\d+)') #raw string 사용하지 않으면 , 슬래시 두번을 사용해야 하는 불편함 -> 그래서 보통 r문자를 붙여줌"
      ],
      "execution_count": null,
      "outputs": [
        {
          "output_type": "execute_result",
          "data": {
            "text/plain": [
              "re.compile(r'(\\d+)/(\\d+)/(\\d+)', re.UNICODE)"
            ]
          },
          "metadata": {
            "tags": []
          },
          "execution_count": 132
        }
      ]
    },
    {
      "cell_type": "markdown",
      "metadata": {
        "id": "bB4KIVeFqWaK"
      },
      "source": [
        "**정규 표현식으로 패턴 매칭하기 \n",
        "re.split() 함수 단어 분석을 위한 기본적인 단어 토크나이저로 사용 할 수있음**"
      ]
    },
    {
      "cell_type": "code",
      "metadata": {
        "colab": {
          "base_uri": "https://localhost:8080/"
        },
        "id": "Cpiq0M4GqVVw",
        "outputId": "767621c1-d84b-4720-bc03-afc595eea1df"
      },
      "source": [
        "import re\n",
        "\n",
        "re.split(r\"\\W\", \"Hello, world!\") # r\"ww\" -->숫자, 알파벳 제외 한 개체 1개 --> 잘라라"
      ],
      "execution_count": null,
      "outputs": [
        {
          "output_type": "execute_result",
          "data": {
            "text/plain": [
              "['Hello', '', 'world', '']"
            ]
          },
          "metadata": {
            "tags": []
          },
          "execution_count": 16
        }
      ]
    },
    {
      "cell_type": "code",
      "metadata": {
        "colab": {
          "base_uri": "https://localhost:8080/"
        },
        "id": "pIi1GtG_rwvJ",
        "outputId": "3e218c80-b528-400b-de8e-e61fa79d28c2"
      },
      "source": [
        "#인근에 위치한 비문자(non-letter)(,)를 합친다.\n",
        "re.split(r\"\\W+\", \"Hello, world!\") # r\"\\W+\"알파벳이나 숫자가 아닌 개체 1개 합친다(+)"
      ],
      "execution_count": null,
      "outputs": [
        {
          "output_type": "execute_result",
          "data": {
            "text/plain": [
              "['Hello', 'world', '']"
            ]
          },
          "metadata": {
            "tags": []
          },
          "execution_count": 22
        }
      ]
    },
    {
      "cell_type": "code",
      "metadata": {
        "colab": {
          "base_uri": "https://localhost:8080/"
        },
        "id": "PTAcwkUBs4P3",
        "outputId": "09ccf870-8d9e-4962-a533-4cb063abd2fd"
      },
      "source": [
        "mo = re.match(r\"\\d+\",\"06700 starts with a number\")\n",
        "mo"
      ],
      "execution_count": null,
      "outputs": [
        {
          "output_type": "execute_result",
          "data": {
            "text/plain": [
              "<re.Match object; span=(0, 5), match='06700'>"
            ]
          },
          "metadata": {
            "tags": []
          },
          "execution_count": 17
        }
      ]
    },
    {
      "cell_type": "code",
      "metadata": {
        "colab": {
          "base_uri": "https://localhost:8080/",
          "height": 35
        },
        "id": "94bgkSnTtxm_",
        "outputId": "31908325-509d-4cde-fbf9-b3008b7b2f9e"
      },
      "source": [
        "mo.group() # 매치되는 값만 출력 "
      ],
      "execution_count": null,
      "outputs": [
        {
          "output_type": "execute_result",
          "data": {
            "application/vnd.google.colaboratory.intrinsic+json": {
              "type": "string"
            },
            "text/plain": [
              "'06700'"
            ]
          },
          "metadata": {
            "tags": []
          },
          "execution_count": 149
        }
      ]
    },
    {
      "cell_type": "code",
      "metadata": {
        "colab": {
          "base_uri": "https://localhost:8080/"
        },
        "id": "aviVH4Lft6mZ",
        "outputId": "f8d43c2d-f0be-4637-cb41-53e8b0636b7d"
      },
      "source": [
        "print(re.match(r\"\\d+\",\"Dose not defind do you\"))# 숫자가 없기 때문에 none\n"
      ],
      "execution_count": null,
      "outputs": [
        {
          "output_type": "stream",
          "text": [
            "None\n"
          ],
          "name": "stdout"
        }
      ]
    },
    {
      "cell_type": "code",
      "metadata": {
        "colab": {
          "base_uri": "https://localhost:8080/",
          "height": 35
        },
        "id": "jtoX4qkDuhGa",
        "outputId": "1b3fab32-8490-4415-85b1-3a1a19006712"
      },
      "source": [
        "# search 문자열 일부분이 정규식과 매칭되는지 확인(매칭되는게 앞부분에 없다면 이 함수 사용)\n",
        "#[a-z] : 소문자들만 일치\n",
        "#re.I : 대소문자 구분하지 않음\n",
        "re.search(r\"[a-z]+\",\"0010010 Has at least one 010 letter 0010010\",re.I).group()"
      ],
      "execution_count": null,
      "outputs": [
        {
          "output_type": "execute_result",
          "data": {
            "application/vnd.google.colaboratory.intrinsic+json": {
              "type": "string"
            },
            "text/plain": [
              "'Has'"
            ]
          },
          "metadata": {
            "tags": []
          },
          "execution_count": 159
        }
      ]
    },
    {
      "cell_type": "code",
      "metadata": {
        "colab": {
          "base_uri": "https://localhost:8080/",
          "height": 35
        },
        "id": "iL4mW2v8v3zJ",
        "outputId": "fcb0a399-0a8c-48e6-bd59-7526c192e486"
      },
      "source": [
        "# search 문자열 일부분이 정규식과 매칭되는지 확인(매칭되는게 앞부분에 없다면 이 함수 사용)\n",
        "#[a-z] : 소문자들만 일치\n",
        "re.search(r\"[a-z]+\",\"0010010 Has at least one 010 letter 0010010\").group()"
      ],
      "execution_count": null,
      "outputs": [
        {
          "output_type": "execute_result",
          "data": {
            "application/vnd.google.colaboratory.intrinsic+json": {
              "type": "string"
            },
            "text/plain": [
              "'as'"
            ]
          },
          "metadata": {
            "tags": []
          },
          "execution_count": 161
        }
      ]
    },
    {
      "cell_type": "code",
      "metadata": {
        "colab": {
          "base_uri": "https://localhost:8080/",
          "height": 35
        },
        "id": "2OL0CnFGwBg9",
        "outputId": "ba5cc705-5eb9-42ae-f633-b92935d15869"
      },
      "source": [
        "# search 문자열 일부분이 정규식과 매칭되는지 확인(매칭되는게 앞부분에 없다면 이 함수 사용)\n",
        "#[A-Z] : 대문자들만 일치\n",
        "re.search(r\"[A-Z]+\",\"0010010 has at least ONE 010 letter 0010010\").group()"
      ],
      "execution_count": null,
      "outputs": [
        {
          "output_type": "execute_result",
          "data": {
            "application/vnd.google.colaboratory.intrinsic+json": {
              "type": "string"
            },
            "text/plain": [
              "'ONE'"
            ]
          },
          "metadata": {
            "tags": []
          },
          "execution_count": 183
        }
      ]
    },
    {
      "cell_type": "code",
      "metadata": {
        "colab": {
          "base_uri": "https://localhost:8080/"
        },
        "id": "KWTBcIGZwaVY",
        "outputId": "cd833a73-993c-4df9-cc3f-61e95f1ad633"
      },
      "source": [
        "#findall : 정규식에 부합하는 모든 문자열 찾기(대소문자 무시) -> 모든 소문자 들어 있는 토큰 찾기\n",
        "re.findall(r\"[a-z]+\",\"0010010 Has at least one 010 letter 0010010\",re.I)"
      ],
      "execution_count": null,
      "outputs": [
        {
          "output_type": "execute_result",
          "data": {
            "text/plain": [
              "['Has', 'at', 'least', 'one', 'letter']"
            ]
          },
          "metadata": {
            "tags": []
          },
          "execution_count": 167
        }
      ]
    },
    {
      "cell_type": "code",
      "metadata": {
        "colab": {
          "base_uri": "https://localhost:8080/"
        },
        "id": "8iDyd6L8xBBr",
        "outputId": "b3ef891a-1c4f-4095-899e-4b46c22f5c1c"
      },
      "source": [
        "#findall : 정규식에 부합하는 모든 문자열 찾기-> 모든 소문자 들어 있는 토큰 찾기\n",
        "re.findall(r\"[a-z]+\",\"0010010 Has at least one 010 letter 0010010\")"
      ],
      "execution_count": null,
      "outputs": [
        {
          "output_type": "execute_result",
          "data": {
            "text/plain": [
              "['as', 'at', 'least', 'one', 'letter']"
            ]
          },
          "metadata": {
            "tags": []
          },
          "execution_count": 170
        }
      ]
    },
    {
      "cell_type": "code",
      "metadata": {
        "colab": {
          "base_uri": "https://localhost:8080/"
        },
        "id": "s1SxS-bTxPRT",
        "outputId": "53daa9e1-9215-40a0-c284-5a84feb782da"
      },
      "source": [
        "#findall : 정규식에 부합하는 모든 값 ---> 숫자를 출력해라\n",
        "re.findall(r\"\\d+\",\"0010010 Has at least one 010 letter 0010010\")"
      ],
      "execution_count": null,
      "outputs": [
        {
          "output_type": "execute_result",
          "data": {
            "text/plain": [
              "['0010010', '010', '0010010']"
            ]
          },
          "metadata": {
            "tags": []
          },
          "execution_count": 13
        }
      ]
    },
    {
      "cell_type": "code",
      "metadata": {
        "colab": {
          "base_uri": "https://localhost:8080/"
        },
        "id": "hlPNSfpSxmXp",
        "outputId": "308869a4-fbde-4a14-b430-3878655c1621"
      },
      "source": [
        "#findall : 문자만 출력 해주는 것 \n",
        "re.findall(r\"\\D+\",\"0010010 Has at least one 010 letter 0010010\")"
      ],
      "execution_count": null,
      "outputs": [
        {
          "output_type": "execute_result",
          "data": {
            "text/plain": [
              "[' Has at least one ', ' letter ']"
            ]
          },
          "metadata": {
            "tags": []
          },
          "execution_count": 176
        }
      ]
    },
    {
      "cell_type": "code",
      "metadata": {
        "colab": {
          "base_uri": "https://localhost:8080/"
        },
        "id": "ElF389BAx09P",
        "outputId": "25edbd2f-ad94-4c78-9a69-5563d32ce1ce"
      },
      "source": [
        "#findall : a-z ^=not 소문자 알파벳이 아니면 숫자, 특수문자 출력 \n",
        "re.findall(\"r[^a-z]+\",\"0010010 Has at least one 010 letter 0010010\")"
      ],
      "execution_count": null,
      "outputs": [
        {
          "output_type": "execute_result",
          "data": {
            "text/plain": [
              "['0010010 H', ' ', ' ', ' ', ' 010 ', ' 0010010']"
            ]
          },
          "metadata": {
            "tags": []
          },
          "execution_count": 18
        }
      ]
    },
    {
      "cell_type": "code",
      "metadata": {
        "colab": {
          "base_uri": "https://localhost:8080/",
          "height": 35
        },
        "id": "QORBG01EyB5g",
        "outputId": "7a53ee71-f06b-42d7-98f2-a9c5d3786e09"
      },
      "source": [
        "#sub : string으로 매칭되는 부분 문자열을 repl로 치환 \n",
        "#flags 대소문자 구분 하지 않기 위한 형식(sub replace 형식이랑 비슷 )\n",
        "re.sub(\"[a-z]+\",\"[...]\", \"0010010 Has at least one 010 letter 0010010\",flags = re.I)\n"
      ],
      "execution_count": null,
      "outputs": [
        {
          "output_type": "execute_result",
          "data": {
            "application/vnd.google.colaboratory.intrinsic+json": {
              "type": "string"
            },
            "text/plain": [
              "'0010010 [...] [...] [...] [...] 010 [...] 0010010'"
            ]
          },
          "metadata": {
            "tags": []
          },
          "execution_count": 184
        }
      ]
    },
    {
      "cell_type": "code",
      "metadata": {
        "colab": {
          "base_uri": "https://localhost:8080/",
          "height": 35
        },
        "id": "82doIHbo41lY",
        "outputId": "dc6a6ff6-9ea4-4cd7-973a-c415b8216822"
      },
      "source": [
        "# 010-abcd-0100 ->abcd값을 ****으로 치환\n",
        "\n",
        "re.sub(r\"[a-z]+\",\"****\",\"010-abcd-0100\",flags=re.I)"
      ],
      "execution_count": null,
      "outputs": [
        {
          "output_type": "execute_result",
          "data": {
            "application/vnd.google.colaboratory.intrinsic+json": {
              "type": "string"
            },
            "text/plain": [
              "'010-****-0100'"
            ]
          },
          "metadata": {
            "tags": []
          },
          "execution_count": 188
        }
      ]
    },
    {
      "cell_type": "code",
      "metadata": {
        "colab": {
          "base_uri": "https://localhost:8080/",
          "height": 35
        },
        "id": "xi0UM_yS5wiu",
        "outputId": "81c6e0c4-fe60-4dd1-ce17-1dda1dcc3c08"
      },
      "source": [
        "# 010-abcd-0100 ->abcd값을 ****으로 치환\n",
        "\n",
        "re.sub(r\"\\D+\",\"****\",\"010-abcd-0100\",flags=re.I)"
      ],
      "execution_count": null,
      "outputs": [
        {
          "output_type": "execute_result",
          "data": {
            "application/vnd.google.colaboratory.intrinsic+json": {
              "type": "string"
            },
            "text/plain": [
              "'010****0100'"
            ]
          },
          "metadata": {
            "tags": []
          },
          "execution_count": 20
        }
      ]
    },
    {
      "cell_type": "code",
      "metadata": {
        "colab": {
          "base_uri": "https://localhost:8080/",
          "height": 35
        },
        "id": "2F-FPgMx5dX0",
        "outputId": "543fb310-d0f9-4949-8fa1-5f42d3382ba2"
      },
      "source": [
        "# 010-abcd-0100 ->숫자 값을 ****으로 치환\n",
        "re.sub(r\"[0-10]+\",\"****\",\"010-abcd-0100\")"
      ],
      "execution_count": null,
      "outputs": [
        {
          "output_type": "execute_result",
          "data": {
            "application/vnd.google.colaboratory.intrinsic+json": {
              "type": "string"
            },
            "text/plain": [
              "'****-abcd-****'"
            ]
          },
          "metadata": {
            "tags": []
          },
          "execution_count": 190
        }
      ]
    },
    {
      "cell_type": "code",
      "metadata": {
        "colab": {
          "base_uri": "https://localhost:8080/",
          "height": 35
        },
        "id": "Im2Kg5b556Ch",
        "outputId": "2b8f0589-b109-4535-d316-41289d6506c8"
      },
      "source": [
        "# 010-abcd-0100 ->abcd값을 ****으로 치환\n",
        "\n",
        "re.sub(r\"\\d+\",\"****\",\"010-abcd-0100\",flags=re.I)"
      ],
      "execution_count": null,
      "outputs": [
        {
          "output_type": "execute_result",
          "data": {
            "application/vnd.google.colaboratory.intrinsic+json": {
              "type": "string"
            },
            "text/plain": [
              "'****-abcd-****'"
            ]
          },
          "metadata": {
            "tags": []
          },
          "execution_count": 193
        }
      ]
    },
    {
      "cell_type": "markdown",
      "metadata": {
        "id": "mdb8d25x7DBT"
      },
      "source": [
        ""
      ]
    },
    {
      "cell_type": "code",
      "metadata": {
        "id": "AcWJdtV06QHa"
      },
      "source": [
        ""
      ],
      "execution_count": null,
      "outputs": []
    }
  ]
}