{
  "nbformat": 4,
  "nbformat_minor": 0,
  "metadata": {
    "colab": {
      "name": "02_텍스트 데이터 다루기.ipynb",
      "provenance": [],
      "collapsed_sections": []
    },
    "kernelspec": {
      "name": "python3",
      "display_name": "Python 3"
    },
    "language_info": {
      "name": "python"
    }
  },
  "cells": [
    {
      "cell_type": "markdown",
      "metadata": {
        "id": "CGDYbkVXArXQ"
      },
      "source": [
        "**BeautifulSoup 사용하여 HTML 파싱**"
      ]
    },
    {
      "cell_type": "code",
      "metadata": {
        "id": "bCjdD4x99t0r"
      },
      "source": [
        "from bs4 import BeautifulSoup #bs4모듈에서 뷰티풀 수프 가져오겠다\n",
        "\n",
        "from urllib.request import urlopen\n",
        "\n",
        "#1)문자열에서 soup을 생성한다.\n",
        "\n",
        "soup1 = BeautifulSoup(\"<HTML><HEAD><<headers>></HEAD><<body>></HTML>\")\n",
        "\n",
        "#2) 로컬에서 파일에서 soup을 생성한다. -> myDoc.html 파일을 사용\n",
        "\n",
        "soup2 = BeautifulSoup(open(\"myDoc.html\"))\n",
        "\n",
        "#3) 웹문서에서 soup을 생성한다. -> 크롤링의 기초\n",
        "soup3 = BeautifulSoup(urlopen(\"http://www.networksciencelab.com/\"))\n"
      ],
      "execution_count": null,
      "outputs": []
    },
    {
      "cell_type": "code",
      "metadata": {
        "colab": {
          "base_uri": "https://localhost:8080/"
        },
        "id": "G113AMzWDCKD",
        "outputId": "f9c0019d-430a-451e-9c56-575bc37dd471"
      },
      "source": [
        "soup1"
      ],
      "execution_count": null,
      "outputs": [
        {
          "output_type": "execute_result",
          "data": {
            "text/plain": [
              "<html><head></head><body><p>&lt;<headers>&gt;&lt;&gt;</headers></p></body></html>"
            ]
          },
          "metadata": {
            "tags": []
          },
          "execution_count": 5
        }
      ]
    },
    {
      "cell_type": "code",
      "metadata": {
        "colab": {
          "base_uri": "https://localhost:8080/"
        },
        "id": "uKhuhdWaDDmn",
        "outputId": "adac0e7d-5025-4b59-901f-6bf280fe47de"
      },
      "source": [
        "soup2"
      ],
      "execution_count": null,
      "outputs": [
        {
          "output_type": "execute_result",
          "data": {
            "text/plain": [
              "<html><head></head><body><p>&lt;<headers>&gt;&lt;&gt;</headers></p></body></html>"
            ]
          },
          "metadata": {
            "tags": []
          },
          "execution_count": 7
        }
      ]
    },
    {
      "cell_type": "code",
      "metadata": {
        "colab": {
          "base_uri": "https://localhost:8080/"
        },
        "id": "SdgVr6dvDFqd",
        "outputId": "57d7d4b2-34cd-4723-b52e-3e24a847cee0"
      },
      "source": [
        "soup3"
      ],
      "execution_count": null,
      "outputs": [
        {
          "output_type": "execute_result",
          "data": {
            "text/plain": [
              "<html>\n",
              "<head>\n",
              "<title>My Little Network Science Lab</title>\n",
              "<link href=\"style.css\" rel=\"stylesheet\" type=\"text/css\"/>\n",
              "<meta charset=\"utf-8\"/>\n",
              "</head>\n",
              "<body>\n",
              "<h1>My Little Network Science Lab</h1>\n",
              "<h2>By Dmitry Zinoviev</h2>\n",
              "<p>\n",
              "</p><table class=\"hdr\"><tr><td><h3 class=\"nomargin\">Books</h3></td></tr></table>\n",
              "<p>\n",
              "<a href=\"https://pragprog.com/book/dzpyds/data-science-essentials-in-python\"><img align=\"left\" border=\"1\" src=\"https://imagery.pragprog.com/products/490/dzpyds_xlargecover.jpg?1468006361\"/></a>\n",
              "<a href=\"https://pragprog.com/book/dzcnapy/complex-network-analysis-in-python\"><img align=\"left\" border=\"1\" src=\"https://imagery.pragprog.com/products/541/dzcnapy_xlargecover.jpg?1508250011\"/></a>\n",
              "\n",
              "\n",
              "I am excited to announce my books, \"Data Science Essentials in Python. Collect →  Organize →  Explore →  Predict →  Value\" (a.k.a. DZPYDS) and \"Complex Network Analysis in Python. Recognize → Construct → Visualize → Analyze → Interpret\" (a.k.a. DZCNAPY), published by the Pragmatic Bookshelf.\n",
              "</p><p>\n",
              "The <b>first book</b> is intended for seasoned data scientists and statisticians migrating from R to Python, as well as for beginners willing to learn elements of data science in Python.\n",
              "</p><p>\n",
              "The book leads you from messy, unstructured artifacts stored in SQL and NoSQL databases to a neat, well-organized dataset. It covers text mining, machine learning, and network analysis; processing numeric data with the NumPy and Pandas modules; and describing and analyzing data using statistical and network-theoretical methods. It has actual examples of data analysis at work, as well as mini-projects for you to enjoy. \n",
              "</p><p>\n",
              "  The <b>second book</b> shows how, starting with simple networks, one can convert real-life and synthetic network graphs into Networkx data structures. The reader will look at more sophisticated networks and learn more powerful machinery to handle centrality calculation, blockmodeling, and clique and community detection. Get familiar with presentation-quality network visualization tools, both programmable and interactive--such as Gephi, a CNA explorer. The reader will  adapt the patterns from the case studies to your problems, explore big networks with NetworKit, a high-performance networkx substitute. Each part in the book gives an overview of a class of networks, includes a practical study of networkx functions and techniques, and concludes with case studies from various fields, including social networking, anthropology, marketing, and sports analytics.\n",
              "</p><p>\n",
              "  \n",
              "The books are available for purchase at the publisher's site, and on Amazon (<a href=\"https://www.amazon.com/gp/product/1680501844\">DZPYDS</a>, <a href=\"https://www.amazon.com/gp/product/1680502697\">DZCNAPY</a>).\n",
              "</p><p>\n",
              "</p><table class=\"hdr\"><tr><td><h3 class=\"nomargin\">Presentations</h3></td></tr></table>\n",
              "<ul>\n",
              "<li><a href=\"http://www.slideshare.net/DmitryZinoviev/networks-of-music-groups-as-success-predictors\">Networks of Music Groups as Success Predictors</a> - Social networks, digital humanities\n",
              "</li><li><a href=\"http://www.slideshare.net/DmitryZinoviev/workshop-20212296\">Network Science Workshop</a> - General networks\n",
              "</li><li><a href=\"http://www.slideshare.net/DmitryZinoviev/resilience-in-transactional-networks\">Resilience in Transaction-Oriented Networks</a> - Communication networks\n",
              "</li><li><a href=\"http://www.slideshare.net/DmitryZinoviev/peer-ratings-in-massive-online-social-networks\">Peer Ratings in Massive Online Social Networks</a> - Social networks\n",
              "</li><li><a href=\"http://www.slideshare.net/DmitryZinoviev/presentation-31680572\">Semantic Networks of Interests in Online NSSI Communities</a> - Semantic networks\n",
              "</li><li><a href=\"http://www.slideshare.net/DmitryZinoviev/10-monthsymposiumbeta\">Towards an Ideal Store</a> - Product networks\n",
              "</li></ul>\n",
              "<table class=\"hdr\"><tr><td><h3 class=\"nomargin\">Publications</h3></td></tr></table>\n",
              "<ul>\n",
              "<li><a href=\"https://media.pragprog.com/newsletters/2016-04-06.html\">D.Zinoviev, \"Analyzing Cultural Domains with Python,\"</a> <i>PragPub</i>, 82, pp. 26-33, Apr 2016\n",
              "</li><li><a href=\"http://dhj.sagepub.com/content/2/2055207616642118.full\">D. Zinoviev, D. Stefanescu, G. Fireman, and L. Swenson, \"Semantic networks of interests in online non-suicidal self-injury communities,\"</a> <i>Digital Health</i>, doi:10.1177/2055207616642118, SAGE, Apr 2016\n",
              "</li><li><a href=\"http://www.mitpressjournals.org/doi/abs/10.1162/LEON_a_01271#.VzOvwHUrKzc\">D.Zinoviev, \"The Pain of Complexity,\"</a>, <i>Leonardo</i>, 2016\n",
              "</li><li><a href=\"http://link.springer.com/chapter/10.1007/978-3-319-16112-9_18\">D.Zinoviev, Z.Zhu, and K.Li, \"Building mini-categories in product networks,\"</a> in <i>Studies in Computational Intelligence</i>, vol. 597, pp. 179-190, Springer, Mar 2015\n",
              "</li><li><a href=\"http://arxiv.org/abs/1409.6771\">D.Zinoviev, H.Benbrahim, G.Meszoely, and D.Stefanescu, \"Mitigation of delayed management costs in transaction-oriented systems,\"</a> Sep 2014\n",
              "</li><li><a href=\"http://dl.acm.org/citation.cfm?id=2499974\">D.Zinoviev, H.Benbrahim, G.Meszoely, and D.Stefanescu, \"Simulating resilience in transaction-oriented networks,\"</a> in <i>Proc. Spring Simulation Multi-Conference</i>, (San Diego, CA), Apr. 2013\n",
              "</li><li><a href=\"http://arxiv.org/abs/1206.5520\">D.Zinoviev, D.Stefanescu, L.Swenson, and G.Fireman, \"Semantic networks of interests in online NSSI communities,\"</a> in <i>Proc. Workshop \"Words and Networks\"</i> (Evanston, IL), June 2012\n",
              "</li><li><a href=\"http://arxiv.org/abs/1401.6964\">D.Zinoviev and S.Llewelyn, \"Co-Evolution of Friendship and Publishing in Online Blogging Social Networks,\"</a> <i>WebSci-2012</i> (poster)\n",
              "</li><li><a href=\"http://dl.acm.org/citation.cfm?id=2208181\">D.Zinoviev, \"Information diffusion in social networks,\"</a> in <i>Social Networking and Community Behavior Modeling: Qualitative and Quantitative Measures</i> (M. Safar, ed.), Hershey, PA: IGI Global, Dec. 2011\n",
              "</li><li><a href=\"http://dl.acm.org/citation.cfm?id=2048377\">D.Zinoviev and V.Duong, \"A game theoretical approach to broadcast  information diffusion in social networks,\"</a> 6. in <i>Proc. 44th Annual Simulation Symp.</i>, (Boston, MA), pp. 47-52, Apr. 2011\n",
              "</li><li><a href=\"http://dl.acm.org/citation.cfm?id=1999462\">D.Zinoviev and V.Duong, \"A game theoretical approach to modeling full-duplex information dissemination,\"</a> in <i>Proc. Summer Simulation Multi-Conference</i>, (Ottawa, Canada), pp. 358-363, July 2010\n",
              "</li><li><a href=\"http://arxiv.org/abs/1006.5493\">D.Zinoviev, V.Duong, and H.Zhang, \"A game theoretical approach to modeling information dissemination in social networks,\"</a> in <i>Proc. Int. Multi-Conference on Complexity, Informatics and Cybernetics</i>, vol. I, pp. 407-412, IIIS, Apr. 2010\n",
              "</li><li><a href=\"http://arxiv.org/abs/0902.4658\">D.Zinoviev and V.Duong, \"Toward Understanding Friendship in Online Social Networks,\"</a> <i>The Intl J. of Technology, Knowledge, and Society</i>, pp. 1-8, May 2009\n",
              "</li><li><a href=\"http://arxiv.org/abs/0807.3996\">D.Zinoviev, \"Topology and Geometry of Online Social Networks,\"</a> in <i>Proc. 12th World Multi-Conference on Systemics, Cybernetics and Informatics</i>, vol. VI, pp. 138-143, 2008\n",
              "</li></ul>\n",
              "<table class=\"hdr\"><tr><td><h3 class=\"nomargin\">Other Projects</h3></td></tr></table>\n",
              "<ul>\n",
              "<li><a href=\"/vixi/html5/\">Vixi: The Game of Meaning</a>, produced in collaboration with <a href=\"http://meaningoflife.cherkasova.org/\">Evgenia Cherkasova</a> from Philosophy Department.\n",
              "</li><li><a href=\"v2.jpg\">All Characters from War and Peace by L.Tolstoy</a>\n",
              "</li><li><a href=\"bible-networks.pdf\">Mapping the Bible: Social Networks in the Holy Book</a>. A book of graphs.\n",
              "</li><li><a href=\"wc2014.gif\">FIFA World Cup 2014: Who Beat Whom?</a>\n",
              "</li><li><a href=\"facebook_spread.gif\">The seed post \"9 American habits I lost when I moved to Germany\" and its 125 \"likes\" and \"shares\" on Facebook</a>. Nodes represent Facebook users, node sizes - number of friends/followers. Two nodes are connected if they are friends/followers and both reacted to the seed post. Red nodes denote shares. The post was originally published at the yellow node.\n",
              "</li></ul>\n",
              "<table class=\"hdr\"><tr><td><h3 class=\"nomargin\">Contacts</h3></td></tr></table>\n",
              "<ul>\n",
              "<li><a href=\"mailto:dzinoviev@suffolk.edu\">Email</a>\n",
              "</li><li><a href=\"https://www.suffolk.edu/academics/faculty/z/i/dmitry-zinoviev\">Suffolk University</a>\n",
              "</li><li><a href=\"https://scholar.google.com/citations?hl=en&amp;user=j5GjuIkAAAAJ&amp;sortby=pubdate&amp;view_op=list_works&amp;pagesize=100\">Google Scholar</a>\n",
              "</li><li><a href=\"https://www.linkedin.com/pub/dmitry-zinoviev/4/a78/27b\">LinkedIn</a>\n",
              "</li><li><a href=\"https://suffolk.academia.edu/DmitryZinoviev\">Academia.edu</a>\n",
              "</li><li><a href=\"https://www.researchgate.net/profile/Dmitry_Zinoviev\">ResearchGate</a>\n",
              "</li></ul>\n",
              "</body>\n",
              "</html>"
            ]
          },
          "metadata": {
            "tags": []
          },
          "execution_count": 9
        }
      ]
    },
    {
      "cell_type": "markdown",
      "metadata": {
        "id": "Dnkabl1QDeM8"
      },
      "source": [
        "**find(),fine_all() 특정 속성 (href = 파이퍼링크정보) 값 찾기**"
      ]
    },
    {
      "cell_type": "code",
      "metadata": {
        "colab": {
          "base_uri": "https://localhost:8080/"
        },
        "id": "jiVjuBqDDX1e",
        "outputId": "0a628410-f8c8-4519-c9f4-ac1c2678ec28"
      },
      "source": [
        "#http://www.networksciencelab.com/ 사이트에서 하이퍼 링크 정보 모두 가져오기\n",
        "\n",
        "with urlopen(\"http://www.networksciencelab.com/\") as doc:\n",
        "  soup = BeautifulSoup(doc) # 위에 사이트에 있는 정보를 다 가져옴 그리고 soup 변수에 저장 \n",
        "\n",
        "#하이퍼 링크 추출\n",
        "links = [(link.string,link[\"href\"]) for link in soup.find_all(\"a\") if link.has_attr(\"href\")] #  \"a\" 조건에 맞는 거 담음 link.has_attr(\"href\") 링크의 속성 link.string \n",
        "                                                                                              # link.string  하이퍼 링크 가져올때 \n",
        "links                                                                                         "
      ],
      "execution_count": null,
      "outputs": [
        {
          "output_type": "execute_result",
          "data": {
            "text/plain": [
              "[(None, 'https://pragprog.com/book/dzpyds/data-science-essentials-in-python'),\n",
              " (None,\n",
              "  'https://pragprog.com/book/dzcnapy/complex-network-analysis-in-python'),\n",
              " ('DZPYDS', 'https://www.amazon.com/gp/product/1680501844'),\n",
              " ('DZCNAPY', 'https://www.amazon.com/gp/product/1680502697'),\n",
              " ('Networks of Music Groups as Success Predictors',\n",
              "  'http://www.slideshare.net/DmitryZinoviev/networks-of-music-groups-as-success-predictors'),\n",
              " ('Network Science Workshop',\n",
              "  'http://www.slideshare.net/DmitryZinoviev/workshop-20212296'),\n",
              " ('Resilience in Transaction-Oriented Networks',\n",
              "  'http://www.slideshare.net/DmitryZinoviev/resilience-in-transactional-networks'),\n",
              " ('Peer Ratings in Massive Online Social Networks',\n",
              "  'http://www.slideshare.net/DmitryZinoviev/peer-ratings-in-massive-online-social-networks'),\n",
              " ('Semantic Networks of Interests in Online NSSI Communities',\n",
              "  'http://www.slideshare.net/DmitryZinoviev/presentation-31680572'),\n",
              " ('Towards an Ideal Store',\n",
              "  'http://www.slideshare.net/DmitryZinoviev/10-monthsymposiumbeta'),\n",
              " ('D.Zinoviev, \"Analyzing Cultural Domains with Python,\"',\n",
              "  'https://media.pragprog.com/newsletters/2016-04-06.html'),\n",
              " ('D. Zinoviev, D. Stefanescu, G. Fireman, and L. Swenson, \"Semantic networks of interests in online non-suicidal self-injury communities,\"',\n",
              "  'http://dhj.sagepub.com/content/2/2055207616642118.full'),\n",
              " ('D.Zinoviev, \"The Pain of Complexity,\"',\n",
              "  'http://www.mitpressjournals.org/doi/abs/10.1162/LEON_a_01271#.VzOvwHUrKzc'),\n",
              " ('D.Zinoviev, Z.Zhu, and K.Li, \"Building mini-categories in product networks,\"',\n",
              "  'http://link.springer.com/chapter/10.1007/978-3-319-16112-9_18'),\n",
              " ('D.Zinoviev, H.Benbrahim, G.Meszoely, and D.Stefanescu, \"Mitigation of delayed management costs in transaction-oriented systems,\"',\n",
              "  'http://arxiv.org/abs/1409.6771'),\n",
              " ('D.Zinoviev, H.Benbrahim, G.Meszoely, and D.Stefanescu, \"Simulating resilience in transaction-oriented networks,\"',\n",
              "  'http://dl.acm.org/citation.cfm?id=2499974'),\n",
              " ('D.Zinoviev, D.Stefanescu, L.Swenson, and G.Fireman, \"Semantic networks of interests in online NSSI communities,\"',\n",
              "  'http://arxiv.org/abs/1206.5520'),\n",
              " ('D.Zinoviev and S.Llewelyn, \"Co-Evolution of Friendship and Publishing in Online Blogging Social Networks,\"',\n",
              "  'http://arxiv.org/abs/1401.6964'),\n",
              " ('D.Zinoviev, \"Information diffusion in social networks,\"',\n",
              "  'http://dl.acm.org/citation.cfm?id=2208181'),\n",
              " ('D.Zinoviev and V.Duong, \"A game theoretical approach to broadcast  information diffusion in social networks,\"',\n",
              "  'http://dl.acm.org/citation.cfm?id=2048377'),\n",
              " ('D.Zinoviev and V.Duong, \"A game theoretical approach to modeling full-duplex information dissemination,\"',\n",
              "  'http://dl.acm.org/citation.cfm?id=1999462'),\n",
              " ('D.Zinoviev, V.Duong, and H.Zhang, \"A game theoretical approach to modeling information dissemination in social networks,\"',\n",
              "  'http://arxiv.org/abs/1006.5493'),\n",
              " ('D.Zinoviev and V.Duong, \"Toward Understanding Friendship in Online Social Networks,\"',\n",
              "  'http://arxiv.org/abs/0902.4658'),\n",
              " ('D.Zinoviev, \"Topology and Geometry of Online Social Networks,\"',\n",
              "  'http://arxiv.org/abs/0807.3996'),\n",
              " ('Vixi: The Game of Meaning', '/vixi/html5/'),\n",
              " ('Evgenia Cherkasova', 'http://meaningoflife.cherkasova.org/'),\n",
              " ('All Characters from War and Peace by L.Tolstoy', 'v2.jpg'),\n",
              " ('Mapping the Bible: Social Networks in the Holy Book', 'bible-networks.pdf'),\n",
              " ('FIFA World Cup 2014: Who Beat Whom?', 'wc2014.gif'),\n",
              " ('The seed post \"9 American habits I lost when I moved to Germany\" and its 125 \"likes\" and \"shares\" on Facebook',\n",
              "  'facebook_spread.gif'),\n",
              " ('Email', 'mailto:dzinoviev@suffolk.edu'),\n",
              " ('Suffolk University',\n",
              "  'https://www.suffolk.edu/academics/faculty/z/i/dmitry-zinoviev'),\n",
              " ('Google Scholar',\n",
              "  'https://scholar.google.com/citations?hl=en&user=j5GjuIkAAAAJ&sortby=pubdate&view_op=list_works&pagesize=100'),\n",
              " ('LinkedIn', 'https://www.linkedin.com/pub/dmitry-zinoviev/4/a78/27b'),\n",
              " ('Academia.edu', 'https://suffolk.academia.edu/DmitryZinoviev'),\n",
              " ('ResearchGate', 'https://www.researchgate.net/profile/Dmitry_Zinoviev')]"
            ]
          },
          "metadata": {
            "tags": []
          },
          "execution_count": 4
        }
      ]
    },
    {
      "cell_type": "markdown",
      "metadata": {
        "id": "5qSfKGo5cBbK"
      },
      "source": [
        "**csv 파일 다루기  **"
      ]
    },
    {
      "cell_type": "markdown",
      "metadata": {
        "id": "AMRYt9bDivpu"
      },
      "source": [
        "**statistics 모듈을 사용해서 나이 변수의 평균과 표준편차 구하기 **\n",
        "\n",
        "\n",
        "\n"
      ]
    },
    {
      "cell_type": "markdown",
      "metadata": {
        "id": "Xr01XFBtjAzX"
      },
      "source": [
        "데이터 가져오기"
      ]
    },
    {
      "cell_type": "code",
      "metadata": {
        "colab": {
          "base_uri": "https://localhost:8080/"
        },
        "id": "z5q-9NTdcAn7",
        "outputId": "1d440863-dbb1-47aa-c27a-cf81aefb3b19"
      },
      "source": [
        "import csv\n",
        "\n",
        "with open('/content/Demographic_Statistics_By_Zip_Code.csv') as file:\n",
        "  data = list(csv.reader(file))\n",
        "  print(data)"
      ],
      "execution_count": null,
      "outputs": [
        {
          "output_type": "stream",
          "text": [
            "[['JURISDICTION NAME', 'COUNT PARTICIPANTS', 'COUNT FEMALE', 'PERCENT FEMALE', 'COUNT MALE', 'PERCENT MALE', 'COUNT GENDER UNKNOWN', 'PERCENT GENDER UNKNOWN', 'COUNT GENDER TOTAL', 'PERCENT GENDER TOTAL', 'COUNT PACIFIC ISLANDER', 'PERCENT PACIFIC ISLANDER', 'COUNT HISPANIC LATINO', 'PERCENT HISPANIC LATINO', 'COUNT AMERICAN INDIAN', 'PERCENT AMERICAN INDIAN', 'COUNT ASIAN NON HISPANIC', 'PERCENT ASIAN NON HISPANIC', 'COUNT WHITE NON HISPANIC', 'PERCENT WHITE NON HISPANIC', 'COUNT BLACK NON HISPANIC', 'PERCENT BLACK NON HISPANIC', 'COUNT OTHER ETHNICITY', 'PERCENT OTHER ETHNICITY', 'COUNT ETHNICITY UNKNOWN', 'PERCENT ETHNICITY UNKNOWN', 'COUNT ETHNICITY TOTAL', 'PERCENT ETHNICITY TOTAL', 'COUNT PERMANENT RESIDENT ALIEN', 'PERCENT PERMANENT RESIDENT ALIEN', 'COUNT US CITIZEN', 'PERCENT US CITIZEN', 'COUNT OTHER CITIZEN STATUS', 'PERCENT OTHER CITIZEN STATUS', 'COUNT CITIZEN STATUS UNKNOWN', 'PERCENT CITIZEN STATUS UNKNOWN', 'COUNT CITIZEN STATUS TOTAL', 'PERCENT CITIZEN STATUS TOTAL', 'COUNT RECEIVES PUBLIC ASSISTANCE', 'PERCENT RECEIVES PUBLIC ASSISTANCE', 'COUNT NRECEIVES PUBLIC ASSISTANCE', 'PERCENT NRECEIVES PUBLIC ASSISTANCE', 'COUNT PUBLIC ASSISTANCE UNKNOWN', 'PERCENT PUBLIC ASSISTANCE UNKNOWN', 'COUNT PUBLIC ASSISTANCE TOTAL', 'PERCENT PUBLIC ASSISTANCE TOTAL'], ['10001', '44', '22', '0.5', '22', '0.5', '0', '0', '44', '100', '0', '0', '16', '0.36', '0', '0', '3', '0.07', '1', '0.02', '21', '0.48', '3', '0.07', '0', '0', '44', '100', '2', '0.05', '42', '0.95', '0', '0', '0', '0', '44', '100', '20', '0.45', '24', '0.55', '0', '0', '44', '100'], ['10002', '35', '19', '0.54', '16', '0.46', '0', '0', '35', '100', '0', '0', '1', '0.03', '0', '0', '28', '0.8', '6', '0.17', '0', '0', '0', '0', '0', '0', '35', '100', '2', '0.06', '33', '0.94', '0', '0', '0', '0', '35', '100', '2', '0.06', '33', '0.94', '0', '0', '35', '100'], ['10003', '1', '1', '1', '0', '0', '0', '0', '1', '100', '0', '0', '0', '0', '0', '0', '1', '1', '0', '0', '0', '0', '0', '0', '0', '0', '1', '100', '0', '0', '1', '1', '0', '0', '0', '0', '1', '100', '0', '0', '1', '1', '0', '0', '1', '100'], ['10004', '0', '0', '0', '0', '0', '0', '0', '0', '0', '0', '0', '0', '0', '0', '0', '0', '0', '0', '0', '0', '0', '0', '0', '0', '0', '0', '0', '0', '0', '0', '0', '0', '0', '0', '0', '0', '0', '0', '0', '0', '0', '0', '0', '0', '0'], ['10005', '2', '2', '1', '0', '0', '0', '0', '2', '100', '0', '0', '0', '0', '0', '0', '1', '0.5', '0', '0', '1', '0.5', '0', '0', '0', '0', '2', '100', '1', '0.5', '1', '0.5', '0', '0', '0', '0', '2', '100', '0', '0', '2', '1', '0', '0', '2', '100'], ['10006', '6', '2', '0.33', '4', '0.67', '0', '0', '6', '100', '0', '0', '2', '0.33', '0', '0', '0', '0', '1', '0.17', '3', '0.5', '0', '0', '0', '0', '6', '100', '0', '0', '6', '1', '0', '0', '0', '0', '6', '100', '0', '0', '6', '1', '0', '0', '6', '100'], ['10007', '1', '0', '0', '1', '1', '0', '0', '1', '100', '0', '0', '0', '0', '0', '0', '1', '1', '0', '0', '0', '0', '0', '0', '0', '0', '1', '100', '0', '0', '1', '1', '0', '0', '0', '0', '1', '100', '1', '1', '0', '0', '0', '0', '1', '100'], ['10009', '2', '0', '0', '2', '1', '0', '0', '2', '100', '0', '0', '0', '0', '0', '0', '2', '1', '0', '0', '0', '0', '0', '0', '0', '0', '2', '100', '0', '0', '2', '1', '0', '0', '0', '0', '2', '100', '0', '0', '2', '1', '0', '0', '2', '100'], ['10010', '0', '0', '0', '0', '0', '0', '0', '0', '0', '0', '0', '0', '0', '0', '0', '0', '0', '0', '0', '0', '0', '0', '0', '0', '0', '0', '0', '0', '0', '0', '0', '0', '0', '0', '0', '0', '0', '0', '0', '0', '0', '0', '0', '0', '0'], ['10011', '3', '2', '0.67', '1', '0.33', '0', '0', '3', '100', '0', '0', '1', '0.33', '0', '0', '0', '0', '0', '0', '1', '0.33', '1', '0.33', '0', '0', '3', '99', '0', '0', '3', '1', '0', '0', '0', '0', '3', '100', '0', '0', '3', '1', '0', '0', '3', '100'], ['10012', '0', '0', '0', '0', '0', '0', '0', '0', '0', '0', '0', '0', '0', '0', '0', '0', '0', '0', '0', '0', '0', '0', '0', '0', '0', '0', '0', '0', '0', '0', '0', '0', '0', '0', '0', '0', '0', '0', '0', '0', '0', '0', '0', '0', '0'], ['10013', '8', '1', '0.13', '7', '0.88', '0', '0', '8', '100', '0', '0', '0', '0', '0', '0', '8', '1', '0', '0', '0', '0', '0', '0', '0', '0', '8', '100', '0', '0', '8', '1', '0', '0', '0', '0', '8', '100', '1', '0.13', '7', '0.88', '0', '0', '8', '100'], ['10014', '0', '0', '0', '0', '0', '0', '0', '0', '0', '0', '0', '0', '0', '0', '0', '0', '0', '0', '0', '0', '0', '0', '0', '0', '0', '0', '0', '0', '0', '0', '0', '0', '0', '0', '0', '0', '0', '0', '0', '0', '0', '0', '0', '0', '0'], ['10016', '17', '12', '0.71', '5', '0.29', '0', '0', '17', '100', '0', '0', '9', '0.53', '0', '0', '0', '0', '0', '0', '8', '0.47', '0', '0', '0', '0', '17', '100', '0', '0', '17', '1', '0', '0', '0', '0', '17', '100', '9', '0.53', '8', '0.47', '0', '0', '17', '100'], ['10017', '0', '0', '0', '0', '0', '0', '0', '0', '0', '0', '0', '0', '0', '0', '0', '0', '0', '0', '0', '0', '0', '0', '0', '0', '0', '0', '0', '0', '0', '0', '0', '0', '0', '0', '0', '0', '0', '0', '0', '0', '0', '0', '0', '0', '0'], ['10018', '3', '2', '0.67', '1', '0.33', '0', '0', '3', '100', '0', '0', '0', '0', '0', '0', '3', '1', '0', '0', '0', '0', '0', '0', '0', '0', '3', '100', '1', '0.33', '2', '0.67', '0', '0', '0', '0', '3', '100', '0', '0', '3', '1', '0', '0', '3', '100'], ['10019', '0', '0', '0', '0', '0', '0', '0', '0', '0', '0', '0', '0', '0', '0', '0', '0', '0', '0', '0', '0', '0', '0', '0', '0', '0', '0', '0', '0', '0', '0', '0', '0', '0', '0', '0', '0', '0', '0', '0', '0', '0', '0', '0', '0', '0'], ['10020', '0', '0', '0', '0', '0', '0', '0', '0', '0', '0', '0', '0', '0', '0', '0', '0', '0', '0', '0', '0', '0', '0', '0', '0', '0', '0', '0', '0', '0', '0', '0', '0', '0', '0', '0', '0', '0', '0', '0', '0', '0', '0', '0', '0', '0'], ['10021', '0', '0', '0', '0', '0', '0', '0', '0', '0', '0', '0', '0', '0', '0', '0', '0', '0', '0', '0', '0', '0', '0', '0', '0', '0', '0', '0', '0', '0', '0', '0', '0', '0', '0', '0', '0', '0', '0', '0', '0', '0', '0', '0', '0', '0'], ['10022', '1', '1', '1', '0', '0', '0', '0', '1', '100', '0', '0', '0', '0', '0', '0', '1', '1', '0', '0', '0', '0', '0', '0', '0', '0', '1', '100', '0', '0', '1', '1', '0', '0', '0', '0', '1', '100', '0', '0', '1', '1', '0', '0', '1', '100'], ['10023', '7', '5', '0.71', '2', '0.29', '0', '0', '7', '100', '0', '0', '3', '0.43', '0', '0', '1', '0.14', '0', '0', '3', '0.43', '0', '0', '0', '0', '7', '100', '0', '0', '7', '1', '0', '0', '0', '0', '7', '100', '5', '0.71', '2', '0.29', '0', '0', '7', '100'], ['10024', '4', '4', '1', '0', '0', '0', '0', '4', '100', '0', '0', '0', '0', '0', '0', '0', '0', '3', '0.75', '0', '0', '0', '0', '1', '0.25', '4', '100', '0', '0', '4', '1', '0', '0', '0', '0', '4', '100', '1', '0.25', '3', '0.75', '0', '0', '4', '100'], ['10025', '27', '17', '0.63', '10', '0.37', '0', '0', '27', '100', '0', '0', '15', '0.56', '0', '0', '0', '0', '0', '0', '11', '0.41', '1', '0.04', '0', '0', '27', '100', '3', '0.11', '24', '0.89', '0', '0', '0', '0', '27', '100', '8', '0.3', '19', '0.7', '0', '0', '27', '100'], ['10026', '0', '0', '0', '0', '0', '0', '0', '0', '0', '0', '0', '0', '0', '0', '0', '0', '0', '0', '0', '0', '0', '0', '0', '0', '0', '0', '0', '0', '0', '0', '0', '0', '0', '0', '0', '0', '0', '0', '0', '0', '0', '0', '0', '0', '0'], ['10027', '7', '4', '0.57', '3', '0.43', '0', '0', '7', '100', '0', '0', '1', '0.14', '0', '0', '1', '0.14', '0', '0', '4', '0.57', '1', '0.14', '0', '0', '7', '99', '1', '0.14', '6', '0.86', '0', '0', '0', '0', '7', '100', '1', '0.14', '6', '0.86', '0', '0', '7', '100'], ['10028', '0', '0', '0', '0', '0', '0', '0', '0', '0', '0', '0', '0', '0', '0', '0', '0', '0', '0', '0', '0', '0', '0', '0', '0', '0', '0', '0', '0', '0', '0', '0', '0', '0', '0', '0', '0', '0', '0', '0', '0', '0', '0', '0', '0', '0'], ['10029', '20', '13', '0.65', '7', '0.35', '0', '0', '20', '100', '0', '0', '4', '0.2', '0', '0', '0', '0', '0', '0', '15', '0.75', '1', '0.05', '0', '0', '20', '100', '0', '0', '20', '1', '0', '0', '0', '0', '20', '100', '8', '0.4', '12', '0.6', '0', '0', '20', '100'], ['10030', '0', '0', '0', '0', '0', '0', '0', '0', '0', '0', '0', '0', '0', '0', '0', '0', '0', '0', '0', '0', '0', '0', '0', '0', '0', '0', '0', '0', '0', '0', '0', '0', '0', '0', '0', '0', '0', '0', '0', '0', '0', '0', '0', '0', '0'], ['10031', '0', '0', '0', '0', '0', '0', '0', '0', '0', '0', '0', '0', '0', '0', '0', '0', '0', '0', '0', '0', '0', '0', '0', '0', '0', '0', '0', '0', '0', '0', '0', '0', '0', '0', '0', '0', '0', '0', '0', '0', '0', '0', '0', '0', '0'], ['10032', '13', '4', '0.31', '9', '0.69', '0', '0', '13', '100', '0', '0', '9', '0.69', '0', '0', '1', '0.08', '0', '0', '2', '0.15', '1', '0.08', '0', '0', '13', '100', '1', '0.08', '12', '0.92', '0', '0', '0', '0', '13', '100', '5', '0.38', '8', '0.62', '0', '0', '13', '100'], ['10033', '0', '0', '0', '0', '0', '0', '0', '0', '0', '0', '0', '0', '0', '0', '0', '0', '0', '0', '0', '0', '0', '0', '0', '0', '0', '0', '0', '0', '0', '0', '0', '0', '0', '0', '0', '0', '0', '0', '0', '0', '0', '0', '0', '0', '0'], ['10034', '0', '0', '0', '0', '0', '0', '0', '0', '0', '0', '0', '0', '0', '0', '0', '0', '0', '0', '0', '0', '0', '0', '0', '0', '0', '0', '0', '0', '0', '0', '0', '0', '0', '0', '0', '0', '0', '0', '0', '0', '0', '0', '0', '0', '0'], ['10035', '0', '0', '0', '0', '0', '0', '0', '0', '0', '0', '0', '0', '0', '0', '0', '0', '0', '0', '0', '0', '0', '0', '0', '0', '0', '0', '0', '0', '0', '0', '0', '0', '0', '0', '0', '0', '0', '0', '0', '0', '0', '0', '0', '0', '0'], ['10036', '2', '2', '1', '0', '0', '0', '0', '2', '100', '0', '0', '0', '0', '0', '0', '1', '0.5', '0', '0', '1', '0.5', '0', '0', '0', '0', '2', '100', '0', '0', '2', '1', '0', '0', '0', '0', '2', '100', '2', '1', '0', '0', '0', '0', '2', '100'], ['10037', '0', '0', '0', '0', '0', '0', '0', '0', '0', '0', '0', '0', '0', '0', '0', '0', '0', '0', '0', '0', '0', '0', '0', '0', '0', '0', '0', '0', '0', '0', '0', '0', '0', '0', '0', '0', '0', '0', '0', '0', '0', '0', '0', '0', '0'], ['10038', '16', '11', '0.69', '5', '0.31', '0', '0', '16', '100', '0', '0', '2', '0.13', '0', '0', '9', '0.56', '0', '0', '5', '0.31', '0', '0', '0', '0', '16', '100', '1', '0.06', '15', '0.94', '0', '0', '0', '0', '16', '100', '3', '0.19', '13', '0.81', '0', '0', '16', '100'], ['10039', '0', '0', '0', '0', '0', '0', '0', '0', '0', '0', '0', '0', '0', '0', '0', '0', '0', '0', '0', '0', '0', '0', '0', '0', '0', '0', '0', '0', '0', '0', '0', '0', '0', '0', '0', '0', '0', '0', '0', '0', '0', '0', '0', '0', '0'], ['10040', '5', '4', '0.8', '1', '0.2', '0', '0', '5', '100', '0', '0', '3', '0.6', '0', '0', '1', '0.2', '0', '0', '1', '0.2', '0', '0', '0', '0', '5', '100', '0', '0', '5', '1', '0', '0', '0', '0', '5', '100', '2', '0.4', '3', '0.6', '0', '0', '5', '100'], ['10044', '0', '0', '0', '0', '0', '0', '0', '0', '0', '0', '0', '0', '0', '0', '0', '0', '0', '0', '0', '0', '0', '0', '0', '0', '0', '0', '0', '0', '0', '0', '0', '0', '0', '0', '0', '0', '0', '0', '0', '0', '0', '0', '0', '0', '0'], ['10045', '0', '0', '0', '0', '0', '0', '0', '0', '0', '0', '0', '0', '0', '0', '0', '0', '0', '0', '0', '0', '0', '0', '0', '0', '0', '0', '0', '0', '0', '0', '0', '0', '0', '0', '0', '0', '0', '0', '0', '0', '0', '0', '0', '0', '0'], ['10065', '0', '0', '0', '0', '0', '0', '0', '0', '0', '0', '0', '0', '0', '0', '0', '0', '0', '0', '0', '0', '0', '0', '0', '0', '0', '0', '0', '0', '0', '0', '0', '0', '0', '0', '0', '0', '0', '0', '0', '0', '0', '0', '0', '0', '0'], ['10115', '0', '0', '0', '0', '0', '0', '0', '0', '0', '0', '0', '0', '0', '0', '0', '0', '0', '0', '0', '0', '0', '0', '0', '0', '0', '0', '0', '0', '0', '0', '0', '0', '0', '0', '0', '0', '0', '0', '0', '0', '0', '0', '0', '0', '0'], ['10119', '0', '0', '0', '0', '0', '0', '0', '0', '0', '0', '0', '0', '0', '0', '0', '0', '0', '0', '0', '0', '0', '0', '0', '0', '0', '0', '0', '0', '0', '0', '0', '0', '0', '0', '0', '0', '0', '0', '0', '0', '0', '0', '0', '0', '0'], ['10128', '0', '0', '0', '0', '0', '0', '0', '0', '0', '0', '0', '0', '0', '0', '0', '0', '0', '0', '0', '0', '0', '0', '0', '0', '0', '0', '0', '0', '0', '0', '0', '0', '0', '0', '0', '0', '0', '0', '0', '0', '0', '0', '0', '0', '0'], ['10154', '0', '0', '0', '0', '0', '0', '0', '0', '0', '0', '0', '0', '0', '0', '0', '0', '0', '0', '0', '0', '0', '0', '0', '0', '0', '0', '0', '0', '0', '0', '0', '0', '0', '0', '0', '0', '0', '0', '0', '0', '0', '0', '0', '0', '0'], ['10278', '0', '0', '0', '0', '0', '0', '0', '0', '0', '0', '0', '0', '0', '0', '0', '0', '0', '0', '0', '0', '0', '0', '0', '0', '0', '0', '0', '0', '0', '0', '0', '0', '0', '0', '0', '0', '0', '0', '0', '0', '0', '0', '0', '0', '0'], ['10280', '0', '0', '0', '0', '0', '0', '0', '0', '0', '0', '0', '0', '0', '0', '0', '0', '0', '0', '0', '0', '0', '0', '0', '0', '0', '0', '0', '0', '0', '0', '0', '0', '0', '0', '0', '0', '0', '0', '0', '0', '0', '0', '0', '0', '0'], ['10301', '0', '0', '0', '0', '0', '0', '0', '0', '0', '0', '0', '0', '0', '0', '0', '0', '0', '0', '0', '0', '0', '0', '0', '0', '0', '0', '0', '0', '0', '0', '0', '0', '0', '0', '0', '0', '0', '0', '0', '0', '0', '0', '0', '0', '0'], ['10302', '0', '0', '0', '0', '0', '0', '0', '0', '0', '0', '0', '0', '0', '0', '0', '0', '0', '0', '0', '0', '0', '0', '0', '0', '0', '0', '0', '0', '0', '0', '0', '0', '0', '0', '0', '0', '0', '0', '0', '0', '0', '0', '0', '0', '0'], ['10303', '0', '0', '0', '0', '0', '0', '0', '0', '0', '0', '0', '0', '0', '0', '0', '0', '0', '0', '0', '0', '0', '0', '0', '0', '0', '0', '0', '0', '0', '0', '0', '0', '0', '0', '0', '0', '0', '0', '0', '0', '0', '0', '0', '0', '0'], ['10304', '0', '0', '0', '0', '0', '0', '0', '0', '0', '0', '0', '0', '0', '0', '0', '0', '0', '0', '0', '0', '0', '0', '0', '0', '0', '0', '0', '0', '0', '0', '0', '0', '0', '0', '0', '0', '0', '0', '0', '0', '0', '0', '0', '0', '0'], ['10305', '0', '0', '0', '0', '0', '0', '0', '0', '0', '0', '0', '0', '0', '0', '0', '0', '0', '0', '0', '0', '0', '0', '0', '0', '0', '0', '0', '0', '0', '0', '0', '0', '0', '0', '0', '0', '0', '0', '0', '0', '0', '0', '0', '0', '0'], ['10306', '1', '0', '0', '1', '1', '0', '0', '1', '100', '0', '0', '0', '0', '0', '0', '1', '1', '0', '0', '0', '0', '0', '0', '0', '0', '1', '100', '0', '0', '1', '1', '0', '0', '0', '0', '1', '100', '0', '0', '1', '1', '0', '0', '1', '100'], ['10307', '0', '0', '0', '0', '0', '0', '0', '0', '0', '0', '0', '0', '0', '0', '0', '0', '0', '0', '0', '0', '0', '0', '0', '0', '0', '0', '0', '0', '0', '0', '0', '0', '0', '0', '0', '0', '0', '0', '0', '0', '0', '0', '0', '0', '0'], ['10309', '0', '0', '0', '0', '0', '0', '0', '0', '0', '0', '0', '0', '0', '0', '0', '0', '0', '0', '0', '0', '0', '0', '0', '0', '0', '0', '0', '0', '0', '0', '0', '0', '0', '0', '0', '0', '0', '0', '0', '0', '0', '0', '0', '0', '0'], ['10310', '0', '0', '0', '0', '0', '0', '0', '0', '0', '0', '0', '0', '0', '0', '0', '0', '0', '0', '0', '0', '0', '0', '0', '0', '0', '0', '0', '0', '0', '0', '0', '0', '0', '0', '0', '0', '0', '0', '0', '0', '0', '0', '0', '0', '0'], ['10312', '0', '0', '0', '0', '0', '0', '0', '0', '0', '0', '0', '0', '0', '0', '0', '0', '0', '0', '0', '0', '0', '0', '0', '0', '0', '0', '0', '0', '0', '0', '0', '0', '0', '0', '0', '0', '0', '0', '0', '0', '0', '0', '0', '0', '0'], ['10314', '0', '0', '0', '0', '0', '0', '0', '0', '0', '0', '0', '0', '0', '0', '0', '0', '0', '0', '0', '0', '0', '0', '0', '0', '0', '0', '0', '0', '0', '0', '0', '0', '0', '0', '0', '0', '0', '0', '0', '0', '0', '0', '0', '0', '0'], ['10451', '41', '21', '0.51', '20', '0.49', '0', '0', '41', '100', '0', '0', '22', '0.54', '0', '0', '1', '0.02', '0', '0', '15', '0.37', '2', '0.05', '1', '0.02', '41', '100', '3', '0.07', '38', '0.93', '0', '0', '0', '0', '41', '100', '12', '0.29', '29', '0.71', '0', '0', '41', '100'], ['10452', '17', '12', '0.71', '5', '0.29', '0', '0', '17', '100', '0', '0', '10', '0.59', '0', '0', '0', '0', '0', '0', '5', '0.29', '1', '0.06', '1', '0.06', '17', '100', '0', '0', '17', '1', '0', '0', '0', '0', '17', '100', '3', '0.18', '14', '0.82', '0', '0', '17', '100'], ['10453', '14', '7', '0.5', '7', '0.5', '0', '0', '14', '100', '0', '0', '6', '0.43', '0', '0', '0', '0', '0', '0', '8', '0.57', '0', '0', '0', '0', '14', '100', '2', '0.14', '12', '0.86', '0', '0', '0', '0', '14', '100', '8', '0.57', '6', '0.43', '0', '0', '14', '100'], ['10454', '18', '8', '0.44', '10', '0.56', '0', '0', '18', '100', '0', '0', '7', '0.39', '0', '0', '1', '0.06', '0', '0', '10', '0.56', '0', '0', '0', '0', '18', '100', '1', '0.06', '17', '0.94', '0', '0', '0', '0', '18', '100', '8', '0.44', '10', '0.56', '0', '0', '18', '100'], ['10455', '27', '17', '0.63', '10', '0.37', '0', '0', '27', '100', '0', '0', '5', '0.19', '0', '0', '0', '0', '0', '0', '20', '0.74', '2', '0.07', '0', '0', '27', '100', '1', '0.04', '25', '0.93', '1', '0.04', '0', '0', '27', '100', '7', '0.26', '20', '0.74', '0', '0', '27', '100'], ['10456', '5', '3', '0.6', '2', '0.4', '0', '0', '5', '100', '0', '0', '3', '0.6', '1', '0.2', '0', '0', '0', '0', '0', '0', '1', '0.2', '0', '0', '5', '100', '0', '0', '5', '1', '0', '0', '0', '0', '5', '100', '1', '0.2', '4', '0.8', '0', '0', '5', '100'], ['10457', '0', '0', '0', '0', '0', '0', '0', '0', '0', '0', '0', '0', '0', '0', '0', '0', '0', '0', '0', '0', '0', '0', '0', '0', '0', '0', '0', '0', '0', '0', '0', '0', '0', '0', '0', '0', '0', '0', '0', '0', '0', '0', '0', '0', '0'], ['10458', '52', '25', '0.48', '27', '0.52', '0', '0', '52', '100', '0', '0', '24', '0.46', '0', '0', '0', '0', '1', '0.02', '23', '0.44', '3', '0.06', '1', '0.02', '52', '100', '3', '0.06', '48', '0.92', '1', '0.02', '0', '0', '52', '100', '19', '0.37', '33', '0.63', '0', '0', '52', '100'], ['10459', '7', '5', '0.71', '2', '0.29', '0', '0', '7', '100', '0', '0', '3', '0.43', '0', '0', '0', '0', '0', '0', '4', '0.57', '0', '0', '0', '0', '7', '100', '2', '0.29', '5', '0.71', '0', '0', '0', '0', '7', '100', '3', '0.43', '4', '0.57', '0', '0', '7', '100'], ['10460', '27', '20', '0.74', '7', '0.26', '0', '0', '27', '100', '0', '0', '9', '0.33', '0', '0', '0', '0', '1', '0.04', '15', '0.56', '2', '0.07', '0', '0', '27', '100', '2', '0.07', '25', '0.93', '0', '0', '0', '0', '27', '100', '14', '0.52', '13', '0.48', '0', '0', '27', '100'], ['10461', '49', '26', '0.53', '23', '0.47', '0', '0', '49', '100', '1', '0.02', '21', '0.43', '1', '0.02', '1', '0.02', '1', '0.02', '18', '0.37', '5', '0.1', '1', '0.02', '49', '100', '1', '0.02', '48', '0.98', '0', '0', '0', '0', '49', '100', '21', '0.43', '28', '0.57', '0', '0', '49', '100'], ['10462', '3', '2', '0.67', '1', '0.33', '0', '0', '3', '100', '0', '0', '1', '0.33', '0', '0', '0', '0', '0', '0', '2', '0.67', '0', '0', '0', '0', '3', '100', '0', '0', '2', '0.67', '1', '0.33', '0', '0', '3', '100', '3', '1', '0', '0', '0', '0', '3', '100'], ['10463', '59', '33', '0.56', '26', '0.44', '0', '0', '59', '100', '0', '0', '36', '0.61', '0', '0', '0', '0', '2', '0.03', '18', '0.31', '3', '0.05', '0', '0', '59', '100', '3', '0.05', '54', '0.92', '2', '0.03', '0', '0', '59', '100', '20', '0.34', '39', '0.66', '0', '0', '59', '100'], ['10464', '15', '7', '0.47', '8', '0.53', '0', '0', '15', '100', '0', '0', '7', '0.47', '0', '0', '1', '0.07', '0', '0', '7', '0.47', '0', '0', '0', '0', '15', '100', '0', '0', '15', '1', '0', '0', '0', '0', '15', '100', '7', '0.47', '8', '0.53', '0', '0', '15', '100'], ['10465', '21', '17', '0.81', '4', '0.19', '0', '0', '21', '100', '0', '0', '14', '0.67', '0', '0', '1', '0.05', '4', '0.19', '2', '0.1', '0', '0', '0', '0', '21', '100', '1', '0.05', '20', '0.95', '0', '0', '0', '0', '21', '100', '5', '0.24', '16', '0.76', '0', '0', '21', '100'], ['10466', '65', '39', '0.6', '26', '0.4', '0', '0', '65', '100', '1', '0.02', '14', '0.22', '0', '0', '0', '0', '0', '0', '50', '0.77', '0', '0', '0', '0', '65', '100', '3', '0.05', '62', '0.95', '0', '0', '0', '0', '65', '100', '17', '0.26', '48', '0.74', '0', '0', '65', '100'], ['10467', '106', '65', '0.61', '41', '0.39', '0', '0', '106', '100', '0', '0', '51', '0.48', '1', '0.01', '4', '0.04', '1', '0.01', '47', '0.44', '2', '0.02', '0', '0', '106', '100', '10', '0.09', '94', '0.89', '2', '0.02', '0', '0', '106', '100', '33', '0.31', '73', '0.69', '0', '0', '106', '100'], ['10468', '81', '46', '0.57', '35', '0.43', '0', '0', '81', '100', '0', '0', '35', '0.43', '0', '0', '3', '0.04', '0', '0', '36', '0.44', '7', '0.09', '0', '0', '81', '100', '2', '0.02', '79', '0.98', '0', '0', '0', '0', '81', '100', '23', '0.28', '58', '0.72', '0', '0', '81', '100'], ['10469', '10', '7', '0.7', '3', '0.3', '0', '0', '10', '100', '0', '0', '4', '0.4', '0', '0', '0', '0', '1', '0.1', '5', '0.5', '0', '0', '0', '0', '10', '100', '2', '0.2', '8', '0.8', '0', '0', '0', '0', '10', '100', '4', '0.4', '6', '0.6', '0', '0', '10', '100'], ['10471', '43', '24', '0.56', '19', '0.44', '0', '0', '43', '100', '0', '0', '27', '0.63', '0', '0', '1', '0.02', '2', '0.05', '12', '0.28', '1', '0.02', '0', '0', '43', '100', '2', '0.05', '41', '0.95', '0', '0', '0', '0', '43', '100', '17', '0.4', '26', '0.6', '0', '0', '43', '100'], ['10472', '0', '0', '0', '0', '0', '0', '0', '0', '0', '0', '0', '0', '0', '0', '0', '0', '0', '0', '0', '0', '0', '0', '0', '0', '0', '0', '0', '0', '0', '0', '0', '0', '0', '0', '0', '0', '0', '0', '0', '0', '0', '0', '0', '0', '0'], ['10473', '0', '0', '0', '0', '0', '0', '0', '0', '0', '0', '0', '0', '0', '0', '0', '0', '0', '0', '0', '0', '0', '0', '0', '0', '0', '0', '0', '0', '0', '0', '0', '0', '0', '0', '0', '0', '0', '0', '0', '0', '0', '0', '0', '0', '0'], ['10474', '0', '0', '0', '0', '0', '0', '0', '0', '0', '0', '0', '0', '0', '0', '0', '0', '0', '0', '0', '0', '0', '0', '0', '0', '0', '0', '0', '0', '0', '0', '0', '0', '0', '0', '0', '0', '0', '0', '0', '0', '0', '0', '0', '0', '0'], ['10475', '20', '12', '0.6', '8', '0.4', '0', '0', '20', '100', '0', '0', '7', '0.35', '0', '0', '0', '0', '1', '0.05', '12', '0.6', '0', '0', '0', '0', '20', '100', '2', '0.1', '18', '0.9', '0', '0', '0', '0', '20', '100', '8', '0.4', '12', '0.6', '0', '0', '20', '100'], ['10514', '0', '0', '0', '0', '0', '0', '0', '0', '0', '0', '0', '0', '0', '0', '0', '0', '0', '0', '0', '0', '0', '0', '0', '0', '0', '0', '0', '0', '0', '0', '0', '0', '0', '0', '0', '0', '0', '0', '0', '0', '0', '0', '0', '0', '0'], ['10543', '0', '0', '0', '0', '0', '0', '0', '0', '0', '0', '0', '0', '0', '0', '0', '0', '0', '0', '0', '0', '0', '0', '0', '0', '0', '0', '0', '0', '0', '0', '0', '0', '0', '0', '0', '0', '0', '0', '0', '0', '0', '0', '0', '0', '0'], ['10553', '0', '0', '0', '0', '0', '0', '0', '0', '0', '0', '0', '0', '0', '0', '0', '0', '0', '0', '0', '0', '0', '0', '0', '0', '0', '0', '0', '0', '0', '0', '0', '0', '0', '0', '0', '0', '0', '0', '0', '0', '0', '0', '0', '0', '0'], ['10573', '0', '0', '0', '0', '0', '0', '0', '0', '0', '0', '0', '0', '0', '0', '0', '0', '0', '0', '0', '0', '0', '0', '0', '0', '0', '0', '0', '0', '0', '0', '0', '0', '0', '0', '0', '0', '0', '0', '0', '0', '0', '0', '0', '0', '0'], ['10701', '0', '0', '0', '0', '0', '0', '0', '0', '0', '0', '0', '0', '0', '0', '0', '0', '0', '0', '0', '0', '0', '0', '0', '0', '0', '0', '0', '0', '0', '0', '0', '0', '0', '0', '0', '0', '0', '0', '0', '0', '0', '0', '0', '0', '0'], ['10705', '0', '0', '0', '0', '0', '0', '0', '0', '0', '0', '0', '0', '0', '0', '0', '0', '0', '0', '0', '0', '0', '0', '0', '0', '0', '0', '0', '0', '0', '0', '0', '0', '0', '0', '0', '0', '0', '0', '0', '0', '0', '0', '0', '0', '0'], ['10911', '0', '0', '0', '0', '0', '0', '0', '0', '0', '0', '0', '0', '0', '0', '0', '0', '0', '0', '0', '0', '0', '0', '0', '0', '0', '0', '0', '0', '0', '0', '0', '0', '0', '0', '0', '0', '0', '0', '0', '0', '0', '0', '0', '0', '0'], ['10965', '0', '0', '0', '0', '0', '0', '0', '0', '0', '0', '0', '0', '0', '0', '0', '0', '0', '0', '0', '0', '0', '0', '0', '0', '0', '0', '0', '0', '0', '0', '0', '0', '0', '0', '0', '0', '0', '0', '0', '0', '0', '0', '0', '0', '0'], ['10977', '0', '0', '0', '0', '0', '0', '0', '0', '0', '0', '0', '0', '0', '0', '0', '0', '0', '0', '0', '0', '0', '0', '0', '0', '0', '0', '0', '0', '0', '0', '0', '0', '0', '0', '0', '0', '0', '0', '0', '0', '0', '0', '0', '0', '0'], ['11001', '0', '0', '0', '0', '0', '0', '0', '0', '0', '0', '0', '0', '0', '0', '0', '0', '0', '0', '0', '0', '0', '0', '0', '0', '0', '0', '0', '0', '0', '0', '0', '0', '0', '0', '0', '0', '0', '0', '0', '0', '0', '0', '0', '0', '0'], ['11021', '0', '0', '0', '0', '0', '0', '0', '0', '0', '0', '0', '0', '0', '0', '0', '0', '0', '0', '0', '0', '0', '0', '0', '0', '0', '0', '0', '0', '0', '0', '0', '0', '0', '0', '0', '0', '0', '0', '0', '0', '0', '0', '0', '0', '0'], ['11050', '0', '0', '0', '0', '0', '0', '0', '0', '0', '0', '0', '0', '0', '0', '0', '0', '0', '0', '0', '0', '0', '0', '0', '0', '0', '0', '0', '0', '0', '0', '0', '0', '0', '0', '0', '0', '0', '0', '0', '0', '0', '0', '0', '0', '0'], ['11101', '1', '0', '0', '1', '1', '0', '0', '1', '100', '0', '0', '0', '0', '0', '0', '1', '1', '0', '0', '0', '0', '0', '0', '0', '0', '1', '100', '0', '0', '1', '1', '0', '0', '0', '0', '1', '100', '0', '0', '1', '1', '0', '0', '1', '100'], ['11102', '0', '0', '0', '0', '0', '0', '0', '0', '0', '0', '0', '0', '0', '0', '0', '0', '0', '0', '0', '0', '0', '0', '0', '0', '0', '0', '0', '0', '0', '0', '0', '0', '0', '0', '0', '0', '0', '0', '0', '0', '0', '0', '0', '0', '0'], ['11103', '0', '0', '0', '0', '0', '0', '0', '0', '0', '0', '0', '0', '0', '0', '0', '0', '0', '0', '0', '0', '0', '0', '0', '0', '0', '0', '0', '0', '0', '0', '0', '0', '0', '0', '0', '0', '0', '0', '0', '0', '0', '0', '0', '0', '0'], ['11104', '0', '0', '0', '0', '0', '0', '0', '0', '0', '0', '0', '0', '0', '0', '0', '0', '0', '0', '0', '0', '0', '0', '0', '0', '0', '0', '0', '0', '0', '0', '0', '0', '0', '0', '0', '0', '0', '0', '0', '0', '0', '0', '0', '0', '0'], ['11105', '0', '0', '0', '0', '0', '0', '0', '0', '0', '0', '0', '0', '0', '0', '0', '0', '0', '0', '0', '0', '0', '0', '0', '0', '0', '0', '0', '0', '0', '0', '0', '0', '0', '0', '0', '0', '0', '0', '0', '0', '0', '0', '0', '0', '0'], ['11106', '0', '0', '0', '0', '0', '0', '0', '0', '0', '0', '0', '0', '0', '0', '0', '0', '0', '0', '0', '0', '0', '0', '0', '0', '0', '0', '0', '0', '0', '0', '0', '0', '0', '0', '0', '0', '0', '0', '0', '0', '0', '0', '0', '0', '0'], ['11111', '0', '0', '0', '0', '0', '0', '0', '0', '0', '0', '0', '0', '0', '0', '0', '0', '0', '0', '0', '0', '0', '0', '0', '0', '0', '0', '0', '0', '0', '0', '0', '0', '0', '0', '0', '0', '0', '0', '0', '0', '0', '0', '0', '0', '0'], ['11112', '0', '0', '0', '0', '0', '0', '0', '0', '0', '0', '0', '0', '0', '0', '0', '0', '0', '0', '0', '0', '0', '0', '0', '0', '0', '0', '0', '0', '0', '0', '0', '0', '0', '0', '0', '0', '0', '0', '0', '0', '0', '0', '0', '0', '0'], ['11201', '11', '6', '0.55', '5', '0.45', '0', '0', '11', '100', '0', '0', '2', '0.18', '0', '0', '1', '0.09', '1', '0.09', '5', '0.45', '2', '0.18', '0', '0', '11', '99', '0', '0', '11', '1', '0', '0', '0', '0', '11', '100', '2', '0.18', '9', '0.82', '0', '0', '11', '100'], ['11202', '0', '0', '0', '0', '0', '0', '0', '0', '0', '0', '0', '0', '0', '0', '0', '0', '0', '0', '0', '0', '0', '0', '0', '0', '0', '0', '0', '0', '0', '0', '0', '0', '0', '0', '0', '0', '0', '0', '0', '0', '0', '0', '0', '0', '0'], ['11203', '15', '12', '0.8', '3', '0.2', '0', '0', '15', '100', '0', '0', '2', '0.13', '0', '0', '1', '0.07', '2', '0.13', '8', '0.53', '2', '0.13', '0', '0', '15', '99', '1', '0.07', '14', '0.93', '0', '0', '0', '0', '15', '100', '1', '0.07', '14', '0.93', '0', '0', '15', '100'], ['11204', '37', '17', '0.46', '20', '0.54', '0', '0', '37', '100', '0', '0', '0', '0', '0', '0', '0', '0', '36', '0.97', '0', '0', '1', '0.03', '0', '0', '37', '100', '1', '0.03', '36', '0.97', '0', '0', '0', '0', '37', '100', '19', '0.51', '18', '0.49', '0', '0', '37', '100'], ['11205', '5', '5', '1', '0', '0', '0', '0', '5', '100', '0', '0', '0', '0', '0', '0', '0', '0', '4', '0.8', '0', '0', '1', '0.2', '0', '0', '5', '100', '0', '0', '5', '1', '0', '0', '0', '0', '5', '100', '3', '0.6', '2', '0.4', '0', '0', '5', '100'], ['11206', '13', '3', '0.23', '10', '0.77', '0', '0', '13', '100', '0', '0', '0', '0', '0', '0', '0', '0', '13', '1', '0', '0', '0', '0', '0', '0', '13', '100', '0', '0', '13', '1', '0', '0', '0', '0', '13', '100', '9', '0.69', '4', '0.31', '0', '0', '13', '100'], ['11207', '0', '0', '0', '0', '0', '0', '0', '0', '0', '0', '0', '0', '0', '0', '0', '0', '0', '0', '0', '0', '0', '0', '0', '0', '0', '0', '0', '0', '0', '0', '0', '0', '0', '0', '0', '0', '0', '0', '0', '0', '0', '0', '0', '0', '0'], ['11208', '0', '0', '0', '0', '0', '0', '0', '0', '0', '0', '0', '0', '0', '0', '0', '0', '0', '0', '0', '0', '0', '0', '0', '0', '0', '0', '0', '0', '0', '0', '0', '0', '0', '0', '0', '0', '0', '0', '0', '0', '0', '0', '0', '0', '0'], ['11209', '0', '0', '0', '0', '0', '0', '0', '0', '0', '0', '0', '0', '0', '0', '0', '0', '0', '0', '0', '0', '0', '0', '0', '0', '0', '0', '0', '0', '0', '0', '0', '0', '0', '0', '0', '0', '0', '0', '0', '0', '0', '0', '0', '0', '0'], ['11210', '36', '12', '0.33', '24', '0.67', '0', '0', '36', '100', '0', '0', '0', '0', '0', '0', '0', '0', '33', '0.92', '0', '0', '3', '0.08', '0', '0', '36', '100', '0', '0', '36', '1', '0', '0', '0', '0', '36', '100', '11', '0.31', '25', '0.69', '0', '0', '36', '100'], ['11211', '34', '31', '0.91', '3', '0.09', '0', '0', '34', '100', '0', '0', '2', '0.06', '0', '0', '1', '0.03', '28', '0.82', '1', '0.03', '2', '0.06', '0', '0', '34', '100', '0', '0', '34', '1', '0', '0', '0', '0', '34', '100', '22', '0.65', '12', '0.35', '0', '0', '34', '100'], ['11212', '10', '8', '0.8', '2', '0.2', '0', '0', '10', '100', '0', '0', '1', '0.1', '0', '0', '1', '0.1', '0', '0', '7', '0.7', '1', '0.1', '0', '0', '10', '100', '1', '0.1', '9', '0.9', '0', '0', '0', '0', '10', '100', '0', '0', '10', '1', '0', '0', '10', '100'], ['11213', '38', '17', '0.45', '21', '0.55', '0', '0', '38', '100', '0', '0', '0', '0', '0', '0', '0', '0', '32', '0.84', '0', '0', '6', '0.16', '0', '0', '38', '100', '1', '0.03', '37', '0.97', '0', '0', '0', '0', '38', '100', '10', '0.26', '28', '0.74', '0', '0', '38', '100'], ['11214', '10', '7', '0.7', '3', '0.3', '0', '0', '10', '100', '0', '0', '0', '0', '0', '0', '5', '0.5', '4', '0.4', '1', '0.1', '0', '0', '0', '0', '10', '100', '0', '0', '10', '1', '0', '0', '0', '0', '10', '100', '2', '0.2', '8', '0.8', '0', '0', '10', '100'], ['11215', '0', '0', '0', '0', '0', '0', '0', '0', '0', '0', '0', '0', '0', '0', '0', '0', '0', '0', '0', '0', '0', '0', '0', '0', '0', '0', '0', '0', '0', '0', '0', '0', '0', '0', '0', '0', '0', '0', '0', '0', '0', '0', '0', '0', '0'], ['11216', '0', '0', '0', '0', '0', '0', '0', '0', '0', '0', '0', '0', '0', '0', '0', '0', '0', '0', '0', '0', '0', '0', '0', '0', '0', '0', '0', '0', '0', '0', '0', '0', '0', '0', '0', '0', '0', '0', '0', '0', '0', '0', '0', '0', '0'], ['11217', '0', '0', '0', '0', '0', '0', '0', '0', '0', '0', '0', '0', '0', '0', '0', '0', '0', '0', '0', '0', '0', '0', '0', '0', '0', '0', '0', '0', '0', '0', '0', '0', '0', '0', '0', '0', '0', '0', '0', '0', '0', '0', '0', '0', '0'], ['11218', '111', '97', '0.87', '14', '0.13', '0', '0', '111', '100', '0', '0', '1', '0.01', '0', '0', '3', '0.03', '95', '0.86', '6', '0.05', '6', '0.05', '0', '0', '111', '100', '8', '0.07', '102', '0.92', '1', '0.01', '0', '0', '111', '100', '51', '0.46', '60', '0.54', '0', '0', '111', '100'], ['11219', '214', '182', '0.85', '32', '0.15', '0', '0', '214', '100', '0', '0', '1', '0', '0', '0', '1', '0', '205', '0.96', '0', '0', '6', '0.03', '1', '0', '214', '99', '2', '0.01', '212', '0.99', '0', '0', '0', '0', '214', '100', '112', '0.52', '102', '0.48', '0', '0', '214', '100'], ['11220', '8', '1', '0.13', '7', '0.88', '0', '0', '8', '100', '0', '0', '0', '0', '0', '0', '1', '0.13', '6', '0.75', '0', '0', '1', '0.13', '0', '0', '8', '100', '0', '0', '8', '1', '0', '0', '0', '0', '8', '100', '5', '0.63', '3', '0.38', '0', '0', '8', '100'], ['11221', '0', '0', '0', '0', '0', '0', '0', '0', '0', '0', '0', '0', '0', '0', '0', '0', '0', '0', '0', '0', '0', '0', '0', '0', '0', '0', '0', '0', '0', '0', '0', '0', '0', '0', '0', '0', '0', '0', '0', '0', '0', '0', '0', '0', '0'], ['11222', '0', '0', '0', '0', '0', '0', '0', '0', '0', '0', '0', '0', '0', '0', '0', '0', '0', '0', '0', '0', '0', '0', '0', '0', '0', '0', '0', '0', '0', '0', '0', '0', '0', '0', '0', '0', '0', '0', '0', '0', '0', '0', '0', '0', '0'], ['11223', '109', '53', '0.49', '56', '0.51', '0', '0', '109', '100', '0', '0', '1', '0.01', '0', '0', '7', '0.06', '95', '0.87', '1', '0.01', '5', '0.05', '0', '0', '109', '100', '6', '0.06', '102', '0.94', '1', '0.01', '0', '0', '109', '100', '20', '0.18', '89', '0.82', '0', '0', '109', '100'], ['11224', '93', '53', '0.57', '40', '0.43', '0', '0', '93', '100', '0', '0', '14', '0.15', '0', '0', '7', '0.08', '4', '0.04', '60', '0.65', '8', '0.09', '0', '0', '93', '100', '6', '0.06', '86', '0.92', '1', '0.01', '0', '0', '93', '99', '28', '0.3', '65', '0.7', '0', '0', '93', '100'], ['11225', '52', '52', '1', '0', '0', '0', '0', '52', '100', '0', '0', '0', '0', '0', '0', '0', '0', '52', '1', '0', '0', '0', '0', '0', '0', '52', '100', '0', '0', '52', '1', '0', '0', '0', '0', '52', '100', '22', '0.42', '30', '0.58', '0', '0', '52', '100'], ['11226', '10', '7', '0.7', '3', '0.3', '0', '0', '10', '100', '0', '0', '6', '0.6', '0', '0', '0', '0', '0', '0', '4', '0.4', '0', '0', '0', '0', '10', '100', '0', '0', '10', '1', '0', '0', '0', '0', '10', '100', '4', '0.4', '6', '0.6', '0', '0', '10', '100'], ['11228', '0', '0', '0', '0', '0', '0', '0', '0', '0', '0', '0', '0', '0', '0', '0', '0', '0', '0', '0', '0', '0', '0', '0', '0', '0', '0', '0', '0', '0', '0', '0', '0', '0', '0', '0', '0', '0', '0', '0', '0', '0', '0', '0', '0', '0'], ['11229', '52', '32', '0.62', '20', '0.38', '0', '0', '52', '100', '0', '0', '2', '0.04', '0', '0', '5', '0.1', '39', '0.75', '2', '0.04', '3', '0.06', '1', '0.02', '52', '100', '3', '0.06', '49', '0.94', '0', '0', '0', '0', '52', '100', '5', '0.1', '47', '0.9', '0', '0', '52', '100'], ['11230', '248', '194', '0.78', '54', '0.22', '0', '0', '248', '100', '0', '0', '1', '0', '0', '0', '7', '0.03', '216', '0.87', '2', '0.01', '17', '0.07', '5', '0.02', '248', '100', '3', '0.01', '245', '0.99', '0', '0', '0', '0', '248', '100', '42', '0.17', '206', '0.83', '0', '0', '248', '100'], ['11231', '0', '0', '0', '0', '0', '0', '0', '0', '0', '0', '0', '0', '0', '0', '0', '0', '0', '0', '0', '0', '0', '0', '0', '0', '0', '0', '0', '0', '0', '0', '0', '0', '0', '0', '0', '0', '0', '0', '0', '0', '0', '0', '0', '0', '0'], ['11232', '0', '0', '0', '0', '0', '0', '0', '0', '0', '0', '0', '0', '0', '0', '0', '0', '0', '0', '0', '0', '0', '0', '0', '0', '0', '0', '0', '0', '0', '0', '0', '0', '0', '0', '0', '0', '0', '0', '0', '0', '0', '0', '0', '0', '0'], ['11233', '14', '6', '0.43', '8', '0.57', '0', '0', '14', '100', '0', '0', '0', '0', '0', '0', '0', '0', '4', '0.29', '9', '0.64', '1', '0.07', '0', '0', '14', '100', '0', '0', '14', '1', '0', '0', '0', '0', '14', '100', '5', '0.36', '9', '0.64', '0', '0', '14', '100'], ['11234', '59', '29', '0.49', '30', '0.51', '0', '0', '59', '100', '0', '0', '8', '0.14', '0', '0', '0', '0', '37', '0.63', '10', '0.17', '4', '0.07', '0', '0', '59', '100', '1', '0.02', '58', '0.98', '0', '0', '0', '0', '59', '100', '2', '0.03', '57', '0.97', '0', '0', '59', '100'], ['11235', '50', '17', '0.34', '33', '0.66', '0', '0', '50', '100', '0', '0', '7', '0.14', '0', '0', '4', '0.08', '36', '0.72', '2', '0.04', '1', '0.02', '0', '0', '50', '100', '1', '0.02', '48', '0.96', '1', '0.02', '0', '0', '50', '100', '4', '0.08', '46', '0.92', '0', '0', '50', '100'], ['11236', '7', '3', '0.43', '4', '0.57', '0', '0', '7', '100', '0', '0', '0', '0', '0', '0', '0', '0', '1', '0.14', '5', '0.71', '0', '0', '1', '0.14', '7', '99', '2', '0.29', '5', '0.71', '0', '0', '0', '0', '7', '100', '0', '0', '7', '1', '0', '0', '7', '100'], ['11237', '0', '0', '0', '0', '0', '0', '0', '0', '0', '0', '0', '0', '0', '0', '0', '0', '0', '0', '0', '0', '0', '0', '0', '0', '0', '0', '0', '0', '0', '0', '0', '0', '0', '0', '0', '0', '0', '0', '0', '0', '0', '0', '0', '0', '0'], ['11238', '0', '0', '0', '0', '0', '0', '0', '0', '0', '0', '0', '0', '0', '0', '0', '0', '0', '0', '0', '0', '0', '0', '0', '0', '0', '0', '0', '0', '0', '0', '0', '0', '0', '0', '0', '0', '0', '0', '0', '0', '0', '0', '0', '0', '0'], ['11239', '0', '0', '0', '0', '0', '0', '0', '0', '0', '0', '0', '0', '0', '0', '0', '0', '0', '0', '0', '0', '0', '0', '0', '0', '0', '0', '0', '0', '0', '0', '0', '0', '0', '0', '0', '0', '0', '0', '0', '0', '0', '0', '0', '0', '0'], ['11252', '0', '0', '0', '0', '0', '0', '0', '0', '0', '0', '0', '0', '0', '0', '0', '0', '0', '0', '0', '0', '0', '0', '0', '0', '0', '0', '0', '0', '0', '0', '0', '0', '0', '0', '0', '0', '0', '0', '0', '0', '0', '0', '0', '0', '0'], ['11354', '2', '1', '0.5', '1', '0.5', '0', '0', '2', '100', '0', '0', '1', '0.5', '0', '0', '0', '0', '0', '0', '0', '0', '1', '0.5', '0', '0', '2', '100', '2', '1', '0', '0', '0', '0', '0', '0', '2', '100', '0', '0', '2', '1', '0', '0', '2', '100'], ['11355', '0', '0', '0', '0', '0', '0', '0', '0', '0', '0', '0', '0', '0', '0', '0', '0', '0', '0', '0', '0', '0', '0', '0', '0', '0', '0', '0', '0', '0', '0', '0', '0', '0', '0', '0', '0', '0', '0', '0', '0', '0', '0', '0', '0', '0'], ['11356', '0', '0', '0', '0', '0', '0', '0', '0', '0', '0', '0', '0', '0', '0', '0', '0', '0', '0', '0', '0', '0', '0', '0', '0', '0', '0', '0', '0', '0', '0', '0', '0', '0', '0', '0', '0', '0', '0', '0', '0', '0', '0', '0', '0', '0'], ['11357', '0', '0', '0', '0', '0', '0', '0', '0', '0', '0', '0', '0', '0', '0', '0', '0', '0', '0', '0', '0', '0', '0', '0', '0', '0', '0', '0', '0', '0', '0', '0', '0', '0', '0', '0', '0', '0', '0', '0', '0', '0', '0', '0', '0', '0'], ['11358', '0', '0', '0', '0', '0', '0', '0', '0', '0', '0', '0', '0', '0', '0', '0', '0', '0', '0', '0', '0', '0', '0', '0', '0', '0', '0', '0', '0', '0', '0', '0', '0', '0', '0', '0', '0', '0', '0', '0', '0', '0', '0', '0', '0', '0'], ['11360', '0', '0', '0', '0', '0', '0', '0', '0', '0', '0', '0', '0', '0', '0', '0', '0', '0', '0', '0', '0', '0', '0', '0', '0', '0', '0', '0', '0', '0', '0', '0', '0', '0', '0', '0', '0', '0', '0', '0', '0', '0', '0', '0', '0', '0'], ['11361', '0', '0', '0', '0', '0', '0', '0', '0', '0', '0', '0', '0', '0', '0', '0', '0', '0', '0', '0', '0', '0', '0', '0', '0', '0', '0', '0', '0', '0', '0', '0', '0', '0', '0', '0', '0', '0', '0', '0', '0', '0', '0', '0', '0', '0'], ['11362', '0', '0', '0', '0', '0', '0', '0', '0', '0', '0', '0', '0', '0', '0', '0', '0', '0', '0', '0', '0', '0', '0', '0', '0', '0', '0', '0', '0', '0', '0', '0', '0', '0', '0', '0', '0', '0', '0', '0', '0', '0', '0', '0', '0', '0'], ['11364', '0', '0', '0', '0', '0', '0', '0', '0', '0', '0', '0', '0', '0', '0', '0', '0', '0', '0', '0', '0', '0', '0', '0', '0', '0', '0', '0', '0', '0', '0', '0', '0', '0', '0', '0', '0', '0', '0', '0', '0', '0', '0', '0', '0', '0'], ['11365', '0', '0', '0', '0', '0', '0', '0', '0', '0', '0', '0', '0', '0', '0', '0', '0', '0', '0', '0', '0', '0', '0', '0', '0', '0', '0', '0', '0', '0', '0', '0', '0', '0', '0', '0', '0', '0', '0', '0', '0', '0', '0', '0', '0', '0'], ['11366', '0', '0', '0', '0', '0', '0', '0', '0', '0', '0', '0', '0', '0', '0', '0', '0', '0', '0', '0', '0', '0', '0', '0', '0', '0', '0', '0', '0', '0', '0', '0', '0', '0', '0', '0', '0', '0', '0', '0', '0', '0', '0', '0', '0', '0'], ['11367', '0', '0', '0', '0', '0', '0', '0', '0', '0', '0', '0', '0', '0', '0', '0', '0', '0', '0', '0', '0', '0', '0', '0', '0', '0', '0', '0', '0', '0', '0', '0', '0', '0', '0', '0', '0', '0', '0', '0', '0', '0', '0', '0', '0', '0'], ['11368', '5', '4', '0.8', '1', '0.2', '0', '0', '5', '100', '0', '0', '3', '0.6', '0', '0', '1', '0.2', '1', '0.2', '0', '0', '0', '0', '0', '0', '5', '100', '1', '0.2', '4', '0.8', '0', '0', '0', '0', '5', '100', '0', '0', '5', '1', '0', '0', '5', '100'], ['11369', '0', '0', '0', '0', '0', '0', '0', '0', '0', '0', '0', '0', '0', '0', '0', '0', '0', '0', '0', '0', '0', '0', '0', '0', '0', '0', '0', '0', '0', '0', '0', '0', '0', '0', '0', '0', '0', '0', '0', '0', '0', '0', '0', '0', '0'], ['11370', '0', '0', '0', '0', '0', '0', '0', '0', '0', '0', '0', '0', '0', '0', '0', '0', '0', '0', '0', '0', '0', '0', '0', '0', '0', '0', '0', '0', '0', '0', '0', '0', '0', '0', '0', '0', '0', '0', '0', '0', '0', '0', '0', '0', '0'], ['11371', '0', '0', '0', '0', '0', '0', '0', '0', '0', '0', '0', '0', '0', '0', '0', '0', '0', '0', '0', '0', '0', '0', '0', '0', '0', '0', '0', '0', '0', '0', '0', '0', '0', '0', '0', '0', '0', '0', '0', '0', '0', '0', '0', '0', '0'], ['11372', '2', '1', '0.5', '1', '0.5', '0', '0', '2', '100', '0', '0', '2', '1', '0', '0', '0', '0', '0', '0', '0', '0', '0', '0', '0', '0', '2', '100', '0', '0', '2', '1', '0', '0', '0', '0', '2', '100', '1', '0.5', '1', '0.5', '0', '0', '2', '100'], ['11373', '3', '3', '1', '0', '0', '0', '0', '3', '100', '0', '0', '0', '0', '0', '0', '0', '0', '3', '1', '0', '0', '0', '0', '0', '0', '3', '100', '0', '0', '3', '1', '0', '0', '0', '0', '3', '100', '1', '0.33', '2', '0.67', '0', '0', '3', '100'], ['11374', '2', '0', '0', '2', '1', '0', '0', '2', '100', '0', '0', '0', '0', '0', '0', '0', '0', '1', '0.5', '1', '0.5', '0', '0', '0', '0', '2', '100', '0', '0', '2', '1', '0', '0', '0', '0', '2', '100', '0', '0', '2', '1', '0', '0', '2', '100'], ['11375', '5', '2', '0.4', '3', '0.6', '0', '0', '5', '100', '0', '0', '2', '0.4', '0', '0', '0', '0', '0', '0', '3', '0.6', '0', '0', '0', '0', '5', '100', '0', '0', '5', '1', '0', '0', '0', '0', '5', '100', '1', '0.2', '4', '0.8', '0', '0', '5', '100'], ['11377', '0', '0', '0', '0', '0', '0', '0', '0', '0', '0', '0', '0', '0', '0', '0', '0', '0', '0', '0', '0', '0', '0', '0', '0', '0', '0', '0', '0', '0', '0', '0', '0', '0', '0', '0', '0', '0', '0', '0', '0', '0', '0', '0', '0', '0'], ['11378', '0', '0', '0', '0', '0', '0', '0', '0', '0', '0', '0', '0', '0', '0', '0', '0', '0', '0', '0', '0', '0', '0', '0', '0', '0', '0', '0', '0', '0', '0', '0', '0', '0', '0', '0', '0', '0', '0', '0', '0', '0', '0', '0', '0', '0'], ['11379', '0', '0', '0', '0', '0', '0', '0', '0', '0', '0', '0', '0', '0', '0', '0', '0', '0', '0', '0', '0', '0', '0', '0', '0', '0', '0', '0', '0', '0', '0', '0', '0', '0', '0', '0', '0', '0', '0', '0', '0', '0', '0', '0', '0', '0'], ['11385', '0', '0', '0', '0', '0', '0', '0', '0', '0', '0', '0', '0', '0', '0', '0', '0', '0', '0', '0', '0', '0', '0', '0', '0', '0', '0', '0', '0', '0', '0', '0', '0', '0', '0', '0', '0', '0', '0', '0', '0', '0', '0', '0', '0', '0'], ['11411', '0', '0', '0', '0', '0', '0', '0', '0', '0', '0', '0', '0', '0', '0', '0', '0', '0', '0', '0', '0', '0', '0', '0', '0', '0', '0', '0', '0', '0', '0', '0', '0', '0', '0', '0', '0', '0', '0', '0', '0', '0', '0', '0', '0', '0'], ['11412', '0', '0', '0', '0', '0', '0', '0', '0', '0', '0', '0', '0', '0', '0', '0', '0', '0', '0', '0', '0', '0', '0', '0', '0', '0', '0', '0', '0', '0', '0', '0', '0', '0', '0', '0', '0', '0', '0', '0', '0', '0', '0', '0', '0', '0'], ['11413', '0', '0', '0', '0', '0', '0', '0', '0', '0', '0', '0', '0', '0', '0', '0', '0', '0', '0', '0', '0', '0', '0', '0', '0', '0', '0', '0', '0', '0', '0', '0', '0', '0', '0', '0', '0', '0', '0', '0', '0', '0', '0', '0', '0', '0'], ['11414', '0', '0', '0', '0', '0', '0', '0', '0', '0', '0', '0', '0', '0', '0', '0', '0', '0', '0', '0', '0', '0', '0', '0', '0', '0', '0', '0', '0', '0', '0', '0', '0', '0', '0', '0', '0', '0', '0', '0', '0', '0', '0', '0', '0', '0'], ['11415', '11', '6', '0.55', '5', '0.45', '0', '0', '11', '100', '0', '0', '0', '0', '0', '0', '0', '0', '11', '1', '0', '0', '0', '0', '0', '0', '11', '100', '1', '0.09', '10', '0.91', '0', '0', '0', '0', '11', '100', '5', '0.45', '6', '0.55', '0', '0', '11', '100'], ['11416', '0', '0', '0', '0', '0', '0', '0', '0', '0', '0', '0', '0', '0', '0', '0', '0', '0', '0', '0', '0', '0', '0', '0', '0', '0', '0', '0', '0', '0', '0', '0', '0', '0', '0', '0', '0', '0', '0', '0', '0', '0', '0', '0', '0', '0'], ['11417', '0', '0', '0', '0', '0', '0', '0', '0', '0', '0', '0', '0', '0', '0', '0', '0', '0', '0', '0', '0', '0', '0', '0', '0', '0', '0', '0', '0', '0', '0', '0', '0', '0', '0', '0', '0', '0', '0', '0', '0', '0', '0', '0', '0', '0'], ['11418', '4', '2', '0.5', '2', '0.5', '0', '0', '4', '100', '0', '0', '1', '0.25', '0', '0', '0', '0', '0', '0', '1', '0.25', '1', '0.25', '1', '0.25', '4', '100', '0', '0', '4', '1', '0', '0', '0', '0', '4', '100', '1', '0.25', '3', '0.75', '0', '0', '4', '100'], ['11419', '1', '0', '0', '1', '1', '0', '0', '1', '100', '0', '0', '0', '0', '0', '0', '0', '0', '0', '0', '1', '1', '0', '0', '0', '0', '1', '100', '0', '0', '1', '1', '0', '0', '0', '0', '1', '100', '0', '0', '1', '1', '0', '0', '1', '100'], ['11420', '2', '1', '0.5', '1', '0.5', '0', '0', '2', '100', '0', '0', '1', '0.5', '0', '0', '0', '0', '0', '0', '0', '0', '1', '0.5', '0', '0', '2', '100', '0', '0', '2', '1', '0', '0', '0', '0', '2', '100', '2', '1', '0', '0', '0', '0', '2', '100'], ['11421', '0', '0', '0', '0', '0', '0', '0', '0', '0', '0', '0', '0', '0', '0', '0', '0', '0', '0', '0', '0', '0', '0', '0', '0', '0', '0', '0', '0', '0', '0', '0', '0', '0', '0', '0', '0', '0', '0', '0', '0', '0', '0', '0', '0', '0'], ['11422', '0', '0', '0', '0', '0', '0', '0', '0', '0', '0', '0', '0', '0', '0', '0', '0', '0', '0', '0', '0', '0', '0', '0', '0', '0', '0', '0', '0', '0', '0', '0', '0', '0', '0', '0', '0', '0', '0', '0', '0', '0', '0', '0', '0', '0'], ['11423', '0', '0', '0', '0', '0', '0', '0', '0', '0', '0', '0', '0', '0', '0', '0', '0', '0', '0', '0', '0', '0', '0', '0', '0', '0', '0', '0', '0', '0', '0', '0', '0', '0', '0', '0', '0', '0', '0', '0', '0', '0', '0', '0', '0', '0'], ['11424', '0', '0', '0', '0', '0', '0', '0', '0', '0', '0', '0', '0', '0', '0', '0', '0', '0', '0', '0', '0', '0', '0', '0', '0', '0', '0', '0', '0', '0', '0', '0', '0', '0', '0', '0', '0', '0', '0', '0', '0', '0', '0', '0', '0', '0'], ['11425', '0', '0', '0', '0', '0', '0', '0', '0', '0', '0', '0', '0', '0', '0', '0', '0', '0', '0', '0', '0', '0', '0', '0', '0', '0', '0', '0', '0', '0', '0', '0', '0', '0', '0', '0', '0', '0', '0', '0', '0', '0', '0', '0', '0', '0'], ['11426', '0', '0', '0', '0', '0', '0', '0', '0', '0', '0', '0', '0', '0', '0', '0', '0', '0', '0', '0', '0', '0', '0', '0', '0', '0', '0', '0', '0', '0', '0', '0', '0', '0', '0', '0', '0', '0', '0', '0', '0', '0', '0', '0', '0', '0'], ['11427', '2', '0', '0', '2', '1', '0', '0', '2', '100', '0', '0', '1', '0.5', '0', '0', '0', '0', '0', '0', '1', '0.5', '0', '0', '0', '0', '2', '100', '1', '0.5', '1', '0.5', '0', '0', '0', '0', '2', '100', '0', '0', '2', '1', '0', '0', '2', '100'], ['11428', '0', '0', '0', '0', '0', '0', '0', '0', '0', '0', '0', '0', '0', '0', '0', '0', '0', '0', '0', '0', '0', '0', '0', '0', '0', '0', '0', '0', '0', '0', '0', '0', '0', '0', '0', '0', '0', '0', '0', '0', '0', '0', '0', '0', '0'], ['11429', '0', '0', '0', '0', '0', '0', '0', '0', '0', '0', '0', '0', '0', '0', '0', '0', '0', '0', '0', '0', '0', '0', '0', '0', '0', '0', '0', '0', '0', '0', '0', '0', '0', '0', '0', '0', '0', '0', '0', '0', '0', '0', '0', '0', '0'], ['11430', '0', '0', '0', '0', '0', '0', '0', '0', '0', '0', '0', '0', '0', '0', '0', '0', '0', '0', '0', '0', '0', '0', '0', '0', '0', '0', '0', '0', '0', '0', '0', '0', '0', '0', '0', '0', '0', '0', '0', '0', '0', '0', '0', '0', '0'], ['11431', '0', '0', '0', '0', '0', '0', '0', '0', '0', '0', '0', '0', '0', '0', '0', '0', '0', '0', '0', '0', '0', '0', '0', '0', '0', '0', '0', '0', '0', '0', '0', '0', '0', '0', '0', '0', '0', '0', '0', '0', '0', '0', '0', '0', '0'], ['11432', '2', '2', '1', '0', '0', '0', '0', '2', '100', '0', '0', '0', '0', '0', '0', '1', '0.5', '0', '0', '1', '0.5', '0', '0', '0', '0', '2', '100', '0', '0', '2', '1', '0', '0', '0', '0', '2', '100', '0', '0', '2', '1', '0', '0', '2', '100'], ['11433', '0', '0', '0', '0', '0', '0', '0', '0', '0', '0', '0', '0', '0', '0', '0', '0', '0', '0', '0', '0', '0', '0', '0', '0', '0', '0', '0', '0', '0', '0', '0', '0', '0', '0', '0', '0', '0', '0', '0', '0', '0', '0', '0', '0', '0'], ['11434', '4', '1', '0.25', '3', '0.75', '0', '0', '4', '100', '0', '0', '0', '0', '0', '0', '0', '0', '0', '0', '4', '1', '0', '0', '0', '0', '4', '100', '1', '0.25', '3', '0.75', '0', '0', '0', '0', '4', '100', '0', '0', '4', '1', '0', '0', '4', '100'], ['11435', '0', '0', '0', '0', '0', '0', '0', '0', '0', '0', '0', '0', '0', '0', '0', '0', '0', '0', '0', '0', '0', '0', '0', '0', '0', '0', '0', '0', '0', '0', '0', '0', '0', '0', '0', '0', '0', '0', '0', '0', '0', '0', '0', '0', '0'], ['11436', '0', '0', '0', '0', '0', '0', '0', '0', '0', '0', '0', '0', '0', '0', '0', '0', '0', '0', '0', '0', '0', '0', '0', '0', '0', '0', '0', '0', '0', '0', '0', '0', '0', '0', '0', '0', '0', '0', '0', '0', '0', '0', '0', '0', '0'], ['11439', '0', '0', '0', '0', '0', '0', '0', '0', '0', '0', '0', '0', '0', '0', '0', '0', '0', '0', '0', '0', '0', '0', '0', '0', '0', '0', '0', '0', '0', '0', '0', '0', '0', '0', '0', '0', '0', '0', '0', '0', '0', '0', '0', '0', '0'], ['11451', '0', '0', '0', '0', '0', '0', '0', '0', '0', '0', '0', '0', '0', '0', '0', '0', '0', '0', '0', '0', '0', '0', '0', '0', '0', '0', '0', '0', '0', '0', '0', '0', '0', '0', '0', '0', '0', '0', '0', '0', '0', '0', '0', '0', '0'], ['11471', '0', '0', '0', '0', '0', '0', '0', '0', '0', '0', '0', '0', '0', '0', '0', '0', '0', '0', '0', '0', '0', '0', '0', '0', '0', '0', '0', '0', '0', '0', '0', '0', '0', '0', '0', '0', '0', '0', '0', '0', '0', '0', '0', '0', '0'], ['11510', '28', '6', '0.21', '22', '0.79', '0', '0', '28', '100', '0', '0', '6', '0.21', '0', '0', '1', '0.04', '18', '0.64', '2', '0.07', '1', '0.04', '0', '0', '28', '100', '1', '0.04', '27', '0.96', '0', '0', '0', '0', '28', '100', '1', '0.04', '27', '0.96', '0', '0', '28', '100'], ['11548', '0', '0', '0', '0', '0', '0', '0', '0', '0', '0', '0', '0', '0', '0', '0', '0', '0', '0', '0', '0', '0', '0', '0', '0', '0', '0', '0', '0', '0', '0', '0', '0', '0', '0', '0', '0', '0', '0', '0', '0', '0', '0', '0', '0', '0'], ['11566', '0', '0', '0', '0', '0', '0', '0', '0', '0', '0', '0', '0', '0', '0', '0', '0', '0', '0', '0', '0', '0', '0', '0', '0', '0', '0', '0', '0', '0', '0', '0', '0', '0', '0', '0', '0', '0', '0', '0', '0', '0', '0', '0', '0', '0'], ['11577', '0', '0', '0', '0', '0', '0', '0', '0', '0', '0', '0', '0', '0', '0', '0', '0', '0', '0', '0', '0', '0', '0', '0', '0', '0', '0', '0', '0', '0', '0', '0', '0', '0', '0', '0', '0', '0', '0', '0', '0', '0', '0', '0', '0', '0'], ['11580', '0', '0', '0', '0', '0', '0', '0', '0', '0', '0', '0', '0', '0', '0', '0', '0', '0', '0', '0', '0', '0', '0', '0', '0', '0', '0', '0', '0', '0', '0', '0', '0', '0', '0', '0', '0', '0', '0', '0', '0', '0', '0', '0', '0', '0'], ['11598', '0', '0', '0', '0', '0', '0', '0', '0', '0', '0', '0', '0', '0', '0', '0', '0', '0', '0', '0', '0', '0', '0', '0', '0', '0', '0', '0', '0', '0', '0', '0', '0', '0', '0', '0', '0', '0', '0', '0', '0', '0', '0', '0', '0', '0'], ['11629', '0', '0', '0', '0', '0', '0', '0', '0', '0', '0', '0', '0', '0', '0', '0', '0', '0', '0', '0', '0', '0', '0', '0', '0', '0', '0', '0', '0', '0', '0', '0', '0', '0', '0', '0', '0', '0', '0', '0', '0', '0', '0', '0', '0', '0'], ['11691', '37', '12', '0.32', '25', '0.68', '0', '0', '37', '100', '0', '0', '0', '0', '0', '0', '0', '0', '37', '1', '0', '0', '0', '0', '0', '0', '37', '100', '0', '0', '37', '1', '0', '0', '0', '0', '37', '100', '3', '0.08', '34', '0.92', '0', '0', '37', '100'], ['11692', '0', '0', '0', '0', '0', '0', '0', '0', '0', '0', '0', '0', '0', '0', '0', '0', '0', '0', '0', '0', '0', '0', '0', '0', '0', '0', '0', '0', '0', '0', '0', '0', '0', '0', '0', '0', '0', '0', '0', '0', '0', '0', '0', '0', '0'], ['11693', '0', '0', '0', '0', '0', '0', '0', '0', '0', '0', '0', '0', '0', '0', '0', '0', '0', '0', '0', '0', '0', '0', '0', '0', '0', '0', '0', '0', '0', '0', '0', '0', '0', '0', '0', '0', '0', '0', '0', '0', '0', '0', '0', '0', '0'], ['11694', '0', '0', '0', '0', '0', '0', '0', '0', '0', '0', '0', '0', '0', '0', '0', '0', '0', '0', '0', '0', '0', '0', '0', '0', '0', '0', '0', '0', '0', '0', '0', '0', '0', '0', '0', '0', '0', '0', '0', '0', '0', '0', '0', '0', '0'], ['11695', '0', '0', '0', '0', '0', '0', '0', '0', '0', '0', '0', '0', '0', '0', '0', '0', '0', '0', '0', '0', '0', '0', '0', '0', '0', '0', '0', '0', '0', '0', '0', '0', '0', '0', '0', '0', '0', '0', '0', '0', '0', '0', '0', '0', '0'], ['11731', '0', '0', '0', '0', '0', '0', '0', '0', '0', '0', '0', '0', '0', '0', '0', '0', '0', '0', '0', '0', '0', '0', '0', '0', '0', '0', '0', '0', '0', '0', '0', '0', '0', '0', '0', '0', '0', '0', '0', '0', '0', '0', '0', '0', '0'], ['11798', '5', '3', '0.6', '2', '0.4', '0', '0', '5', '100', '0', '0', '0', '0', '0', '0', '0', '0', '0', '0', '5', '1', '0', '0', '0', '0', '5', '100', '0', '0', '5', '1', '0', '0', '0', '0', '5', '100', '0', '0', '5', '1', '0', '0', '5', '100'], ['11968', '0', '0', '0', '0', '0', '0', '0', '0', '0', '0', '0', '0', '0', '0', '0', '0', '0', '0', '0', '0', '0', '0', '0', '0', '0', '0', '0', '0', '0', '0', '0', '0', '0', '0', '0', '0', '0', '0', '0', '0', '0', '0', '0', '0', '0'], ['12423', '21', '1', '0.05', '20', '0.95', '0', '0', '21', '100', '0', '0', '0', '0', '0', '0', '0', '0', '19', '0.9', '0', '0', '1', '0.05', '1', '0.05', '21', '100', '0', '0', '21', '1', '0', '0', '0', '0', '21', '100', '5', '0.24', '16', '0.76', '0', '0', '21', '100'], ['12428', '124', '74', '0.6', '50', '0.4', '0', '0', '124', '100', '2', '0.02', '1', '0.01', '0', '0', '0', '0', '117', '0.94', '0', '0', '4', '0.03', '0', '0', '124', '100', '0', '0', '124', '1', '0', '0', '0', '0', '124', '100', '71', '0.57', '53', '0.43', '0', '0', '124', '100'], ['12435', '55', '5', '0.09', '50', '0.91', '0', '0', '55', '100', '0', '0', '0', '0', '0', '0', '0', '0', '50', '0.91', '0', '0', '5', '0.09', '0', '0', '55', '100', '0', '0', '55', '1', '0', '0', '0', '0', '55', '100', '19', '0.35', '36', '0.65', '0', '0', '55', '100'], ['12458', '0', '0', '0', '0', '0', '0', '0', '0', '0', '0', '0', '0', '0', '0', '0', '0', '0', '0', '0', '0', '0', '0', '0', '0', '0', '0', '0', '0', '0', '0', '0', '0', '0', '0', '0', '0', '0', '0', '0', '0', '0', '0', '0', '0', '0'], ['12466', '44', '44', '1', '0', '0', '0', '0', '44', '100', '0', '0', '0', '0', '0', '0', '0', '0', '44', '1', '0', '0', '0', '0', '0', '0', '44', '100', '0', '0', '44', '1', '0', '0', '0', '0', '44', '100', '35', '0.8', '9', '0.2', '0', '0', '44', '100'], ['12473', '0', '0', '0', '0', '0', '0', '0', '0', '0', '0', '0', '0', '0', '0', '0', '0', '0', '0', '0', '0', '0', '0', '0', '0', '0', '0', '0', '0', '0', '0', '0', '0', '0', '0', '0', '0', '0', '0', '0', '0', '0', '0', '0', '0', '0'], ['12528', '52', '2', '0.04', '50', '0.96', '0', '0', '52', '100', '0', '0', '0', '0', '0', '0', '0', '0', '46', '0.88', '0', '0', '6', '0.12', '0', '0', '52', '100', '1', '0.02', '51', '0.98', '0', '0', '0', '0', '52', '100', '21', '0.4', '31', '0.6', '0', '0', '52', '100'], ['12701', '87', '49', '0.56', '38', '0.44', '0', '0', '87', '100', '0', '0', '0', '0', '0', '0', '0', '0', '83', '0.95', '0', '0', '2', '0.02', '2', '0.02', '87', '99', '0', '0', '87', '1', '0', '0', '0', '0', '87', '100', '18', '0.21', '69', '0.79', '0', '0', '87', '100'], ['12733', '13', '6', '0.46', '7', '0.54', '0', '0', '13', '100', '0', '0', '0', '0', '0', '0', '0', '0', '13', '1', '0', '0', '0', '0', '0', '0', '13', '100', '0', '0', '13', '1', '0', '0', '0', '0', '13', '100', '2', '0.15', '11', '0.85', '0', '0', '13', '100'], ['12734', '252', '170', '0.67', '82', '0.33', '0', '0', '252', '100', '0', '0', '0', '0', '0', '0', '0', '0', '243', '0.96', '0', '0', '4', '0.02', '5', '0.02', '252', '100', '0', '0', '252', '1', '0', '0', '0', '0', '252', '100', '61', '0.24', '191', '0.76', '0', '0', '252', '100'], ['12737', '35', '34', '0.97', '1', '0.03', '0', '0', '35', '100', '0', '0', '0', '0', '0', '0', '0', '0', '35', '1', '0', '0', '0', '0', '0', '0', '35', '100', '2', '0.06', '33', '0.94', '0', '0', '0', '0', '35', '100', '20', '0.57', '15', '0.43', '0', '0', '35', '100'], ['12750', '37', '36', '0.97', '1', '0.03', '0', '0', '37', '100', '0', '0', '0', '0', '0', '0', '0', '0', '37', '1', '0', '0', '0', '0', '0', '0', '37', '100', '0', '0', '37', '1', '0', '0', '0', '0', '37', '100', '21', '0.57', '16', '0.43', '0', '0', '37', '100'], ['12751', '7', '2', '0.29', '5', '0.71', '0', '0', '7', '100', '0', '0', '0', '0', '0', '0', '0', '0', '7', '1', '0', '0', '0', '0', '0', '0', '7', '100', '0', '0', '7', '1', '0', '0', '0', '0', '7', '100', '2', '0.29', '5', '0.71', '0', '0', '7', '100'], ['12754', '134', '64', '0.48', '70', '0.52', '0', '0', '134', '100', '2', '0.01', '0', '0', '0', '0', '0', '0', '127', '0.95', '0', '0', '4', '0.03', '1', '0.01', '134', '100', '1', '0.01', '133', '0.99', '0', '0', '0', '0', '134', '100', '27', '0.2', '107', '0.8', '0', '0', '134', '100'], ['12758', '82', '50', '0.61', '32', '0.39', '0', '0', '82', '100', '0', '0', '0', '0', '0', '0', '0', '0', '76', '0.93', '0', '0', '6', '0.07', '0', '0', '82', '100', '0', '0', '82', '1', '0', '0', '0', '0', '82', '100', '24', '0.29', '58', '0.71', '0', '0', '82', '100'], ['12759', '11', '0', '0', '11', '1', '0', '0', '11', '100', '0', '0', '0', '0', '0', '0', '0', '0', '11', '1', '0', '0', '0', '0', '0', '0', '11', '100', '0', '0', '11', '1', '0', '0', '0', '0', '11', '100', '8', '0.73', '3', '0.27', '0', '0', '11', '100'], ['12763', '11', '11', '1', '0', '0', '0', '0', '11', '100', '0', '0', '0', '0', '0', '0', '0', '0', '11', '1', '0', '0', '0', '0', '0', '0', '11', '100', '0', '0', '11', '1', '0', '0', '0', '0', '11', '100', '8', '0.73', '3', '0.27', '0', '0', '11', '100'], ['12764', '64', '61', '0.95', '3', '0.05', '0', '0', '64', '100', '0', '0', '0', '0', '0', '0', '0', '0', '62', '0.97', '0', '0', '2', '0.03', '0', '0', '64', '100', '0', '0', '64', '1', '0', '0', '0', '0', '64', '100', '5', '0.08', '59', '0.92', '0', '0', '64', '100'], ['12768', '63', '1', '0.02', '62', '0.98', '0', '0', '63', '100', '0', '0', '0', '0', '0', '0', '0', '0', '61', '0.97', '0', '0', '1', '0.02', '1', '0.02', '63', '100', '0', '0', '63', '1', '0', '0', '0', '0', '63', '100', '23', '0.37', '40', '0.63', '0', '0', '63', '100'], ['12779', '242', '183', '0.76', '59', '0.24', '0', '0', '242', '100', '0', '0', '0', '0', '0', '0', '0', '0', '239', '0.99', '0', '0', '3', '0.01', '0', '0', '242', '100', '1', '0', '241', '1', '0', '0', '0', '0', '242', '100', '155', '0.64', '87', '0.36', '0', '0', '242', '100'], ['12783', '201', '66', '0.33', '135', '0.67', '0', '0', '201', '100', '0', '0', '0', '0', '2', '0.01', '0', '0', '195', '0.97', '0', '0', '3', '0.01', '1', '0', '201', '99', '4', '0.02', '197', '0.98', '0', '0', '0', '0', '201', '100', '77', '0.38', '124', '0.62', '0', '0', '201', '100'], ['12786', '4', '3', '0.75', '1', '0.25', '0', '0', '4', '100', '0', '0', '0', '0', '0', '0', '0', '0', '4', '1', '0', '0', '0', '0', '0', '0', '4', '100', '0', '0', '4', '1', '0', '0', '0', '0', '4', '100', '1', '0.25', '3', '0.75', '0', '0', '4', '100'], ['12788', '83', '39', '0.47', '44', '0.53', '0', '0', '83', '100', '0', '0', '0', '0', '0', '0', '0', '0', '81', '0.98', '0', '0', '2', '0.02', '0', '0', '83', '100', '0', '0', '83', '1', '0', '0', '0', '0', '83', '100', '35', '0.42', '48', '0.58', '0', '0', '83', '100'], ['12789', '272', '115', '0.42', '157', '0.58', '0', '0', '272', '100', '0', '0', '0', '0', '0', '0', '0', '0', '262', '0.96', '0', '0', '6', '0.02', '4', '0.01', '272', '99', '1', '0', '271', '1', '0', '0', '0', '0', '272', '100', '70', '0.26', '202', '0.74', '0', '0', '272', '100'], ['13731', '17', '2', '0.12', '15', '0.88', '0', '0', '17', '100', '0', '0', '0', '0', '0', '0', '0', '0', '15', '0.88', '0', '0', '2', '0.12', '0', '0', '17', '100', '0', '0', '17', '1', '0', '0', '0', '0', '17', '100', '7', '0.41', '10', '0.59', '0', '0', '17', '100'], ['16091', '0', '0', '0', '0', '0', '0', '0', '0', '0', '0', '0', '0', '0', '0', '0', '0', '0', '0', '0', '0', '0', '0', '0', '0', '0', '0', '0', '0', '0', '0', '0', '0', '0', '0', '0', '0', '0', '0', '0', '0', '0', '0', '0', '0', '0'], ['20459', '0', '0', '0', '0', '0', '0', '0', '0', '0', '0', '0', '0', '0', '0', '0', '0', '0', '0', '0', '0', '0', '0', '0', '0', '0', '0', '0', '0', '0', '0', '0', '0', '0', '0', '0', '0', '0', '0', '0', '0', '0', '0', '0', '0', '0']]\n"
          ],
          "name": "stdout"
        }
      ]
    },
    {
      "cell_type": "code",
      "metadata": {
        "colab": {
          "base_uri": "https://localhost:8080/"
        },
        "id": "TyJfVpjpkEmA",
        "outputId": "f5b7db60-06c2-4f96-c1bb-6fe169eae135"
      },
      "source": [
        "#첫번쨰 레코드에 count particpants 데이터 인덱스 값 추출 data[0] 컬럼 값\n",
        "cntpantsindex = data[0].index('COUNT PARTICIPANTS')\n",
        "cntpantsindex"
      ],
      "execution_count": null,
      "outputs": [
        {
          "output_type": "execute_result",
          "data": {
            "text/plain": [
              "1"
            ]
          },
          "metadata": {
            "tags": []
          },
          "execution_count": 16
        }
      ]
    },
    {
      "cell_type": "code",
      "metadata": {
        "colab": {
          "base_uri": "https://localhost:8080/"
        },
        "id": "idaPYeNApUKs",
        "outputId": "b1ef385b-b157-4e02-d1b4-ef4fe1b030c5"
      },
      "source": [
        "# COUNT PARTICIPANTS 데이터 추출\n",
        "cntpants = [int(row[cntpantsindex]) for row in data[1:]]   # 데이터 형식을 정해줘라 (컴퓨터가 지 맘대로 데이터 형식을 정해버림)\n",
        "\n",
        "cntpants\n"
      ],
      "execution_count": null,
      "outputs": [
        {
          "output_type": "execute_result",
          "data": {
            "text/plain": [
              "[44,\n",
              " 35,\n",
              " 1,\n",
              " 0,\n",
              " 2,\n",
              " 6,\n",
              " 1,\n",
              " 2,\n",
              " 0,\n",
              " 3,\n",
              " 0,\n",
              " 8,\n",
              " 0,\n",
              " 17,\n",
              " 0,\n",
              " 3,\n",
              " 0,\n",
              " 0,\n",
              " 0,\n",
              " 1,\n",
              " 7,\n",
              " 4,\n",
              " 27,\n",
              " 0,\n",
              " 7,\n",
              " 0,\n",
              " 20,\n",
              " 0,\n",
              " 0,\n",
              " 13,\n",
              " 0,\n",
              " 0,\n",
              " 0,\n",
              " 2,\n",
              " 0,\n",
              " 16,\n",
              " 0,\n",
              " 5,\n",
              " 0,\n",
              " 0,\n",
              " 0,\n",
              " 0,\n",
              " 0,\n",
              " 0,\n",
              " 0,\n",
              " 0,\n",
              " 0,\n",
              " 0,\n",
              " 0,\n",
              " 0,\n",
              " 0,\n",
              " 0,\n",
              " 1,\n",
              " 0,\n",
              " 0,\n",
              " 0,\n",
              " 0,\n",
              " 0,\n",
              " 41,\n",
              " 17,\n",
              " 14,\n",
              " 18,\n",
              " 27,\n",
              " 5,\n",
              " 0,\n",
              " 52,\n",
              " 7,\n",
              " 27,\n",
              " 49,\n",
              " 3,\n",
              " 59,\n",
              " 15,\n",
              " 21,\n",
              " 65,\n",
              " 106,\n",
              " 81,\n",
              " 10,\n",
              " 43,\n",
              " 0,\n",
              " 0,\n",
              " 0,\n",
              " 20,\n",
              " 0,\n",
              " 0,\n",
              " 0,\n",
              " 0,\n",
              " 0,\n",
              " 0,\n",
              " 0,\n",
              " 0,\n",
              " 0,\n",
              " 0,\n",
              " 0,\n",
              " 0,\n",
              " 1,\n",
              " 0,\n",
              " 0,\n",
              " 0,\n",
              " 0,\n",
              " 0,\n",
              " 0,\n",
              " 0,\n",
              " 11,\n",
              " 0,\n",
              " 15,\n",
              " 37,\n",
              " 5,\n",
              " 13,\n",
              " 0,\n",
              " 0,\n",
              " 0,\n",
              " 36,\n",
              " 34,\n",
              " 10,\n",
              " 38,\n",
              " 10,\n",
              " 0,\n",
              " 0,\n",
              " 0,\n",
              " 111,\n",
              " 214,\n",
              " 8,\n",
              " 0,\n",
              " 0,\n",
              " 109,\n",
              " 93,\n",
              " 52,\n",
              " 10,\n",
              " 0,\n",
              " 52,\n",
              " 248,\n",
              " 0,\n",
              " 0,\n",
              " 14,\n",
              " 59,\n",
              " 50,\n",
              " 7,\n",
              " 0,\n",
              " 0,\n",
              " 0,\n",
              " 0,\n",
              " 2,\n",
              " 0,\n",
              " 0,\n",
              " 0,\n",
              " 0,\n",
              " 0,\n",
              " 0,\n",
              " 0,\n",
              " 0,\n",
              " 0,\n",
              " 0,\n",
              " 0,\n",
              " 5,\n",
              " 0,\n",
              " 0,\n",
              " 0,\n",
              " 2,\n",
              " 3,\n",
              " 2,\n",
              " 5,\n",
              " 0,\n",
              " 0,\n",
              " 0,\n",
              " 0,\n",
              " 0,\n",
              " 0,\n",
              " 0,\n",
              " 0,\n",
              " 11,\n",
              " 0,\n",
              " 0,\n",
              " 4,\n",
              " 1,\n",
              " 2,\n",
              " 0,\n",
              " 0,\n",
              " 0,\n",
              " 0,\n",
              " 0,\n",
              " 0,\n",
              " 2,\n",
              " 0,\n",
              " 0,\n",
              " 0,\n",
              " 0,\n",
              " 2,\n",
              " 0,\n",
              " 4,\n",
              " 0,\n",
              " 0,\n",
              " 0,\n",
              " 0,\n",
              " 0,\n",
              " 28,\n",
              " 0,\n",
              " 0,\n",
              " 0,\n",
              " 0,\n",
              " 0,\n",
              " 0,\n",
              " 37,\n",
              " 0,\n",
              " 0,\n",
              " 0,\n",
              " 0,\n",
              " 0,\n",
              " 5,\n",
              " 0,\n",
              " 21,\n",
              " 124,\n",
              " 55,\n",
              " 0,\n",
              " 44,\n",
              " 0,\n",
              " 52,\n",
              " 87,\n",
              " 13,\n",
              " 252,\n",
              " 35,\n",
              " 37,\n",
              " 7,\n",
              " 134,\n",
              " 82,\n",
              " 11,\n",
              " 11,\n",
              " 64,\n",
              " 63,\n",
              " 242,\n",
              " 201,\n",
              " 4,\n",
              " 83,\n",
              " 272,\n",
              " 17,\n",
              " 0,\n",
              " 0]"
            ]
          },
          "metadata": {
            "tags": []
          },
          "execution_count": 24
        }
      ]
    },
    {
      "cell_type": "code",
      "metadata": {
        "colab": {
          "base_uri": "https://localhost:8080/"
        },
        "id": "kKUh5vZippGQ",
        "outputId": "44f0f0b4-e15a-44ce-f09b-314685d10dba"
      },
      "source": [
        "## ERROR\n",
        "cntpants = [row for row in data[1:]]  # 조건을 안걸어주면 모든 컬럼 값이 저장됨\n",
        "\n",
        "cntpants = [row[1] for row in data[1:]] # 원하는 컬럼의 인덱스가 변경될 경우 다른 값이 나옴\n",
        "\n",
        "\n",
        "print(cntpants)"
      ],
      "execution_count": null,
      "outputs": [
        {
          "output_type": "stream",
          "text": [
            "['44', '35', '1', '0', '2', '6', '1', '2', '0', '3', '0', '8', '0', '17', '0', '3', '0', '0', '0', '1', '7', '4', '27', '0', '7', '0', '20', '0', '0', '13', '0', '0', '0', '2', '0', '16', '0', '5', '0', '0', '0', '0', '0', '0', '0', '0', '0', '0', '0', '0', '0', '0', '1', '0', '0', '0', '0', '0', '41', '17', '14', '18', '27', '5', '0', '52', '7', '27', '49', '3', '59', '15', '21', '65', '106', '81', '10', '43', '0', '0', '0', '20', '0', '0', '0', '0', '0', '0', '0', '0', '0', '0', '0', '0', '1', '0', '0', '0', '0', '0', '0', '0', '11', '0', '15', '37', '5', '13', '0', '0', '0', '36', '34', '10', '38', '10', '0', '0', '0', '111', '214', '8', '0', '0', '109', '93', '52', '10', '0', '52', '248', '0', '0', '14', '59', '50', '7', '0', '0', '0', '0', '2', '0', '0', '0', '0', '0', '0', '0', '0', '0', '0', '0', '5', '0', '0', '0', '2', '3', '2', '5', '0', '0', '0', '0', '0', '0', '0', '0', '11', '0', '0', '4', '1', '2', '0', '0', '0', '0', '0', '0', '2', '0', '0', '0', '0', '2', '0', '4', '0', '0', '0', '0', '0', '28', '0', '0', '0', '0', '0', '0', '37', '0', '0', '0', '0', '0', '5', '0', '21', '124', '55', '0', '44', '0', '52', '87', '13', '252', '35', '37', '7', '134', '82', '11', '11', '64', '63', '242', '201', '4', '83', '272', '17', '0', '0']\n"
          ],
          "name": "stdout"
        }
      ]
    },
    {
      "cell_type": "markdown",
      "metadata": {
        "id": "zqvhBFDQvWVq"
      },
      "source": [
        "**나이의 평균과 표준편차**"
      ]
    },
    {
      "cell_type": "code",
      "metadata": {
        "colab": {
          "base_uri": "https://localhost:8080/"
        },
        "id": "urr2wPyJp0jl",
        "outputId": "1422dc68-4263-41b7-b361-881af798b62d"
      },
      "source": [
        "\n",
        "import statistics # 계산하는 모듈\n",
        "\n",
        "print(statistics.mean(cntpants), statistics.stdev(cntpants)) # stdev 표준편차 "
      ],
      "execution_count": null,
      "outputs": [
        {
          "output_type": "stream",
          "text": [
            "17.661016949152543 43.27973735299687\n"
          ],
          "name": "stdout"
        }
      ]
    },
    {
      "cell_type": "markdown",
      "metadata": {
        "id": "lBF6PpMes_Oc"
      },
      "source": [
        "**자연어 처리하기**"
      ]
    },
    {
      "cell_type": "code",
      "metadata": {
        "colab": {
          "base_uri": "https://localhost:8080/"
        },
        "id": "7WHKgmE0s-eh",
        "outputId": "a45973e9-39ef-4e29-b7c8-2e5f6be9964a"
      },
      "source": [
        "pip install nltk\n"
      ],
      "execution_count": null,
      "outputs": [
        {
          "output_type": "stream",
          "text": [
            "Requirement already satisfied: nltk in /usr/local/lib/python3.7/dist-packages (3.2.5)\n",
            "Requirement already satisfied: six in /usr/local/lib/python3.7/dist-packages (from nltk) (1.15.0)\n"
          ],
          "name": "stdout"
        }
      ]
    },
    {
      "cell_type": "code",
      "metadata": {
        "colab": {
          "base_uri": "https://localhost:8080/",
          "height": 35
        },
        "id": "8StxHQRgvdYe",
        "outputId": "61d335bf-58d4-4e32-f5d3-6548b3cc7cab"
      },
      "source": [
        "import nltk \n",
        "nltk.__version__"
      ],
      "execution_count": null,
      "outputs": [
        {
          "output_type": "execute_result",
          "data": {
            "application/vnd.google.colaboratory.intrinsic+json": {
              "type": "string"
            },
            "text/plain": [
              "'3.2.5'"
            ]
          },
          "metadata": {
            "tags": []
          },
          "execution_count": 30
        }
      ]
    },
    {
      "cell_type": "markdown",
      "metadata": {
        "id": "Rm77ybUMxBtp"
      },
      "source": [
        "**nltk에서 영단어 온톨로지(wordnet)사용하기**"
      ]
    },
    {
      "cell_type": "code",
      "metadata": {
        "colab": {
          "base_uri": "https://localhost:8080/"
        },
        "id": "za3lqU0Rvoht",
        "outputId": "e1589416-e60b-466c-89a6-57e86b9d330d"
      },
      "source": [
        "#https://frhyme.github.io/python-lib/nltk-wordnet/\n",
        "nltk.download('wordnet')"
      ],
      "execution_count": null,
      "outputs": [
        {
          "output_type": "stream",
          "text": [
            "[nltk_data] Downloading package wordnet to /root/nltk_data...\n",
            "[nltk_data]   Package wordnet is already up-to-date!\n"
          ],
          "name": "stdout"
        },
        {
          "output_type": "execute_result",
          "data": {
            "text/plain": [
              "True"
            ]
          },
          "metadata": {
            "tags": []
          },
          "execution_count": 33
        }
      ]
    },
    {
      "cell_type": "code",
      "metadata": {
        "colab": {
          "base_uri": "https://localhost:8080/"
        },
        "id": "fNmrZfCnxXb2",
        "outputId": "5ed4243f-3880-499a-8f92-300673b9aaa9"
      },
      "source": [
        "wn = nltk.corpus.wordnet #코퍼스 리더(reader)\n",
        "\n",
        "# synset : 유의어 묶음으로 단어 - 품사 - 순번으로 구성 \n",
        "\n",
        "wn.synsets('cat')"
      ],
      "execution_count": null,
      "outputs": [
        {
          "output_type": "execute_result",
          "data": {
            "text/plain": [
              "[Synset('cat.n.01'),\n",
              " Synset('guy.n.01'),\n",
              " Synset('cat.n.03'),\n",
              " Synset('kat.n.01'),\n",
              " Synset('cat-o'-nine-tails.n.01'),\n",
              " Synset('caterpillar.n.02'),\n",
              " Synset('big_cat.n.01'),\n",
              " Synset('computerized_tomography.n.01'),\n",
              " Synset('cat.v.01'),\n",
              " Synset('vomit.v.01')]"
            ]
          },
          "metadata": {
            "tags": []
          },
          "execution_count": 35
        }
      ]
    },
    {
      "cell_type": "code",
      "metadata": {
        "colab": {
          "base_uri": "https://localhost:8080/"
        },
        "id": "XXOHvwHbxuQE",
        "outputId": "74562264-85e1-4e43-98b7-302839ceaacd"
      },
      "source": [
        "wn.synset('cat.n.01').hypernyms() #hypernyms: 상위어\n",
        "wn.synset('cat.n.01').hyponyms() #hyponyms : 하위어"
      ],
      "execution_count": null,
      "outputs": [
        {
          "output_type": "execute_result",
          "data": {
            "text/plain": [
              "[Synset('domestic_cat.n.01'), Synset('wildcat.n.03')]"
            ]
          },
          "metadata": {
            "tags": []
          },
          "execution_count": 37
        }
      ]
    },
    {
      "cell_type": "code",
      "metadata": {
        "colab": {
          "base_uri": "https://localhost:8080/"
        },
        "id": "8X4npyrGyPKT",
        "outputId": "63f01006-0163-4868-efda-97c9bb64c7ee"
      },
      "source": [
        "wn.synset('guy.n.01').hypernyms()\n",
        "wn.synset('guy.n.01').hyponyms()\n"
      ],
      "execution_count": null,
      "outputs": [
        {
          "output_type": "execute_result",
          "data": {
            "text/plain": [
              "[Synset('sod.n.04')]"
            ]
          },
          "metadata": {
            "tags": []
          },
          "execution_count": 39
        }
      ]
    },
    {
      "cell_type": "markdown",
      "metadata": {
        "id": "eOyAV1hey1Fw"
      },
      "source": [
        "**WordNet 사용해서 synset 간 의미론적 유사도 계산하기(0-1사이실수) <br>\n",
        "0이면 두 단어 서로 관계 없음 <br>\n",
        "1 이면 완전한 유의어**"
      ]
    },
    {
      "cell_type": "code",
      "metadata": {
        "colab": {
          "base_uri": "https://localhost:8080/"
        },
        "id": "ZuTFMr_PzF1C",
        "outputId": "ca154ec4-5561-4f0b-c1f9-3c1f66738dde"
      },
      "source": [
        "#고양이, 링스 ; 시라소니 유사도 계산\n",
        "x =wn.synset('cat.n.01') #고양이\n",
        "y =wn.synset('lynx.n.01') # 시라소니\n",
        "\n",
        "# x,y 유사도 계산  \n",
        "x.path_similarity(y)   # 유사도가 거의 없다 \n"
      ],
      "execution_count": null,
      "outputs": [
        {
          "output_type": "execute_result",
          "data": {
            "text/plain": [
              "0.04"
            ]
          },
          "metadata": {
            "tags": []
          },
          "execution_count": 40
        }
      ]
    },
    {
      "cell_type": "code",
      "metadata": {
        "colab": {
          "base_uri": "https://localhost:8080/"
        },
        "id": "HKWcyedQyhk7",
        "outputId": "b7c24168-56dd-4bcf-e490-f9b0ecf9dc66"
      },
      "source": [
        "x =wn.synset('cat.n.01') #고양이\n",
        "y =wn.synset('domestic_cat.n.01') # 집고양이\n",
        "x.path_similarity(y)*100"
      ],
      "execution_count": null,
      "outputs": [
        {
          "output_type": "execute_result",
          "data": {
            "text/plain": [
              "50.0"
            ]
          },
          "metadata": {
            "tags": []
          },
          "execution_count": 47
        }
      ]
    },
    {
      "cell_type": "code",
      "metadata": {
        "colab": {
          "base_uri": "https://localhost:8080/"
        },
        "id": "H94DB0jbz13I",
        "outputId": "5fd85d0c-62e9-449a-8dc7-0b95cc0f0175"
      },
      "source": [
        "x =wn.synset('cat.n.01') #고양이\n",
        "y =wn.synset('cat.n.01') # 고양이 \n",
        "x.path_similarity(y)"
      ],
      "execution_count": null,
      "outputs": [
        {
          "output_type": "execute_result",
          "data": {
            "text/plain": [
              "1.0"
            ]
          },
          "metadata": {
            "tags": []
          },
          "execution_count": 44
        }
      ]
    },
    {
      "cell_type": "code",
      "metadata": {
        "colab": {
          "base_uri": "https://localhost:8080/"
        },
        "id": "t7BCu8AU0DSi",
        "outputId": "a4e82e59-f912-4b51-aa2d-488fbdfb9341"
      },
      "source": [
        "x =wn.synset('cat.n.01')#고양이\n",
        "y =wn.synset('puppy.n.01')\n",
        "x.path_similarity(y)"
      ],
      "execution_count": null,
      "outputs": [
        {
          "output_type": "execute_result",
          "data": {
            "text/plain": [
              "0.16666666666666666"
            ]
          },
          "metadata": {
            "tags": []
          },
          "execution_count": 48
        }
      ]
    },
    {
      "cell_type": "markdown",
      "metadata": {
        "id": "4RX647m53Xan"
      },
      "source": [
        "****"
      ]
    },
    {
      "cell_type": "code",
      "metadata": {
        "colab": {
          "base_uri": "https://localhost:8080/"
        },
        "id": "PylJszBa0ZAX",
        "outputId": "764443a2-d613-4e52-ad2a-0372c7a9ddec"
      },
      "source": [
        "#1. 토큰화 (텍스트 -> 단어로 쪼갠다.)\n",
        "\n",
        "from nltk.tokenize import WordPunctTokenizer\n",
        "word_punct = WordPunctTokenizer()\n",
        "\n",
        "text = \"}Help! :))) :[ ..... :D{\"\n",
        "\n",
        "# Tokenizer는 모든 구두점(punctuation; 문장부호)을 기준으로 분리 -> \n",
        "# -> 이모티콘을 이용한 감성 분석 등 문장구조 깊이 분석 할 때 사용\n",
        "\n",
        "word_punct.tokenize(text)\n"
      ],
      "execution_count": null,
      "outputs": [
        {
          "output_type": "execute_result",
          "data": {
            "text/plain": [
              "['}', 'Help', '!', ':)))', ':[', '.....', ':', 'D', '{']"
            ]
          },
          "metadata": {
            "tags": []
          },
          "execution_count": 53
        }
      ]
    },
    {
      "cell_type": "code",
      "metadata": {
        "colab": {
          "base_uri": "https://localhost:8080/"
        },
        "id": "XEnvIO7O6rN5",
        "outputId": "deb3aae5-4f97-499a-b779-366e314a5ad1"
      },
      "source": [
        "import nltk\n",
        "nltk.download('punkt')"
      ],
      "execution_count": null,
      "outputs": [
        {
          "output_type": "stream",
          "text": [
            "[nltk_data] Downloading package punkt to /root/nltk_data...\n",
            "[nltk_data]   Unzipping tokenizers/punkt.zip.\n"
          ],
          "name": "stdout"
        },
        {
          "output_type": "execute_result",
          "data": {
            "text/plain": [
              "True"
            ]
          },
          "metadata": {
            "tags": []
          },
          "execution_count": 54
        }
      ]
    },
    {
      "cell_type": "code",
      "metadata": {
        "colab": {
          "base_uri": "https://localhost:8080/"
        },
        "id": "rRqd3Vab6Nnf",
        "outputId": "ff9a8595-7720-4fae-b9f2-f5932b0e9f13"
      },
      "source": [
        "\n",
        "# 단어 토크나이저\n",
        "\n",
        "nltk.word_tokenize(text)\n",
        "\n",
        "\n"
      ],
      "execution_count": null,
      "outputs": [
        {
          "output_type": "execute_result",
          "data": {
            "text/plain": [
              "['}', 'Help', '!', ':', ')', ')', ')', ':', '[', '...', '..', ':', 'D', '{']"
            ]
          },
          "metadata": {
            "tags": []
          },
          "execution_count": 56
        }
      ]
    },
    {
      "cell_type": "code",
      "metadata": {
        "colab": {
          "base_uri": "https://localhost:8080/",
          "height": 35
        },
        "id": "PAvXTPIQ6-h5",
        "outputId": "0e898544-56d1-47f9-da92-a2efae6c499c"
      },
      "source": [
        "#2.단어의 대소문자를 통일한다(전부 다 대문자or 소문자)\n",
        "#3.불용어 제거 (stopwords 리스트 참조 THE 같은 것들 제거)\n",
        "#4.형태소 분석(stemming) 단어를 형태소로 변환\n",
        "\n",
        "# 포터 형태소 분석기(보수적)\n",
        "\n",
        "pstemmer = nltk.PorterStemmer()\n",
        "pstemmer.stem(\"wonderful\")"
      ],
      "execution_count": null,
      "outputs": [
        {
          "output_type": "execute_result",
          "data": {
            "application/vnd.google.colaboratory.intrinsic+json": {
              "type": "string"
            },
            "text/plain": [
              "'wonder'"
            ]
          },
          "metadata": {
            "tags": []
          },
          "execution_count": 58
        }
      ]
    },
    {
      "cell_type": "code",
      "metadata": {
        "colab": {
          "base_uri": "https://localhost:8080/",
          "height": 35
        },
        "id": "MxbcvULX7eDk",
        "outputId": "d2388742-a09b-4b59-a9af-e0fbe6f05f68"
      },
      "source": [
        "#랭커스터 형태소 분석기 (적극적) - 더 많은 동음이의어 형태소 생산\n",
        "\n",
        "lstemmer = nltk.LancasterStemmer()\n",
        "lstemmer.stem(\"wonderful\")"
      ],
      "execution_count": null,
      "outputs": [
        {
          "output_type": "execute_result",
          "data": {
            "application/vnd.google.colaboratory.intrinsic+json": {
              "type": "string"
            },
            "text/plain": [
              "'wond'"
            ]
          },
          "metadata": {
            "tags": []
          },
          "execution_count": 60
        }
      ]
    },
    {
      "cell_type": "code",
      "metadata": {
        "colab": {
          "base_uri": "https://localhost:8080/",
          "height": 35
        },
        "id": "Ar4Q1qV175Vp",
        "outputId": "30d566ed-0377-47d3-e7dd-4c4c3c3aea34"
      },
      "source": [
        "#5. 원형 추출\n",
        "\n",
        "lemmatizer = nltk.WordNetLemmatizer()\n",
        "lemmatizer.lemmatize(\"wonderful\")"
      ],
      "execution_count": null,
      "outputs": [
        {
          "output_type": "execute_result",
          "data": {
            "application/vnd.google.colaboratory.intrinsic+json": {
              "type": "string"
            },
            "text/plain": [
              "'wonderful'"
            ]
          },
          "metadata": {
            "tags": []
          },
          "execution_count": 62
        }
      ]
    },
    {
      "cell_type": "code",
      "metadata": {
        "colab": {
          "base_uri": "https://localhost:8080/"
        },
        "id": "d6JUmkDV8I1q",
        "outputId": "0eef1312-b0b8-4644-9ee4-d7864856c692"
      },
      "source": [
        "#그외 품사 태킹\n",
        "nltk.download('averaged_perceptron_tagger')\n",
        "\n",
        "nltk.pos_tag([\"beautiful\", \"world\"]) # JJ\tadjective(형용사), NN\tnoun(명사)\n",
        "\n",
        "# https://happygrammer.github.io/nlp/postag-set/ 참조 # 품사 태그셋 소개\n"
      ],
      "execution_count": null,
      "outputs": [
        {
          "output_type": "stream",
          "text": [
            "[nltk_data] Downloading package averaged_perceptron_tagger to\n",
            "[nltk_data]     /root/nltk_data...\n",
            "[nltk_data]   Package averaged_perceptron_tagger is already up-to-\n",
            "[nltk_data]       date!\n"
          ],
          "name": "stdout"
        },
        {
          "output_type": "execute_result",
          "data": {
            "text/plain": [
              "[('beautiful', 'JJ'), ('world', 'NN')]"
            ]
          },
          "metadata": {
            "tags": []
          },
          "execution_count": 64
        }
      ]
    },
    {
      "cell_type": "markdown",
      "metadata": {
        "id": "cy4Afbr383DN"
      },
      "source": [
        "**index.html 파일에서(불용어 제외) 가장 많이 등장한 단어 원형 찾아보기**"
      ]
    },
    {
      "cell_type": "code",
      "metadata": {
        "colab": {
          "base_uri": "https://localhost:8080/",
          "height": 213
        },
        "id": "iUR2uT008Z57",
        "outputId": "345efd0b-f43f-452b-c43c-66ae89dd9309"
      },
      "source": [
        "# www.networksciencelab.com 사이트에서 하이퍼 링크 정보 모두 가져오기\n",
        "\n",
        "from bs4 import BeautifulSoup #bs4모듈에서 뷰티풀 수프 가져오겠다\n",
        "\n",
        "from urllib.request import urlopen\n",
        "\n",
        "with urlopen(\"http://www.networksciencelab.com/\") as doc:\n",
        "  soup = BeautifulSoup(doc) \n",
        "\n",
        "#하이퍼 링크 추출\n",
        "links = [(link.string,link[\"href\"]) for link in soup.find_all(\"a\") if link.has_attr(\"href\")] \n",
        "               \n",
        "# 책 제목만 추출\n",
        "html_text =[i[0]for i in links]            #리스트형태                                                                                \n",
        "\n",
        "#none 데이터 제거  - 하나의 텍스트 \n",
        "html_text = \" \".join(html_text[2:]) # 조인을 사용하여 리스트에서 텍스트 형태로 \n",
        "html_text"
      ],
      "execution_count": null,
      "outputs": [
        {
          "output_type": "execute_result",
          "data": {
            "application/vnd.google.colaboratory.intrinsic+json": {
              "type": "string"
            },
            "text/plain": [
              "'DZPYDS DZCNAPY Networks of Music Groups as Success Predictors Network Science Workshop Resilience in Transaction-Oriented Networks Peer Ratings in Massive Online Social Networks Semantic Networks of Interests in Online NSSI Communities Towards an Ideal Store D.Zinoviev, \"Analyzing Cultural Domains with Python,\" D. Zinoviev, D. Stefanescu, G. Fireman, and L. Swenson, \"Semantic networks of interests in online non-suicidal self-injury communities,\" D.Zinoviev, \"The Pain of Complexity,\" D.Zinoviev, Z.Zhu, and K.Li, \"Building mini-categories in product networks,\" D.Zinoviev, H.Benbrahim, G.Meszoely, and D.Stefanescu, \"Mitigation of delayed management costs in transaction-oriented systems,\" D.Zinoviev, H.Benbrahim, G.Meszoely, and D.Stefanescu, \"Simulating resilience in transaction-oriented networks,\" D.Zinoviev, D.Stefanescu, L.Swenson, and G.Fireman, \"Semantic networks of interests in online NSSI communities,\" D.Zinoviev and S.Llewelyn, \"Co-Evolution of Friendship and Publishing in Online Blogging Social Networks,\" D.Zinoviev, \"Information diffusion in social networks,\" D.Zinoviev and V.Duong, \"A game theoretical approach to broadcast  information diffusion in social networks,\" D.Zinoviev and V.Duong, \"A game theoretical approach to modeling full-duplex information dissemination,\" D.Zinoviev, V.Duong, and H.Zhang, \"A game theoretical approach to modeling information dissemination in social networks,\" D.Zinoviev and V.Duong, \"Toward Understanding Friendship in Online Social Networks,\" D.Zinoviev, \"Topology and Geometry of Online Social Networks,\" Vixi: The Game of Meaning Evgenia Cherkasova All Characters from War and Peace by L.Tolstoy Mapping the Bible: Social Networks in the Holy Book FIFA World Cup 2014: Who Beat Whom? The seed post \"9 American habits I lost when I moved to Germany\" and its 125 \"likes\" and \"shares\" on Facebook Email Suffolk University Google Scholar LinkedIn Academia.edu ResearchGate'"
            ]
          },
          "metadata": {
            "tags": []
          },
          "execution_count": 74
        }
      ]
    },
    {
      "cell_type": "code",
      "metadata": {
        "colab": {
          "base_uri": "https://localhost:8080/"
        },
        "id": "Wi_fO0KB_7HH",
        "outputId": "ddcc0003-d9d6-4f9b-a17c-6e546ba7e4cb"
      },
      "source": [
        "#리스트형태\n",
        "html_text =[i[0]for i in links]\n",
        "html_text\n"
      ],
      "execution_count": null,
      "outputs": [
        {
          "output_type": "execute_result",
          "data": {
            "text/plain": [
              "[None,\n",
              " None,\n",
              " 'DZPYDS',\n",
              " 'DZCNAPY',\n",
              " 'Networks of Music Groups as Success Predictors',\n",
              " 'Network Science Workshop',\n",
              " 'Resilience in Transaction-Oriented Networks',\n",
              " 'Peer Ratings in Massive Online Social Networks',\n",
              " 'Semantic Networks of Interests in Online NSSI Communities',\n",
              " 'Towards an Ideal Store',\n",
              " 'D.Zinoviev, \"Analyzing Cultural Domains with Python,\"',\n",
              " 'D. Zinoviev, D. Stefanescu, G. Fireman, and L. Swenson, \"Semantic networks of interests in online non-suicidal self-injury communities,\"',\n",
              " 'D.Zinoviev, \"The Pain of Complexity,\"',\n",
              " 'D.Zinoviev, Z.Zhu, and K.Li, \"Building mini-categories in product networks,\"',\n",
              " 'D.Zinoviev, H.Benbrahim, G.Meszoely, and D.Stefanescu, \"Mitigation of delayed management costs in transaction-oriented systems,\"',\n",
              " 'D.Zinoviev, H.Benbrahim, G.Meszoely, and D.Stefanescu, \"Simulating resilience in transaction-oriented networks,\"',\n",
              " 'D.Zinoviev, D.Stefanescu, L.Swenson, and G.Fireman, \"Semantic networks of interests in online NSSI communities,\"',\n",
              " 'D.Zinoviev and S.Llewelyn, \"Co-Evolution of Friendship and Publishing in Online Blogging Social Networks,\"',\n",
              " 'D.Zinoviev, \"Information diffusion in social networks,\"',\n",
              " 'D.Zinoviev and V.Duong, \"A game theoretical approach to broadcast  information diffusion in social networks,\"',\n",
              " 'D.Zinoviev and V.Duong, \"A game theoretical approach to modeling full-duplex information dissemination,\"',\n",
              " 'D.Zinoviev, V.Duong, and H.Zhang, \"A game theoretical approach to modeling information dissemination in social networks,\"',\n",
              " 'D.Zinoviev and V.Duong, \"Toward Understanding Friendship in Online Social Networks,\"',\n",
              " 'D.Zinoviev, \"Topology and Geometry of Online Social Networks,\"',\n",
              " 'Vixi: The Game of Meaning',\n",
              " 'Evgenia Cherkasova',\n",
              " 'All Characters from War and Peace by L.Tolstoy',\n",
              " 'Mapping the Bible: Social Networks in the Holy Book',\n",
              " 'FIFA World Cup 2014: Who Beat Whom?',\n",
              " 'The seed post \"9 American habits I lost when I moved to Germany\" and its 125 \"likes\" and \"shares\" on Facebook',\n",
              " 'Email',\n",
              " 'Suffolk University',\n",
              " 'Google Scholar',\n",
              " 'LinkedIn',\n",
              " 'Academia.edu',\n",
              " 'ResearchGate']"
            ]
          },
          "metadata": {
            "tags": []
          },
          "execution_count": 79
        }
      ]
    },
    {
      "cell_type": "code",
      "metadata": {
        "colab": {
          "base_uri": "https://localhost:8080/",
          "height": 213
        },
        "id": "AEVGOnSaAqvV",
        "outputId": "88db908a-2288-4372-e36e-5851b2614d28"
      },
      "source": [
        "#텍스트 형태 \n",
        "html_text = \" \".join(html_text[2:]) \n",
        "html_text"
      ],
      "execution_count": null,
      "outputs": [
        {
          "output_type": "execute_result",
          "data": {
            "application/vnd.google.colaboratory.intrinsic+json": {
              "type": "string"
            },
            "text/plain": [
              "'DZPYDS DZCNAPY Networks of Music Groups as Success Predictors Network Science Workshop Resilience in Transaction-Oriented Networks Peer Ratings in Massive Online Social Networks Semantic Networks of Interests in Online NSSI Communities Towards an Ideal Store D.Zinoviev, \"Analyzing Cultural Domains with Python,\" D. Zinoviev, D. Stefanescu, G. Fireman, and L. Swenson, \"Semantic networks of interests in online non-suicidal self-injury communities,\" D.Zinoviev, \"The Pain of Complexity,\" D.Zinoviev, Z.Zhu, and K.Li, \"Building mini-categories in product networks,\" D.Zinoviev, H.Benbrahim, G.Meszoely, and D.Stefanescu, \"Mitigation of delayed management costs in transaction-oriented systems,\" D.Zinoviev, H.Benbrahim, G.Meszoely, and D.Stefanescu, \"Simulating resilience in transaction-oriented networks,\" D.Zinoviev, D.Stefanescu, L.Swenson, and G.Fireman, \"Semantic networks of interests in online NSSI communities,\" D.Zinoviev and S.Llewelyn, \"Co-Evolution of Friendship and Publishing in Online Blogging Social Networks,\" D.Zinoviev, \"Information diffusion in social networks,\" D.Zinoviev and V.Duong, \"A game theoretical approach to broadcast  information diffusion in social networks,\" D.Zinoviev and V.Duong, \"A game theoretical approach to modeling full-duplex information dissemination,\" D.Zinoviev, V.Duong, and H.Zhang, \"A game theoretical approach to modeling information dissemination in social networks,\" D.Zinoviev and V.Duong, \"Toward Understanding Friendship in Online Social Networks,\" D.Zinoviev, \"Topology and Geometry of Online Social Networks,\" Vixi: The Game of Meaning Evgenia Cherkasova All Characters from War and Peace by L.Tolstoy Mapping the Bible: Social Networks in the Holy Book FIFA World Cup 2014: Who Beat Whom? The seed post \"9 American habits I lost when I moved to Germany\" and its 125 \"likes\" and \"shares\" on Facebook Email Suffolk University Google Scholar LinkedIn Academia.edu ResearchGate'"
            ]
          },
          "metadata": {
            "tags": []
          },
          "execution_count": 80
        }
      ]
    },
    {
      "cell_type": "code",
      "metadata": {
        "id": "P2sVOaoc-YUO"
      },
      "source": [
        "\n",
        "# index.html 파일로 저장\n",
        "html_file = open(\"index.html\",'w')  #open(index.htm,'형식')\n",
        "html_file.write(html_text)        \n",
        "html_file.close()"
      ],
      "execution_count": null,
      "outputs": []
    },
    {
      "cell_type": "markdown",
      "metadata": {
        "id": "ZPN0KO-_Wn5Y"
      },
      "source": [
        "**index.html 파일에서 (불용어 제외) 가장 많이\n",
        "등장한 단어 원형 찾아보기**"
      ]
    },
    {
      "cell_type": "code",
      "metadata": {
        "id": "ubvw0sL_WJt6"
      },
      "source": [
        "from bs4 import BeautifulSoup\n",
        "from collections import Counter\n",
        "from nltk.corpus import stopwords\n",
        "from nltk import LancasterStemmer\n",
        "\n",
        "# 형태소 분류기를 생성한다.\n",
        "ls =nltk.LancasterStemmer()\n",
        "\n",
        "#파일을 읽고 soup을 만든다.\n",
        "with open(\"/content/index.html\") as infile:\n",
        "  soup = BeautifulSoup(infile) # html 파일이기 때문에 BeautifulSoup 사용\n",
        "  \n"
      ],
      "execution_count": null,
      "outputs": []
    },
    {
      "cell_type": "code",
      "metadata": {
        "colab": {
          "base_uri": "https://localhost:8080/"
        },
        "id": "D5LwzcxpYZrm",
        "outputId": "80d91192-3fe3-4cc2-eb3d-fe376c384cf4"
      },
      "source": [
        "soup # html이 출력된다."
      ],
      "execution_count": null,
      "outputs": [
        {
          "output_type": "execute_result",
          "data": {
            "text/plain": [
              "<html><body><p>DZPYDS DZCNAPY Networks of Music Groups as Success Predictors Network Science Workshop Resilience in Transaction-Oriented Networks Peer Ratings in Massive Online Social Networks Semantic Networks of Interests in Online NSSI Communities Towards an Ideal Store D.Zinoviev, \"Analyzing Cultural Domains with Python,\" D. Zinoviev, D. Stefanescu, G. Fireman, and L. Swenson, \"Semantic networks of interests in online non-suicidal self-injury communities,\" D.Zinoviev, \"The Pain of Complexity,\" D.Zinoviev, Z.Zhu, and K.Li, \"Building mini-categories in product networks,\" D.Zinoviev, H.Benbrahim, G.Meszoely, and D.Stefanescu, \"Mitigation of delayed management costs in transaction-oriented systems,\" D.Zinoviev, H.Benbrahim, G.Meszoely, and D.Stefanescu, \"Simulating resilience in transaction-oriented networks,\" D.Zinoviev, D.Stefanescu, L.Swenson, and G.Fireman, \"Semantic networks of interests in online NSSI communities,\" D.Zinoviev and S.Llewelyn, \"Co-Evolution of Friendship and Publishing in Online Blogging Social Networks,\" D.Zinoviev, \"Information diffusion in social networks,\" D.Zinoviev and V.Duong, \"A game theoretical approach to broadcast  information diffusion in social networks,\" D.Zinoviev and V.Duong, \"A game theoretical approach to modeling full-duplex information dissemination,\" D.Zinoviev, V.Duong, and H.Zhang, \"A game theoretical approach to modeling information dissemination in social networks,\" D.Zinoviev and V.Duong, \"Toward Understanding Friendship in Online Social Networks,\" D.Zinoviev, \"Topology and Geometry of Online Social Networks,\" Vixi: The Game of Meaning Evgenia Cherkasova All Characters from War and Peace by L.Tolstoy Mapping the Bible: Social Networks in the Holy Book FIFA World Cup 2014: Who Beat Whom? The seed post \"9 American habits I lost when I moved to Germany\" and its 125 \"likes\" and \"shares\" on Facebook Email Suffolk University Google Scholar LinkedIn Academia.edu ResearchGate</p></body></html>"
            ]
          },
          "metadata": {
            "tags": []
          },
          "execution_count": 84
        }
      ]
    },
    {
      "cell_type": "code",
      "metadata": {
        "colab": {
          "base_uri": "https://localhost:8080/",
          "height": 213
        },
        "id": "pA35uVgrYgcF",
        "outputId": "6dd25b22-af7d-471d-b11b-ec2389062d8f"
      },
      "source": [
        "soup.text# 퓨티풀 수프로 파일을 가져와서 텍스트 형식으로 변환"
      ],
      "execution_count": null,
      "outputs": [
        {
          "output_type": "execute_result",
          "data": {
            "application/vnd.google.colaboratory.intrinsic+json": {
              "type": "string"
            },
            "text/plain": [
              "'DZPYDS DZCNAPY Networks of Music Groups as Success Predictors Network Science Workshop Resilience in Transaction-Oriented Networks Peer Ratings in Massive Online Social Networks Semantic Networks of Interests in Online NSSI Communities Towards an Ideal Store D.Zinoviev, \"Analyzing Cultural Domains with Python,\" D. Zinoviev, D. Stefanescu, G. Fireman, and L. Swenson, \"Semantic networks of interests in online non-suicidal self-injury communities,\" D.Zinoviev, \"The Pain of Complexity,\" D.Zinoviev, Z.Zhu, and K.Li, \"Building mini-categories in product networks,\" D.Zinoviev, H.Benbrahim, G.Meszoely, and D.Stefanescu, \"Mitigation of delayed management costs in transaction-oriented systems,\" D.Zinoviev, H.Benbrahim, G.Meszoely, and D.Stefanescu, \"Simulating resilience in transaction-oriented networks,\" D.Zinoviev, D.Stefanescu, L.Swenson, and G.Fireman, \"Semantic networks of interests in online NSSI communities,\" D.Zinoviev and S.Llewelyn, \"Co-Evolution of Friendship and Publishing in Online Blogging Social Networks,\" D.Zinoviev, \"Information diffusion in social networks,\" D.Zinoviev and V.Duong, \"A game theoretical approach to broadcast  information diffusion in social networks,\" D.Zinoviev and V.Duong, \"A game theoretical approach to modeling full-duplex information dissemination,\" D.Zinoviev, V.Duong, and H.Zhang, \"A game theoretical approach to modeling information dissemination in social networks,\" D.Zinoviev and V.Duong, \"Toward Understanding Friendship in Online Social Networks,\" D.Zinoviev, \"Topology and Geometry of Online Social Networks,\" Vixi: The Game of Meaning Evgenia Cherkasova All Characters from War and Peace by L.Tolstoy Mapping the Bible: Social Networks in the Holy Book FIFA World Cup 2014: Who Beat Whom? The seed post \"9 American habits I lost when I moved to Germany\" and its 125 \"likes\" and \"shares\" on Facebook Email Suffolk University Google Scholar LinkedIn Academia.edu ResearchGate'"
            ]
          },
          "metadata": {
            "tags": []
          },
          "execution_count": 87
        }
      ]
    },
    {
      "cell_type": "code",
      "metadata": {
        "colab": {
          "base_uri": "https://localhost:8080/"
        },
        "id": "RVyxCfdpYqYN",
        "outputId": "0518b516-ff69-48b8-eccd-8db120384f7c"
      },
      "source": [
        "#1.텍스트 추출 => 토큰화\n",
        "words = nltk.word_tokenize(soup.text)\n",
        "words"
      ],
      "execution_count": null,
      "outputs": [
        {
          "output_type": "execute_result",
          "data": {
            "text/plain": [
              "['DZPYDS',\n",
              " 'DZCNAPY',\n",
              " 'Networks',\n",
              " 'of',\n",
              " 'Music',\n",
              " 'Groups',\n",
              " 'as',\n",
              " 'Success',\n",
              " 'Predictors',\n",
              " 'Network',\n",
              " 'Science',\n",
              " 'Workshop',\n",
              " 'Resilience',\n",
              " 'in',\n",
              " 'Transaction-Oriented',\n",
              " 'Networks',\n",
              " 'Peer',\n",
              " 'Ratings',\n",
              " 'in',\n",
              " 'Massive',\n",
              " 'Online',\n",
              " 'Social',\n",
              " 'Networks',\n",
              " 'Semantic',\n",
              " 'Networks',\n",
              " 'of',\n",
              " 'Interests',\n",
              " 'in',\n",
              " 'Online',\n",
              " 'NSSI',\n",
              " 'Communities',\n",
              " 'Towards',\n",
              " 'an',\n",
              " 'Ideal',\n",
              " 'Store',\n",
              " 'D.Zinoviev',\n",
              " ',',\n",
              " '``',\n",
              " 'Analyzing',\n",
              " 'Cultural',\n",
              " 'Domains',\n",
              " 'with',\n",
              " 'Python',\n",
              " ',',\n",
              " \"''\",\n",
              " 'D.',\n",
              " 'Zinoviev',\n",
              " ',',\n",
              " 'D.',\n",
              " 'Stefanescu',\n",
              " ',',\n",
              " 'G.',\n",
              " 'Fireman',\n",
              " ',',\n",
              " 'and',\n",
              " 'L.',\n",
              " 'Swenson',\n",
              " ',',\n",
              " '``',\n",
              " 'Semantic',\n",
              " 'networks',\n",
              " 'of',\n",
              " 'interests',\n",
              " 'in',\n",
              " 'online',\n",
              " 'non-suicidal',\n",
              " 'self-injury',\n",
              " 'communities',\n",
              " ',',\n",
              " \"''\",\n",
              " 'D.Zinoviev',\n",
              " ',',\n",
              " '``',\n",
              " 'The',\n",
              " 'Pain',\n",
              " 'of',\n",
              " 'Complexity',\n",
              " ',',\n",
              " \"''\",\n",
              " 'D.Zinoviev',\n",
              " ',',\n",
              " 'Z.Zhu',\n",
              " ',',\n",
              " 'and',\n",
              " 'K.Li',\n",
              " ',',\n",
              " '``',\n",
              " 'Building',\n",
              " 'mini-categories',\n",
              " 'in',\n",
              " 'product',\n",
              " 'networks',\n",
              " ',',\n",
              " \"''\",\n",
              " 'D.Zinoviev',\n",
              " ',',\n",
              " 'H.Benbrahim',\n",
              " ',',\n",
              " 'G.Meszoely',\n",
              " ',',\n",
              " 'and',\n",
              " 'D.Stefanescu',\n",
              " ',',\n",
              " '``',\n",
              " 'Mitigation',\n",
              " 'of',\n",
              " 'delayed',\n",
              " 'management',\n",
              " 'costs',\n",
              " 'in',\n",
              " 'transaction-oriented',\n",
              " 'systems',\n",
              " ',',\n",
              " \"''\",\n",
              " 'D.Zinoviev',\n",
              " ',',\n",
              " 'H.Benbrahim',\n",
              " ',',\n",
              " 'G.Meszoely',\n",
              " ',',\n",
              " 'and',\n",
              " 'D.Stefanescu',\n",
              " ',',\n",
              " '``',\n",
              " 'Simulating',\n",
              " 'resilience',\n",
              " 'in',\n",
              " 'transaction-oriented',\n",
              " 'networks',\n",
              " ',',\n",
              " \"''\",\n",
              " 'D.Zinoviev',\n",
              " ',',\n",
              " 'D.Stefanescu',\n",
              " ',',\n",
              " 'L.Swenson',\n",
              " ',',\n",
              " 'and',\n",
              " 'G.Fireman',\n",
              " ',',\n",
              " '``',\n",
              " 'Semantic',\n",
              " 'networks',\n",
              " 'of',\n",
              " 'interests',\n",
              " 'in',\n",
              " 'online',\n",
              " 'NSSI',\n",
              " 'communities',\n",
              " ',',\n",
              " \"''\",\n",
              " 'D.Zinoviev',\n",
              " 'and',\n",
              " 'S.Llewelyn',\n",
              " ',',\n",
              " '``',\n",
              " 'Co-Evolution',\n",
              " 'of',\n",
              " 'Friendship',\n",
              " 'and',\n",
              " 'Publishing',\n",
              " 'in',\n",
              " 'Online',\n",
              " 'Blogging',\n",
              " 'Social',\n",
              " 'Networks',\n",
              " ',',\n",
              " \"''\",\n",
              " 'D.Zinoviev',\n",
              " ',',\n",
              " '``',\n",
              " 'Information',\n",
              " 'diffusion',\n",
              " 'in',\n",
              " 'social',\n",
              " 'networks',\n",
              " ',',\n",
              " \"''\",\n",
              " 'D.Zinoviev',\n",
              " 'and',\n",
              " 'V.Duong',\n",
              " ',',\n",
              " '``',\n",
              " 'A',\n",
              " 'game',\n",
              " 'theoretical',\n",
              " 'approach',\n",
              " 'to',\n",
              " 'broadcast',\n",
              " 'information',\n",
              " 'diffusion',\n",
              " 'in',\n",
              " 'social',\n",
              " 'networks',\n",
              " ',',\n",
              " \"''\",\n",
              " 'D.Zinoviev',\n",
              " 'and',\n",
              " 'V.Duong',\n",
              " ',',\n",
              " '``',\n",
              " 'A',\n",
              " 'game',\n",
              " 'theoretical',\n",
              " 'approach',\n",
              " 'to',\n",
              " 'modeling',\n",
              " 'full-duplex',\n",
              " 'information',\n",
              " 'dissemination',\n",
              " ',',\n",
              " \"''\",\n",
              " 'D.Zinoviev',\n",
              " ',',\n",
              " 'V.Duong',\n",
              " ',',\n",
              " 'and',\n",
              " 'H.Zhang',\n",
              " ',',\n",
              " '``',\n",
              " 'A',\n",
              " 'game',\n",
              " 'theoretical',\n",
              " 'approach',\n",
              " 'to',\n",
              " 'modeling',\n",
              " 'information',\n",
              " 'dissemination',\n",
              " 'in',\n",
              " 'social',\n",
              " 'networks',\n",
              " ',',\n",
              " \"''\",\n",
              " 'D.Zinoviev',\n",
              " 'and',\n",
              " 'V.Duong',\n",
              " ',',\n",
              " '``',\n",
              " 'Toward',\n",
              " 'Understanding',\n",
              " 'Friendship',\n",
              " 'in',\n",
              " 'Online',\n",
              " 'Social',\n",
              " 'Networks',\n",
              " ',',\n",
              " \"''\",\n",
              " 'D.Zinoviev',\n",
              " ',',\n",
              " '``',\n",
              " 'Topology',\n",
              " 'and',\n",
              " 'Geometry',\n",
              " 'of',\n",
              " 'Online',\n",
              " 'Social',\n",
              " 'Networks',\n",
              " ',',\n",
              " \"''\",\n",
              " 'Vixi',\n",
              " ':',\n",
              " 'The',\n",
              " 'Game',\n",
              " 'of',\n",
              " 'Meaning',\n",
              " 'Evgenia',\n",
              " 'Cherkasova',\n",
              " 'All',\n",
              " 'Characters',\n",
              " 'from',\n",
              " 'War',\n",
              " 'and',\n",
              " 'Peace',\n",
              " 'by',\n",
              " 'L.Tolstoy',\n",
              " 'Mapping',\n",
              " 'the',\n",
              " 'Bible',\n",
              " ':',\n",
              " 'Social',\n",
              " 'Networks',\n",
              " 'in',\n",
              " 'the',\n",
              " 'Holy',\n",
              " 'Book',\n",
              " 'FIFA',\n",
              " 'World',\n",
              " 'Cup',\n",
              " '2014',\n",
              " ':',\n",
              " 'Who',\n",
              " 'Beat',\n",
              " 'Whom',\n",
              " '?',\n",
              " 'The',\n",
              " 'seed',\n",
              " 'post',\n",
              " '``',\n",
              " '9',\n",
              " 'American',\n",
              " 'habits',\n",
              " 'I',\n",
              " 'lost',\n",
              " 'when',\n",
              " 'I',\n",
              " 'moved',\n",
              " 'to',\n",
              " 'Germany',\n",
              " \"''\",\n",
              " 'and',\n",
              " 'its',\n",
              " '125',\n",
              " '``',\n",
              " 'likes',\n",
              " \"''\",\n",
              " 'and',\n",
              " '``',\n",
              " 'shares',\n",
              " \"''\",\n",
              " 'on',\n",
              " 'Facebook',\n",
              " 'Email',\n",
              " 'Suffolk',\n",
              " 'University',\n",
              " 'Google',\n",
              " 'Scholar',\n",
              " 'LinkedIn',\n",
              " 'Academia.edu',\n",
              " 'ResearchGate']"
            ]
          },
          "metadata": {
            "tags": []
          },
          "execution_count": 93
        }
      ]
    },
    {
      "cell_type": "code",
      "metadata": {
        "colab": {
          "base_uri": "https://localhost:8080/"
        },
        "id": "rrrVYHfSaWn_",
        "outputId": "c95d439e-d919-4336-c06e-b80f24f13835"
      },
      "source": [
        "#2)단어를 소문자로 변환\n",
        "words = [w.lower() for w in words]\n",
        "words"
      ],
      "execution_count": null,
      "outputs": [
        {
          "output_type": "execute_result",
          "data": {
            "text/plain": [
              "['dzpyds',\n",
              " 'dzcnapy',\n",
              " 'network',\n",
              " 'mus',\n",
              " 'group',\n",
              " 'success',\n",
              " 'predict',\n",
              " 'network',\n",
              " 'sci',\n",
              " 'workshop',\n",
              " 'resy',\n",
              " 'network',\n",
              " 'peer',\n",
              " 'rat',\n",
              " 'mass',\n",
              " 'onlin',\n",
              " 'soc',\n",
              " 'network',\n",
              " 'sem',\n",
              " 'network',\n",
              " 'interest',\n",
              " 'onlin',\n",
              " 'nssi',\n",
              " 'commun',\n",
              " 'toward',\n",
              " 'id',\n",
              " 'stor',\n",
              " 'analys',\n",
              " 'cult',\n",
              " 'domain',\n",
              " 'python',\n",
              " 'zinoviev',\n",
              " 'stefanescu',\n",
              " 'firem',\n",
              " 'swenson',\n",
              " 'sem',\n",
              " 'network',\n",
              " 'interest',\n",
              " 'onlin',\n",
              " 'commun',\n",
              " 'pain',\n",
              " 'complex',\n",
              " 'build',\n",
              " 'produc',\n",
              " 'network',\n",
              " 'mitig',\n",
              " 'delay',\n",
              " 'man',\n",
              " 'cost',\n",
              " 'system',\n",
              " 'sim',\n",
              " 'resy',\n",
              " 'network',\n",
              " 'sem',\n",
              " 'network',\n",
              " 'interest',\n",
              " 'onlin',\n",
              " 'nssi',\n",
              " 'commun',\n",
              " 'friend',\n",
              " 'publ',\n",
              " 'onlin',\n",
              " 'blog',\n",
              " 'soc',\n",
              " 'network',\n",
              " 'inform',\n",
              " 'diffus',\n",
              " 'soc',\n",
              " 'network',\n",
              " 'gam',\n",
              " 'theoret',\n",
              " 'approach',\n",
              " 'broadcast',\n",
              " 'inform',\n",
              " 'diffus',\n",
              " 'soc',\n",
              " 'network',\n",
              " 'gam',\n",
              " 'theoret',\n",
              " 'approach',\n",
              " 'model',\n",
              " 'inform',\n",
              " 'dissemin',\n",
              " 'gam',\n",
              " 'theoret',\n",
              " 'approach',\n",
              " 'model',\n",
              " 'inform',\n",
              " 'dissemin',\n",
              " 'soc',\n",
              " 'network',\n",
              " 'toward',\n",
              " 'understand',\n",
              " 'friend',\n",
              " 'onlin',\n",
              " 'soc',\n",
              " 'network',\n",
              " 'topolog',\n",
              " 'geometry',\n",
              " 'onlin',\n",
              " 'soc',\n",
              " 'network',\n",
              " 'vix',\n",
              " 'gam',\n",
              " 'mean',\n",
              " 'evgen',\n",
              " 'cherkasov',\n",
              " 'charact',\n",
              " 'war',\n",
              " 'peac',\n",
              " 'map',\n",
              " 'bibl',\n",
              " 'soc',\n",
              " 'network',\n",
              " 'holy',\n",
              " 'book',\n",
              " 'fif',\n",
              " 'world',\n",
              " 'cup',\n",
              " '2014',\n",
              " 'beat',\n",
              " 'see',\n",
              " 'post',\n",
              " '9',\n",
              " 'am',\n",
              " 'habit',\n",
              " 'lost',\n",
              " 'mov',\n",
              " 'germany',\n",
              " '125',\n",
              " 'lik',\n",
              " 'shar',\n",
              " 'facebook',\n",
              " 'email',\n",
              " 'suffolk',\n",
              " 'univers',\n",
              " 'googl',\n",
              " 'scholar',\n",
              " 'linkedin',\n",
              " 'researchg']"
            ]
          },
          "metadata": {
            "tags": []
          },
          "execution_count": 97
        }
      ]
    },
    {
      "cell_type": "code",
      "metadata": {
        "colab": {
          "base_uri": "https://localhost:8080/"
        },
        "id": "lYMMv1sKdaYh",
        "outputId": "405ca709-1257-4d03-a08f-bd11b527d051"
      },
      "source": [
        "import nltk\n",
        "nltk.download('stopwords')"
      ],
      "execution_count": null,
      "outputs": [
        {
          "output_type": "stream",
          "text": [
            "[nltk_data] Downloading package stopwords to /root/nltk_data...\n",
            "[nltk_data]   Package stopwords is already up-to-date!\n"
          ],
          "name": "stdout"
        },
        {
          "output_type": "execute_result",
          "data": {
            "text/plain": [
              "True"
            ]
          },
          "metadata": {
            "tags": []
          },
          "execution_count": 98
        }
      ]
    },
    {
      "cell_type": "code",
      "metadata": {
        "colab": {
          "base_uri": "https://localhost:8080/"
        },
        "id": "cPmUV8WgbH_T",
        "outputId": "45310f7d-9488-4e5d-d196-35656d5658a3"
      },
      "source": [
        "#3) 불용어를 제거 하고 단어의 형태소를 추출 \n",
        "#3-1) 불영어 제거 stopwords.words(\"english\")\n",
        "#3-2) 특수기호 제거 isalnum()\n",
        "#isalnum():  문자열이 알파벳과 숫자로만 구성되어있는지 확인하는 파이썬 문자열 메소드\n",
        "words = [ls.stem(w)for w in words if  w not in stopwords.words(\"english\") and w.isalnum()] \n",
        "\n",
        "words\n"
      ],
      "execution_count": null,
      "outputs": [
        {
          "output_type": "execute_result",
          "data": {
            "text/plain": [
              "['dzpyds',\n",
              " 'dzcnapy',\n",
              " 'network',\n",
              " 'mus',\n",
              " 'group',\n",
              " 'success',\n",
              " 'predict',\n",
              " 'network',\n",
              " 'sci',\n",
              " 'workshop',\n",
              " 'resy',\n",
              " 'network',\n",
              " 'peer',\n",
              " 'rat',\n",
              " 'mass',\n",
              " 'onlin',\n",
              " 'soc',\n",
              " 'network',\n",
              " 'sem',\n",
              " 'network',\n",
              " 'interest',\n",
              " 'onlin',\n",
              " 'nssi',\n",
              " 'commun',\n",
              " 'toward',\n",
              " 'id',\n",
              " 'stor',\n",
              " 'ana',\n",
              " 'cult',\n",
              " 'domain',\n",
              " 'python',\n",
              " 'zinoviev',\n",
              " 'stefanescu',\n",
              " 'firem',\n",
              " 'swenson',\n",
              " 'sem',\n",
              " 'network',\n",
              " 'interest',\n",
              " 'onlin',\n",
              " 'commun',\n",
              " 'pain',\n",
              " 'complex',\n",
              " 'build',\n",
              " 'produc',\n",
              " 'network',\n",
              " 'mitig',\n",
              " 'delay',\n",
              " 'man',\n",
              " 'cost',\n",
              " 'system',\n",
              " 'sim',\n",
              " 'resy',\n",
              " 'network',\n",
              " 'sem',\n",
              " 'network',\n",
              " 'interest',\n",
              " 'onlin',\n",
              " 'nssi',\n",
              " 'commun',\n",
              " 'friend',\n",
              " 'publ',\n",
              " 'onlin',\n",
              " 'blog',\n",
              " 'soc',\n",
              " 'network',\n",
              " 'inform',\n",
              " 'diff',\n",
              " 'soc',\n",
              " 'network',\n",
              " 'gam',\n",
              " 'theoret',\n",
              " 'approach',\n",
              " 'broadcast',\n",
              " 'inform',\n",
              " 'diff',\n",
              " 'soc',\n",
              " 'network',\n",
              " 'gam',\n",
              " 'theoret',\n",
              " 'approach',\n",
              " 'model',\n",
              " 'inform',\n",
              " 'dissemin',\n",
              " 'gam',\n",
              " 'theoret',\n",
              " 'approach',\n",
              " 'model',\n",
              " 'inform',\n",
              " 'dissemin',\n",
              " 'soc',\n",
              " 'network',\n",
              " 'toward',\n",
              " 'understand',\n",
              " 'friend',\n",
              " 'onlin',\n",
              " 'soc',\n",
              " 'network',\n",
              " 'topolog',\n",
              " 'geometry',\n",
              " 'onlin',\n",
              " 'soc',\n",
              " 'network',\n",
              " 'vix',\n",
              " 'gam',\n",
              " 'mean',\n",
              " 'evg',\n",
              " 'cherkasov',\n",
              " 'charact',\n",
              " 'war',\n",
              " 'peac',\n",
              " 'map',\n",
              " 'bibl',\n",
              " 'soc',\n",
              " 'network',\n",
              " 'holy',\n",
              " 'book',\n",
              " 'fif',\n",
              " 'world',\n",
              " 'cup',\n",
              " '2014',\n",
              " 'beat',\n",
              " 'see',\n",
              " 'post',\n",
              " '9',\n",
              " 'habit',\n",
              " 'lost',\n",
              " 'mov',\n",
              " 'germany',\n",
              " '125',\n",
              " 'lik',\n",
              " 'shar',\n",
              " 'facebook',\n",
              " 'email',\n",
              " 'suffolk',\n",
              " 'un',\n",
              " 'googl',\n",
              " 'scholar',\n",
              " 'linkedin',\n",
              " 'researchg']"
            ]
          },
          "metadata": {
            "tags": []
          },
          "execution_count": 99
        }
      ]
    },
    {
      "cell_type": "code",
      "metadata": {
        "colab": {
          "base_uri": "https://localhost:8080/"
        },
        "id": "VyWJi6Godb8p",
        "outputId": "397e238b-d361-4ce4-ae7f-0e3abe9146c2"
      },
      "source": [
        "#가장 빈번하게 등장하는 단어 10개 추출\n",
        "\n",
        "freqs = Counter(words)\n",
        "print(freqs.most_common(5))"
      ],
      "execution_count": null,
      "outputs": [
        {
          "output_type": "stream",
          "text": [
            "[('network', 16), ('soc', 8), ('onlin', 7), ('inform', 4), ('gam', 4)]\n"
          ],
          "name": "stdout"
        }
      ]
    },
    {
      "cell_type": "code",
      "metadata": {
        "id": "DEcfHWRqd-A5"
      },
      "source": [
        ""
      ],
      "execution_count": null,
      "outputs": []
    }
  ]
}