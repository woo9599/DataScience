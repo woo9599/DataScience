{
  "nbformat": 4,
  "nbformat_minor": 0,
  "metadata": {
    "colab": {
      "name": "머신러닝프로젝트.ipynb",
      "provenance": [],
      "collapsed_sections": []
    },
    "kernelspec": {
      "name": "python3",
      "display_name": "Python 3"
    },
    "language_info": {
      "name": "python"
    }
  },
  "cells": [
    {
      "cell_type": "code",
      "metadata": {
        "id": "4Hr5vfEoFAHd"
      },
      "source": [
        "# Libraries for reading and handling the data\n",
        "import numpy as np\n",
        "import pandas as pd\n",
        "import re\n",
        "\n",
        "# Libraries for data visualization\n",
        "import matplotlib.pyplot as plt\n",
        "import seaborn \n",
        "\n",
        "# Libraries for data preprocessing\n",
        "from sklearn.model_selection import train_test_split\n",
        "from sklearn.preprocessing import StandardScaler, OrdinalEncoder, OneHotEncoder\n",
        "from sklearn.compose import ColumnTransformer\n",
        "from sklearn.base import BaseEstimator, TransformerMixin\n",
        "\n",
        "# Libraries for creating ML model\n",
        "from sklearn.linear_model import LogisticRegression\n",
        "from sklearn.tree import DecisionTreeClassifier\n",
        "from sklearn.ensemble import RandomForestClassifier\n",
        "from sklearn.ensemble import GradientBoostingClassifier\n",
        "\n",
        "# Library for Analysing the ML model\n",
        "from sklearn import metrics"
      ],
      "execution_count": null,
      "outputs": []
    },
    {
      "cell_type": "code",
      "metadata": {
        "colab": {
          "base_uri": "https://localhost:8080/"
        },
        "id": "E4bVnEl0FyWf",
        "outputId": "ad0eb60c-8e97-4655-b7a0-0be887d785e8"
      },
      "source": [
        "import matplotlib as mpl\n",
        "import matplotlib.pyplot as plt\n",
        " \n",
        "%config InlineBackend.figure_format = 'retina'\n",
        " \n",
        "!apt -qq -y install fonts-nanum\n",
        " \n",
        "import matplotlib.font_manager as fm\n",
        "\n",
        "fontpath = '/usr/share/fonts/truetype/nanum/NanumBarunGothic.ttf'\n",
        "font = fm.FontProperties(fname=fontpath, size=9)\n",
        "plt.rc('font', family='NanumBarunGothic') \n",
        "mpl.font_manager._rebuild()\n"
      ],
      "execution_count": null,
      "outputs": [
        {
          "output_type": "stream",
          "text": [
            "fonts-nanum is already the newest version (20170925-1).\n",
            "0 upgraded, 0 newly installed, 0 to remove and 39 not upgraded.\n"
          ],
          "name": "stdout"
        }
      ]
    },
    {
      "cell_type": "markdown",
      "metadata": {
        "id": "-htxb4NTLH4l"
      },
      "source": [
        "1.데이터 불러오기 (다중분류) "
      ]
    },
    {
      "cell_type": "code",
      "metadata": {
        "colab": {
          "base_uri": "https://localhost:8080/"
        },
        "id": "RBan6e8KGGSX",
        "outputId": "679adecd-5afb-4f2d-e438-33675134710a"
      },
      "source": [
        "df = pd.read_csv('/content/호읍기완성본.csv') # 파일을 불러오고 \n",
        "df.info()"
      ],
      "execution_count": null,
      "outputs": [
        {
          "output_type": "stream",
          "text": [
            "<class 'pandas.core.frame.DataFrame'>\n",
            "RangeIndex: 38537 entries, 0 to 38536\n",
            "Data columns (total 6 columns):\n",
            " #   Column     Non-Null Count  Dtype  \n",
            "---  ------     --------------  -----  \n",
            " 0   Symptoms   37841 non-null  object \n",
            " 1   Age        38195 non-null  float64\n",
            " 2   Sex        37615 non-null  object \n",
            " 3   Disease    38197 non-null  object \n",
            " 4   Treatment  35696 non-null  object \n",
            " 5   Nature     36347 non-null  object \n",
            "dtypes: float64(1), object(5)\n",
            "memory usage: 1.8+ MB\n"
          ],
          "name": "stdout"
        }
      ]
    },
    {
      "cell_type": "code",
      "metadata": {
        "colab": {
          "base_uri": "https://localhost:8080/"
        },
        "id": "F0gmM3NqYZxj",
        "outputId": "07ceb573-486b-49b2-c533-5fba37bc9d40"
      },
      "source": [
        "df.drop(['Nature'], axis = 1,inplace= True)\n",
        "df.info()"
      ],
      "execution_count": null,
      "outputs": [
        {
          "output_type": "stream",
          "text": [
            "<class 'pandas.core.frame.DataFrame'>\n",
            "RangeIndex: 38537 entries, 0 to 38536\n",
            "Data columns (total 5 columns):\n",
            " #   Column     Non-Null Count  Dtype  \n",
            "---  ------     --------------  -----  \n",
            " 0   Symptoms   37841 non-null  object \n",
            " 1   Age        38195 non-null  float64\n",
            " 2   Sex        37615 non-null  object \n",
            " 3   Disease    38197 non-null  object \n",
            " 4   Treatment  35696 non-null  object \n",
            "dtypes: float64(1), object(4)\n",
            "memory usage: 1.5+ MB\n"
          ],
          "name": "stdout"
        }
      ]
    },
    {
      "cell_type": "markdown",
      "metadata": {
        "id": "AF890v1pLKL8"
      },
      "source": [
        "2. 전처리과정\n",
        "2-1 각 컬럼에 데이터 값 널 제거 "
      ]
    },
    {
      "cell_type": "code",
      "metadata": {
        "id": "LnKTc7koGmKt",
        "colab": {
          "base_uri": "https://localhost:8080/",
          "height": 202
        },
        "outputId": "811a6001-1fb3-4ac9-f5e6-84728e3981fe"
      },
      "source": [
        "df.dropna(subset=['Symptoms','Age','Sex','Disease','Treatment'], axis =0, inplace=True) #각 컬럼에 데이터값 널 값을제거  Index: 34409 값이랑 각 컬럼이 같으면 좋은 데이터 \n",
        "df.head()"
      ],
      "execution_count": null,
      "outputs": [
        {
          "output_type": "execute_result",
          "data": {
            "text/html": [
              "<div>\n",
              "<style scoped>\n",
              "    .dataframe tbody tr th:only-of-type {\n",
              "        vertical-align: middle;\n",
              "    }\n",
              "\n",
              "    .dataframe tbody tr th {\n",
              "        vertical-align: top;\n",
              "    }\n",
              "\n",
              "    .dataframe thead th {\n",
              "        text-align: right;\n",
              "    }\n",
              "</style>\n",
              "<table border=\"1\" class=\"dataframe\">\n",
              "  <thead>\n",
              "    <tr style=\"text-align: right;\">\n",
              "      <th></th>\n",
              "      <th>Symptoms</th>\n",
              "      <th>Age</th>\n",
              "      <th>Sex</th>\n",
              "      <th>Disease</th>\n",
              "      <th>Treatment</th>\n",
              "    </tr>\n",
              "  </thead>\n",
              "  <tbody>\n",
              "    <tr>\n",
              "      <th>0</th>\n",
              "      <td>coughing</td>\n",
              "      <td>5.0</td>\n",
              "      <td>female</td>\n",
              "      <td>Asthma</td>\n",
              "      <td>Omalizumab</td>\n",
              "    </tr>\n",
              "    <tr>\n",
              "      <th>1</th>\n",
              "      <td>tight feeling in the chest</td>\n",
              "      <td>4.0</td>\n",
              "      <td>female</td>\n",
              "      <td>Asthma</td>\n",
              "      <td>Mepolizumab</td>\n",
              "    </tr>\n",
              "    <tr>\n",
              "      <th>2</th>\n",
              "      <td>wheezing</td>\n",
              "      <td>6.0</td>\n",
              "      <td>male</td>\n",
              "      <td>Asthma</td>\n",
              "      <td>Mepolizumab</td>\n",
              "    </tr>\n",
              "    <tr>\n",
              "      <th>3</th>\n",
              "      <td>shortness of breath</td>\n",
              "      <td>7.0</td>\n",
              "      <td>male</td>\n",
              "      <td>Asthma</td>\n",
              "      <td>Mepolizumab</td>\n",
              "    </tr>\n",
              "    <tr>\n",
              "      <th>4</th>\n",
              "      <td>shortness of breath</td>\n",
              "      <td>9.0</td>\n",
              "      <td>male</td>\n",
              "      <td>Asthma</td>\n",
              "      <td>Mepolizumab</td>\n",
              "    </tr>\n",
              "  </tbody>\n",
              "</table>\n",
              "</div>"
            ],
            "text/plain": [
              "                     Symptoms  Age     Sex Disease    Treatment\n",
              "0                    coughing  5.0  female  Asthma   Omalizumab\n",
              "1  tight feeling in the chest  4.0  female  Asthma  Mepolizumab\n",
              "2                    wheezing  6.0    male  Asthma  Mepolizumab\n",
              "3         shortness of breath  7.0    male  Asthma  Mepolizumab\n",
              "4         shortness of breath  9.0    male  Asthma  Mepolizumab"
            ]
          },
          "metadata": {
            "tags": []
          },
          "execution_count": 8
        }
      ]
    },
    {
      "cell_type": "code",
      "metadata": {
        "colab": {
          "base_uri": "https://localhost:8080/"
        },
        "id": "1niHjTJfIouh",
        "outputId": "5c6e2d7a-1931-4775-e44e-5692b49ebe4d"
      },
      "source": [
        "df.info() # 정보 확인"
      ],
      "execution_count": null,
      "outputs": [
        {
          "output_type": "stream",
          "text": [
            "<class 'pandas.core.frame.DataFrame'>\n",
            "Int64Index: 34409 entries, 0 to 38536\n",
            "Data columns (total 5 columns):\n",
            " #   Column     Non-Null Count  Dtype  \n",
            "---  ------     --------------  -----  \n",
            " 0   Symptoms   34409 non-null  object \n",
            " 1   Age        34409 non-null  float64\n",
            " 2   Sex        34409 non-null  object \n",
            " 3   Disease    34409 non-null  object \n",
            " 4   Treatment  34409 non-null  object \n",
            "dtypes: float64(1), object(4)\n",
            "memory usage: 1.6+ MB\n"
          ],
          "name": "stdout"
        }
      ]
    },
    {
      "cell_type": "markdown",
      "metadata": {
        "id": "r3UWBuOzLPxE"
      },
      "source": [
        "2-2 not say 삭제 "
      ]
    },
    {
      "cell_type": "code",
      "metadata": {
        "id": "Onf1ulySNTbJ",
        "colab": {
          "base_uri": "https://localhost:8080/",
          "height": 202
        },
        "outputId": "8aae2b87-059c-42dc-b849-958fbfe2b151"
      },
      "source": [
        "df['Sex'].replace('not to say',np.nan, inplace =True) # 자기 성별을 말안하겠다 가 존재 그것을 널 값으로 만들어줌 \n",
        "df.head()"
      ],
      "execution_count": null,
      "outputs": [
        {
          "output_type": "execute_result",
          "data": {
            "text/html": [
              "<div>\n",
              "<style scoped>\n",
              "    .dataframe tbody tr th:only-of-type {\n",
              "        vertical-align: middle;\n",
              "    }\n",
              "\n",
              "    .dataframe tbody tr th {\n",
              "        vertical-align: top;\n",
              "    }\n",
              "\n",
              "    .dataframe thead th {\n",
              "        text-align: right;\n",
              "    }\n",
              "</style>\n",
              "<table border=\"1\" class=\"dataframe\">\n",
              "  <thead>\n",
              "    <tr style=\"text-align: right;\">\n",
              "      <th></th>\n",
              "      <th>Symptoms</th>\n",
              "      <th>Age</th>\n",
              "      <th>Sex</th>\n",
              "      <th>Disease</th>\n",
              "      <th>Treatment</th>\n",
              "    </tr>\n",
              "  </thead>\n",
              "  <tbody>\n",
              "    <tr>\n",
              "      <th>0</th>\n",
              "      <td>coughing</td>\n",
              "      <td>5.0</td>\n",
              "      <td>female</td>\n",
              "      <td>Asthma</td>\n",
              "      <td>Omalizumab</td>\n",
              "    </tr>\n",
              "    <tr>\n",
              "      <th>1</th>\n",
              "      <td>tight feeling in the chest</td>\n",
              "      <td>4.0</td>\n",
              "      <td>female</td>\n",
              "      <td>Asthma</td>\n",
              "      <td>Mepolizumab</td>\n",
              "    </tr>\n",
              "    <tr>\n",
              "      <th>2</th>\n",
              "      <td>wheezing</td>\n",
              "      <td>6.0</td>\n",
              "      <td>male</td>\n",
              "      <td>Asthma</td>\n",
              "      <td>Mepolizumab</td>\n",
              "    </tr>\n",
              "    <tr>\n",
              "      <th>3</th>\n",
              "      <td>shortness of breath</td>\n",
              "      <td>7.0</td>\n",
              "      <td>male</td>\n",
              "      <td>Asthma</td>\n",
              "      <td>Mepolizumab</td>\n",
              "    </tr>\n",
              "    <tr>\n",
              "      <th>4</th>\n",
              "      <td>shortness of breath</td>\n",
              "      <td>9.0</td>\n",
              "      <td>male</td>\n",
              "      <td>Asthma</td>\n",
              "      <td>Mepolizumab</td>\n",
              "    </tr>\n",
              "  </tbody>\n",
              "</table>\n",
              "</div>"
            ],
            "text/plain": [
              "                     Symptoms  Age     Sex Disease    Treatment\n",
              "0                    coughing  5.0  female  Asthma   Omalizumab\n",
              "1  tight feeling in the chest  4.0  female  Asthma  Mepolizumab\n",
              "2                    wheezing  6.0    male  Asthma  Mepolizumab\n",
              "3         shortness of breath  7.0    male  Asthma  Mepolizumab\n",
              "4         shortness of breath  9.0    male  Asthma  Mepolizumab"
            ]
          },
          "metadata": {
            "tags": []
          },
          "execution_count": 10
        }
      ]
    },
    {
      "cell_type": "code",
      "metadata": {
        "id": "dNvRuQYkN7XC",
        "colab": {
          "base_uri": "https://localhost:8080/"
        },
        "outputId": "b32ede33-b6bf-4075-9801-7e3e7b49bed4"
      },
      "source": [
        "df.dropna(subset=['Sex'], axis =0, inplace=True) # 널 값을 지워주면 not to say 행이 지워짐\n",
        "df.info()"
      ],
      "execution_count": null,
      "outputs": [
        {
          "output_type": "stream",
          "text": [
            "<class 'pandas.core.frame.DataFrame'>\n",
            "Int64Index: 33749 entries, 0 to 38536\n",
            "Data columns (total 5 columns):\n",
            " #   Column     Non-Null Count  Dtype  \n",
            "---  ------     --------------  -----  \n",
            " 0   Symptoms   33749 non-null  object \n",
            " 1   Age        33749 non-null  float64\n",
            " 2   Sex        33749 non-null  object \n",
            " 3   Disease    33749 non-null  object \n",
            " 4   Treatment  33749 non-null  object \n",
            "dtypes: float64(1), object(4)\n",
            "memory usage: 1.5+ MB\n"
          ],
          "name": "stdout"
        }
      ]
    },
    {
      "cell_type": "markdown",
      "metadata": {
        "id": "CXG2fETOLVC8"
      },
      "source": [
        "3. 성별을 원 핫 코드 형식으로 바꿔줌 "
      ]
    },
    {
      "cell_type": "code",
      "metadata": {
        "id": "g6dUjmrZMZtq",
        "colab": {
          "base_uri": "https://localhost:8080/",
          "height": 415
        },
        "outputId": "8b192440-2ffb-4e9f-88a5-40541220fcc4"
      },
      "source": [
        "onehot_sex = pd.get_dummies(df[['Sex']]) #dummies 코드를 사용하여 성별을 원핫 코드 형식으로 바꿔줌\n",
        "onehot_sex"
      ],
      "execution_count": null,
      "outputs": [
        {
          "output_type": "execute_result",
          "data": {
            "text/html": [
              "<div>\n",
              "<style scoped>\n",
              "    .dataframe tbody tr th:only-of-type {\n",
              "        vertical-align: middle;\n",
              "    }\n",
              "\n",
              "    .dataframe tbody tr th {\n",
              "        vertical-align: top;\n",
              "    }\n",
              "\n",
              "    .dataframe thead th {\n",
              "        text-align: right;\n",
              "    }\n",
              "</style>\n",
              "<table border=\"1\" class=\"dataframe\">\n",
              "  <thead>\n",
              "    <tr style=\"text-align: right;\">\n",
              "      <th></th>\n",
              "      <th>Sex_female</th>\n",
              "      <th>Sex_male</th>\n",
              "    </tr>\n",
              "  </thead>\n",
              "  <tbody>\n",
              "    <tr>\n",
              "      <th>0</th>\n",
              "      <td>1</td>\n",
              "      <td>0</td>\n",
              "    </tr>\n",
              "    <tr>\n",
              "      <th>1</th>\n",
              "      <td>1</td>\n",
              "      <td>0</td>\n",
              "    </tr>\n",
              "    <tr>\n",
              "      <th>2</th>\n",
              "      <td>0</td>\n",
              "      <td>1</td>\n",
              "    </tr>\n",
              "    <tr>\n",
              "      <th>3</th>\n",
              "      <td>0</td>\n",
              "      <td>1</td>\n",
              "    </tr>\n",
              "    <tr>\n",
              "      <th>4</th>\n",
              "      <td>0</td>\n",
              "      <td>1</td>\n",
              "    </tr>\n",
              "    <tr>\n",
              "      <th>...</th>\n",
              "      <td>...</td>\n",
              "      <td>...</td>\n",
              "    </tr>\n",
              "    <tr>\n",
              "      <th>38532</th>\n",
              "      <td>1</td>\n",
              "      <td>0</td>\n",
              "    </tr>\n",
              "    <tr>\n",
              "      <th>38533</th>\n",
              "      <td>1</td>\n",
              "      <td>0</td>\n",
              "    </tr>\n",
              "    <tr>\n",
              "      <th>38534</th>\n",
              "      <td>1</td>\n",
              "      <td>0</td>\n",
              "    </tr>\n",
              "    <tr>\n",
              "      <th>38535</th>\n",
              "      <td>1</td>\n",
              "      <td>0</td>\n",
              "    </tr>\n",
              "    <tr>\n",
              "      <th>38536</th>\n",
              "      <td>1</td>\n",
              "      <td>0</td>\n",
              "    </tr>\n",
              "  </tbody>\n",
              "</table>\n",
              "<p>33749 rows × 2 columns</p>\n",
              "</div>"
            ],
            "text/plain": [
              "       Sex_female  Sex_male\n",
              "0               1         0\n",
              "1               1         0\n",
              "2               0         1\n",
              "3               0         1\n",
              "4               0         1\n",
              "...           ...       ...\n",
              "38532           1         0\n",
              "38533           1         0\n",
              "38534           1         0\n",
              "38535           1         0\n",
              "38536           1         0\n",
              "\n",
              "[33749 rows x 2 columns]"
            ]
          },
          "metadata": {
            "tags": []
          },
          "execution_count": 38
        }
      ]
    },
    {
      "cell_type": "code",
      "metadata": {
        "id": "HTtLiuPXMqBQ",
        "colab": {
          "base_uri": "https://localhost:8080/",
          "height": 202
        },
        "outputId": "6569c86d-c025-4b57-e3b9-ca490fe50552"
      },
      "source": [
        "df = pd.concat([df, onehot_sex], axis = 1) #concat 데이터 프레임을 추가 해준다. 원핫 코드을 사용하여 Sex_female\tSex_male두개의 컬럼을 추가 하고 female 1,0 male 0,1\n",
        "df.head()"
      ],
      "execution_count": null,
      "outputs": [
        {
          "output_type": "execute_result",
          "data": {
            "text/html": [
              "<div>\n",
              "<style scoped>\n",
              "    .dataframe tbody tr th:only-of-type {\n",
              "        vertical-align: middle;\n",
              "    }\n",
              "\n",
              "    .dataframe tbody tr th {\n",
              "        vertical-align: top;\n",
              "    }\n",
              "\n",
              "    .dataframe thead th {\n",
              "        text-align: right;\n",
              "    }\n",
              "</style>\n",
              "<table border=\"1\" class=\"dataframe\">\n",
              "  <thead>\n",
              "    <tr style=\"text-align: right;\">\n",
              "      <th></th>\n",
              "      <th>Symptoms</th>\n",
              "      <th>Age</th>\n",
              "      <th>Sex</th>\n",
              "      <th>Disease</th>\n",
              "      <th>Treatment</th>\n",
              "      <th>Sex_female</th>\n",
              "      <th>Sex_male</th>\n",
              "    </tr>\n",
              "  </thead>\n",
              "  <tbody>\n",
              "    <tr>\n",
              "      <th>0</th>\n",
              "      <td>coughing</td>\n",
              "      <td>5.0</td>\n",
              "      <td>female</td>\n",
              "      <td>Asthma</td>\n",
              "      <td>Omalizumab</td>\n",
              "      <td>1</td>\n",
              "      <td>0</td>\n",
              "    </tr>\n",
              "    <tr>\n",
              "      <th>1</th>\n",
              "      <td>tight feeling in the chest</td>\n",
              "      <td>4.0</td>\n",
              "      <td>female</td>\n",
              "      <td>Asthma</td>\n",
              "      <td>Mepolizumab</td>\n",
              "      <td>1</td>\n",
              "      <td>0</td>\n",
              "    </tr>\n",
              "    <tr>\n",
              "      <th>2</th>\n",
              "      <td>wheezing</td>\n",
              "      <td>6.0</td>\n",
              "      <td>male</td>\n",
              "      <td>Asthma</td>\n",
              "      <td>Mepolizumab</td>\n",
              "      <td>0</td>\n",
              "      <td>1</td>\n",
              "    </tr>\n",
              "    <tr>\n",
              "      <th>3</th>\n",
              "      <td>shortness of breath</td>\n",
              "      <td>7.0</td>\n",
              "      <td>male</td>\n",
              "      <td>Asthma</td>\n",
              "      <td>Mepolizumab</td>\n",
              "      <td>0</td>\n",
              "      <td>1</td>\n",
              "    </tr>\n",
              "    <tr>\n",
              "      <th>4</th>\n",
              "      <td>shortness of breath</td>\n",
              "      <td>9.0</td>\n",
              "      <td>male</td>\n",
              "      <td>Asthma</td>\n",
              "      <td>Mepolizumab</td>\n",
              "      <td>0</td>\n",
              "      <td>1</td>\n",
              "    </tr>\n",
              "  </tbody>\n",
              "</table>\n",
              "</div>"
            ],
            "text/plain": [
              "                     Symptoms  Age     Sex  ...    Treatment Sex_female  Sex_male\n",
              "0                    coughing  5.0  female  ...   Omalizumab          1         0\n",
              "1  tight feeling in the chest  4.0  female  ...  Mepolizumab          1         0\n",
              "2                    wheezing  6.0    male  ...  Mepolizumab          0         1\n",
              "3         shortness of breath  7.0    male  ...  Mepolizumab          0         1\n",
              "4         shortness of breath  9.0    male  ...  Mepolizumab          0         1\n",
              "\n",
              "[5 rows x 7 columns]"
            ]
          },
          "metadata": {
            "tags": []
          },
          "execution_count": 13
        }
      ]
    },
    {
      "cell_type": "code",
      "metadata": {
        "colab": {
          "base_uri": "https://localhost:8080/"
        },
        "id": "D-TMUAlWNIay",
        "outputId": "c7fe35c0-2bfb-4a5e-ca24-7029e20a4aa2"
      },
      "source": [
        "df['Sex'].unique() # 성별의 유니크 값 확인 "
      ],
      "execution_count": null,
      "outputs": [
        {
          "output_type": "execute_result",
          "data": {
            "text/plain": [
              "array(['female', 'male'], dtype=object)"
            ]
          },
          "metadata": {
            "tags": []
          },
          "execution_count": 14
        }
      ]
    },
    {
      "cell_type": "code",
      "metadata": {
        "id": "V56ZaBimHteI",
        "colab": {
          "base_uri": "https://localhost:8080/"
        },
        "outputId": "23b90a7e-d065-40e2-aa86-c44c4a5b83cd"
      },
      "source": [
        "df.info()"
      ],
      "execution_count": null,
      "outputs": [
        {
          "output_type": "stream",
          "text": [
            "<class 'pandas.core.frame.DataFrame'>\n",
            "Int64Index: 33749 entries, 0 to 38536\n",
            "Data columns (total 7 columns):\n",
            " #   Column      Non-Null Count  Dtype  \n",
            "---  ------      --------------  -----  \n",
            " 0   Symptoms    33749 non-null  object \n",
            " 1   Age         33749 non-null  float64\n",
            " 2   Sex         33749 non-null  object \n",
            " 3   Disease     33749 non-null  object \n",
            " 4   Treatment   33749 non-null  object \n",
            " 5   Sex_female  33749 non-null  uint8  \n",
            " 6   Sex_male    33749 non-null  uint8  \n",
            "dtypes: float64(1), object(4), uint8(2)\n",
            "memory usage: 1.6+ MB\n"
          ],
          "name": "stdout"
        }
      ]
    },
    {
      "cell_type": "markdown",
      "metadata": {
        "id": "c3tk6rJhLbD0"
      },
      "source": [
        "4.Symptoms 원핫 코딩으로 바꿈"
      ]
    },
    {
      "cell_type": "code",
      "metadata": {
        "id": "_L87urtgJ_Wj",
        "colab": {
          "base_uri": "https://localhost:8080/"
        },
        "outputId": "e6776b0d-405d-4ba9-e0a0-3560c444b760"
      },
      "source": [
        "onehot_symptoms = pd.get_dummies(df[['Symptoms']]) #dummies 코드를 사용하여 증상을 원핫 코드 형식으로 바꿔줌\n",
        "onehot_symptoms.info()\n",
        "\n"
      ],
      "execution_count": null,
      "outputs": [
        {
          "output_type": "stream",
          "text": [
            "<class 'pandas.core.frame.DataFrame'>\n",
            "Int64Index: 33749 entries, 0 to 38536\n",
            "Data columns (total 82 columns):\n",
            " #   Column                                                           Non-Null Count  Dtype\n",
            "---  ------                                                           --------------  -----\n",
            " 0   Symptoms_A cough that lasts more than three weeks                33749 non-null  uint8\n",
            " 1   Symptoms_A dry, crackling sound in the lungs while breathing in  33749 non-null  uint8\n",
            " 2   Symptoms_Bluish skin                                             33749 non-null  uint8\n",
            " 3   Symptoms_Chest congestion                                        33749 non-null  uint8\n",
            " 4   Symptoms_Chest pain                                              33749 non-null  uint8\n",
            " 5   Symptoms_Chills                                                  33749 non-null  uint8\n",
            " 6   Symptoms_Daytime sleepiness                                      33749 non-null  uint8\n",
            " 7   Symptoms_Difficulties with memory and concentration              33749 non-null  uint8\n",
            " 8   Symptoms_Dry mouth                                               33749 non-null  uint8\n",
            " 9   Symptoms_Feeling run-down or tired                               33749 non-null  uint8\n",
            " 10  Symptoms_Fever                                                   33749 non-null  uint8\n",
            " 11  Symptoms_Frequently waking                                       33749 non-null  uint8\n",
            " 12  Symptoms_Headache                                                33749 non-null  uint8\n",
            " 13  Symptoms_Loss of appetite                                        33749 non-null  uint8\n",
            " 14  Symptoms_Loss of appetite and unintentional weight loss          33749 non-null  uint8\n",
            " 15  Symptoms_Low-grade fever                                         33749 non-null  uint8\n",
            " 16  Symptoms_Morning headaches                                       33749 non-null  uint8\n",
            " 17  Symptoms_Nasal congestion                                        33749 non-null  uint8\n",
            " 18  Symptoms_Nausea                                                  33749 non-null  uint8\n",
            " 19  Symptoms_Night sweats                                            33749 non-null  uint8\n",
            " 20  Symptoms_Pauses in breathing                                     33749 non-null  uint8\n",
            " 21  Symptoms_Persistent dry coug                                     33749 non-null  uint8\n",
            " 22  Symptoms_Persistent dry cough                                    33749 non-null  uint8\n",
            " 23  Symptoms_Rapid breathing                                         33749 non-null  uint8\n",
            " 24  Symptoms_Rapid heartbeat                                         33749 non-null  uint8\n",
            " 25  Symptoms_Rapid heartbeatz                                        33749 non-null  uint8\n",
            " 26  Symptoms_Runny nose                                              33749 non-null  uint8\n",
            " 27  Symptoms_Snoring                                                 33749 non-null  uint8\n",
            " 28  Symptoms_Sore throat                                             33749 non-null  uint8\n",
            " 29  Symptoms_Unusual moodiness                                       33749 non-null  uint8\n",
            " 30  Symptoms_Weight loss from loss of appetite                       33749 non-null  uint8\n",
            " 31  Symptoms_Wider and rounder than normal fingertips and toes       33749 non-null  uint8\n",
            " 32  Symptoms_allergy                                                 33749 non-null  uint8\n",
            " 33  Symptoms_breath                                                  33749 non-null  uint8\n",
            " 34  Symptoms_chest pain                                              33749 non-null  uint8\n",
            " 35  Symptoms_chronic cough                                           33749 non-null  uint8\n",
            " 36  Symptoms_cold                                                    33749 non-null  uint8\n",
            " 37  Symptoms_cough                                                   33749 non-null  uint8\n",
            " 38  Symptoms_cough with blood                                        33749 non-null  uint8\n",
            " 39  Symptoms_coughing                                                33749 non-null  uint8\n",
            " 40  Symptoms_coughingup blood                                        33749 non-null  uint8\n",
            " 41  Symptoms_coughingup yellow or green mucus daily                  33749 non-null  uint8\n",
            " 42  Symptoms_diarrhea                                                33749 non-null  uint8\n",
            " 43  Symptoms_distressing                                             33749 non-null  uint8\n",
            " 44  Symptoms_dizziness                                               33749 non-null  uint8\n",
            " 45  Symptoms_dry cough                                               33749 non-null  uint8\n",
            " 46  Symptoms_edema                                                   33749 non-null  uint8\n",
            " 47  Symptoms_fainting                                                33749 non-null  uint8\n",
            " 48  Symptoms_faster heart beating                                    33749 non-null  uint8\n",
            " 49  Symptoms_fatigue                                                 33749 non-null  uint8\n",
            " 50  Symptoms_fatigue, feeling run-down or tired                      33749 non-null  uint8\n",
            " 51  Symptoms_fever                                                   33749 non-null  uint8\n",
            " 52  Symptoms_greenish cough                                          33749 non-null  uint8\n",
            " 53  Symptoms_heart palpitations                                      33749 non-null  uint8\n",
            " 54  Symptoms_high fever                                              33749 non-null  uint8\n",
            " 55  Symptoms_irritability                                            33749 non-null  uint8\n",
            " 56  Symptoms_joint pain                                              33749 non-null  uint8\n",
            " 57  Symptoms_loss of appetite                                        33749 non-null  uint8\n",
            " 58  Symptoms_low energy                                              33749 non-null  uint8\n",
            " 59  Symptoms_lower back pain                                         33749 non-null  uint8\n",
            " 60  Symptoms_mucus                                                   33749 non-null  uint8\n",
            " 61  Symptoms_muscle aches                                            33749 non-null  uint8\n",
            " 62  Symptoms_nausea                                                  33749 non-null  uint8\n",
            " 63  Symptoms_pain                                                    33749 non-null  uint8\n",
            " 64  Symptoms_runny nose                                              33749 non-null  uint8\n",
            " 65  Symptoms_shaking                                                 33749 non-null  uint8\n",
            " 66  Symptoms_shallow breathing                                       33749 non-null  uint8\n",
            " 67  Symptoms_sharp chest pain                                        33749 non-null  uint8\n",
            " 68  Symptoms_short of breath                                         33749 non-null  uint8\n",
            " 69  Symptoms_short, shallow and rapid breathing                      33749 non-null  uint8\n",
            " 70  Symptoms_shortness of breath                                     33749 non-null  uint8\n",
            " 71  Symptoms_shortness of breath that gets worse during flare-ups    33749 non-null  uint8\n",
            " 72  Symptoms_stuffy nose                                             33749 non-null  uint8\n",
            " 73  Symptoms_sweating                                                33749 non-null  uint8\n",
            " 74  Symptoms_tight feeling in the chest                              33749 non-null  uint8\n",
            " 75  Symptoms_vomiting                                                33749 non-null  uint8\n",
            " 76  Symptoms_weight loss                                             33749 non-null  uint8\n",
            " 77  Symptoms_wheezing                                                33749 non-null  uint8\n",
            " 78  Symptoms_wheezing cough                                          33749 non-null  uint8\n",
            " 79  Symptoms_whistling sound while breathing                         33749 non-null  uint8\n",
            " 80  Symptoms_whistling sound while you breathe                       33749 non-null  uint8\n",
            " 81  Symptoms_yellow cough                                            33749 non-null  uint8\n",
            "dtypes: uint8(82)\n",
            "memory usage: 2.9 MB\n"
          ],
          "name": "stdout"
        }
      ]
    },
    {
      "cell_type": "code",
      "metadata": {
        "id": "zQPGyigaQLSX"
      },
      "source": [
        "df = pd.concat([df, onehot_symptoms], axis = 1) #concat 데이터 프레임을 추가 해준다. 원핫 코드을 사용하여 Sex_female\tSex_male두개의 컬럼을 추가 하고 female 1,0 male 0,1\n"
      ],
      "execution_count": null,
      "outputs": []
    },
    {
      "cell_type": "code",
      "metadata": {
        "id": "Gfhs5tyvUKjn",
        "colab": {
          "base_uri": "https://localhost:8080/"
        },
        "outputId": "ec569eea-3100-40dd-a1b3-93f6199d19ff"
      },
      "source": [
        "df.Symptoms.unique() # 컬럼 값 확인 "
      ],
      "execution_count": null,
      "outputs": [
        {
          "output_type": "execute_result",
          "data": {
            "text/plain": [
              "array(['coughing', 'tight feeling in the chest', 'wheezing',\n",
              "       'shortness of breath', 'fever', 'cold', 'allergy',\n",
              "       'coughingup yellow or green mucus daily',\n",
              "       'shortness of breath that gets worse during flare-ups',\n",
              "       'fatigue, feeling run-down or tired', 'Chest pain',\n",
              "       'whistling sound while you breathe', 'coughingup blood',\n",
              "       'runny nose', 'stuffy nose', 'loss of appetite', 'cough',\n",
              "       'Runny nose', 'Low-grade fever', 'Chest congestion',\n",
              "       'whistling sound while breathing', 'yellow cough',\n",
              "       'Feeling run-down or tired', 'mucus', 'chest pain',\n",
              "       'chronic cough', 'fatigue', 'lower back pain', 'dry cough',\n",
              "       'greenish cough', 'cough with blood', 'Fever', 'sweating',\n",
              "       'shaking', 'Rapid breathing', 'shallow breathing', 'low energy',\n",
              "       'Loss of appetite', 'Nausea', 'vomiting', 'sharp chest pain',\n",
              "       'Bluish skin', 'Rapid heartbeat', 'Rapid heartbeatz', 'high fever',\n",
              "       'Headache', 'muscle aches', 'joint pain', 'Chills', 'Sore throat',\n",
              "       'Nasal congestion', 'nausea', 'diarrhea', 'breath', 'dizziness',\n",
              "       'fainting', 'heart palpitations', 'edema', 'Snoring',\n",
              "       'Daytime sleepiness', 'Pauses in breathing',\n",
              "       'Difficulties with memory and concentration', 'Unusual moodiness',\n",
              "       'irritability', 'Frequently waking', 'Morning headaches',\n",
              "       'Dry mouth', 'wheezing cough',\n",
              "       'short, shallow and rapid breathing',\n",
              "       'A cough that lasts more than three weeks',\n",
              "       'Loss of appetite and unintentional weight loss', 'Night sweats',\n",
              "       'short of breath', 'distressing', 'faster heart beating', 'pain',\n",
              "       'Persistent dry cough', 'Weight loss from loss of appetite',\n",
              "       'A dry, crackling sound in the lungs while breathing in',\n",
              "       'Wider and rounder than normal fingertips and toes',\n",
              "       'Persistent dry coug', 'weight loss'], dtype=object)"
            ]
          },
          "metadata": {
            "tags": []
          },
          "execution_count": 18
        }
      ]
    },
    {
      "cell_type": "markdown",
      "metadata": {
        "id": "0xJ_EWmvjaU-"
      },
      "source": [
        "5.Disease 원핫 코드로 변경"
      ]
    },
    {
      "cell_type": "code",
      "metadata": {
        "id": "zLjOYPp1cVUz",
        "colab": {
          "base_uri": "https://localhost:8080/"
        },
        "outputId": "58201056-d7ed-43a4-ea3d-7845e64e2914"
      },
      "source": [
        "onehot_dummies = pd.get_dummies(df[['Disease']]) #dummies 코드를 사용하여 증상을 원핫 코드 형식으로 바꿔줌\n",
        "onehot_dummies.info()"
      ],
      "execution_count": null,
      "outputs": [
        {
          "output_type": "stream",
          "text": [
            "<class 'pandas.core.frame.DataFrame'>\n",
            "Int64Index: 33749 entries, 0 to 38536\n",
            "Data columns (total 17 columns):\n",
            " #   Column                                         Non-Null Count  Dtype\n",
            "---  ------                                         --------------  -----\n",
            " 0   Disease_Acute Respiratory Distress Syndrome    33749 non-null  uint8\n",
            " 1   Disease_Asbestosis                             33749 non-null  uint8\n",
            " 2   Disease_Aspergillosis                          33749 non-null  uint8\n",
            " 3   Disease_Asthma                                 33749 non-null  uint8\n",
            " 4   Disease_Bronchiectasis                         33749 non-null  uint8\n",
            " 5   Disease_Chronic Bronchitis                     33749 non-null  uint8\n",
            " 6   Disease_Influenza                              33749 non-null  uint8\n",
            " 7   Disease_Mesothelioma                           33749 non-null  uint8\n",
            " 8   Disease_Pneumonia                              33749 non-null  uint8\n",
            " 9   Disease_Pneumothorax                           33749 non-null  uint8\n",
            " 10  Disease_Pulmonary hypertension                 33749 non-null  uint8\n",
            " 11  Disease_Respiratory syncytial virus            33749 non-null  uint8\n",
            " 12  Disease_Tuberculosis                           33749 non-null  uint8\n",
            " 13  Disease_bronchiolitis                          33749 non-null  uint8\n",
            " 14  Disease_bronchitis                             33749 non-null  uint8\n",
            " 15  Disease_chronic obstructive pulmonary disease  33749 non-null  uint8\n",
            " 16  Disease_sleep apnea                            33749 non-null  uint8\n",
            "dtypes: uint8(17)\n",
            "memory usage: 824.0 KB\n"
          ],
          "name": "stdout"
        }
      ]
    },
    {
      "cell_type": "code",
      "metadata": {
        "id": "BJRi9Hkscs_C",
        "colab": {
          "base_uri": "https://localhost:8080/",
          "height": 402
        },
        "outputId": "a66f23e2-0378-4f2e-fda2-a6db7c0c5a0f"
      },
      "source": [
        "df = pd.concat([df, onehot_dummies], axis = 1) #concat 데이터 프레임을 추가 해준다. 원핫 코드을 사용하여 Sex_female\tSex_male두개의 컬럼을 추가 하고 female 1,0 male 0,1\n",
        "df.head()"
      ],
      "execution_count": null,
      "outputs": [
        {
          "output_type": "execute_result",
          "data": {
            "text/html": [
              "<div>\n",
              "<style scoped>\n",
              "    .dataframe tbody tr th:only-of-type {\n",
              "        vertical-align: middle;\n",
              "    }\n",
              "\n",
              "    .dataframe tbody tr th {\n",
              "        vertical-align: top;\n",
              "    }\n",
              "\n",
              "    .dataframe thead th {\n",
              "        text-align: right;\n",
              "    }\n",
              "</style>\n",
              "<table border=\"1\" class=\"dataframe\">\n",
              "  <thead>\n",
              "    <tr style=\"text-align: right;\">\n",
              "      <th></th>\n",
              "      <th>Symptoms</th>\n",
              "      <th>Age</th>\n",
              "      <th>Sex</th>\n",
              "      <th>Disease</th>\n",
              "      <th>Treatment</th>\n",
              "      <th>Sex_female</th>\n",
              "      <th>Sex_male</th>\n",
              "      <th>Symptoms_A cough that lasts more than three weeks</th>\n",
              "      <th>Symptoms_A dry, crackling sound in the lungs while breathing in</th>\n",
              "      <th>Symptoms_Bluish skin</th>\n",
              "      <th>Symptoms_Chest congestion</th>\n",
              "      <th>Symptoms_Chest pain</th>\n",
              "      <th>Symptoms_Chills</th>\n",
              "      <th>Symptoms_Daytime sleepiness</th>\n",
              "      <th>Symptoms_Difficulties with memory and concentration</th>\n",
              "      <th>Symptoms_Dry mouth</th>\n",
              "      <th>Symptoms_Feeling run-down or tired</th>\n",
              "      <th>Symptoms_Fever</th>\n",
              "      <th>Symptoms_Frequently waking</th>\n",
              "      <th>Symptoms_Headache</th>\n",
              "      <th>Symptoms_Loss of appetite</th>\n",
              "      <th>Symptoms_Loss of appetite and unintentional weight loss</th>\n",
              "      <th>Symptoms_Low-grade fever</th>\n",
              "      <th>Symptoms_Morning headaches</th>\n",
              "      <th>Symptoms_Nasal congestion</th>\n",
              "      <th>Symptoms_Nausea</th>\n",
              "      <th>Symptoms_Night sweats</th>\n",
              "      <th>Symptoms_Pauses in breathing</th>\n",
              "      <th>Symptoms_Persistent dry coug</th>\n",
              "      <th>Symptoms_Persistent dry cough</th>\n",
              "      <th>Symptoms_Rapid breathing</th>\n",
              "      <th>Symptoms_Rapid heartbeat</th>\n",
              "      <th>Symptoms_Rapid heartbeatz</th>\n",
              "      <th>Symptoms_Runny nose</th>\n",
              "      <th>Symptoms_Snoring</th>\n",
              "      <th>Symptoms_Sore throat</th>\n",
              "      <th>Symptoms_Unusual moodiness</th>\n",
              "      <th>Symptoms_Weight loss from loss of appetite</th>\n",
              "      <th>Symptoms_Wider and rounder than normal fingertips and toes</th>\n",
              "      <th>Symptoms_allergy</th>\n",
              "      <th>...</th>\n",
              "      <th>Symptoms_lower back pain</th>\n",
              "      <th>Symptoms_mucus</th>\n",
              "      <th>Symptoms_muscle aches</th>\n",
              "      <th>Symptoms_nausea</th>\n",
              "      <th>Symptoms_pain</th>\n",
              "      <th>Symptoms_runny nose</th>\n",
              "      <th>Symptoms_shaking</th>\n",
              "      <th>Symptoms_shallow breathing</th>\n",
              "      <th>Symptoms_sharp chest pain</th>\n",
              "      <th>Symptoms_short of breath</th>\n",
              "      <th>Symptoms_short, shallow and rapid breathing</th>\n",
              "      <th>Symptoms_shortness of breath</th>\n",
              "      <th>Symptoms_shortness of breath that gets worse during flare-ups</th>\n",
              "      <th>Symptoms_stuffy nose</th>\n",
              "      <th>Symptoms_sweating</th>\n",
              "      <th>Symptoms_tight feeling in the chest</th>\n",
              "      <th>Symptoms_vomiting</th>\n",
              "      <th>Symptoms_weight loss</th>\n",
              "      <th>Symptoms_wheezing</th>\n",
              "      <th>Symptoms_wheezing cough</th>\n",
              "      <th>Symptoms_whistling sound while breathing</th>\n",
              "      <th>Symptoms_whistling sound while you breathe</th>\n",
              "      <th>Symptoms_yellow cough</th>\n",
              "      <th>Disease_Acute Respiratory Distress Syndrome</th>\n",
              "      <th>Disease_Asbestosis</th>\n",
              "      <th>Disease_Aspergillosis</th>\n",
              "      <th>Disease_Asthma</th>\n",
              "      <th>Disease_Bronchiectasis</th>\n",
              "      <th>Disease_Chronic Bronchitis</th>\n",
              "      <th>Disease_Influenza</th>\n",
              "      <th>Disease_Mesothelioma</th>\n",
              "      <th>Disease_Pneumonia</th>\n",
              "      <th>Disease_Pneumothorax</th>\n",
              "      <th>Disease_Pulmonary hypertension</th>\n",
              "      <th>Disease_Respiratory syncytial virus</th>\n",
              "      <th>Disease_Tuberculosis</th>\n",
              "      <th>Disease_bronchiolitis</th>\n",
              "      <th>Disease_bronchitis</th>\n",
              "      <th>Disease_chronic obstructive pulmonary disease</th>\n",
              "      <th>Disease_sleep apnea</th>\n",
              "    </tr>\n",
              "  </thead>\n",
              "  <tbody>\n",
              "    <tr>\n",
              "      <th>0</th>\n",
              "      <td>coughing</td>\n",
              "      <td>5.0</td>\n",
              "      <td>female</td>\n",
              "      <td>Asthma</td>\n",
              "      <td>Omalizumab</td>\n",
              "      <td>1</td>\n",
              "      <td>0</td>\n",
              "      <td>0</td>\n",
              "      <td>0</td>\n",
              "      <td>0</td>\n",
              "      <td>0</td>\n",
              "      <td>0</td>\n",
              "      <td>0</td>\n",
              "      <td>0</td>\n",
              "      <td>0</td>\n",
              "      <td>0</td>\n",
              "      <td>0</td>\n",
              "      <td>0</td>\n",
              "      <td>0</td>\n",
              "      <td>0</td>\n",
              "      <td>0</td>\n",
              "      <td>0</td>\n",
              "      <td>0</td>\n",
              "      <td>0</td>\n",
              "      <td>0</td>\n",
              "      <td>0</td>\n",
              "      <td>0</td>\n",
              "      <td>0</td>\n",
              "      <td>0</td>\n",
              "      <td>0</td>\n",
              "      <td>0</td>\n",
              "      <td>0</td>\n",
              "      <td>0</td>\n",
              "      <td>0</td>\n",
              "      <td>0</td>\n",
              "      <td>0</td>\n",
              "      <td>0</td>\n",
              "      <td>0</td>\n",
              "      <td>0</td>\n",
              "      <td>0</td>\n",
              "      <td>...</td>\n",
              "      <td>0</td>\n",
              "      <td>0</td>\n",
              "      <td>0</td>\n",
              "      <td>0</td>\n",
              "      <td>0</td>\n",
              "      <td>0</td>\n",
              "      <td>0</td>\n",
              "      <td>0</td>\n",
              "      <td>0</td>\n",
              "      <td>0</td>\n",
              "      <td>0</td>\n",
              "      <td>0</td>\n",
              "      <td>0</td>\n",
              "      <td>0</td>\n",
              "      <td>0</td>\n",
              "      <td>0</td>\n",
              "      <td>0</td>\n",
              "      <td>0</td>\n",
              "      <td>0</td>\n",
              "      <td>0</td>\n",
              "      <td>0</td>\n",
              "      <td>0</td>\n",
              "      <td>0</td>\n",
              "      <td>0</td>\n",
              "      <td>0</td>\n",
              "      <td>0</td>\n",
              "      <td>1</td>\n",
              "      <td>0</td>\n",
              "      <td>0</td>\n",
              "      <td>0</td>\n",
              "      <td>0</td>\n",
              "      <td>0</td>\n",
              "      <td>0</td>\n",
              "      <td>0</td>\n",
              "      <td>0</td>\n",
              "      <td>0</td>\n",
              "      <td>0</td>\n",
              "      <td>0</td>\n",
              "      <td>0</td>\n",
              "      <td>0</td>\n",
              "    </tr>\n",
              "    <tr>\n",
              "      <th>1</th>\n",
              "      <td>tight feeling in the chest</td>\n",
              "      <td>4.0</td>\n",
              "      <td>female</td>\n",
              "      <td>Asthma</td>\n",
              "      <td>Mepolizumab</td>\n",
              "      <td>1</td>\n",
              "      <td>0</td>\n",
              "      <td>0</td>\n",
              "      <td>0</td>\n",
              "      <td>0</td>\n",
              "      <td>0</td>\n",
              "      <td>0</td>\n",
              "      <td>0</td>\n",
              "      <td>0</td>\n",
              "      <td>0</td>\n",
              "      <td>0</td>\n",
              "      <td>0</td>\n",
              "      <td>0</td>\n",
              "      <td>0</td>\n",
              "      <td>0</td>\n",
              "      <td>0</td>\n",
              "      <td>0</td>\n",
              "      <td>0</td>\n",
              "      <td>0</td>\n",
              "      <td>0</td>\n",
              "      <td>0</td>\n",
              "      <td>0</td>\n",
              "      <td>0</td>\n",
              "      <td>0</td>\n",
              "      <td>0</td>\n",
              "      <td>0</td>\n",
              "      <td>0</td>\n",
              "      <td>0</td>\n",
              "      <td>0</td>\n",
              "      <td>0</td>\n",
              "      <td>0</td>\n",
              "      <td>0</td>\n",
              "      <td>0</td>\n",
              "      <td>0</td>\n",
              "      <td>0</td>\n",
              "      <td>...</td>\n",
              "      <td>0</td>\n",
              "      <td>0</td>\n",
              "      <td>0</td>\n",
              "      <td>0</td>\n",
              "      <td>0</td>\n",
              "      <td>0</td>\n",
              "      <td>0</td>\n",
              "      <td>0</td>\n",
              "      <td>0</td>\n",
              "      <td>0</td>\n",
              "      <td>0</td>\n",
              "      <td>0</td>\n",
              "      <td>0</td>\n",
              "      <td>0</td>\n",
              "      <td>0</td>\n",
              "      <td>1</td>\n",
              "      <td>0</td>\n",
              "      <td>0</td>\n",
              "      <td>0</td>\n",
              "      <td>0</td>\n",
              "      <td>0</td>\n",
              "      <td>0</td>\n",
              "      <td>0</td>\n",
              "      <td>0</td>\n",
              "      <td>0</td>\n",
              "      <td>0</td>\n",
              "      <td>1</td>\n",
              "      <td>0</td>\n",
              "      <td>0</td>\n",
              "      <td>0</td>\n",
              "      <td>0</td>\n",
              "      <td>0</td>\n",
              "      <td>0</td>\n",
              "      <td>0</td>\n",
              "      <td>0</td>\n",
              "      <td>0</td>\n",
              "      <td>0</td>\n",
              "      <td>0</td>\n",
              "      <td>0</td>\n",
              "      <td>0</td>\n",
              "    </tr>\n",
              "    <tr>\n",
              "      <th>2</th>\n",
              "      <td>wheezing</td>\n",
              "      <td>6.0</td>\n",
              "      <td>male</td>\n",
              "      <td>Asthma</td>\n",
              "      <td>Mepolizumab</td>\n",
              "      <td>0</td>\n",
              "      <td>1</td>\n",
              "      <td>0</td>\n",
              "      <td>0</td>\n",
              "      <td>0</td>\n",
              "      <td>0</td>\n",
              "      <td>0</td>\n",
              "      <td>0</td>\n",
              "      <td>0</td>\n",
              "      <td>0</td>\n",
              "      <td>0</td>\n",
              "      <td>0</td>\n",
              "      <td>0</td>\n",
              "      <td>0</td>\n",
              "      <td>0</td>\n",
              "      <td>0</td>\n",
              "      <td>0</td>\n",
              "      <td>0</td>\n",
              "      <td>0</td>\n",
              "      <td>0</td>\n",
              "      <td>0</td>\n",
              "      <td>0</td>\n",
              "      <td>0</td>\n",
              "      <td>0</td>\n",
              "      <td>0</td>\n",
              "      <td>0</td>\n",
              "      <td>0</td>\n",
              "      <td>0</td>\n",
              "      <td>0</td>\n",
              "      <td>0</td>\n",
              "      <td>0</td>\n",
              "      <td>0</td>\n",
              "      <td>0</td>\n",
              "      <td>0</td>\n",
              "      <td>0</td>\n",
              "      <td>...</td>\n",
              "      <td>0</td>\n",
              "      <td>0</td>\n",
              "      <td>0</td>\n",
              "      <td>0</td>\n",
              "      <td>0</td>\n",
              "      <td>0</td>\n",
              "      <td>0</td>\n",
              "      <td>0</td>\n",
              "      <td>0</td>\n",
              "      <td>0</td>\n",
              "      <td>0</td>\n",
              "      <td>0</td>\n",
              "      <td>0</td>\n",
              "      <td>0</td>\n",
              "      <td>0</td>\n",
              "      <td>0</td>\n",
              "      <td>0</td>\n",
              "      <td>0</td>\n",
              "      <td>1</td>\n",
              "      <td>0</td>\n",
              "      <td>0</td>\n",
              "      <td>0</td>\n",
              "      <td>0</td>\n",
              "      <td>0</td>\n",
              "      <td>0</td>\n",
              "      <td>0</td>\n",
              "      <td>1</td>\n",
              "      <td>0</td>\n",
              "      <td>0</td>\n",
              "      <td>0</td>\n",
              "      <td>0</td>\n",
              "      <td>0</td>\n",
              "      <td>0</td>\n",
              "      <td>0</td>\n",
              "      <td>0</td>\n",
              "      <td>0</td>\n",
              "      <td>0</td>\n",
              "      <td>0</td>\n",
              "      <td>0</td>\n",
              "      <td>0</td>\n",
              "    </tr>\n",
              "    <tr>\n",
              "      <th>3</th>\n",
              "      <td>shortness of breath</td>\n",
              "      <td>7.0</td>\n",
              "      <td>male</td>\n",
              "      <td>Asthma</td>\n",
              "      <td>Mepolizumab</td>\n",
              "      <td>0</td>\n",
              "      <td>1</td>\n",
              "      <td>0</td>\n",
              "      <td>0</td>\n",
              "      <td>0</td>\n",
              "      <td>0</td>\n",
              "      <td>0</td>\n",
              "      <td>0</td>\n",
              "      <td>0</td>\n",
              "      <td>0</td>\n",
              "      <td>0</td>\n",
              "      <td>0</td>\n",
              "      <td>0</td>\n",
              "      <td>0</td>\n",
              "      <td>0</td>\n",
              "      <td>0</td>\n",
              "      <td>0</td>\n",
              "      <td>0</td>\n",
              "      <td>0</td>\n",
              "      <td>0</td>\n",
              "      <td>0</td>\n",
              "      <td>0</td>\n",
              "      <td>0</td>\n",
              "      <td>0</td>\n",
              "      <td>0</td>\n",
              "      <td>0</td>\n",
              "      <td>0</td>\n",
              "      <td>0</td>\n",
              "      <td>0</td>\n",
              "      <td>0</td>\n",
              "      <td>0</td>\n",
              "      <td>0</td>\n",
              "      <td>0</td>\n",
              "      <td>0</td>\n",
              "      <td>0</td>\n",
              "      <td>...</td>\n",
              "      <td>0</td>\n",
              "      <td>0</td>\n",
              "      <td>0</td>\n",
              "      <td>0</td>\n",
              "      <td>0</td>\n",
              "      <td>0</td>\n",
              "      <td>0</td>\n",
              "      <td>0</td>\n",
              "      <td>0</td>\n",
              "      <td>0</td>\n",
              "      <td>0</td>\n",
              "      <td>1</td>\n",
              "      <td>0</td>\n",
              "      <td>0</td>\n",
              "      <td>0</td>\n",
              "      <td>0</td>\n",
              "      <td>0</td>\n",
              "      <td>0</td>\n",
              "      <td>0</td>\n",
              "      <td>0</td>\n",
              "      <td>0</td>\n",
              "      <td>0</td>\n",
              "      <td>0</td>\n",
              "      <td>0</td>\n",
              "      <td>0</td>\n",
              "      <td>0</td>\n",
              "      <td>1</td>\n",
              "      <td>0</td>\n",
              "      <td>0</td>\n",
              "      <td>0</td>\n",
              "      <td>0</td>\n",
              "      <td>0</td>\n",
              "      <td>0</td>\n",
              "      <td>0</td>\n",
              "      <td>0</td>\n",
              "      <td>0</td>\n",
              "      <td>0</td>\n",
              "      <td>0</td>\n",
              "      <td>0</td>\n",
              "      <td>0</td>\n",
              "    </tr>\n",
              "    <tr>\n",
              "      <th>4</th>\n",
              "      <td>shortness of breath</td>\n",
              "      <td>9.0</td>\n",
              "      <td>male</td>\n",
              "      <td>Asthma</td>\n",
              "      <td>Mepolizumab</td>\n",
              "      <td>0</td>\n",
              "      <td>1</td>\n",
              "      <td>0</td>\n",
              "      <td>0</td>\n",
              "      <td>0</td>\n",
              "      <td>0</td>\n",
              "      <td>0</td>\n",
              "      <td>0</td>\n",
              "      <td>0</td>\n",
              "      <td>0</td>\n",
              "      <td>0</td>\n",
              "      <td>0</td>\n",
              "      <td>0</td>\n",
              "      <td>0</td>\n",
              "      <td>0</td>\n",
              "      <td>0</td>\n",
              "      <td>0</td>\n",
              "      <td>0</td>\n",
              "      <td>0</td>\n",
              "      <td>0</td>\n",
              "      <td>0</td>\n",
              "      <td>0</td>\n",
              "      <td>0</td>\n",
              "      <td>0</td>\n",
              "      <td>0</td>\n",
              "      <td>0</td>\n",
              "      <td>0</td>\n",
              "      <td>0</td>\n",
              "      <td>0</td>\n",
              "      <td>0</td>\n",
              "      <td>0</td>\n",
              "      <td>0</td>\n",
              "      <td>0</td>\n",
              "      <td>0</td>\n",
              "      <td>0</td>\n",
              "      <td>...</td>\n",
              "      <td>0</td>\n",
              "      <td>0</td>\n",
              "      <td>0</td>\n",
              "      <td>0</td>\n",
              "      <td>0</td>\n",
              "      <td>0</td>\n",
              "      <td>0</td>\n",
              "      <td>0</td>\n",
              "      <td>0</td>\n",
              "      <td>0</td>\n",
              "      <td>0</td>\n",
              "      <td>1</td>\n",
              "      <td>0</td>\n",
              "      <td>0</td>\n",
              "      <td>0</td>\n",
              "      <td>0</td>\n",
              "      <td>0</td>\n",
              "      <td>0</td>\n",
              "      <td>0</td>\n",
              "      <td>0</td>\n",
              "      <td>0</td>\n",
              "      <td>0</td>\n",
              "      <td>0</td>\n",
              "      <td>0</td>\n",
              "      <td>0</td>\n",
              "      <td>0</td>\n",
              "      <td>1</td>\n",
              "      <td>0</td>\n",
              "      <td>0</td>\n",
              "      <td>0</td>\n",
              "      <td>0</td>\n",
              "      <td>0</td>\n",
              "      <td>0</td>\n",
              "      <td>0</td>\n",
              "      <td>0</td>\n",
              "      <td>0</td>\n",
              "      <td>0</td>\n",
              "      <td>0</td>\n",
              "      <td>0</td>\n",
              "      <td>0</td>\n",
              "    </tr>\n",
              "  </tbody>\n",
              "</table>\n",
              "<p>5 rows × 106 columns</p>\n",
              "</div>"
            ],
            "text/plain": [
              "                     Symptoms  ...  Disease_sleep apnea\n",
              "0                    coughing  ...                    0\n",
              "1  tight feeling in the chest  ...                    0\n",
              "2                    wheezing  ...                    0\n",
              "3         shortness of breath  ...                    0\n",
              "4         shortness of breath  ...                    0\n",
              "\n",
              "[5 rows x 106 columns]"
            ]
          },
          "metadata": {
            "tags": []
          },
          "execution_count": 20
        }
      ]
    },
    {
      "cell_type": "code",
      "metadata": {
        "colab": {
          "base_uri": "https://localhost:8080/",
          "height": 402
        },
        "id": "q_xNsriw-Bc_",
        "outputId": "085bc64f-12c9-4fc1-a3b0-bc690e9bf0ac"
      },
      "source": [
        "df.head()"
      ],
      "execution_count": null,
      "outputs": [
        {
          "output_type": "execute_result",
          "data": {
            "text/html": [
              "<div>\n",
              "<style scoped>\n",
              "    .dataframe tbody tr th:only-of-type {\n",
              "        vertical-align: middle;\n",
              "    }\n",
              "\n",
              "    .dataframe tbody tr th {\n",
              "        vertical-align: top;\n",
              "    }\n",
              "\n",
              "    .dataframe thead th {\n",
              "        text-align: right;\n",
              "    }\n",
              "</style>\n",
              "<table border=\"1\" class=\"dataframe\">\n",
              "  <thead>\n",
              "    <tr style=\"text-align: right;\">\n",
              "      <th></th>\n",
              "      <th>Symptoms</th>\n",
              "      <th>Age</th>\n",
              "      <th>Sex</th>\n",
              "      <th>Disease</th>\n",
              "      <th>Treatment</th>\n",
              "      <th>Sex_female</th>\n",
              "      <th>Sex_male</th>\n",
              "      <th>Symptoms_A cough that lasts more than three weeks</th>\n",
              "      <th>Symptoms_A dry, crackling sound in the lungs while breathing in</th>\n",
              "      <th>Symptoms_Bluish skin</th>\n",
              "      <th>Symptoms_Chest congestion</th>\n",
              "      <th>Symptoms_Chest pain</th>\n",
              "      <th>Symptoms_Chills</th>\n",
              "      <th>Symptoms_Daytime sleepiness</th>\n",
              "      <th>Symptoms_Difficulties with memory and concentration</th>\n",
              "      <th>Symptoms_Dry mouth</th>\n",
              "      <th>Symptoms_Feeling run-down or tired</th>\n",
              "      <th>Symptoms_Fever</th>\n",
              "      <th>Symptoms_Frequently waking</th>\n",
              "      <th>Symptoms_Headache</th>\n",
              "      <th>Symptoms_Loss of appetite</th>\n",
              "      <th>Symptoms_Loss of appetite and unintentional weight loss</th>\n",
              "      <th>Symptoms_Low-grade fever</th>\n",
              "      <th>Symptoms_Morning headaches</th>\n",
              "      <th>Symptoms_Nasal congestion</th>\n",
              "      <th>Symptoms_Nausea</th>\n",
              "      <th>Symptoms_Night sweats</th>\n",
              "      <th>Symptoms_Pauses in breathing</th>\n",
              "      <th>Symptoms_Persistent dry coug</th>\n",
              "      <th>Symptoms_Persistent dry cough</th>\n",
              "      <th>Symptoms_Rapid breathing</th>\n",
              "      <th>Symptoms_Rapid heartbeat</th>\n",
              "      <th>Symptoms_Rapid heartbeatz</th>\n",
              "      <th>Symptoms_Runny nose</th>\n",
              "      <th>Symptoms_Snoring</th>\n",
              "      <th>Symptoms_Sore throat</th>\n",
              "      <th>Symptoms_Unusual moodiness</th>\n",
              "      <th>Symptoms_Weight loss from loss of appetite</th>\n",
              "      <th>Symptoms_Wider and rounder than normal fingertips and toes</th>\n",
              "      <th>Symptoms_allergy</th>\n",
              "      <th>...</th>\n",
              "      <th>Symptoms_lower back pain</th>\n",
              "      <th>Symptoms_mucus</th>\n",
              "      <th>Symptoms_muscle aches</th>\n",
              "      <th>Symptoms_nausea</th>\n",
              "      <th>Symptoms_pain</th>\n",
              "      <th>Symptoms_runny nose</th>\n",
              "      <th>Symptoms_shaking</th>\n",
              "      <th>Symptoms_shallow breathing</th>\n",
              "      <th>Symptoms_sharp chest pain</th>\n",
              "      <th>Symptoms_short of breath</th>\n",
              "      <th>Symptoms_short, shallow and rapid breathing</th>\n",
              "      <th>Symptoms_shortness of breath</th>\n",
              "      <th>Symptoms_shortness of breath that gets worse during flare-ups</th>\n",
              "      <th>Symptoms_stuffy nose</th>\n",
              "      <th>Symptoms_sweating</th>\n",
              "      <th>Symptoms_tight feeling in the chest</th>\n",
              "      <th>Symptoms_vomiting</th>\n",
              "      <th>Symptoms_weight loss</th>\n",
              "      <th>Symptoms_wheezing</th>\n",
              "      <th>Symptoms_wheezing cough</th>\n",
              "      <th>Symptoms_whistling sound while breathing</th>\n",
              "      <th>Symptoms_whistling sound while you breathe</th>\n",
              "      <th>Symptoms_yellow cough</th>\n",
              "      <th>Disease_Acute Respiratory Distress Syndrome</th>\n",
              "      <th>Disease_Asbestosis</th>\n",
              "      <th>Disease_Aspergillosis</th>\n",
              "      <th>Disease_Asthma</th>\n",
              "      <th>Disease_Bronchiectasis</th>\n",
              "      <th>Disease_Chronic Bronchitis</th>\n",
              "      <th>Disease_Influenza</th>\n",
              "      <th>Disease_Mesothelioma</th>\n",
              "      <th>Disease_Pneumonia</th>\n",
              "      <th>Disease_Pneumothorax</th>\n",
              "      <th>Disease_Pulmonary hypertension</th>\n",
              "      <th>Disease_Respiratory syncytial virus</th>\n",
              "      <th>Disease_Tuberculosis</th>\n",
              "      <th>Disease_bronchiolitis</th>\n",
              "      <th>Disease_bronchitis</th>\n",
              "      <th>Disease_chronic obstructive pulmonary disease</th>\n",
              "      <th>Disease_sleep apnea</th>\n",
              "    </tr>\n",
              "  </thead>\n",
              "  <tbody>\n",
              "    <tr>\n",
              "      <th>0</th>\n",
              "      <td>coughing</td>\n",
              "      <td>5.0</td>\n",
              "      <td>female</td>\n",
              "      <td>Asthma</td>\n",
              "      <td>Omalizumab</td>\n",
              "      <td>1</td>\n",
              "      <td>0</td>\n",
              "      <td>0</td>\n",
              "      <td>0</td>\n",
              "      <td>0</td>\n",
              "      <td>0</td>\n",
              "      <td>0</td>\n",
              "      <td>0</td>\n",
              "      <td>0</td>\n",
              "      <td>0</td>\n",
              "      <td>0</td>\n",
              "      <td>0</td>\n",
              "      <td>0</td>\n",
              "      <td>0</td>\n",
              "      <td>0</td>\n",
              "      <td>0</td>\n",
              "      <td>0</td>\n",
              "      <td>0</td>\n",
              "      <td>0</td>\n",
              "      <td>0</td>\n",
              "      <td>0</td>\n",
              "      <td>0</td>\n",
              "      <td>0</td>\n",
              "      <td>0</td>\n",
              "      <td>0</td>\n",
              "      <td>0</td>\n",
              "      <td>0</td>\n",
              "      <td>0</td>\n",
              "      <td>0</td>\n",
              "      <td>0</td>\n",
              "      <td>0</td>\n",
              "      <td>0</td>\n",
              "      <td>0</td>\n",
              "      <td>0</td>\n",
              "      <td>0</td>\n",
              "      <td>...</td>\n",
              "      <td>0</td>\n",
              "      <td>0</td>\n",
              "      <td>0</td>\n",
              "      <td>0</td>\n",
              "      <td>0</td>\n",
              "      <td>0</td>\n",
              "      <td>0</td>\n",
              "      <td>0</td>\n",
              "      <td>0</td>\n",
              "      <td>0</td>\n",
              "      <td>0</td>\n",
              "      <td>0</td>\n",
              "      <td>0</td>\n",
              "      <td>0</td>\n",
              "      <td>0</td>\n",
              "      <td>0</td>\n",
              "      <td>0</td>\n",
              "      <td>0</td>\n",
              "      <td>0</td>\n",
              "      <td>0</td>\n",
              "      <td>0</td>\n",
              "      <td>0</td>\n",
              "      <td>0</td>\n",
              "      <td>0</td>\n",
              "      <td>0</td>\n",
              "      <td>0</td>\n",
              "      <td>1</td>\n",
              "      <td>0</td>\n",
              "      <td>0</td>\n",
              "      <td>0</td>\n",
              "      <td>0</td>\n",
              "      <td>0</td>\n",
              "      <td>0</td>\n",
              "      <td>0</td>\n",
              "      <td>0</td>\n",
              "      <td>0</td>\n",
              "      <td>0</td>\n",
              "      <td>0</td>\n",
              "      <td>0</td>\n",
              "      <td>0</td>\n",
              "    </tr>\n",
              "    <tr>\n",
              "      <th>1</th>\n",
              "      <td>tight feeling in the chest</td>\n",
              "      <td>4.0</td>\n",
              "      <td>female</td>\n",
              "      <td>Asthma</td>\n",
              "      <td>Mepolizumab</td>\n",
              "      <td>1</td>\n",
              "      <td>0</td>\n",
              "      <td>0</td>\n",
              "      <td>0</td>\n",
              "      <td>0</td>\n",
              "      <td>0</td>\n",
              "      <td>0</td>\n",
              "      <td>0</td>\n",
              "      <td>0</td>\n",
              "      <td>0</td>\n",
              "      <td>0</td>\n",
              "      <td>0</td>\n",
              "      <td>0</td>\n",
              "      <td>0</td>\n",
              "      <td>0</td>\n",
              "      <td>0</td>\n",
              "      <td>0</td>\n",
              "      <td>0</td>\n",
              "      <td>0</td>\n",
              "      <td>0</td>\n",
              "      <td>0</td>\n",
              "      <td>0</td>\n",
              "      <td>0</td>\n",
              "      <td>0</td>\n",
              "      <td>0</td>\n",
              "      <td>0</td>\n",
              "      <td>0</td>\n",
              "      <td>0</td>\n",
              "      <td>0</td>\n",
              "      <td>0</td>\n",
              "      <td>0</td>\n",
              "      <td>0</td>\n",
              "      <td>0</td>\n",
              "      <td>0</td>\n",
              "      <td>0</td>\n",
              "      <td>...</td>\n",
              "      <td>0</td>\n",
              "      <td>0</td>\n",
              "      <td>0</td>\n",
              "      <td>0</td>\n",
              "      <td>0</td>\n",
              "      <td>0</td>\n",
              "      <td>0</td>\n",
              "      <td>0</td>\n",
              "      <td>0</td>\n",
              "      <td>0</td>\n",
              "      <td>0</td>\n",
              "      <td>0</td>\n",
              "      <td>0</td>\n",
              "      <td>0</td>\n",
              "      <td>0</td>\n",
              "      <td>1</td>\n",
              "      <td>0</td>\n",
              "      <td>0</td>\n",
              "      <td>0</td>\n",
              "      <td>0</td>\n",
              "      <td>0</td>\n",
              "      <td>0</td>\n",
              "      <td>0</td>\n",
              "      <td>0</td>\n",
              "      <td>0</td>\n",
              "      <td>0</td>\n",
              "      <td>1</td>\n",
              "      <td>0</td>\n",
              "      <td>0</td>\n",
              "      <td>0</td>\n",
              "      <td>0</td>\n",
              "      <td>0</td>\n",
              "      <td>0</td>\n",
              "      <td>0</td>\n",
              "      <td>0</td>\n",
              "      <td>0</td>\n",
              "      <td>0</td>\n",
              "      <td>0</td>\n",
              "      <td>0</td>\n",
              "      <td>0</td>\n",
              "    </tr>\n",
              "    <tr>\n",
              "      <th>2</th>\n",
              "      <td>wheezing</td>\n",
              "      <td>6.0</td>\n",
              "      <td>male</td>\n",
              "      <td>Asthma</td>\n",
              "      <td>Mepolizumab</td>\n",
              "      <td>0</td>\n",
              "      <td>1</td>\n",
              "      <td>0</td>\n",
              "      <td>0</td>\n",
              "      <td>0</td>\n",
              "      <td>0</td>\n",
              "      <td>0</td>\n",
              "      <td>0</td>\n",
              "      <td>0</td>\n",
              "      <td>0</td>\n",
              "      <td>0</td>\n",
              "      <td>0</td>\n",
              "      <td>0</td>\n",
              "      <td>0</td>\n",
              "      <td>0</td>\n",
              "      <td>0</td>\n",
              "      <td>0</td>\n",
              "      <td>0</td>\n",
              "      <td>0</td>\n",
              "      <td>0</td>\n",
              "      <td>0</td>\n",
              "      <td>0</td>\n",
              "      <td>0</td>\n",
              "      <td>0</td>\n",
              "      <td>0</td>\n",
              "      <td>0</td>\n",
              "      <td>0</td>\n",
              "      <td>0</td>\n",
              "      <td>0</td>\n",
              "      <td>0</td>\n",
              "      <td>0</td>\n",
              "      <td>0</td>\n",
              "      <td>0</td>\n",
              "      <td>0</td>\n",
              "      <td>0</td>\n",
              "      <td>...</td>\n",
              "      <td>0</td>\n",
              "      <td>0</td>\n",
              "      <td>0</td>\n",
              "      <td>0</td>\n",
              "      <td>0</td>\n",
              "      <td>0</td>\n",
              "      <td>0</td>\n",
              "      <td>0</td>\n",
              "      <td>0</td>\n",
              "      <td>0</td>\n",
              "      <td>0</td>\n",
              "      <td>0</td>\n",
              "      <td>0</td>\n",
              "      <td>0</td>\n",
              "      <td>0</td>\n",
              "      <td>0</td>\n",
              "      <td>0</td>\n",
              "      <td>0</td>\n",
              "      <td>1</td>\n",
              "      <td>0</td>\n",
              "      <td>0</td>\n",
              "      <td>0</td>\n",
              "      <td>0</td>\n",
              "      <td>0</td>\n",
              "      <td>0</td>\n",
              "      <td>0</td>\n",
              "      <td>1</td>\n",
              "      <td>0</td>\n",
              "      <td>0</td>\n",
              "      <td>0</td>\n",
              "      <td>0</td>\n",
              "      <td>0</td>\n",
              "      <td>0</td>\n",
              "      <td>0</td>\n",
              "      <td>0</td>\n",
              "      <td>0</td>\n",
              "      <td>0</td>\n",
              "      <td>0</td>\n",
              "      <td>0</td>\n",
              "      <td>0</td>\n",
              "    </tr>\n",
              "    <tr>\n",
              "      <th>3</th>\n",
              "      <td>shortness of breath</td>\n",
              "      <td>7.0</td>\n",
              "      <td>male</td>\n",
              "      <td>Asthma</td>\n",
              "      <td>Mepolizumab</td>\n",
              "      <td>0</td>\n",
              "      <td>1</td>\n",
              "      <td>0</td>\n",
              "      <td>0</td>\n",
              "      <td>0</td>\n",
              "      <td>0</td>\n",
              "      <td>0</td>\n",
              "      <td>0</td>\n",
              "      <td>0</td>\n",
              "      <td>0</td>\n",
              "      <td>0</td>\n",
              "      <td>0</td>\n",
              "      <td>0</td>\n",
              "      <td>0</td>\n",
              "      <td>0</td>\n",
              "      <td>0</td>\n",
              "      <td>0</td>\n",
              "      <td>0</td>\n",
              "      <td>0</td>\n",
              "      <td>0</td>\n",
              "      <td>0</td>\n",
              "      <td>0</td>\n",
              "      <td>0</td>\n",
              "      <td>0</td>\n",
              "      <td>0</td>\n",
              "      <td>0</td>\n",
              "      <td>0</td>\n",
              "      <td>0</td>\n",
              "      <td>0</td>\n",
              "      <td>0</td>\n",
              "      <td>0</td>\n",
              "      <td>0</td>\n",
              "      <td>0</td>\n",
              "      <td>0</td>\n",
              "      <td>0</td>\n",
              "      <td>...</td>\n",
              "      <td>0</td>\n",
              "      <td>0</td>\n",
              "      <td>0</td>\n",
              "      <td>0</td>\n",
              "      <td>0</td>\n",
              "      <td>0</td>\n",
              "      <td>0</td>\n",
              "      <td>0</td>\n",
              "      <td>0</td>\n",
              "      <td>0</td>\n",
              "      <td>0</td>\n",
              "      <td>1</td>\n",
              "      <td>0</td>\n",
              "      <td>0</td>\n",
              "      <td>0</td>\n",
              "      <td>0</td>\n",
              "      <td>0</td>\n",
              "      <td>0</td>\n",
              "      <td>0</td>\n",
              "      <td>0</td>\n",
              "      <td>0</td>\n",
              "      <td>0</td>\n",
              "      <td>0</td>\n",
              "      <td>0</td>\n",
              "      <td>0</td>\n",
              "      <td>0</td>\n",
              "      <td>1</td>\n",
              "      <td>0</td>\n",
              "      <td>0</td>\n",
              "      <td>0</td>\n",
              "      <td>0</td>\n",
              "      <td>0</td>\n",
              "      <td>0</td>\n",
              "      <td>0</td>\n",
              "      <td>0</td>\n",
              "      <td>0</td>\n",
              "      <td>0</td>\n",
              "      <td>0</td>\n",
              "      <td>0</td>\n",
              "      <td>0</td>\n",
              "    </tr>\n",
              "    <tr>\n",
              "      <th>4</th>\n",
              "      <td>shortness of breath</td>\n",
              "      <td>9.0</td>\n",
              "      <td>male</td>\n",
              "      <td>Asthma</td>\n",
              "      <td>Mepolizumab</td>\n",
              "      <td>0</td>\n",
              "      <td>1</td>\n",
              "      <td>0</td>\n",
              "      <td>0</td>\n",
              "      <td>0</td>\n",
              "      <td>0</td>\n",
              "      <td>0</td>\n",
              "      <td>0</td>\n",
              "      <td>0</td>\n",
              "      <td>0</td>\n",
              "      <td>0</td>\n",
              "      <td>0</td>\n",
              "      <td>0</td>\n",
              "      <td>0</td>\n",
              "      <td>0</td>\n",
              "      <td>0</td>\n",
              "      <td>0</td>\n",
              "      <td>0</td>\n",
              "      <td>0</td>\n",
              "      <td>0</td>\n",
              "      <td>0</td>\n",
              "      <td>0</td>\n",
              "      <td>0</td>\n",
              "      <td>0</td>\n",
              "      <td>0</td>\n",
              "      <td>0</td>\n",
              "      <td>0</td>\n",
              "      <td>0</td>\n",
              "      <td>0</td>\n",
              "      <td>0</td>\n",
              "      <td>0</td>\n",
              "      <td>0</td>\n",
              "      <td>0</td>\n",
              "      <td>0</td>\n",
              "      <td>0</td>\n",
              "      <td>...</td>\n",
              "      <td>0</td>\n",
              "      <td>0</td>\n",
              "      <td>0</td>\n",
              "      <td>0</td>\n",
              "      <td>0</td>\n",
              "      <td>0</td>\n",
              "      <td>0</td>\n",
              "      <td>0</td>\n",
              "      <td>0</td>\n",
              "      <td>0</td>\n",
              "      <td>0</td>\n",
              "      <td>1</td>\n",
              "      <td>0</td>\n",
              "      <td>0</td>\n",
              "      <td>0</td>\n",
              "      <td>0</td>\n",
              "      <td>0</td>\n",
              "      <td>0</td>\n",
              "      <td>0</td>\n",
              "      <td>0</td>\n",
              "      <td>0</td>\n",
              "      <td>0</td>\n",
              "      <td>0</td>\n",
              "      <td>0</td>\n",
              "      <td>0</td>\n",
              "      <td>0</td>\n",
              "      <td>1</td>\n",
              "      <td>0</td>\n",
              "      <td>0</td>\n",
              "      <td>0</td>\n",
              "      <td>0</td>\n",
              "      <td>0</td>\n",
              "      <td>0</td>\n",
              "      <td>0</td>\n",
              "      <td>0</td>\n",
              "      <td>0</td>\n",
              "      <td>0</td>\n",
              "      <td>0</td>\n",
              "      <td>0</td>\n",
              "      <td>0</td>\n",
              "    </tr>\n",
              "  </tbody>\n",
              "</table>\n",
              "<p>5 rows × 106 columns</p>\n",
              "</div>"
            ],
            "text/plain": [
              "                     Symptoms  ...  Disease_sleep apnea\n",
              "0                    coughing  ...                    0\n",
              "1  tight feeling in the chest  ...                    0\n",
              "2                    wheezing  ...                    0\n",
              "3         shortness of breath  ...                    0\n",
              "4         shortness of breath  ...                    0\n",
              "\n",
              "[5 rows x 106 columns]"
            ]
          },
          "metadata": {
            "tags": []
          },
          "execution_count": 21
        }
      ]
    },
    {
      "cell_type": "markdown",
      "metadata": {
        "id": "r37MM6cXyKza"
      },
      "source": [
        ""
      ]
    },
    {
      "cell_type": "code",
      "metadata": {
        "id": "Hnbad_X7yLaC"
      },
      "source": [
        "from sklearn import preprocessing    \n",
        "\n",
        "label_encoder = preprocessing.LabelEncoder()                                  # label encoder 생성 문자를 숫자 형식으로 바꿈 이유는 나는 문자열이기 때문에 \n",
        "                                                                                                          #숫자형을로 변경하여 문제지와 정답지 비교 \n",
        "onehot_location = label_encoder.fit_transform(df['Treatment'])\n"
      ],
      "execution_count": null,
      "outputs": []
    },
    {
      "cell_type": "code",
      "metadata": {
        "id": "pcWry19oyodq"
      },
      "source": [
        "df['y_label'] = onehot_location"
      ],
      "execution_count": null,
      "outputs": []
    },
    {
      "cell_type": "markdown",
      "metadata": {
        "id": "RzoVeVh33wDl"
      },
      "source": [
        "4."
      ]
    },
    {
      "cell_type": "code",
      "metadata": {
        "id": "5wEQRWKG9nug"
      },
      "source": [
        "\n",
        "X= df[['Age','Sex_female','Sex_male','Symptoms_wheezing','Symptoms_fatigue','Symptoms_shortness of breath','Symptoms_coughing','Symptoms_fatigue','Symptoms_low energy','Symptoms_shortness of breath','Symptoms_wheezing','Symptoms_A cough that lasts more than three weeks','Symptoms_A dry, crackling sound in the lungs while breathing in','Symptoms_Bluish skin','Symptoms_Chest congestion','Symptoms_Chest pain','Symptoms_Chills','Symptoms_Daytime sleepiness','Symptoms_Difficulties with memory and concentration','Symptoms_Dry mouth','Symptoms_fatigue, feeling run-down or tired','Symptoms_Feeling run-down or tired','Symptoms_Fever','Symptoms_Frequently waking','Symptoms_Headache','Symptoms_Loss of appetite','Symptoms_Loss of appetite and unintentional weight loss','Symptoms_Low-grade fever','Symptoms_Morning headaches','Symptoms_Nasal congestion','Symptoms_Nausea','Symptoms_Night sweats','Symptoms_Pauses in breathing','Symptoms_Persistent dry coug','Symptoms_Persistent dry cough','Symptoms_Rapid breathing','Symptoms_Rapid heartbeat','Symptoms_Runny nose','Symptoms_shortness of breath','Symptoms_shortness of breath that gets worse during flare-ups','Symptoms_Snoring','Symptoms_Sore throat','Symptoms_Unusual moodiness','Symptoms_Weight loss from loss of appetite','Symptoms_Wider and rounder than normal fingertips and toes','Symptoms_allergy','Symptoms_breath','Symptoms_chest pain','Symptoms_chronic cough','Symptoms_cold','Symptoms_cough','Symptoms_cough with blood','Symptoms_coughing','Symptoms_coughingup blood','Symptoms_coughingup yellow or green mucus daily','Symptoms_diarrhea','Symptoms_distressing','Symptoms_dizziness','Symptoms_dry cough','Symptoms_edema','Symptoms_fainting','Symptoms_faster heart beating','Symptoms_fatigue','Symptoms_fever', 'Symptoms_greenish cough','Symptoms_heart palpitations','Symptoms_high fever','Symptoms_irritability','Symptoms_joint pain','Symptoms_loss of appetite','Symptoms_lower back pain','Symptoms_mucus','Symptoms_muscle aches','Symptoms_nausea','Symptoms_pain','Symptoms_runny nose','Symptoms_shaking','Symptoms_shallow breathing','Symptoms_sharp chest pain','Symptoms_short of breath','Symptoms_short, shallow and rapid breathing','Symptoms_shortness of breath','Symptoms_stuffy nose','Symptoms_sweating','Symptoms_tight feeling in the chest','Symptoms_vomiting','Symptoms_weight loss','Symptoms_wheezing','Symptoms_wheezing cough','Symptoms_whistling sound while breathing','Symptoms_whistling sound while you breathe','Symptoms_yellow cough','Age','Sex_female','Sex_male','Disease_Acute Respiratory Distress Syndrome','Disease_Asbestosis','Disease_Aspergillosis','Disease_Asthma','Disease_Bronchiectasis','Disease_Chronic Bronchitis','Disease_Influenza','Disease_Mesothelioma','Disease_Pneumonia','Disease_Pneumothorax','Disease_Pulmonary hypertension','Disease_Respiratory syncytial virus','Disease_Tuberculosis','Disease_bronchiolitis','Disease_bronchitis','Disease_chronic obstructive pulmonary disease','Disease_sleep apnea']]\n",
        "\n",
        "\n",
        "\n",
        "# 'Disease_Acute Respiratory','Distress Syndrome','Disease_Asbestosis','Disease_Aspergillosis',\t\n",
        "# 'Disease_Asthma','Disease_Bronchiectasis','Disease_Chronic Bronchitis','Disease_Influenza'\t\n",
        "# 'Disease_Mesothelioma','Disease_Pneumonia','Disease_Pneumothorax',\t\n",
        "# 'Disease_Pulmonary hypertension','Disease_Respiratory syncytial virus','Disease_Tuberculosis'\t\n",
        "# 'Disease_bronchiolitis','Disease_bronchitis','Disease_chronic obstructive pulmonary disease',\n",
        "# 'Disease_sleep apnea'\n",
        "\n",
        "#Symptoms_fatigue\n",
        "#\n",
        "y = df['y_label'] \n",
        "\n",
        "\n"
      ],
      "execution_count": null,
      "outputs": []
    },
    {
      "cell_type": "code",
      "metadata": {
        "id": "f571CLAU89g0"
      },
      "source": [
        "df['Symptoms'].unique()"
      ],
      "execution_count": null,
      "outputs": []
    },
    {
      "cell_type": "markdown",
      "metadata": {
        "id": "K_E5e4ojdomc"
      },
      "source": [
        "데이터 분리하기"
      ]
    },
    {
      "cell_type": "code",
      "metadata": {
        "id": "cMXMEruhPNFF"
      },
      "source": [
        "# train 80 test 20 -> train 70 test 30 # random_State = 어디 부분을 짜르거냐 랜덤으로 왜? 6:4 가르는 부분 어디를 자를것인가\n",
        "X_train,X_test, y_train,y_test = train_test_split(X,\n",
        "                                                  y,\n",
        "                                                  train_size =0.7) "
      ],
      "execution_count": null,
      "outputs": []
    },
    {
      "cell_type": "code",
      "metadata": {
        "id": "YijrZ1ej7_wt"
      },
      "source": [
        "# 설명 변수(데이터, 문제집) 정규화(normalization)...스케일 조정... 0~1 사이의 작은 값으로 축소 값이 일정 범위 안에 가둘라고 범위를 일반화 \n",
        "# 머신이 공부 하기 쉽게요약집을 준다\n",
        "\n",
        "from sklearn import preprocessing\n",
        "\n",
        "X = preprocessing.StandardScaler().fit(X).transform(X)\n"
      ],
      "execution_count": null,
      "outputs": []
    },
    {
      "cell_type": "code",
      "metadata": {
        "colab": {
          "base_uri": "https://localhost:8080/"
        },
        "id": "fhvckGwwy80K",
        "outputId": "c7e37a6f-918c-4fe0-bd01-394ccf00044e"
      },
      "source": [
        "from tensorflow.keras.utils import  to_categorical\n",
        "\n",
        "#각 데이터의 레이블 0~32 숫자 값을 범주형 형태로 변경\n",
        "\n",
        "y = to_categorical(y)\n",
        "y"
      ],
      "execution_count": null,
      "outputs": [
        {
          "output_type": "execute_result",
          "data": {
            "text/plain": [
              "array([[0., 0., 0., ..., 0., 0., 0.],\n",
              "       [0., 0., 0., ..., 0., 0., 0.],\n",
              "       [0., 0., 0., ..., 0., 0., 0.],\n",
              "       ...,\n",
              "       [0., 0., 0., ..., 0., 0., 0.],\n",
              "       [0., 0., 0., ..., 0., 0., 0.],\n",
              "       [0., 0., 0., ..., 0., 0., 0.]], dtype=float32)"
            ]
          },
          "metadata": {
            "tags": []
          },
          "execution_count": 29
        }
      ]
    },
    {
      "cell_type": "markdown",
      "metadata": {
        "id": "lPMi8qszC0NC"
      },
      "source": [
        "**머신러닝 모델 구축 1)-LogisticRegression** 나는 다중분류 이기 때문에 이진분류를 사용할 필요가 없음"
      ]
    },
    {
      "cell_type": "code",
      "metadata": {
        "colab": {
          "base_uri": "https://localhost:8080/"
        },
        "id": "O3gg7KiReEig",
        "outputId": "3a31e3cd-da0a-4652-d200-397c9db9564e"
      },
      "source": [
        "log_reg =LogisticRegression().fit(X_train, y_train)"
      ],
      "execution_count": null,
      "outputs": [
        {
          "output_type": "stream",
          "text": [
            "/usr/local/lib/python3.7/dist-packages/sklearn/linear_model/_logistic.py:940: ConvergenceWarning: lbfgs failed to converge (status=1):\n",
            "STOP: TOTAL NO. of ITERATIONS REACHED LIMIT.\n",
            "\n",
            "Increase the number of iterations (max_iter) or scale the data as shown in:\n",
            "    https://scikit-learn.org/stable/modules/preprocessing.html\n",
            "Please also refer to the documentation for alternative solver options:\n",
            "    https://scikit-learn.org/stable/modules/linear_model.html#logistic-regression\n",
            "  extra_warning_msg=_LOGISTIC_SOLVER_CONVERGENCE_MSG)\n"
          ],
          "name": "stderr"
        }
      ]
    },
    {
      "cell_type": "code",
      "metadata": {
        "colab": {
          "base_uri": "https://localhost:8080/"
        },
        "id": "-EokS3OdeIhi",
        "outputId": "5d89bff0-42da-4f0c-8c80-33896f31d4e6"
      },
      "source": [
        "#정확도 확인\n",
        "print('Train data score:', log_reg.score(X_train,y_train))\n",
        "print('test data score:', log_reg.score(X_test,y_test))"
      ],
      "execution_count": null,
      "outputs": [
        {
          "output_type": "stream",
          "text": [
            "Train data score: 0.7716728750423298\n",
            "test data score: 0.7746172839506172\n"
          ],
          "name": "stdout"
        }
      ]
    },
    {
      "cell_type": "markdown",
      "metadata": {
        "id": "IkqfU_452S37"
      },
      "source": [
        "**머신러닝 모델 구축 -2) Decision Tree**"
      ]
    },
    {
      "cell_type": "code",
      "metadata": {
        "id": "UTEejbl92Vvr"
      },
      "source": [
        "tree = DecisionTreeClassifier(max_depth = 5,\n",
        "                              min_samples_leaf = 20,\n",
        "                              min_samples_split = 40).fit(X_train, y_train)"
      ],
      "execution_count": null,
      "outputs": []
    },
    {
      "cell_type": "code",
      "metadata": {
        "colab": {
          "base_uri": "https://localhost:8080/"
        },
        "id": "uUzDDBdN2ZPK",
        "outputId": "a2f93a83-d09c-4318-d934-9b1cc93e0d4e"
      },
      "source": [
        "#정확도 확인 train가 더 많이 나오면 과대 적합\n",
        " \n",
        "print('Train data score:', tree.score(X_train,y_train))\n",
        "print('test data score:', tree.score(X_test,y_test))"
      ],
      "execution_count": null,
      "outputs": [
        {
          "output_type": "stream",
          "text": [
            "Train data score: 0.5165932949542837\n",
            "test data score: 0.5217777777777778\n"
          ],
          "name": "stdout"
        }
      ]
    },
    {
      "cell_type": "markdown",
      "metadata": {
        "id": "_IsYMVV72c_K"
      },
      "source": [
        "**머신러닝 모델 구축 -3)GradientBoostingClassifier**"
      ]
    },
    {
      "cell_type": "code",
      "metadata": {
        "id": "EJvSKBZF2fwy"
      },
      "source": [
        "boost = GradientBoostingClassifier(max_depth=3, #트리의 갯수 \n",
        "                                   learning_rate =0.05).fit(X_train, y_train)"
      ],
      "execution_count": null,
      "outputs": []
    },
    {
      "cell_type": "code",
      "metadata": {
        "id": "H30cwDCk2h26",
        "colab": {
          "base_uri": "https://localhost:8080/"
        },
        "outputId": "c76a03f0-da7e-4d51-fce2-ec2f9f7997a0"
      },
      "source": [
        "#정확도 확인\n",
        "print('Train data score:', boost.score(X_train,y_train))\n",
        "print('test data score:', boost.score(X_test,y_test))"
      ],
      "execution_count": null,
      "outputs": [
        {
          "output_type": "stream",
          "text": [
            "Train data score: 0.9824331188621741\n",
            "test data score: 0.9816296296296296\n"
          ],
          "name": "stdout"
        }
      ]
    },
    {
      "cell_type": "markdown",
      "metadata": {
        "id": "5Bvc-ftj2rMT"
      },
      "source": [
        "**머신러닝 모델 구축 -4) RandomForestClassifier**"
      ]
    },
    {
      "cell_type": "code",
      "metadata": {
        "id": "jCe0XIoM2quA"
      },
      "source": [
        "random = RandomForestClassifier(n_estimators=300,                                                      # 수치가 안맞을때 수를 낮춰야됨\n",
        "                                random_state=0).fit(X_train,y_train)"
      ],
      "execution_count": null,
      "outputs": []
    },
    {
      "cell_type": "code",
      "metadata": {
        "id": "Wrl3Cx2d20FD",
        "colab": {
          "base_uri": "https://localhost:8080/"
        },
        "outputId": "0a25c7b6-a73a-4e55-e41c-3567d11cc07b"
      },
      "source": [
        "#정확도 확인\n",
        "print('Train accuracy score is:', random.score(X_train,y_train))\n",
        "print('test accuracy score is:', random.score(X_test,y_test))"
      ],
      "execution_count": null,
      "outputs": [
        {
          "output_type": "stream",
          "text": [
            "Train accuracy score is: 0.9910684050118523\n",
            "test accuracy score is: 0.9899259259259259\n"
          ],
          "name": "stdout"
        }
      ]
    },
    {
      "cell_type": "markdown",
      "metadata": {
        "id": "UlTPhgw0i9Sm"
      },
      "source": [
        "<                                                                                  "
      ]
    },
    {
      "cell_type": "markdown",
      "metadata": {
        "id": "AmmVmvObi9U2"
      },
      "source": [
        "<"
      ]
    },
    {
      "cell_type": "markdown",
      "metadata": {
        "id": "xIEwCMlIi9XX"
      },
      "source": [
        "<"
      ]
    },
    {
      "cell_type": "markdown",
      "metadata": {
        "id": "wpJRYLyMi9a-"
      },
      "source": [
        "<"
      ]
    },
    {
      "cell_type": "markdown",
      "metadata": {
        "id": "pElW4Ziei9dp"
      },
      "source": [
        "<"
      ]
    },
    {
      "cell_type": "markdown",
      "metadata": {
        "id": "xb7yOlo_i9gW"
      },
      "source": [
        "<"
      ]
    },
    {
      "cell_type": "code",
      "metadata": {
        "id": "7mPBLS5oNwLQ"
      },
      "source": [
        ""
      ],
      "execution_count": null,
      "outputs": []
    }
  ]
}