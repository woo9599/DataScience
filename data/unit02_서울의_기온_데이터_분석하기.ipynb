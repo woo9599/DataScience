{
  "nbformat": 4,
  "nbformat_minor": 0,
  "metadata": {
    "colab": {
      "name": "unit02-서울의 기온 데이터 분석하기.ipynb",
      "provenance": [],
      "collapsed_sections": [],
      "authorship_tag": "ABX9TyOuaqdy2y9bwhwWwIHzwzvZ",
      "include_colab_link": true
    },
    "kernelspec": {
      "name": "python3",
      "display_name": "Python 3"
    },
    "language_info": {
      "name": "python"
    }
  },
  "cells": [
    {
      "cell_type": "markdown",
      "metadata": {
        "id": "view-in-github",
        "colab_type": "text"
      },
      "source": [
        "<a href=\"https://colab.research.google.com/github/woo9599/DataScience/blob/main/unit02_%EC%84%9C%EC%9A%B8%EC%9D%98_%EA%B8%B0%EC%98%A8_%EB%8D%B0%EC%9D%B4%ED%84%B0_%EB%B6%84%EC%84%9D%ED%95%98%EA%B8%B0.ipynb\" target=\"_parent\"><img src=\"https://colab.research.google.com/assets/colab-badge.svg\" alt=\"Open In Colab\"/></a>"
      ]
    },
    {
      "cell_type": "markdown",
      "metadata": {
        "id": "k2En_8qUo07R"
      },
      "source": [
        "**seoul.csv 파일 읽어오기**"
      ]
    },
    {
      "cell_type": "code",
      "metadata": {
        "colab": {
          "base_uri": "https://localhost:8080/"
        },
        "id": "P6iscoogo2SI",
        "outputId": "f964f4cd-72d7-4498-9c92-167387b4a301"
      },
      "source": [
        "import csv #csv를 가져온다\n",
        "\n",
        "f = open('/content/seoul.csv','r',encoding='cp949') # 파일 경로 목적(읽기 모드) 인코딩 \n",
        "data = csv.reader(f, delimiter = ',') # csv통해 reader \n",
        "print(data)\n",
        "f.close()\n"
      ],
      "execution_count": null,
      "outputs": [
        {
          "output_type": "stream",
          "text": [
            "<_csv.reader object at 0x7feebcbc55d0>\n"
          ],
          "name": "stdout"
        }
      ]
    },
    {
      "cell_type": "code",
      "metadata": {
        "id": "cpEN-NPi4Rkn"
      },
      "source": [
        "import csv #csv를 가져온다\n",
        "\n",
        "f = open('/content/seoul.csv','r',encoding='cp949') # 파일 경로 목적(읽기 모드) 인코딩 \n",
        "data = csv.reader(f) # delimiter(구분자)  -> ,로 생략가능 (구분자 순서: ,-> ^ -> |)\n",
        "\n",
        "#데이터를 한줄씩 출력\n",
        "\n",
        "for row in data:\n",
        "  print(row)\n",
        "\n",
        "f.close()\n"
      ],
      "execution_count": null,
      "outputs": []
    },
    {
      "cell_type": "markdown",
      "metadata": {
        "id": "e57tHh177h03"
      },
      "source": [
        "**헤더 저장하기**"
      ]
    },
    {
      "cell_type": "code",
      "metadata": {
        "colab": {
          "base_uri": "https://localhost:8080/"
        },
        "id": "IGyoDAkB7dRe",
        "outputId": "4ad6a6a5-8bc5-42fc-c061-f4c1a49a3a8b"
      },
      "source": [
        "import csv #csv를 가져온다\n",
        "\n",
        "f = open('/content/seoul.csv','r',encoding='cp949')  \n",
        "data = csv.reader(f) \n",
        "header = next(data)  # 첫 번째 행을 읽은 후 다음 행으로 이동 시키는 함수\n",
        "header1 = next(data) # 그 다음 리스트 값 출력\n",
        "print(header)\n",
        "print(header1)\n",
        "print(next(data))\n",
        "print(next(data))\n",
        "f.close()\n",
        "\n"
      ],
      "execution_count": null,
      "outputs": [
        {
          "output_type": "stream",
          "text": [
            "['날짜', '지점', '평균기온(℃)', '최저기온(℃)', '최고기온(℃)']\n",
            "['1907-10-01', '108', '13.5', '7.9', '20.7']\n",
            "['1907-10-02', '108', '16.2', '7.9', '22']\n",
            "['1907-10-03', '108', '16.2', '13.1', '21.3']\n"
          ],
          "name": "stdout"
        }
      ]
    },
    {
      "cell_type": "code",
      "metadata": {
        "colab": {
          "base_uri": "https://localhost:8080/"
        },
        "id": "7gCD23tw8k6F",
        "outputId": "05851310-d7f2-4de7-d0fe-b3eaad7f690d"
      },
      "source": [
        "import csv #csv를 가져온다\n",
        "\n",
        "f = open('/content/seoul.csv','r',encoding='cp949')  \n",
        "data = csv.reader(f) \n",
        "\n",
        "header = next(data)  # 첫 번째 행을 읽은 후 다음 행으로 이동 시키는 함수\n",
        "print(header)\n",
        "\n",
        "print(next(data)) # 두 번째 행 읽은 후 다음 행으로 이동\n",
        "\n",
        "f.close()\n"
      ],
      "execution_count": null,
      "outputs": [
        {
          "output_type": "stream",
          "text": [
            "['날짜', '지점', '평균기온(℃)', '최저기온(℃)', '최고기온(℃)']\n",
            "['1907-10-01', '108', '13.5', '7.9', '20.7']\n"
          ],
          "name": "stdout"
        }
      ]
    },
    {
      "cell_type": "code",
      "metadata": {
        "id": "9Cr0ahpk91E2"
      },
      "source": [
        "import csv #csv를 가져온다\n",
        "\n",
        "f = open('/content/seoul.csv','r',encoding='cp949') \n",
        "\n",
        "data = csv.reader(f)  # data변수에 csv.readr를 저장한다.reader (f 변수에 저장된 서울 파일을 읽어온다)\n",
        "header = next(data)  # 헤더 추출  첫 번째 행을 읽은 후 다음 행으로 이동 시키는 함수\n",
        "print(header)\n",
        "\n",
        "# 데이터를 한줄씩 출력 \n",
        "\n",
        "for row in data: # for문을 돌려서 데이터를 추출한다.\n",
        "  print(row)\n",
        "\n",
        "f.close()"
      ],
      "execution_count": null,
      "outputs": []
    },
    {
      "cell_type": "markdown",
      "metadata": {
        "id": "SqIA6I_8D4bc"
      },
      "source": [
        "서울이 가장 더웠던 날은 어제였을까? 얼마나 더웠을까?\n",
        "\n",
        "1.   가장 더웠던 날의 기준은?\n",
        "2.   우리가 갖고 있는 데이터는?\n",
        "\n",
        "**기상 관측 이래, 서울의 최고기온이 가장 높았던 날은 언제 였고, 몇도 였을까?<br>**\n",
        "**날짜,최고기온 데이터를 사용**\n"
      ]
    },
    {
      "cell_type": "markdown",
      "metadata": {
        "id": "ZTXV1oqyI_uq"
      },
      "source": [
        "**기상 관측 이래, 서울의 평균 기온이 가장 높았던 날은 언제 였고, 몇도 였을까?<br>**\n",
        "**날짜,평균기온 데이터를 사용**\n"
      ]
    },
    {
      "cell_type": "markdown",
      "metadata": {
        "id": "4bdfGXPeJE3I"
      },
      "source": [
        "**기상 관측 이래, 서울의 최저 기온이 가장 낮았던 날은 언제 였고, 몇도 였을까?<br>**\n",
        "**날짜,최저기온 데이터를 사용**\n"
      ]
    },
    {
      "cell_type": "markdown",
      "metadata": {
        "id": "O3AwfGdqJJTo"
      },
      "source": [
        "**기상 관측 이래, 서울의 평균기온이 가장 낮았던 날은 언제 였고, 몇도 였을까?<br>**\n",
        "**날짜,평균기온 데이터를 사용**\n"
      ]
    },
    {
      "cell_type": "markdown",
      "metadata": {
        "id": "8FiKmCL9g1pI"
      },
      "source": [
        "문제해결 방법 구상하기\n",
        "1. 데이터를 읽어온다\n",
        "2. 순차적으로 최고 기온을 확인한다.\n",
        "3. 최고 기온이 가장 높았던 날짜의 데이터를 저장한다.\n",
        "4. 최종 저장된데이터를 출력한다."
      ]
    },
    {
      "cell_type": "code",
      "metadata": {
        "id": "qfYOlajE-PTg"
      },
      "source": [
        "import csv #csv를 가져온다\n",
        "\n",
        "f = open('/content/seoul.csv','r',encoding='cp949') \n",
        "\n",
        "data = csv.reader(f)  # data변수에 csv.readr를 저장한다.reader (f 변수에 저장된 서울 파일을 읽어온다)\n",
        "header = next(data)  # 헤더 추출  첫 번째 행을 읽은 후 다음 행으로 이동 시키는 함수\n",
        "print(header)\n",
        "\n",
        "for row in data: # for문을 돌려서 데이터를 추출한다. #데이터를 하나씩 출력하기 위해서 \n",
        "  print(row)\n",
        "\n",
        "f.close()"
      ],
      "execution_count": null,
      "outputs": []
    },
    {
      "cell_type": "code",
      "metadata": {
        "id": "SEA06TQAe0Nr"
      },
      "source": [
        ""
      ],
      "execution_count": null,
      "outputs": []
    },
    {
      "cell_type": "code",
      "metadata": {
        "id": "q8OPsO-3JvmG"
      },
      "source": [
        ""
      ],
      "execution_count": null,
      "outputs": []
    }
  ]
}
