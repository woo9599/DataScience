{
  "nbformat": 4,
  "nbformat_minor": 0,
  "metadata": {
    "colab": {
      "name": "unit03 - 서울이 가장 더웠던 날은 언제였을까.ipynb",
      "provenance": [],
      "collapsed_sections": [],
      "authorship_tag": "ABX9TyNO+WUx+TqlkatMqcbSJe9X",
      "include_colab_link": true
    },
    "kernelspec": {
      "name": "python3",
      "display_name": "Python 3"
    },
    "language_info": {
      "name": "python"
    }
  },
  "cells": [
    {
      "cell_type": "markdown",
      "metadata": {
        "id": "view-in-github",
        "colab_type": "text"
      },
      "source": [
        "<a href=\"https://colab.research.google.com/github/woo9599/DataScience/blob/main/unit03_%EC%84%9C%EC%9A%B8%EC%9D%B4_%EA%B0%80%EC%9E%A5_%EB%8D%94%EC%9B%A0%EB%8D%98_%EB%82%A0%EC%9D%80_%EC%96%B8%EC%A0%9C%EC%98%80%EC%9D%84%EA%B9%8C.ipynb\" target=\"_parent\"><img src=\"https://colab.research.google.com/assets/colab-badge.svg\" alt=\"Open In Colab\"/></a>"
      ]
    },
    {
      "cell_type": "markdown",
      "metadata": {
        "id": "EijDC4LZh3qF"
      },
      "source": [
        "**setp1) 데이터 불러서 한 행씩 출력하기**"
      ]
    },
    {
      "cell_type": "code",
      "metadata": {
        "id": "pXUq5LF4hrl9"
      },
      "source": [
        "import csv\n",
        "\n",
        "f = open('/content/seoul.csv','r',encoding='cp949') # 파일 경로 목적(읽기 모드) 인코딩 \n",
        "data = csv.reader(f) # csv통해 reader \n",
        "header = next(data) # 헤더 추출\n",
        "\n",
        "for row in data:\n",
        "  print(row)\n",
        "\n",
        "  #최고기온 데이터만 추출 '' = 문자열 소수점 -> 오류 발생 -> 결측치 때문에 -> 어떻게 처리 할까?\n",
        "  row[-1] = float(row[-1])#   float(row[-1]) -> 제일 마지막 컬럼 -> -1로 인덱스 처리\n",
        "\n",
        "f.close()\n"
      ],
      "execution_count": null,
      "outputs": []
    },
    {
      "cell_type": "markdown",
      "metadata": {
        "id": "el0i-YQxkomt"
      },
      "source": [
        "**데이터 중 최고 기온을 실수로 변환하여 한 행씩 출력하기 **"
      ]
    },
    {
      "cell_type": "code",
      "metadata": {
        "id": "eoRdbsKcku10"
      },
      "source": [
        "import csv\n",
        "\n",
        "max_temp = -999 # 최고 기온 값을 저장할 변수 -> 명확한 결과를 위해 극적인 값으로 셋팅(최고기온이0수도있음)\n",
        "max_date = ''#최고 기온이 가장 높았던 날짜를 저장하는 변수\n",
        "\n",
        "f = open('/content/seoul.csv','r',encoding='cp949') # 파일 경로 목적(읽기 모드) 인코딩 \n",
        "\n",
        "data = csv.reader(f) # csv통해 reader \n",
        "header = next(data) # 헤더 추출\n",
        "\n",
        "for row in data:\n",
        "\n",
        "  #최고 기온 데이터가 '' (결측치)인지 확인 \n",
        "  if row[-1] =='':\n",
        "    row[-1] = -999 # -999를 넣어서 빈 문자열('')이 있던 자리라고 표시\n",
        "  \n",
        "  row[-1] = float(row[-1]) # 기온 데이터 실수형으로 변환\n",
        "  print(row[0], row[-1]) # 날짜 데이터와 같이 출력 \n",
        "\n",
        "f.close()\n"
      ],
      "execution_count": null,
      "outputs": []
    },
    {
      "cell_type": "markdown",
      "metadata": {
        "id": "uM9oyw2sreQL"
      },
      "source": [
        "**step3) 최고기온과 최고기온 이었던 날짜찾기**"
      ]
    },
    {
      "cell_type": "code",
      "metadata": {
        "colab": {
          "base_uri": "https://localhost:8080/"
        },
        "id": "6_PgLFC3rmRQ",
        "outputId": "03530628-0117-4421-e498-3c9dd3d9781c"
      },
      "source": [
        "import csv\n",
        "\n",
        "max_temp = -999 # 최고 기온 값을 저장할 변수 -> 명확한 결과를 위해 극적인 값으로 셋팅(최고기온이0수도있음)\n",
        "max_date = ''#최고 기온이 가장 높았던 날짜를 저장하는 변수\n",
        "\n",
        "f = open('/content/seoul.csv','r',encoding='cp949') # 파일 경로 목적(읽기 모드) 인코딩 \n",
        "\n",
        "data = csv.reader(f) # csv통해 reader \n",
        "header = next(data) # 헤더 추출\n",
        "\n",
        "for row in data:\n",
        "\n",
        "  #최고 기온 데이터가 '' (결측치)인지 확인 \n",
        "  if row[-1] =='':\n",
        "    row[-1] = -999 # -999를 넣어서 빈 문자열('')이 있던 자리라고 표시\n",
        "  \n",
        "  row[-1] = float(row[-1]) # 기온 데이터 실수형으로 변환\n",
        "  \n",
        "\n",
        "  #최고 기온 정보를 저장 \n",
        "\n",
        "  if max_temp < row[-1]:\n",
        "    max_date = row[0]\n",
        "    max_temp = row[-1]\n",
        "\n",
        "f.close()\n",
        "\n",
        "print('기상 관측 이래 서울의 최고 기온이 가장 높았던 날은',max_date+'로',max_temp,'도 였습니다.')\n",
        "\n",
        "\n"
      ],
      "execution_count": null,
      "outputs": [
        {
          "output_type": "stream",
          "text": [
            "기상 관측 이래 서울의 최고 기온이 가장 높았던 날은 2018-08-01로 39.6 도 였습니다.\n"
          ],
          "name": "stdout"
        }
      ]
    },
    {
      "cell_type": "markdown",
      "metadata": {
        "id": "0gZdT0h3s1g6"
      },
      "source": [
        "**최저 기온과 최저 기온이었던 날짜 찾기 (스스로해보기)**"
      ]
    },
    {
      "cell_type": "code",
      "metadata": {
        "colab": {
          "base_uri": "https://localhost:8080/"
        },
        "id": "4VS8QbqPsCny",
        "outputId": "65488890-107f-4cc0-9168-facbe4e53868"
      },
      "source": [
        "import csv\n",
        "\n",
        "min_temp = 999  # 최고 기온 값을 저장할 변수 -> 명확한 결과를 위해 극적인 값으로 셋팅(최고기온이0수도있음)\n",
        "min_date = ''   #최고 기온이 가장 높았던 날짜를 저장하는 변수\n",
        "\n",
        "f = open('/content/seoul.csv','r',encoding='cp949') # 파일 경로 목적(읽기 모드) 인코딩 \n",
        "\n",
        "data = csv.reader(f) # csv통해 reader \n",
        "header = next(data) # 헤더 추출\n",
        "\n",
        "for row in data:\n",
        "\n",
        "  #최고 기온 데이터가 '' (결측치)인지 확인 \n",
        "  \n",
        "  if row[3] =='':      #최저 기온의 데이터 \n",
        "    row[3] = 999       # -999를 넣어서 빈 문자열('')이 있던 자리라고 표시\n",
        "  \n",
        "  row[3] = float(row[3]) # 기온 데이터 실수형으로 변환\n",
        "  \n",
        "\n",
        "  #최고 기온 정보를 저장 \n",
        "\n",
        "  if min_temp > row[3]:\n",
        "    min_date = row[0]\n",
        "    min_temp = row[3]\n",
        "\n",
        "f.close()\n",
        "\n",
        "print('기상 관측 이래 서울의 최저 기온이 가장 낮았던 날은',min_date+'로',min_temp,'도 였습니다.')\n"
      ],
      "execution_count": null,
      "outputs": [
        {
          "output_type": "stream",
          "text": [
            "기상 관측 이래 서울의 최저 기온이 가장 높았던 날은 1927-12-31로 -23.1 도 였습니다.\n"
          ],
          "name": "stdout"
        }
      ]
    },
    {
      "cell_type": "code",
      "metadata": {
        "colab": {
          "base_uri": "https://localhost:8080/"
        },
        "id": "0kkNAHQMwSvt",
        "outputId": "7f893a1a-ea63-4505-b3d7-6480b41709cd"
      },
      "source": [
        "#최고 기온의 최저 최고\n",
        "\n",
        "import csv\n",
        "\n",
        "max_temp = -999 # 최고 기온 값을 저장할 변수 -> 명확한 결과를 위해 극적인 값으로 셋팅(최고기온이0수도있음)\n",
        "max_date = ''#최고 기온이 가장 높았던 날짜를 저장하는 변수\n",
        "max_max_date = ''\n",
        "\n",
        "\n",
        "f = open('/content/seoul.csv','r',encoding='cp949') # 파일 경로 목적(읽기 모드) 인코딩 \n",
        "\n",
        "data = csv.reader(f) # csv통해 reader \n",
        "header = next(data) # 헤더 추출\n",
        "\n",
        "for row in data:\n",
        "\n",
        "  #최고 기온 데이터가 '' (결측치)인지 확인 \n",
        "  if row[-1] =='':        #최고기온데이터\n",
        "    row[-1] = -999 # -999를 넣어서 빈 문자열('')이 있던 자리라고 표시\n",
        "  row[-1] = float(row[-1]) # 기온 데이터 실수형으로 변환\n",
        "  \n",
        "\n",
        "  #최고 기온 정보를 저장 \n",
        "\n",
        "  if max_temp < row[-1]:\n",
        "    max_date = row[0]\n",
        "    max_temp = row[-1]\n",
        "\n",
        "\n",
        "\n",
        "print('기상 관측 이래 서울의 최고 기온이 가장 높았던 날은',max_date+'로',max_temp,'도 였습니다.')\n",
        "\n",
        "max_temp = 999\n",
        "max_date = ''\n",
        "max_max_date = ''\n",
        "\n",
        "if row[-1] == '':\n",
        "  row[-1] = 999\n",
        "  row[-1] =float(row[-1])\n",
        "\n",
        "  if max_temp > row[-1]:\n",
        "    max_max_date = row[0]\n",
        "    max_max_date = row[-1]  \n",
        "  \n",
        "print('기상 관측 이래 서울의 최고 기온의 최저 기온 가장 높았던 날은',max_max_date+'로',max_temp,'도 였습니다.')\n",
        "  \n",
        "\n",
        "\n",
        "  "
      ],
      "execution_count": null,
      "outputs": [
        {
          "output_type": "stream",
          "text": [
            "기상 관측 이래 서울의 최고 기온이 가장 높았던 날은 2018-08-01로 39.6 도 였습니다.\n",
            "기상 관측 이래 서울의 최고 기온의 최저 기온 가장 높았던 날은 로 999 도 였습니다.\n"
          ],
          "name": "stdout"
        }
      ]
    },
    {
      "cell_type": "code",
      "metadata": {
        "id": "N_vuIyCwzYSZ",
        "colab": {
          "base_uri": "https://localhost:8080/"
        },
        "outputId": "d29f7c10-8f76-4479-a46d-7b78bf5c2b18"
      },
      "source": [
        "#최고 기온의 최저 최고\n",
        "\n",
        "import csv\n",
        "\n",
        "max_temp = -999 # 최고 기온 값을 저장할 변수 -> 명확한 결과를 위해 극적인 값으로 셋팅(최고기온이0수도있음)\n",
        "max_date = ''#최고 기온이 가장 높았던 날짜를 저장하는 변수\n",
        "\n",
        "\n",
        "\n",
        "f = open('/content/seoul.csv','r',encoding='cp949') # 파일 경로 목적(읽기 모드) 인코딩 \n",
        "\n",
        "data = csv.reader(f) # csv통해 reader \n",
        "header = next(data) # 헤더 추출\n",
        "\n",
        "#for row in data:\n",
        "\n",
        "  #최고 기온 데이터가 '' (결측치)인지 확인 \n",
        "  # if row[-1] =='':        #최고기온데이터\n",
        "  #   row[-1] = -999 # -999를 넣어서 빈 문자열('')이 있던 자리라고 표시\n",
        "  # row[-1] = float(row[-1]) # 기온 데이터 실수형으로 변환\n",
        "  \n",
        "\n",
        "  # #최고 기온 정보를 저장 \n",
        "\n",
        "  # if max_temp < row[-1]:\n",
        "  #   max_date = row[0]\n",
        "  #   max_temp = row[-1]\n",
        "\n",
        "\n",
        "\n",
        "#print('기상 관측 이래 서울의 최고 기온이 가장 높았던 날은',max_date+'로',max_temp,'도 였습니다.')\n",
        "\n",
        "max_temp = 999\n",
        "max_date = ''\n",
        "\n",
        "\n",
        "for row in data:\n",
        "\n",
        "  if row[-1] == '':\n",
        "    row[-1] = 999\n",
        "\n",
        "  #if row[-1] == str(0):\n",
        "  #  row[-1] = 999\n",
        "\n",
        "  row[-1] =float(row[-1])\n",
        "  \n",
        "  if max_temp > row[-1]:\n",
        "    max_date = row[0]\n",
        "    max_temp = row[-1]  \n",
        "  \n",
        "#print('기상 관측 이래 서울의 최고 기온의 최저 기온 가장 높았던 날은',max_date+'로',max_temp,'도 였습니다.')\n",
        "print('기상 관측 이래 서울의 최고 기온의 최저 기온 가장 높았던 날은',max_date,'로',max_temp,'도 였습니다.')\n",
        "  \n",
        "\n",
        "\n",
        "  \n"
      ],
      "execution_count": null,
      "outputs": [
        {
          "output_type": "stream",
          "text": [
            "기상 관측 이래 서울의 최고 기온의 최저 기온 가장 높았던 날은 1915-01-13 로 -16.3 도 였습니다.\n"
          ],
          "name": "stdout"
        }
      ]
    },
    {
      "cell_type": "code",
      "metadata": {
        "colab": {
          "base_uri": "https://localhost:8080/"
        },
        "id": "XAzQOsskCNZY",
        "outputId": "85059a85-6a6c-4e75-9e9a-07cc14469818"
      },
      "source": [
        "#최저중에 최고\n",
        "\n",
        "import csv\n",
        "\n",
        "\n",
        "\n",
        "f = open('/content/seoul.csv','r',encoding='cp949') # 파일 경로 목적(읽기 모드) 인코딩 \n",
        "\n",
        "data = csv.reader(f) \n",
        "header = next(data) \n",
        "\n",
        "max_temp = -999\n",
        "max_date = ''\n",
        "\n",
        "for row in data:\n",
        "  if row[3] == '':\n",
        "    row[3] = -999\n",
        "  \n",
        "  row[3] = float(row[3])\n",
        "\n",
        "  if max_temp < row[3]:\n",
        "    max_date = row[0]\n",
        "    max_temp = row[3]\n",
        "\n",
        "print('기상 관측 이래 서울의 최고 기온의 최저 기온 가장 높았던 날은',max_date,'로',max_temp,'도 였습니다.')"
      ],
      "execution_count": null,
      "outputs": [
        {
          "output_type": "stream",
          "text": [
            "기상 관측 이래 서울의 최고 기온의 최저 기온 가장 높았던 날은 2018-08-02 로 30.3 도 였습니다.\n"
          ],
          "name": "stdout"
        }
      ]
    }
  ]
}