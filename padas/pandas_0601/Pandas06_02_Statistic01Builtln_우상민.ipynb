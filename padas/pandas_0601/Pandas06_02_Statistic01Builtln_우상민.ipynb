{
 "cells": [
  {
   "cell_type": "code",
   "execution_count": 9,
   "metadata": {},
   "outputs": [],
   "source": [
    "import pandas as pd"
   ]
  },
  {
   "cell_type": "code",
   "execution_count": 10,
   "metadata": {
    "scrolled": true
   },
   "outputs": [
    {
     "name": "stdout",
     "output_type": "stream",
     "text": [
      "Built-in 정렬 sort_values() : \n",
      " 6     20\n",
      "2     24\n",
      "3     25\n",
      "9     26\n",
      "0     28\n",
      "4     30\n",
      "7     30\n",
      "1     31\n",
      "8     31\n",
      "10    31\n",
      "5     32\n",
      "dtype: int64\n",
      "Built-in 평균 maen() : 28\n",
      "Built-in 중위수 median() : 30\n",
      "Built-in 분산 var() : 14\n",
      "Built-in 표준편차 std() : 3\n",
      "Built-in 제1사분위수 quantile() : 25\n",
      "Built-in 제2사분위수 quantile() : 30\n",
      "Built-in 제3사분위수 quantile() : 31\n"
     ]
    },
    {
     "data": {
      "text/plain": [
       "count    11.000000\n",
       "mean     28.000000\n",
       "std       3.794733\n",
       "min      20.000000\n",
       "25%      25.500000\n",
       "50%      30.000000\n",
       "75%      31.000000\n",
       "max      32.000000\n",
       "dtype: float64"
      ]
     },
     "execution_count": 10,
     "metadata": {},
     "output_type": "execute_result"
    }
   ],
   "source": [
    "lst=[28,31,24,25,30,32,20,30,31,26,31] \n",
    "\n",
    "da = pd.Series(lst)\n",
    "print(\"Built-in 정렬 sort_values() : \\n\", da.sort_values(ascending =True))\n",
    "print(\"Built-in 평균 maen() : %d\" %da.mean())\n",
    "print(\"Built-in 중위수 median() : %d\" %da.median())\n",
    "print(\"Built-in 분산 var() : %d\" %da.var())\n",
    "print(\"Built-in 표준편차 std() : %d\" %da.std())\n",
    "print(\"Built-in 제1사분위수 quantile() : %d\" %da.quantile(q=0.25))\n",
    "print(\"Built-in 제2사분위수 quantile() : %d\" %da.quantile(q=0.5))\n",
    "print(\"Built-in 제3사분위수 quantile() : %d\" %da.quantile(q=0.75))\n",
    "\n",
    "\n",
    "'''\n",
    "import numpy\n",
    "bStd = numpy.std(lst)\n",
    "print(\"Bulit -in 표준편차 mMean():%d\" %bStd)\n",
    "'''\n",
    "\n",
    "da.describe() # 설명적 통계량  "
   ]
  }
 ],
 "metadata": {
  "kernelspec": {
   "display_name": "Python 3",
   "language": "python",
   "name": "python3"
  },
  "language_info": {
   "codemirror_mode": {
    "name": "ipython",
    "version": 3
   },
   "file_extension": ".py",
   "mimetype": "text/x-python",
   "name": "python",
   "nbconvert_exporter": "python",
   "pygments_lexer": "ipython3",
   "version": "3.6.5"
  }
 },
 "nbformat": 4,
 "nbformat_minor": 2
}
