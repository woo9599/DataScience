{
 "cells": [
  {
   "cell_type": "code",
   "execution_count": 65,
   "metadata": {},
   "outputs": [],
   "source": [
    "import pandas "
   ]
  },
  {
   "cell_type": "code",
   "execution_count": 66,
   "metadata": {},
   "outputs": [],
   "source": [
    "df = pandas.read_csv('./data/gapminder.tsv', sep='\\t')"
   ]
  },
  {
   "cell_type": "code",
   "execution_count": 72,
   "metadata": {},
   "outputs": [
    {
     "name": "stdout",
     "output_type": "stream",
     "text": [
      "======================================================================\n",
      "1952년   Africa  지역평균기대수명:39.14\n",
      "1952년  Americas 지역평균기대수명:53.28\n",
      "1952년    Asia   지역평균기대수명:46.31\n",
      "1952년   Europe  지역평균기대수명:64.41\n",
      "1952년  Oceania  지역평균기대수명:69.25\n",
      "============================================================\n",
      "1957년   Africa  지역평균기대수명:41.27\n",
      "1957년  Americas 지역평균기대수명:55.96\n",
      "1957년    Asia   지역평균기대수명:49.32\n",
      "1957년   Europe  지역평균기대수명:66.70\n",
      "1957년  Oceania  지역평균기대수명:70.30\n",
      "============================================================\n",
      "1962년   Africa  지역평균기대수명:43.32\n",
      "1962년  Americas 지역평균기대수명:58.40\n",
      "1962년    Asia   지역평균기대수명:51.56\n",
      "1962년   Europe  지역평균기대수명:68.54\n",
      "1962년  Oceania  지역평균기대수명:71.09\n",
      "============================================================\n",
      "1967년   Africa  지역평균기대수명:45.33\n",
      "1967년  Americas 지역평균기대수명:60.41\n",
      "1967년    Asia   지역평균기대수명:54.66\n",
      "1967년   Europe  지역평균기대수명:69.74\n",
      "1967년  Oceania  지역평균기대수명:71.31\n",
      "============================================================\n",
      "1972년   Africa  지역평균기대수명:47.45\n",
      "1972년  Americas 지역평균기대수명:62.39\n",
      "1972년    Asia   지역평균기대수명:57.32\n",
      "1972년   Europe  지역평균기대수명:70.78\n",
      "1972년  Oceania  지역평균기대수명:71.91\n",
      "============================================================\n",
      "1977년   Africa  지역평균기대수명:49.58\n",
      "1977년  Americas 지역평균기대수명:64.39\n",
      "1977년    Asia   지역평균기대수명:59.61\n",
      "1977년   Europe  지역평균기대수명:71.94\n",
      "1977년  Oceania  지역평균기대수명:72.85\n",
      "============================================================\n",
      "1982년   Africa  지역평균기대수명:51.59\n",
      "1982년  Americas 지역평균기대수명:66.23\n",
      "1982년    Asia   지역평균기대수명:62.62\n",
      "1982년   Europe  지역평균기대수명:72.81\n",
      "1982년  Oceania  지역평균기대수명:74.29\n",
      "============================================================\n",
      "1987년   Africa  지역평균기대수명:53.34\n",
      "1987년  Americas 지역평균기대수명:68.09\n",
      "1987년    Asia   지역평균기대수명:64.85\n",
      "1987년   Europe  지역평균기대수명:73.64\n",
      "1987년  Oceania  지역평균기대수명:75.32\n",
      "============================================================\n",
      "1992년   Africa  지역평균기대수명:53.63\n",
      "1992년  Americas 지역평균기대수명:69.57\n",
      "1992년    Asia   지역평균기대수명:66.54\n",
      "1992년   Europe  지역평균기대수명:74.44\n",
      "1992년  Oceania  지역평균기대수명:76.94\n",
      "============================================================\n",
      "1997년   Africa  지역평균기대수명:53.60\n",
      "1997년  Americas 지역평균기대수명:71.15\n",
      "1997년    Asia   지역평균기대수명:68.02\n",
      "1997년   Europe  지역평균기대수명:75.51\n",
      "1997년  Oceania  지역평균기대수명:78.19\n",
      "============================================================\n",
      "2002년   Africa  지역평균기대수명:53.33\n",
      "2002년  Americas 지역평균기대수명:72.42\n",
      "2002년    Asia   지역평균기대수명:69.23\n",
      "2002년   Europe  지역평균기대수명:76.70\n",
      "2002년  Oceania  지역평균기대수명:79.74\n",
      "============================================================\n",
      "2007년   Africa  지역평균기대수명:54.81\n",
      "2007년  Americas 지역평균기대수명:73.61\n",
      "2007년    Asia   지역평균기대수명:70.73\n",
      "2007년   Europe  지역평균기대수명:77.65\n",
      "2007년  Oceania  지역평균기대수명:80.72\n",
      "============================================================\n"
     ]
    },
    {
     "name": "stderr",
     "output_type": "stream",
     "text": [
      "C:\\Anaconda3.5.2\\lib\\site-packages\\ipykernel_launcher.py:11: UserWarning: Boolean Series key will be reindexed to match DataFrame index.\n",
      "  # This is added back by InteractiveShellApp.init_path()\n"
     ]
    }
   ],
   "source": [
    "uniList =df['year'].unique()\n",
    "onList =df['continent'].unique()\n",
    "onList.sort()\n",
    "print('='*70)\n",
    "for i in uniList:\n",
    "    #print(i,\"==========>\")\n",
    "    LList = df[df['year'] == i]\n",
    "    #LList = df.groupby('year')\n",
    "    for j in onList:\n",
    "        #print(j,\"==========>\")\n",
    "        yList = LList[df['continent'] == j]\n",
    "        #yList = df.groupby('continent')\n",
    "        #print(i,j,'=========>:')\n",
    "        print(f\"{i}년 {j:^10}지역평균기대수명:{yList['lifeExp'].mean():.2f}\")\n",
    "    print('='*60)\n",
    "   "
   ]
  },
  {
   "cell_type": "code",
   "execution_count": null,
   "metadata": {},
   "outputs": [],
   "source": []
  }
 ],
 "metadata": {
  "kernelspec": {
   "display_name": "Python 3",
   "language": "python",
   "name": "python3"
  },
  "language_info": {
   "codemirror_mode": {
    "name": "ipython",
    "version": 3
   },
   "file_extension": ".py",
   "mimetype": "text/x-python",
   "name": "python",
   "nbconvert_exporter": "python",
   "pygments_lexer": "ipython3",
   "version": "3.6.5"
  }
 },
 "nbformat": 4,
 "nbformat_minor": 2
}
