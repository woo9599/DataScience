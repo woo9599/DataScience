{
 "cells": [
  {
   "cell_type": "code",
   "execution_count": 17,
   "metadata": {},
   "outputs": [],
   "source": [
    "import pandas"
   ]
  },
  {
   "cell_type": "code",
   "execution_count": 18,
   "metadata": {},
   "outputs": [],
   "source": [
    "df = pandas.read_csv('./data/gapminder.tsv', sep='\\t')"
   ]
  },
  {
   "cell_type": "code",
   "execution_count": 20,
   "metadata": {},
   "outputs": [
    {
     "name": "stdout",
     "output_type": "stream",
     "text": [
      "1952 =========> :\n",
      "16950402.46478873\n",
      "1957 =========> :\n",
      "18763412.53521127\n",
      "1962 =========> :\n",
      "20421006.85915493\n",
      "1967 =========> :\n",
      "22658298.478873238\n",
      "1972 =========> :\n",
      "25189979.985915493\n",
      "1977 =========> :\n",
      "27676378.92253521\n",
      "1982 =========> :\n",
      "30207301.690140843\n",
      "1987 =========> :\n",
      "33038573.366197184\n",
      "1992 =========> :\n",
      "35990917.32394366\n",
      "1997 =========> :\n",
      "38839468.112676054\n",
      "2002 =========> :\n",
      "41457588.58450704\n",
      "2007 =========> :\n",
      "44021219.57042254\n"
     ]
    }
   ],
   "source": [
    "# 날짜 unique값 << pop\n",
    "# 연도로 그룹하고 인구의 평균값 확인\n",
    "\n",
    "uniqueList= df['year'].unique()\n",
    "\n",
    "for idx in uniqueList:\n",
    "    print(idx,\"=========> :\")\n",
    "    yearList =df[df[\"year\"] == idx]\n",
    "    print(yearList[\"pop\"].mean())"
   ]
  },
  {
   "cell_type": "code",
   "execution_count": null,
   "metadata": {},
   "outputs": [],
   "source": []
  },
  {
   "cell_type": "code",
   "execution_count": null,
   "metadata": {},
   "outputs": [],
   "source": []
  }
 ],
 "metadata": {
  "kernelspec": {
   "display_name": "Python 3",
   "language": "python",
   "name": "python3"
  },
  "language_info": {
   "codemirror_mode": {
    "name": "ipython",
    "version": 3
   },
   "file_extension": ".py",
   "mimetype": "text/x-python",
   "name": "python",
   "nbconvert_exporter": "python",
   "pygments_lexer": "ipython3",
   "version": "3.6.5"
  }
 },
 "nbformat": 4,
 "nbformat_minor": 2
}
