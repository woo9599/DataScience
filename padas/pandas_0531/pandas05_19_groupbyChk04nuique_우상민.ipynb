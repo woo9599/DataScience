{
 "cells": [
  {
   "cell_type": "code",
   "execution_count": 2,
   "metadata": {},
   "outputs": [
    {
     "name": "stdout",
     "output_type": "stream",
     "text": [
      "[28, 31, 24, 25, 30, 32, 20, 30, 31, 26, 31]\n"
     ]
    }
   ],
   "source": [
    "datalist=[28,31,24,25,30,32,20,30,31,26,31]\n",
    "print(datalist)\n",
    "#def mMedian:\n",
    "    #Data sort 홀수 :32\n",
    "    #Data sort 짝수 :2개의 평균값\n",
    "    #pass\n"
   ]
  },
  {
   "cell_type": "code",
   "execution_count": 3,
   "metadata": {},
   "outputs": [],
   "source": [
    "def mMean(datalist):\n",
    "    sum =0 \n",
    "    for i in datalist:\n",
    "        sum = sum + i\n",
    "    return sum/len(datalist)\n"
   ]
  },
  {
   "cell_type": "code",
   "execution_count": 4,
   "metadata": {},
   "outputs": [
    {
     "data": {
      "text/plain": [
       "28.0"
      ]
     },
     "execution_count": 4,
     "metadata": {},
     "output_type": "execute_result"
    }
   ],
   "source": [
    "mMean(datalist)"
   ]
  },
  {
   "cell_type": "code",
   "execution_count": 5,
   "metadata": {},
   "outputs": [
    {
     "name": "stdout",
     "output_type": "stream",
     "text": [
      "[28, 31, 24, 25, 30, 32, 20, 30, 31, 26, 31]\n"
     ]
    }
   ],
   "source": [
    "a =[28,31,24,25,30,32,20,30,31,26,31]\n",
    "print(a)"
   ]
  },
  {
   "cell_type": "code",
   "execution_count": 6,
   "metadata": {},
   "outputs": [],
   "source": [
    "def mMedian(a):\n",
    "    for i in range(len(a)-1):\n",
    "        for j in range(i+1,(len(a))):\n",
    "            if a[i]>a[j]:\n",
    "                #a[i]a[j] = a[j]a[i]\n",
    "                tmp = 0\n",
    "                \n",
    "                tmp = a[i]\n",
    "                a[i] = a[j]\n",
    "                a[j] = tmp\n",
    "    print(a)\n",
    "    if len(a)%2 != 0:\n",
    "        print(a[int(len(a)/2)])\n",
    "    elif len(a)%2 == 0:\n",
    "        print((a[int(len(a)/2)]+a[int(len(a)/2)-1])/2)\n",
    "        \n",
    "            \n",
    "    \n",
    "            \n",
    "    \n",
    "    \n",
    "    \n",
    "    "
   ]
  },
  {
   "cell_type": "code",
   "execution_count": 7,
   "metadata": {},
   "outputs": [
    {
     "name": "stdout",
     "output_type": "stream",
     "text": [
      "[20, 24, 25, 26, 28, 30, 30, 31, 31, 31, 32]\n",
      "30\n"
     ]
    }
   ],
   "source": [
    "mMedian(a)"
   ]
  },
  {
   "cell_type": "code",
   "execution_count": 8,
   "metadata": {},
   "outputs": [],
   "source": [
    "a=[28,31,24,25,30,32,20,30,31,26,31]\n"
   ]
  },
  {
   "cell_type": "code",
   "execution_count": 9,
   "metadata": {},
   "outputs": [],
   "source": [
    "def mDeviation(): \n",
    "    Devlist =[]\n",
    "    avg = mMean(a)\n",
    "    for i in a:\n",
    "        Devlist.append(i - avg)\n",
    "    return Devlist\n",
    "    \n",
    "    \n",
    "    "
   ]
  },
  {
   "cell_type": "code",
   "execution_count": 10,
   "metadata": {},
   "outputs": [
    {
     "name": "stdout",
     "output_type": "stream",
     "text": [
      "[0.0, 3.0, -4.0, -3.0, 2.0, 4.0, -8.0, 2.0, 3.0, -2.0, 3.0]\n"
     ]
    }
   ],
   "source": [
    "print(mDeviation())"
   ]
  },
  {
   "cell_type": "code",
   "execution_count": 13,
   "metadata": {},
   "outputs": [
    {
     "data": {
      "text/plain": [
       "'\\n편차(관측값 - 관측값의 평균, def mDeviation)\\n분산()\\n\\n분산은 편차 (관측값 - 관측값의 평균)의 제곱합에 (관측수 -1)\\n관측수 리스트 수 만큼 (편차의 제곱) 합  /  (리스트 수 -1)\\ndef mVariance:\\n'"
      ]
     },
     "execution_count": 13,
     "metadata": {},
     "output_type": "execute_result"
    }
   ],
   "source": [
    "a=[28,31,24,25,30,32,20,30,31,26,31]   \n",
    "'''\n",
    "편차(관측값 - 관측값의 평균, def mDeviation)\n",
    "분산()\n",
    "\n",
    "분산은 편차 (관측값 - 관측값의 평균)의 제곱합에 (관측수 -1)\n",
    "관측수 리스트 수 만큼 (편차의 제곱) 합  /  (리스트 수 -1)\n",
    "def mVariance:\n",
    "'''"
   ]
  },
  {
   "cell_type": "code",
   "execution_count": 14,
   "metadata": {},
   "outputs": [],
   "source": [
    "def mVariance():\n",
    "    var =[]\n",
    "    dev = mDeviation()\n",
    "    for i in dev:\n",
    "        var.append(i**2)\n",
    "    return sum(var)/(len(var)-1)\n",
    "        "
   ]
  },
  {
   "cell_type": "code",
   "execution_count": 15,
   "metadata": {},
   "outputs": [
    {
     "data": {
      "text/plain": [
       "14.4"
      ]
     },
     "execution_count": 15,
     "metadata": {},
     "output_type": "execute_result"
    }
   ],
   "source": [
    "mVariance()"
   ]
  },
  {
   "cell_type": "code",
   "execution_count": 16,
   "metadata": {},
   "outputs": [
    {
     "data": {
      "text/plain": [
       "'\\n편차 : 관측값  - 관측평균 \\n분산 :  편차의 제곱한 값을 n-1 \\n표준편차 : 분산의제곱근 \\n분산 **(1/2)\\n'"
      ]
     },
     "execution_count": 16,
     "metadata": {},
     "output_type": "execute_result"
    }
   ],
   "source": [
    "'''\n",
    "편차 : 관측값  - 관측평균 \n",
    "분산 :  편차의 제곱한 값을 n-1 \n",
    "\n",
    "\n",
    "표준편차 : 분산의제곱근 \n",
    "분산 **(1/2)\n",
    "'''"
   ]
  },
  {
   "cell_type": "code",
   "execution_count": 71,
   "metadata": {},
   "outputs": [],
   "source": [
    "a=[28,31,24,25,30,32,20,30,31,26,31] \n",
    "    "
   ]
  },
  {
   "cell_type": "code",
   "execution_count": 75,
   "metadata": {},
   "outputs": [],
   "source": [
    "'''\n",
    "def mStandardDeviation():\n",
    "    var =[]\n",
    "    dev = mDeviation()\n",
    "    for i in dev:\n",
    "        var.append(i**2)\n",
    "    a = sum(var)/(len(var)-1)\n",
    "    print(a)\n",
    "    print(a**(1/2))\n",
    "'''\n",
    "\n",
    "\n",
    "\n",
    "def mStandardDeviation():\n",
    "    var =[]\n",
    "    dev = mDeviation()\n",
    "    for i in dev:\n",
    "        var.append(i**2)\n",
    "        sum(var)/(len(a)-1)\n",
    "    le= var**(1/2)\n",
    "    return le\n",
    "\n",
    "\n",
    "def mStandardDeviation():\n",
    "    return mVariance() **(1/2)\n",
    "        \n",
    "    "
   ]
  },
  {
   "cell_type": "code",
   "execution_count": 76,
   "metadata": {},
   "outputs": [
    {
     "ename": "TypeError",
     "evalue": "unsupported operand type(s) for ** or pow(): 'list' and 'float'",
     "output_type": "error",
     "traceback": [
      "\u001b[1;31m---------------------------------------------------------------------------\u001b[0m",
      "\u001b[1;31mTypeError\u001b[0m                                 Traceback (most recent call last)",
      "\u001b[1;32m<ipython-input-76-bec27c9df7bc>\u001b[0m in \u001b[0;36m<module>\u001b[1;34m()\u001b[0m\n\u001b[1;32m----> 1\u001b[1;33m \u001b[0mprint\u001b[0m\u001b[1;33m(\u001b[0m\u001b[0mmStandardDeviation\u001b[0m\u001b[1;33m(\u001b[0m\u001b[1;33m)\u001b[0m\u001b[1;33m)\u001b[0m\u001b[1;33m\u001b[0m\u001b[0m\n\u001b[0m",
      "\u001b[1;32m<ipython-input-75-6280c457711a>\u001b[0m in \u001b[0;36mmStandardDeviation\u001b[1;34m()\u001b[0m\n\u001b[0;32m     18\u001b[0m         \u001b[0mvar\u001b[0m\u001b[1;33m.\u001b[0m\u001b[0mappend\u001b[0m\u001b[1;33m(\u001b[0m\u001b[0mi\u001b[0m\u001b[1;33m**\u001b[0m\u001b[1;36m2\u001b[0m\u001b[1;33m)\u001b[0m\u001b[1;33m\u001b[0m\u001b[0m\n\u001b[0;32m     19\u001b[0m         \u001b[0msum\u001b[0m\u001b[1;33m(\u001b[0m\u001b[0mvar\u001b[0m\u001b[1;33m)\u001b[0m\u001b[1;33m/\u001b[0m\u001b[1;33m(\u001b[0m\u001b[0mlen\u001b[0m\u001b[1;33m(\u001b[0m\u001b[0ma\u001b[0m\u001b[1;33m)\u001b[0m\u001b[1;33m-\u001b[0m\u001b[1;36m1\u001b[0m\u001b[1;33m)\u001b[0m\u001b[1;33m\u001b[0m\u001b[0m\n\u001b[1;32m---> 20\u001b[1;33m     \u001b[0mle\u001b[0m\u001b[1;33m=\u001b[0m \u001b[0mvar\u001b[0m\u001b[1;33m**\u001b[0m\u001b[1;33m(\u001b[0m\u001b[1;36m1\u001b[0m\u001b[1;33m/\u001b[0m\u001b[1;36m2\u001b[0m\u001b[1;33m)\u001b[0m\u001b[1;33m\u001b[0m\u001b[0m\n\u001b[0m\u001b[0;32m     21\u001b[0m     \u001b[1;32mreturn\u001b[0m \u001b[0mle\u001b[0m\u001b[1;33m\u001b[0m\u001b[0m\n\u001b[0;32m     22\u001b[0m \u001b[1;33m\u001b[0m\u001b[0m\n",
      "\u001b[1;31mTypeError\u001b[0m: unsupported operand type(s) for ** or pow(): 'list' and 'float'"
     ]
    }
   ],
   "source": [
    "print(mStandardDeviation())"
   ]
  },
  {
   "cell_type": "code",
   "execution_count": null,
   "metadata": {},
   "outputs": [],
   "source": [
    "def mRange():\n",
    "    \n",
    "    "
   ]
  },
  {
   "cell_type": "code",
   "execution_count": null,
   "metadata": {},
   "outputs": [],
   "source": []
  }
 ],
 "metadata": {
  "kernelspec": {
   "display_name": "Python 3",
   "language": "python",
   "name": "python3"
  },
  "language_info": {
   "codemirror_mode": {
    "name": "ipython",
    "version": 3
   },
   "file_extension": ".py",
   "mimetype": "text/x-python",
   "name": "python",
   "nbconvert_exporter": "python",
   "pygments_lexer": "ipython3",
   "version": "3.6.5"
  }
 },
 "nbformat": 4,
 "nbformat_minor": 2
}
