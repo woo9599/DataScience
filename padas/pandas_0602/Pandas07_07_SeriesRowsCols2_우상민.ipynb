{
 "cells": [
  {
   "cell_type": "code",
   "execution_count": 1,
   "metadata": {},
   "outputs": [],
   "source": [
    "import pandas as pd"
   ]
  },
  {
   "cell_type": "code",
   "execution_count": 3,
   "metadata": {},
   "outputs": [
    {
     "name": "stdout",
     "output_type": "stream",
     "text": [
      "    수학  영어   음악   체육\n",
      "서준  90  98   85  100\n",
      "우현  80  89   95   90\n",
      "인아  70  95  100   90 \n",
      "\n",
      "수학     90\n",
      "영어     98\n",
      "음악     85\n",
      "체육    100\n",
      "Name: 서준, dtype: int64 \n",
      "\n",
      "수학     90\n",
      "영어     98\n",
      "음악     85\n",
      "체육    100\n",
      "Name: 서준, dtype: int64 \n",
      "\n"
     ]
    }
   ],
   "source": [
    "exam_data = {'수학' :[90,80,70], '영어' : [98,89,95],\n",
    "            '음악' : [85,95,100], '체육' : [100,90,90]}\n",
    "\n",
    "df = pd.DataFrame(exam_data, index =['서준','우현','인아'])\n",
    "print(df,\"\\n\")\n",
    "\n",
    "label1 = df.loc['서준']\n",
    "position1 = df.iloc[0]\n",
    "print(label1,'\\n')\n",
    "print(position1,'\\n')\n"
   ]
  },
  {
   "cell_type": "code",
   "execution_count": 6,
   "metadata": {},
   "outputs": [
    {
     "name": "stdout",
     "output_type": "stream",
     "text": [
      "    수학  영어  음악   체육\n",
      "서준  90  98  85  100\n",
      "우현  80  89  95   90 \n",
      "\n",
      "    수학  영어  음악   체육\n",
      "서준  90  98  85  100\n",
      "우현  80  89  95   90 \n",
      "\n",
      "    수학  영어  음악   체육\n",
      "서준  90  98  85  100\n",
      "우현  80  89  95   90 \n",
      "\n",
      "    수학  영어  음악   체육\n",
      "서준  90  98  85  100\n"
     ]
    }
   ],
   "source": [
    "lable2 = df.loc[['서준','우현']]\n",
    "position2 = df.iloc[[0,1]]\n",
    "print(lable2,'\\n')\n",
    "print(position2,'\\n')\n",
    "\n",
    "label3 = df.loc['서준':'우현']\n",
    "position3 = df.iloc[0:1]\n",
    "print(label3, '\\n')\n",
    "print(position3)"
   ]
  },
  {
   "cell_type": "code",
   "execution_count": 8,
   "metadata": {},
   "outputs": [
    {
     "name": "stdout",
     "output_type": "stream",
     "text": [
      "   이름  수학  영어   음악   체육\n",
      "0  서준  90  98   85  100\n",
      "1  우현  80  89   95   90\n",
      "2  인아  70  95  100   90 \n",
      "\n",
      "<class 'pandas.core.frame.DataFrame'> \n",
      "\n",
      "0    90\n",
      "1    80\n",
      "2    70\n",
      "Name: 수학, dtype: int64 \n",
      "\n",
      "<class 'pandas.core.series.Series'> \n",
      "\n"
     ]
    }
   ],
   "source": [
    "exam_data = {'이름' : ['서준','우현','인아'],\n",
    "            '수학' : [90 , 80 , 70],\n",
    "            '영어' : [98 , 89 , 95],\n",
    "            '음악' : [ 85, 95 , 100],\n",
    "            '체육' : [100,90,  90]}\n",
    "df = pd.DataFrame(exam_data)\n",
    "print(df,'\\n')\n",
    "print(type(df),'\\n')\n",
    "\n",
    "math1 = df['수학']\n",
    "print(math1, '\\n')\n",
    "print(type(math1),'\\n')"
   ]
  },
  {
   "cell_type": "code",
   "execution_count": 9,
   "metadata": {},
   "outputs": [
    {
     "name": "stdout",
     "output_type": "stream",
     "text": [
      "    음악   체육\n",
      "0   85  100\n",
      "1   95   90\n",
      "2  100   90 \n",
      "\n",
      "<class 'pandas.core.frame.DataFrame'> \n",
      "\n",
      "   수학\n",
      "0  90\n",
      "1  80\n",
      "2  70 \n",
      "\n",
      "<class 'pandas.core.frame.DataFrame'>\n"
     ]
    }
   ],
   "source": [
    "music_gym = df[['음악','체육']]\n",
    "print(music_gym,'\\n')\n",
    "print(type(music_gym),'\\n')\n",
    "\n",
    "math2 = df[['수학']]\n",
    "print(math2,'\\n')\n",
    "print(type(math2))\n"
   ]
  },
  {
   "cell_type": "code",
   "execution_count": 10,
   "metadata": {},
   "outputs": [
    {
     "name": "stdout",
     "output_type": "stream",
     "text": [
      "   이름  수학  영어   음악   체육\n",
      "0  서준  90  98   85  100\n",
      "1  우현  80  89   95   90\n",
      "2  인아  70  95  100   90 \n",
      "\n",
      "    수학  영어   음악   체육\n",
      "이름                  \n",
      "서준  90  98   85  100\n",
      "우현  80  89   95   90\n",
      "인아  70  95  100   90 \n",
      "\n",
      "85 \n",
      "\n",
      "85 \n",
      "\n"
     ]
    }
   ],
   "source": [
    "exam_data = {'이름' : ['서준','우현','인아'],\n",
    "            '수학' : [90 , 80 , 70],\n",
    "            '영어' : [98 , 89 , 95],\n",
    "            '음악' : [ 85, 95 , 100],\n",
    "            '체육' : [100,90,  90]}\n",
    "df = pd.DataFrame(exam_data)\n",
    "print(df,'\\n')\n",
    "\n",
    "df.set_index('이름', inplace=True)\n",
    "print(df,'\\n')\n",
    "\n",
    "a =df.loc['서준','음악']\n",
    "print(a,'\\n')\n",
    "b = df.iloc[0,2]\n",
    "print(b,'\\n')"
   ]
  },
  {
   "cell_type": "code",
   "execution_count": 12,
   "metadata": {},
   "outputs": [
    {
     "name": "stdout",
     "output_type": "stream",
     "text": [
      "음악     85\n",
      "체육    100\n",
      "Name: 서준, dtype: int64 \n",
      "\n",
      "음악     85\n",
      "체육    100\n",
      "Name: 서준, dtype: int64 \n",
      "\n",
      "음악     85\n",
      "체육    100\n",
      "Name: 서준, dtype: int64 \n",
      "\n",
      "음악     85\n",
      "체육    100\n",
      "Name: 서준, dtype: int64 \n",
      "\n"
     ]
    }
   ],
   "source": [
    "c = df.loc['서준',['음악','체육']]\n",
    "print(c,'\\n')\n",
    "d = df.iloc[0,[2,3]]\n",
    "print(d,'\\n')\n",
    "e = df.loc['서준','음악':'체육']\n",
    "print(e,'\\n')\n",
    "f = df.iloc[0,2:]\n",
    "print(f,'\\n')"
   ]
  },
  {
   "cell_type": "code",
   "execution_count": 16,
   "metadata": {},
   "outputs": [
    {
     "name": "stdout",
     "output_type": "stream",
     "text": [
      "    음악   체육\n",
      "이름         \n",
      "서준  85  100\n",
      "우현  95   90 \n",
      "\n",
      "df.iloc[[0,1],[2,3]]\n",
      "     음악   체육\n",
      "이름         \n",
      "서준  85  100\n",
      "우현  95   90 \n",
      "\n",
      "df.loc['서준':'우현', '음악':'체육']\n",
      "     음악   체육\n",
      "이름         \n",
      "서준  85  100\n",
      "우현  95   90 \n",
      "\n",
      "    음악   체육\n",
      "이름         \n",
      "서준  85  100\n",
      "우현  95   90\n"
     ]
    }
   ],
   "source": [
    "g = df.loc[['서준', '우현'],['음악','체육']]\n",
    "print(g,'\\n')\n",
    "h =df.iloc[[0,1],[2,3]]\n",
    "print(\"df.iloc[[0,1],[2,3]]\\n\",h,'\\n')\n",
    "i = df.loc['서준':'우현','음악':'체육']\n",
    "print(\"df.loc['서준':'우현', '음악':'체육']\\n\",i,'\\n')\n",
    "j = df.iloc[0:2,2:]\n",
    "print(j)"
   ]
  },
  {
   "cell_type": "code",
   "execution_count": 18,
   "metadata": {},
   "outputs": [
    {
     "name": "stdout",
     "output_type": "stream",
     "text": [
      "    수학  영어   음악   체육\n",
      "이름                  \n",
      "서준  90  98   85  100\n",
      "우현  80  89   95   90\n",
      "인아  70  95  100   90\n"
     ]
    },
    {
     "data": {
      "text/html": [
       "<div>\n",
       "<style scoped>\n",
       "    .dataframe tbody tr th:only-of-type {\n",
       "        vertical-align: middle;\n",
       "    }\n",
       "\n",
       "    .dataframe tbody tr th {\n",
       "        vertical-align: top;\n",
       "    }\n",
       "\n",
       "    .dataframe thead th {\n",
       "        text-align: right;\n",
       "    }\n",
       "</style>\n",
       "<table border=\"1\" class=\"dataframe\">\n",
       "  <thead>\n",
       "    <tr style=\"text-align: right;\">\n",
       "      <th></th>\n",
       "      <th>음악</th>\n",
       "      <th>체육</th>\n",
       "    </tr>\n",
       "    <tr>\n",
       "      <th>이름</th>\n",
       "      <th></th>\n",
       "      <th></th>\n",
       "    </tr>\n",
       "  </thead>\n",
       "  <tbody>\n",
       "    <tr>\n",
       "      <th>서준</th>\n",
       "      <td>85</td>\n",
       "      <td>100</td>\n",
       "    </tr>\n",
       "    <tr>\n",
       "      <th>우현</th>\n",
       "      <td>95</td>\n",
       "      <td>90</td>\n",
       "    </tr>\n",
       "    <tr>\n",
       "      <th>인아</th>\n",
       "      <td>100</td>\n",
       "      <td>90</td>\n",
       "    </tr>\n",
       "  </tbody>\n",
       "</table>\n",
       "</div>"
      ],
      "text/plain": [
       "     음악   체육\n",
       "이름          \n",
       "서준   85  100\n",
       "우현   95   90\n",
       "인아  100   90"
      ]
     },
     "execution_count": 18,
     "metadata": {},
     "output_type": "execute_result"
    }
   ],
   "source": [
    "df.loc[:,['음악','체육']]\n",
    "print(df)\n",
    "df.iloc[:,[2,3]]\n",
    "df.iloc[:,2:4]"
   ]
  },
  {
   "cell_type": "code",
   "execution_count": null,
   "metadata": {},
   "outputs": [],
   "source": []
  }
 ],
 "metadata": {
  "kernelspec": {
   "display_name": "Python 3",
   "language": "python",
   "name": "python3"
  },
  "language_info": {
   "codemirror_mode": {
    "name": "ipython",
    "version": 3
   },
   "file_extension": ".py",
   "mimetype": "text/x-python",
   "name": "python",
   "nbconvert_exporter": "python",
   "pygments_lexer": "ipython3",
   "version": "3.6.5"
  }
 },
 "nbformat": 4,
 "nbformat_minor": 2
}
