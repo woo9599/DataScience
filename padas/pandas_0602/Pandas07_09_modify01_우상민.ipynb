{
 "cells": [
  {
   "cell_type": "code",
   "execution_count": 26,
   "metadata": {},
   "outputs": [
    {
     "name": "stdout",
     "output_type": "stream",
     "text": [
      "   이름  수학  영어   음악   체육\n",
      "0  서준  90  98   85  100\n",
      "1  우현  80  89   95   90\n",
      "2  인아  70  95  100   90 \n",
      "\n",
      "    수학  영어   음악   체육\n",
      "이름                  \n",
      "서준  90  98   85  100\n",
      "우현  80  89   95   90\n",
      "인아  70  95  100   90 \n",
      "\n",
      "    수학  영어   음악  체육\n",
      "이름                 \n",
      "서준  90  98   85  80\n",
      "우현  80  89   95  90\n",
      "인아  70  95  100  90 \n",
      "\n",
      "    수학  영어   음악  체육\n",
      "이름                 \n",
      "서준  90  98   85  90\n",
      "우현  80  89   95  90\n",
      "인아  70  95  100  90 \n",
      "\n",
      "    수학  영어   음악   체육\n",
      "이름                  \n",
      "서준  90  98   85  100\n",
      "우현  80  89   95   90\n",
      "인아  70  95  100   90 \n",
      "\n"
     ]
    }
   ],
   "source": [
    "import pandas as pd\n",
    "#데이터프레임 df의 원소 여러 개를 변경하는 방법 :'서준'의 '음악','체육' 점수\n",
    "exam_data ={'이름' : [ '서준','우현','인아'],\n",
    "           '수학' : [90,80,70],\n",
    "           '영어' : [98,89,95],\n",
    "           '음악' : [85,95,100],\n",
    "           '체육' : [100,90,90]}\n",
    "df = pd.DataFrame(exam_data)\n",
    "print(df,'\\n')\n",
    "\n",
    "#'이름' 열을 새로운 인덱스로 지정하고, df객체에 변경사항 반영\n",
    "df.set_index('이름', inplace=True)\n",
    "print(df,'\\n')\n",
    "\n",
    "#데이터프레임 df의 특정 원소를 변경하는 방법: '서준'의 '체육'점수\n",
    "\n",
    "df.iloc[0][3] = 80\n",
    "print(df,'\\n')\n",
    "\n",
    "df.loc['서준']['체육'] = 90\n",
    "print(df,'\\n')\n",
    "\n",
    "df.loc['서준','체육'] = 100\n",
    "print(df,'\\n')\n",
    "\n",
    "\n"
   ]
  },
  {
   "cell_type": "code",
   "execution_count": 28,
   "metadata": {},
   "outputs": [
    {
     "name": "stdout",
     "output_type": "stream",
     "text": [
      "    수학  영어   음악  체육\n",
      "이름                 \n",
      "서준  90  98   50  50\n",
      "우현  80  89   95  90\n",
      "인아  70  95  100  90 \n",
      "\n",
      "    수학  영어   음악  체육\n",
      "이름                 \n",
      "서준  90  98  100  50\n",
      "우현  80  89   95  90\n",
      "인아  70  95  100  90\n"
     ]
    }
   ],
   "source": [
    "# 데이터 프레임 df의 원소 여러 개를 변경하는 방법 : '서준'의 '음악' ,'체육' 점수\n",
    "df.loc['서준',['음악','체육']] = 50\n",
    "print(df,'\\n')\n",
    "\n",
    "df.loc['서준',['음악','체육']] = 100,50\n",
    "print(df)"
   ]
  },
  {
   "cell_type": "code",
   "execution_count": null,
   "metadata": {},
   "outputs": [],
   "source": []
  }
 ],
 "metadata": {
  "kernelspec": {
   "display_name": "Python 3",
   "language": "python",
   "name": "python3"
  },
  "language_info": {
   "codemirror_mode": {
    "name": "ipython",
    "version": 3
   },
   "file_extension": ".py",
   "mimetype": "text/x-python",
   "name": "python",
   "nbconvert_exporter": "python",
   "pygments_lexer": "ipython3",
   "version": "3.6.5"
  }
 },
 "nbformat": 4,
 "nbformat_minor": 2
}
