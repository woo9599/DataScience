{
 "cells": [
  {
   "cell_type": "code",
   "execution_count": 1,
   "metadata": {},
   "outputs": [],
   "source": [
    "import pandas as pd"
   ]
  },
  {
   "cell_type": "code",
   "execution_count": 3,
   "metadata": {},
   "outputs": [
    {
     "name": "stdout",
     "output_type": "stream",
     "text": [
      "    c0  c1  c2  c3  c4\n",
      "r0   1   4   7  10  13\n",
      "r1   2   5   8  11  14\n",
      "r2   3   6   9  12  15 \n",
      "\n",
      "    c0  c1  c2  c3  c4\n",
      "ro   1   4   7  10  13\n",
      "r1   2   5   8  11  14\n",
      "r2   3   6   9  12  15 \n",
      "\n",
      "  index  c0  c1  c2  c3  c4\n",
      "0    ro   1   4   7  10  13\n",
      "1    r1   2   5   8  11  14\n",
      "2    r2   3   6   9  12  15\n"
     ]
    }
   ],
   "source": [
    "#딕셔너리를 정의\n",
    "dict_data = {'c0' : [1,2,3], 'c1':[4,5,6], 'c2':[7,8,9], 'c3':[10,11,12],'c4':[13,14,15]}\n",
    "\n",
    "df = pd.DataFrame(dict_data, index = ['r0','r1','r2'])\n",
    "print(df,'\\n')\n",
    "#딕셔너리를 데이터프레임으로 변환.인덱스를 [r0,r1,r2]로 지정\n",
    "\n",
    "df = pd.DataFrame(dict_data, index=['ro','r1','r2'])\n",
    "print(df,'\\n')\n",
    "\n",
    "#행 인덱스를 정수형으로 초기화\n",
    "ndf = df.reset_index()\n",
    "print(ndf)\n"
   ]
  }
 ],
 "metadata": {
  "kernelspec": {
   "display_name": "Python 3",
   "language": "python",
   "name": "python3"
  },
  "language_info": {
   "codemirror_mode": {
    "name": "ipython",
    "version": 3
   },
   "file_extension": ".py",
   "mimetype": "text/x-python",
   "name": "python",
   "nbconvert_exporter": "python",
   "pygments_lexer": "ipython3",
   "version": "3.6.5"
  }
 },
 "nbformat": 4,
 "nbformat_minor": 2
}
