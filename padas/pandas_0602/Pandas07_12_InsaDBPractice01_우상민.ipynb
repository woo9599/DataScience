{
 "cells": [
  {
   "cell_type": "code",
   "execution_count": null,
   "metadata": {},
   "outputs": [],
   "source": [
    "'''\n",
    "문제06\n",
    "인상급여 : sawonDB 데이터에서 급여 10% 인상\n",
    "인상급여 필드 추가 확인\n",
    "문제 07\n",
    "sawonDB 데이터에서 전산부 직원의 평균연봉출력\n",
    "문제 08\n",
    "컬럼 이름순 재배치, sort_values()함수 적용\n",
    "문제09\n",
    "sawonDB 데이터에서 직위가 사원과 대리중 직원수가 4인이상인 직위 평균급여 출력\n",
    "\n",
    "'''"
   ]
  }
 ],
 "metadata": {
  "kernelspec": {
   "display_name": "Python 3",
   "language": "python",
   "name": "python3"
  },
  "language_info": {
   "codemirror_mode": {
    "name": "ipython",
    "version": 3
   },
   "file_extension": ".py",
   "mimetype": "text/x-python",
   "name": "python",
   "nbconvert_exporter": "python",
   "pygments_lexer": "ipython3",
   "version": "3.6.5"
  }
 },
 "nbformat": 4,
 "nbformat_minor": 2
}
