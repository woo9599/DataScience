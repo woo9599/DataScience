{
 "cells": [
  {
   "cell_type": "code",
   "execution_count": 2,
   "metadata": {},
   "outputs": [],
   "source": [
    "import pandas as pd"
   ]
  },
  {
   "cell_type": "code",
   "execution_count": 4,
   "metadata": {},
   "outputs": [],
   "source": [
    "dict_data = {'a':[1,3],'b':[2,3],'c':[3,3]}"
   ]
  },
  {
   "cell_type": "code",
   "execution_count": 6,
   "metadata": {},
   "outputs": [],
   "source": [
    "sr =pd.Series(dict_data)"
   ]
  },
  {
   "cell_type": "code",
   "execution_count": 8,
   "metadata": {},
   "outputs": [
    {
     "name": "stdout",
     "output_type": "stream",
     "text": [
      "<class 'pandas.core.series.Series'>\n",
      "\n",
      "\n"
     ]
    }
   ],
   "source": [
    "print(type(sr))\n",
    "print('\\n')\n"
   ]
  },
  {
   "cell_type": "code",
   "execution_count": 10,
   "metadata": {},
   "outputs": [
    {
     "name": "stdout",
     "output_type": "stream",
     "text": [
      "a    [1, 3]\n",
      "b    [2, 3]\n",
      "c    [3, 3]\n",
      "dtype: object\n"
     ]
    }
   ],
   "source": [
    "print(sr)"
   ]
  },
  {
   "cell_type": "code",
   "execution_count": 13,
   "metadata": {},
   "outputs": [
    {
     "name": "stdout",
     "output_type": "stream",
     "text": [
      "0    2021-05-19\n",
      "1          3.14\n",
      "2           ABC\n",
      "3           100\n",
      "4          True\n",
      "dtype: object \n",
      "\n"
     ]
    }
   ],
   "source": [
    "list_data = ['2021-05-19',3.14,'ABC',100,True]\n",
    "sr = pd.Series(list_data)\n",
    "print(sr,'\\n')"
   ]
  },
  {
   "cell_type": "code",
   "execution_count": 17,
   "metadata": {},
   "outputs": [
    {
     "name": "stdout",
     "output_type": "stream",
     "text": [
      "sr.index: RangeIndex(start=0, stop=5, step=1) \n",
      "\n",
      "sr.index type : <class 'pandas.core.indexes.range.RangeIndex'> \n",
      "\n",
      "sr.values: ['2021-05-19' 3.14 'ABC' 100 True]\n",
      "sr.values type: <class 'numpy.ndarray'>\n"
     ]
    }
   ],
   "source": [
    "idx = sr.index\n",
    "val = sr.values\n",
    "print('sr.index:',idx,'\\n')\n",
    "print('sr.index type :',type(idx),'\\n')\n",
    "print('sr.values:',val)\n",
    "print('sr.values type:',type(val))"
   ]
  },
  {
   "cell_type": "code",
   "execution_count": 19,
   "metadata": {},
   "outputs": [
    {
     "name": "stdout",
     "output_type": "stream",
     "text": [
      "이름              영인\n",
      "생년월일    2010-05-01\n",
      "성별               여\n",
      "학생여부          True\n",
      "dtype: object \n",
      "\n",
      "영인 \n",
      "\n",
      "영인\n"
     ]
    }
   ],
   "source": [
    "tup_data = ('영인','2010-05-01','여',True)\n",
    "sr = pd.Series(tup_data,index = ['이름','생년월일','성별','학생여부'])\n",
    "print(sr,'\\n')\n",
    "print(sr[0],'\\n')\n",
    "print(sr['이름'])"
   ]
  },
  {
   "cell_type": "code",
   "execution_count": 21,
   "metadata": {},
   "outputs": [
    {
     "name": "stdout",
     "output_type": "stream",
     "text": [
      "생년월일    2010-05-01\n",
      "성별               여\n",
      "dtype: object \n",
      "\n",
      "생년월일    2010-05-01\n",
      "성별               여\n",
      "dtype: object \n",
      "\n",
      "생년월일    2010-05-01\n",
      "dtype: object \n",
      "\n",
      "생년월일    2010-05-01\n",
      "성별               여\n",
      "dtype: object\n"
     ]
    }
   ],
   "source": [
    "print(sr[[1,2]],'\\n')\n",
    "print(sr[['생년월일','성별']],'\\n')\n",
    "print(sr[1:2],'\\n')\n",
    "print(sr['생년월일':'성별'])"
   ]
  },
  {
   "cell_type": "code",
   "execution_count": 23,
   "metadata": {},
   "outputs": [
    {
     "name": "stdout",
     "output_type": "stream",
     "text": [
      "range(1, 7)\n",
      "1\n",
      "2\n",
      "3\n",
      "4\n",
      "5\n",
      "6\n"
     ]
    }
   ],
   "source": [
    "a =range(1,7)\n",
    "print(a)\n",
    "for i in a:\n",
    "    print(i)"
   ]
  },
  {
   "cell_type": "code",
   "execution_count": 24,
   "metadata": {},
   "outputs": [
    {
     "name": "stdout",
     "output_type": "stream",
     "text": [
      "생년월일    2010-05-01\n",
      "성별               여\n",
      "dtype: object\n"
     ]
    },
    {
     "data": {
      "text/plain": [
       "pandas.core.series.Series"
      ]
     },
     "execution_count": 24,
     "metadata": {},
     "output_type": "execute_result"
    }
   ],
   "source": [
    "test = sr['생년월일' : '성별']\n",
    "print(test)\n",
    "type(test)"
   ]
  },
  {
   "cell_type": "code",
   "execution_count": 27,
   "metadata": {},
   "outputs": [
    {
     "name": "stdout",
     "output_type": "stream",
     "text": [
      "<class 'pandas.core.frame.DataFrame'> \n",
      "\n",
      "   c0  c1  c2  c3  c4\n",
      "0   1   4   7  10  13\n",
      "1   2   5   8  11  14\n",
      "2   3   6   9  12  15\n"
     ]
    }
   ],
   "source": [
    "dict_data = {'c0':[1,2,3],'c1':[4,5,6],'c2':[7,8,9],'c3':[10,11,12],'c4':[13,14,15]}\n",
    "df=pd.DataFrame(dict_data)\n",
    "print(type(df),'\\n')\n",
    "print(df)"
   ]
  },
  {
   "cell_type": "code",
   "execution_count": 29,
   "metadata": {},
   "outputs": [
    {
     "name": "stdout",
     "output_type": "stream",
     "text": [
      "    나이 성별   학교\n",
      "준서  15  남  덕영중\n",
      "예은  17  여   수리 \n",
      "\n",
      "Index(['준서', '예은'], dtype='object') \n",
      "\n",
      "Index(['나이', '성별', '학교'], dtype='object') \n",
      "\n",
      "     연령 남녀   소속\n",
      "학생1  15  남  덕영중\n",
      "학생2  17  여   수리 \n",
      "\n",
      "Index(['학생1', '학생2'], dtype='object') \n",
      "\n",
      "Index(['연령', '남녀', '소속'], dtype='object') \n",
      "\n"
     ]
    }
   ],
   "source": [
    "df = pd.DataFrame([[15,'남','덕영중'],[17,'여','수리']],\n",
    "                 index = ['준서','예은'],\n",
    "                 columns = ['나이','성별','학교'])\n",
    "print(df,\"\\n\")\n",
    "print(df.index,'\\n')\n",
    "print(df.columns,'\\n')\n",
    "\n",
    "df.index=['학생1','학생2']\n",
    "df.columns =['연령','남녀','소속']\n",
    "\n",
    "print(df,'\\n')\n",
    "print(df.index,'\\n')\n",
    "print(df.columns,'\\n')"
   ]
  },
  {
   "cell_type": "code",
   "execution_count": 33,
   "metadata": {},
   "outputs": [
    {
     "name": "stdout",
     "output_type": "stream",
     "text": [
      "    나이 성별   학교\n",
      "준서  15  남  덕영중\n",
      "예은  17  여   수리 \n",
      "\n",
      "    연령 남녀   소속\n",
      "준서  15  남  덕영중\n",
      "예은  17  여   수리\n",
      "    나이 성별   학교\n",
      "준서  15  남  덕영중\n",
      "예은  17  여   수리\n",
      "     연령 남녀   소속\n",
      "학생1  15  남  덕영중\n",
      "학생2  17  여   수리\n"
     ]
    }
   ],
   "source": [
    "df = pd.DataFrame([[15,'남','덕영중'],[17,'여','수리']],\n",
    "                 index = ['준서','예은'],\n",
    "                 columns = ['나이','성별','학교'])\n",
    "\n",
    "\n",
    "print(df,'\\n')\n",
    "\n",
    "redf =df.rename(columns={'나이':'연령','성별':'남녀','학교':'소속'})\n",
    "df.rename(index={'준서':'학생1','예은':'학생2'})\n",
    "\n",
    "print(redf)\n",
    "print(df)\n",
    "\n",
    "df.rename(columns={'나이':'연령','성별':'남녀','학교':'소속'},inplace =True)\n",
    "df.rename(index = {'준서':'학생1', '예은':'학생2'}, inplace=True)\n",
    "\n",
    "print(df)"
   ]
  },
  {
   "cell_type": "code",
   "execution_count": null,
   "metadata": {},
   "outputs": [],
   "source": []
  },
  {
   "cell_type": "code",
   "execution_count": null,
   "metadata": {},
   "outputs": [],
   "source": []
  }
 ],
 "metadata": {
  "kernelspec": {
   "display_name": "Python 3",
   "language": "python",
   "name": "python3"
  },
  "language_info": {
   "codemirror_mode": {
    "name": "ipython",
    "version": 3
   },
   "file_extension": ".py",
   "mimetype": "text/x-python",
   "name": "python",
   "nbconvert_exporter": "python",
   "pygments_lexer": "ipython3",
   "version": "3.6.5"
  }
 },
 "nbformat": 4,
 "nbformat_minor": 2
}
