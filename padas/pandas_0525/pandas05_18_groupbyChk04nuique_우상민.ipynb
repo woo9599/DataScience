{
 "cells": [
  {
   "cell_type": "code",
   "execution_count": 1,
   "metadata": {},
   "outputs": [],
   "source": [
    "import pandas"
   ]
  },
  {
   "cell_type": "code",
   "execution_count": 2,
   "metadata": {},
   "outputs": [],
   "source": [
    "df = pandas.read_csv('./data./gapminder.tsv',sep ='\\t')"
   ]
  },
  {
   "cell_type": "code",
   "execution_count": 3,
   "metadata": {},
   "outputs": [
    {
     "name": "stdout",
     "output_type": "stream",
     "text": [
      "continent\n",
      "Africa      624\n",
      "Americas    300\n",
      "Asia        396\n",
      "Europe      360\n",
      "Oceania      24\n",
      "Name: year, dtype: int64\n"
     ]
    }
   ],
   "source": [
    "print(df.groupby('continent')['year'].count())"
   ]
  },
  {
   "cell_type": "code",
   "execution_count": 4,
   "metadata": {},
   "outputs": [
    {
     "name": "stdout",
     "output_type": "stream",
     "text": [
      "continent\n",
      "Africa      12\n",
      "Americas    12\n",
      "Asia        12\n",
      "Europe      12\n",
      "Oceania     12\n",
      "Name: year, dtype: int64 \n",
      "=======>\n"
     ]
    }
   ],
   "source": [
    "print(df.groupby('continent')['year'].nunique(),\"\\n=======>\")"
   ]
  },
  {
   "cell_type": "code",
   "execution_count": 5,
   "metadata": {},
   "outputs": [
    {
     "name": "stdout",
     "output_type": "stream",
     "text": [
      "continent\n",
      "Africa      [1952, 1957, 1962, 1967, 1972, 1977, 1982, 198...\n",
      "Americas    [1952, 1957, 1962, 1967, 1972, 1977, 1982, 198...\n",
      "Asia        [1952, 1957, 1962, 1967, 1972, 1977, 1982, 198...\n",
      "Europe      [1952, 1957, 1962, 1967, 1972, 1977, 1982, 198...\n",
      "Oceania     [1952, 1957, 1962, 1967, 1972, 1977, 1982, 198...\n",
      "Name: year, dtype: object \n",
      "=======>\n"
     ]
    }
   ],
   "source": [
    "print(df.groupby('continent')['year'].unique(),\"\\n=======>\")"
   ]
  },
  {
   "cell_type": "code",
   "execution_count": 6,
   "metadata": {},
   "outputs": [
    {
     "name": "stdout",
     "output_type": "stream",
     "text": [
      "[1952 1957 1962 1967 1972 1977 1982 1987 1992 1997 2002 2007] \n",
      "=======>\n"
     ]
    }
   ],
   "source": [
    "print(df.groupby('continent')['year'].unique()['Africa'],\"\\n=======>\")"
   ]
  },
  {
   "cell_type": "code",
   "execution_count": null,
   "metadata": {},
   "outputs": [],
   "source": []
  }
 ],
 "metadata": {
  "kernelspec": {
   "display_name": "Python 3",
   "language": "python",
   "name": "python3"
  },
  "language_info": {
   "codemirror_mode": {
    "name": "ipython",
    "version": 3
   },
   "file_extension": ".py",
   "mimetype": "text/x-python",
   "name": "python",
   "nbconvert_exporter": "python",
   "pygments_lexer": "ipython3",
   "version": "3.6.5"
  }
 },
 "nbformat": 4,
 "nbformat_minor": 2
}
