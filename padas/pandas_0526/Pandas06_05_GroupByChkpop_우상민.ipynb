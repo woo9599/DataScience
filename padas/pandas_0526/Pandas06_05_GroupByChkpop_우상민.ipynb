{
 "cells": [
  {
   "cell_type": "code",
   "execution_count": 3,
   "metadata": {},
   "outputs": [],
   "source": [
    "import pandas"
   ]
  },
  {
   "cell_type": "code",
   "execution_count": 4,
   "metadata": {},
   "outputs": [],
   "source": [
    "df = pandas.read_csv('./data/gapminder.tsv', sep='\\t')"
   ]
  },
  {
   "cell_type": "code",
   "execution_count": 6,
   "metadata": {},
   "outputs": [
    {
     "name": "stdout",
     "output_type": "stream",
     "text": [
      "Asia ========>  :\n",
      "60.064903232323175\n",
      "Europe ========>  :\n",
      "71.90368611111106\n",
      "Africa ========>  :\n",
      "48.86533012820508\n",
      "Americas ========>  :\n",
      "64.65873666666667\n",
      "Oceania ========>  :\n",
      "74.32620833333333\n"
     ]
    }
   ],
   "source": [
    "\n",
    "uniList = df['continent'].unique()\n",
    "for idx in uniList:\n",
    "    print(idx, \"========>  :\" )\n",
    "    lifeL = df[df['continent'] == idx]\n",
    "    print(lifeL[\"lifeExp\"].mean())"
   ]
  },
  {
   "cell_type": "code",
   "execution_count": 7,
   "metadata": {},
   "outputs": [
    {
     "data": {
      "text/plain": [
       "continent\n",
       "Africa      48.865330\n",
       "Americas    64.658737\n",
       "Asia        60.064903\n",
       "Europe      71.903686\n",
       "Oceania     74.326208\n",
       "Name: lifeExp, dtype: float64"
      ]
     },
     "execution_count": 7,
     "metadata": {},
     "output_type": "execute_result"
    }
   ],
   "source": [
    "group_co = df.groupby('continent')\n",
    "group_co[\"lifeExp\"].mean()"
   ]
  }
 ],
 "metadata": {
  "kernelspec": {
   "display_name": "Python 3",
   "language": "python",
   "name": "python3"
  },
  "language_info": {
   "codemirror_mode": {
    "name": "ipython",
    "version": 3
   },
   "file_extension": ".py",
   "mimetype": "text/x-python",
   "name": "python",
   "nbconvert_exporter": "python",
   "pygments_lexer": "ipython3",
   "version": "3.6.5"
  }
 },
 "nbformat": 4,
 "nbformat_minor": 2
}
