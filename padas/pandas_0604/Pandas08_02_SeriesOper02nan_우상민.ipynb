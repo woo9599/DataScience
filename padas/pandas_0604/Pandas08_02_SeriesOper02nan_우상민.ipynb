{
 "cells": [
  {
   "cell_type": "code",
   "execution_count": 6,
   "metadata": {},
   "outputs": [],
   "source": [
    "import pandas as pd\n",
    "import numpy as np"
   ]
  },
  {
   "cell_type": "code",
   "execution_count": 7,
   "metadata": {},
   "outputs": [
    {
     "name": "stdout",
     "output_type": "stream",
     "text": [
      "국어     NaN\n",
      "영어    80.0\n",
      "수학    90.0\n",
      "dtype: float64 \n",
      "\n",
      "수학    80\n",
      "국어    90\n",
      "dtype: int64 \n",
      "\n",
      "<class 'pandas.core.series.Series'> \n",
      "\n",
      "     국어        수학  영어\n",
      "덧셈  NaN   170.000 NaN\n",
      "뺄셈  NaN    10.000 NaN\n",
      "곱셈  NaN  7200.000 NaN\n",
      "나눗셈 NaN     1.125 NaN \n",
      "\n",
      "       국어        수학         영어\n",
      "덧셈   90.0   170.000  80.000000\n",
      "뺄셈  -90.0    10.000  80.000000\n",
      "곱셈    0.0  7200.000   0.000000\n",
      "나눗셈   0.0     1.125        inf \n",
      "\n"
     ]
    }
   ],
   "source": [
    "# 딕셔너리 데이터로 판다스 시리즈 만들기\n",
    "student1 = pd.Series({'국어': np.nan, '영어' : 80, '수학' : 90})\n",
    "student2 = pd.Series({'수학': 80, '국어' : 90})\n",
    "\n",
    "print(student1,'\\n')\n",
    "print(student2,'\\n')\n",
    "\n",
    "#두학생의 과목별 점수로 사칙연산 수행(시리즈vs시리즈)\n",
    "\n",
    "addition = student1 + student2\n",
    "subtraction = student1 - student2\n",
    "multiplication =  student1 * student2\n",
    "division = student1 / student2\n",
    "\n",
    "print(type(division),'\\n')\n",
    "\n",
    "# 사직현산 결과를 데이터프레임으로 합치기 (시리즈 =>데이터프레임)\n",
    "result = pd.DataFrame([addition,subtraction,multiplication,division],\n",
    "                     index = ['덧셈','뺄셈','곱셈','나눗셈'])\n",
    "print(result,'\\n')\n",
    "\n",
    "#두학생의 과목별 점수로 사칙연산 수행(연산 메소드 사용)\n",
    "sr_add = student1.add(student2, fill_value=0)\n",
    "sr_sub = student1.sub(student2, fill_value=0)\n",
    "sr_mul = student1.mul(student2, fill_value=0)\n",
    "sr_div = student1.div(student2, fill_value=0)\n",
    "\n",
    "# 사칙 연산 결과를 데이터프레임으로 합치기\n",
    "result = pd.DataFrame([sr_add ,sr_sub,sr_mul,sr_div],\n",
    "                     index = ['덧셈','뺄셈','곱셈','나눗셈'])\n",
    "print(result,'\\n')\n"
   ]
  }
 ],
 "metadata": {
  "kernelspec": {
   "display_name": "Python 3",
   "language": "python",
   "name": "python3"
  },
  "language_info": {
   "codemirror_mode": {
    "name": "ipython",
    "version": 3
   },
   "file_extension": ".py",
   "mimetype": "text/x-python",
   "name": "python",
   "nbconvert_exporter": "python",
   "pygments_lexer": "ipython3",
   "version": "3.6.5"
  }
 },
 "nbformat": 4,
 "nbformat_minor": 2
}
