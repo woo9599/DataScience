{
 "cells": [
  {
   "cell_type": "code",
   "execution_count": 1,
   "metadata": {},
   "outputs": [],
   "source": [
    "import pandas as pd"
   ]
  },
  {
   "cell_type": "code",
   "execution_count": 2,
   "metadata": {},
   "outputs": [],
   "source": [
    "scientists =pd.read_csv('./data/scientists.csv')\n",
    "ages = scientists['Age']"
   ]
  },
  {
   "cell_type": "code",
   "execution_count": 3,
   "metadata": {},
   "outputs": [
    {
     "name": "stdout",
     "output_type": "stream",
     "text": [
      "                   Name        Born        Died  Age     Occupation\n",
      "1        William Gosset  1876-06-13  1937-10-16   61   Statistician\n",
      "2  Florence Nightingale  1820-05-12  1910-08-13   90          Nurse\n",
      "3           Marie Curie  1867-11-07  1934-07-04   66        Chemist\n",
      "7          Johann Gauss  1777-04-30  1855-02-23   77  Mathematician\n"
     ]
    }
   ],
   "source": [
    "print(scientists[scientists['Age']>scientists['Age'].mean()])"
   ]
  },
  {
   "cell_type": "code",
   "execution_count": 4,
   "metadata": {},
   "outputs": [
    {
     "name": "stdout",
     "output_type": "stream",
     "text": [
      "                Name        Born        Died  Age    Occupation\n",
      "0  Rosaline Franklin  1920-07-25  1958-04-16   37       Chemist\n",
      "1     William Gosset  1876-06-13  1937-10-16   61  Statistician\n",
      "3        Marie Curie  1867-11-07  1934-07-04   66       Chemist\n"
     ]
    }
   ],
   "source": [
    "print(scientists.loc[[True,True,False,True]])"
   ]
  },
  {
   "cell_type": "code",
   "execution_count": 5,
   "metadata": {},
   "outputs": [
    {
     "name": "stdout",
     "output_type": "stream",
     "text": [
      "                                       Name                  Born  \\\n",
      "0        Rosaline FranklinRosaline Franklin  1920-07-251920-07-25   \n",
      "1              William GossetWilliam Gosset  1876-06-131876-06-13   \n",
      "2  Florence NightingaleFlorence Nightingale  1820-05-121820-05-12   \n",
      "3                    Marie CurieMarie Curie  1867-11-071867-11-07   \n",
      "4                Rachel CarsonRachel Carson  1907-05-271907-05-27   \n",
      "5                        John SnowJohn Snow  1813-03-151813-03-15   \n",
      "6                    Alan TuringAlan Turing  1912-06-231912-06-23   \n",
      "7                  Johann GaussJohann Gauss  1777-04-301777-04-30   \n",
      "\n",
      "                   Died  Age                            Occupation  \n",
      "0  1958-04-161958-04-16   74                        ChemistChemist  \n",
      "1  1937-10-161937-10-16  122              StatisticianStatistician  \n",
      "2  1910-08-131910-08-13  180                            NurseNurse  \n",
      "3  1934-07-041934-07-04  132                        ChemistChemist  \n",
      "4  1964-04-141964-04-14  112                    BiologistBiologist  \n",
      "5  1858-06-161858-06-16   90                    PhysicianPhysician  \n",
      "6  1954-06-071954-06-07   82  Computer ScientistComputer Scientist  \n",
      "7  1855-02-231855-02-23  154            MathematicianMathematician  \n"
     ]
    }
   ],
   "source": [
    "print(scientists*2)"
   ]
  },
  {
   "cell_type": "code",
   "execution_count": null,
   "metadata": {},
   "outputs": [],
   "source": []
  }
 ],
 "metadata": {
  "kernelspec": {
   "display_name": "Python 3",
   "language": "python",
   "name": "python3"
  },
  "language_info": {
   "codemirror_mode": {
    "name": "ipython",
    "version": 3
   },
   "file_extension": ".py",
   "mimetype": "text/x-python",
   "name": "python",
   "nbconvert_exporter": "python",
   "pygments_lexer": "ipython3",
   "version": "3.6.5"
  }
 },
 "nbformat": 4,
 "nbformat_minor": 2
}
