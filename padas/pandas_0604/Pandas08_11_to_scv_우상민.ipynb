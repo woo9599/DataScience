{
 "cells": [
  {
   "cell_type": "code",
   "execution_count": 1,
   "metadata": {},
   "outputs": [
    {
     "data": {
      "text/plain": [
       "'\\n시리즈와 데이터프레임을 엑셀파일로 저장하기\\n시리지는 엑셀구조와 맞지 않기 때문에 데이터 프레임으로 변환합니다\\n\\n'"
      ]
     },
     "execution_count": 1,
     "metadata": {},
     "output_type": "execute_result"
    }
   ],
   "source": [
    "'''\n",
    "시리즈와 데이터프레임을 엑셀파일로 저장하기\n",
    "시리지는 엑셀구조와 맞지 않기 때문에 데이터 프레임으로 변환합니다\n",
    "\n",
    "'''"
   ]
  },
  {
   "cell_type": "code",
   "execution_count": 3,
   "metadata": {},
   "outputs": [],
   "source": [
    "\n",
    "import pandas as pd\n"
   ]
  },
  {
   "cell_type": "code",
   "execution_count": null,
   "metadata": {},
   "outputs": [],
   "source": [
    "#판다스 dataFrame() 함수로 데이터프레임변환.변수 df에 저장"
   ]
  },
  {
   "cell_type": "code",
   "execution_count": 4,
   "metadata": {},
   "outputs": [
    {
     "name": "stdout",
     "output_type": "stream",
     "text": [
      "      algol basic\n",
      "name             \n",
      "Jerry     A     c\n",
      "Riah     A+     B\n",
      "Paul      B    B+\n"
     ]
    }
   ],
   "source": [
    "data = {'name' : ['Jerry', 'Riah','Paul'],\n",
    "       'algol' : ['A','A+','B'],\n",
    "       'basic':['c','B','B+'],\n",
    "       }\n",
    "df =pd.DataFrame(data)\n",
    "df.set_index('name',inplace =True) # name 열을 인덱스로 \n",
    "print(df)\n",
    "\n",
    "#to_csv() 메소드를 사용하여 csv 파일로 내보내기. 파일명은 df_sample.cvss\n",
    "df.to_csv('./pandas2pr/df_sample.csv')"
   ]
  }
 ],
 "metadata": {
  "kernelspec": {
   "display_name": "Python 3",
   "language": "python",
   "name": "python3"
  },
  "language_info": {
   "codemirror_mode": {
    "name": "ipython",
    "version": 3
   },
   "file_extension": ".py",
   "mimetype": "text/x-python",
   "name": "python",
   "nbconvert_exporter": "python",
   "pygments_lexer": "ipython3",
   "version": "3.6.5"
  }
 },
 "nbformat": 4,
 "nbformat_minor": 2
}
