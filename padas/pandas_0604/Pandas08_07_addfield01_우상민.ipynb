{
 "cells": [
  {
   "cell_type": "code",
   "execution_count": 1,
   "metadata": {},
   "outputs": [
    {
     "data": {
      "text/plain": [
       "'\\n열의 자료형 바꾸기와새로운 열추가\\nBorn 과 Died열의 자료형을 확인해 보겠습니다\\n\\n\\n'"
      ]
     },
     "execution_count": 1,
     "metadata": {},
     "output_type": "execute_result"
    }
   ],
   "source": [
    "'''\n",
    "열의 자료형 바꾸기와새로운 열추가\n",
    "Born 과 Died열의 자료형을 확인해 보겠습니다\n",
    "\n",
    "\n",
    "'''"
   ]
  },
  {
   "cell_type": "code",
   "execution_count": 2,
   "metadata": {},
   "outputs": [],
   "source": [
    "import pandas as pd"
   ]
  },
  {
   "cell_type": "code",
   "execution_count": 10,
   "metadata": {},
   "outputs": [],
   "source": [
    "scientists =pd.read_csv('./data/scientists.csv')\n",
    "ages = scientists['Age']"
   ]
  },
  {
   "cell_type": "code",
   "execution_count": 11,
   "metadata": {},
   "outputs": [
    {
     "name": "stdout",
     "output_type": "stream",
     "text": [
      "object\n",
      "object\n"
     ]
    }
   ],
   "source": [
    "print(scientists['Born'].dtype)\n",
    "print(scientists['Died'].dtype)\n"
   ]
  },
  {
   "cell_type": "code",
   "execution_count": 14,
   "metadata": {},
   "outputs": [
    {
     "name": "stdout",
     "output_type": "stream",
     "text": [
      "0   1920-07-25\n",
      "1   1876-06-13\n",
      "2   1820-05-12\n",
      "3   1867-11-07\n",
      "4   1907-05-27\n",
      "5   1813-03-15\n",
      "6   1912-06-23\n",
      "7   1777-04-30\n",
      "Name: Born, dtype: datetime64[ns]\n"
     ]
    }
   ],
   "source": [
    "born_datetime = pd.to_datetime(scientists['Born'], format ='%Y-%m-%d')\n",
    "print(born_datetime)"
   ]
  },
  {
   "cell_type": "code",
   "execution_count": 17,
   "metadata": {},
   "outputs": [
    {
     "name": "stdout",
     "output_type": "stream",
     "text": [
      "0   1958-04-16\n",
      "1   1937-10-16\n",
      "2   1910-08-13\n",
      "3   1934-07-04\n",
      "4   1964-04-14\n",
      "5   1858-06-16\n",
      "6   1954-06-07\n",
      "7   1855-02-23\n",
      "Name: Died, dtype: datetime64[ns]\n"
     ]
    }
   ],
   "source": [
    "Died_datetime = pd.to_datetime(scientists['Died'], format ='%Y-%m-%d')\n",
    "print(Died_datetime)"
   ]
  },
  {
   "cell_type": "code",
   "execution_count": 19,
   "metadata": {},
   "outputs": [],
   "source": [
    "Died_datetime2 = Died_datetime - born_datetime"
   ]
  },
  {
   "cell_type": "code",
   "execution_count": 20,
   "metadata": {},
   "outputs": [
    {
     "name": "stdout",
     "output_type": "stream",
     "text": [
      "0   0 days\n",
      "1   0 days\n",
      "2   0 days\n",
      "3   0 days\n",
      "4   0 days\n",
      "5   0 days\n",
      "6   0 days\n",
      "7   0 days\n",
      "Name: Died, dtype: timedelta64[ns]\n"
     ]
    }
   ],
   "source": [
    "print(Died_datetime2)"
   ]
  },
  {
   "cell_type": "code",
   "execution_count": 26,
   "metadata": {},
   "outputs": [
    {
     "name": "stdout",
     "output_type": "stream",
     "text": [
      "                   Name        Born        Died  Age    Occupation    born_dt  \\\n",
      "0     Rosaline Franklin  1920-07-25  1958-04-16   37       Chemist 1958-04-16   \n",
      "1        William Gosset  1876-06-13  1937-10-16   61  Statistician 1937-10-16   \n",
      "2  Florence Nightingale  1820-05-12  1910-08-13   90         Nurse 1910-08-13   \n",
      "3           Marie Curie  1867-11-07  1934-07-04   66       Chemist 1934-07-04   \n",
      "4         Rachel Carson  1907-05-27  1964-04-14   56     Biologist 1964-04-14   \n",
      "\n",
      "     Died_dt  \n",
      "0 1958-04-16  \n",
      "1 1937-10-16  \n",
      "2 1910-08-13  \n",
      "3 1934-07-04  \n",
      "4 1964-04-14  \n"
     ]
    }
   ],
   "source": [
    "scientists['born_dt'],scientists['Died_dt'] =(born_datetime, Died_datetime)\n",
    "print(scientists.head())"
   ]
  },
  {
   "cell_type": "code",
   "execution_count": 27,
   "metadata": {},
   "outputs": [
    {
     "name": "stdout",
     "output_type": "stream",
     "text": [
      "(8, 7)\n"
     ]
    }
   ],
   "source": [
    "print(scientists.shape)\n"
   ]
  },
  {
   "cell_type": "code",
   "execution_count": 28,
   "metadata": {},
   "outputs": [
    {
     "name": "stdout",
     "output_type": "stream",
     "text": [
      "                   Name        Born        Died  Age    Occupation    born_dt  \\\n",
      "0     Rosaline Franklin  1920-07-25  1958-04-16   37       Chemist 1958-04-16   \n",
      "1        William Gosset  1876-06-13  1937-10-16   61  Statistician 1937-10-16   \n",
      "2  Florence Nightingale  1820-05-12  1910-08-13   90         Nurse 1910-08-13   \n",
      "3           Marie Curie  1867-11-07  1934-07-04   66       Chemist 1934-07-04   \n",
      "4         Rachel Carson  1907-05-27  1964-04-14   56     Biologist 1964-04-14   \n",
      "\n",
      "     Died_dt age_days_dt  \n",
      "0 1958-04-16      0 days  \n",
      "1 1937-10-16      0 days  \n",
      "2 1910-08-13      0 days  \n",
      "3 1934-07-04      0 days  \n",
      "4 1964-04-14      0 days  \n"
     ]
    }
   ],
   "source": [
    "scientists['age_days_dt'] = (scientists['Died_dt'] -scientists['born_dt'])\n",
    "print(scientists.head())"
   ]
  },
  {
   "cell_type": "code",
   "execution_count": null,
   "metadata": {},
   "outputs": [],
   "source": []
  }
 ],
 "metadata": {
  "kernelspec": {
   "display_name": "Python 3",
   "language": "python",
   "name": "python3"
  },
  "language_info": {
   "codemirror_mode": {
    "name": "ipython",
    "version": 3
   },
   "file_extension": ".py",
   "mimetype": "text/x-python",
   "name": "python",
   "nbconvert_exporter": "python",
   "pygments_lexer": "ipython3",
   "version": "3.6.5"
  }
 },
 "nbformat": 4,
 "nbformat_minor": 2
}
