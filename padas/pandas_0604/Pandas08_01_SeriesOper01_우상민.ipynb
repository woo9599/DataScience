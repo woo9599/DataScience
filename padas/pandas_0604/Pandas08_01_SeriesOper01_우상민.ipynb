{
 "cells": [
  {
   "cell_type": "code",
   "execution_count": 1,
   "metadata": {},
   "outputs": [],
   "source": [
    "import pandas as pd"
   ]
  },
  {
   "cell_type": "code",
   "execution_count": 7,
   "metadata": {},
   "outputs": [
    {
     "name": "stdout",
     "output_type": "stream",
     "text": [
      "국어    100\n",
      "영어     80\n",
      "수학     90\n",
      "dtype: int64 \n",
      "\n",
      "국어    0.50\n",
      "영어    0.40\n",
      "수학    0.45\n",
      "dtype: float64 \n",
      "\n",
      "<class 'pandas.core.series.Series'>\n"
     ]
    }
   ],
   "source": [
    "student1 = pd.Series({'국어': 100, '영어' : 80, '수학' : 90})\n",
    "print(student1,'\\n')\n",
    "                      \n",
    "#학생의 과목별 점수를 200 나누기\n",
    "percentage = student1 / 200\n",
    "print(percentage,'\\n')\n",
    "print(type(percentage))"
   ]
  },
  {
   "cell_type": "code",
   "execution_count": 9,
   "metadata": {},
   "outputs": [
    {
     "name": "stdout",
     "output_type": "stream",
     "text": [
      "국어    100\n",
      "영어     80\n",
      "수학     90\n",
      "dtype: int64 \n",
      "\n",
      "수학    80\n",
      "국어    90\n",
      "영어    80\n",
      "dtype: int64 \n",
      "\n",
      "<class 'pandas.core.series.Series'> \n",
      "\n",
      "              국어        수학      영어\n",
      "덧셈    190.000000   170.000   160.0\n",
      "뺄셈     10.000000    10.000     0.0\n",
      "곱셈   9000.000000  7200.000  6400.0\n",
      "나눗셈     1.111111     1.125     1.0 \n",
      " <class 'pandas.core.frame.DataFrame'>\n",
      "국어    190\n",
      "수학    170\n",
      "영어    160\n",
      "dtype: int64 \n",
      " 국어    10\n",
      "수학    10\n",
      "영어     0\n",
      "dtype: int64 \n",
      " 국어    9000\n",
      "수학    7200\n",
      "영어    6400\n",
      "dtype: int64 \n",
      " 국어    1.111111\n",
      "수학    1.125000\n",
      "영어    1.000000\n",
      "dtype: float64\n"
     ]
    }
   ],
   "source": [
    "student1 = pd.Series({'국어': 100, '영어' : 80, '수학' : 90})\n",
    "student2 = pd.Series({'수학': 80, '국어' : 90, '영어' : 80})\n",
    "\n",
    "print(student1,'\\n')\n",
    "print(student2, '\\n')\n",
    "\n",
    "# 두학생의 과목별 점수로 사칙연산 수행\n",
    "addition = student1 + student2\n",
    "subtraction = student1 - student2\n",
    "multiplication =  student1 * student2\n",
    "division = student1 / student2\n",
    "\n",
    "print(type(division),'\\n')\n",
    "\n",
    "#사칙연산 결과를 데이터프레임으로 합치기(시리즈 => 데이터프레임)\n",
    "\n",
    "result = pd.DataFrame([addition,subtraction,multiplication,division],\n",
    "                     index = ['덧셈','뺄셈','곱셈','나눗셈'])\n",
    "print(result,'\\n',type(result))\n",
    "print(addition,'\\n',subtraction,'\\n',multiplication,'\\n',division)\n"
   ]
  }
 ],
 "metadata": {
  "kernelspec": {
   "display_name": "Python 3",
   "language": "python",
   "name": "python3"
  },
  "language_info": {
   "codemirror_mode": {
    "name": "ipython",
    "version": 3
   },
   "file_extension": ".py",
   "mimetype": "text/x-python",
   "name": "python",
   "nbconvert_exporter": "python",
   "pygments_lexer": "ipython3",
   "version": "3.6.5"
  }
 },
 "nbformat": 4,
 "nbformat_minor": 2
}
