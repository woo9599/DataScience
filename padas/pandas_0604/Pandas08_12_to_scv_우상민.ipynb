{
 "cells": [
  {
   "cell_type": "code",
   "execution_count": 1,
   "metadata": {},
   "outputs": [],
   "source": [
    "import pandas as pd"
   ]
  },
  {
   "cell_type": "code",
   "execution_count": 3,
   "metadata": {},
   "outputs": [
    {
     "name": "stdout",
     "output_type": "stream",
     "text": [
      "      algol basic\n",
      "name             \n",
      "Jerry     A     c\n",
      "Riah     A+     B\n",
      "Paul      B    B+\n"
     ]
    }
   ],
   "source": [
    "data = {'name' : ['Jerry', 'Riah','Paul'],\n",
    "       'algol' : ['A','A+','B'],\n",
    "       'basic':['c','B','B+'],\n",
    "       }\n",
    "df =pd.DataFrame(data)\n",
    "df.set_index('name',inplace =True) # name 열을 인덱스로 \n",
    "print(df)\n",
    "\n",
    "df.to_json('./pandas2pr/df_sample.json')\n",
    "df.to_excel('./pandas2pr/df_sample.xlsx')"
   ]
  },
  {
   "cell_type": "code",
   "execution_count": 9,
   "metadata": {},
   "outputs": [
    {
     "name": "stdout",
     "output_type": "stream",
     "text": [
      "      algol basic c++\n",
      "name                 \n",
      "Jerry     A     c  B+\n",
      "Riah     A+     B   C\n",
      "Paul      B    B+  c+\n",
      "\n",
      "\n",
      "    c1  c2  c3  c4\n",
      "c0                \n",
      "1    4   7  10  13\n",
      "2    5   8  11  14\n",
      "3    6   9  12  15\n"
     ]
    }
   ],
   "source": [
    "data1 = {'name' : ['Jerry', 'Riah','Paul'],\n",
    "       'algol' : ['A','A+','B'],\n",
    "       'basic':['c','B','B+'],\n",
    "        'c++' :['B+','C','c+']\n",
    "       }\n",
    "\n",
    "data2 = { 'c0' : [1,2,3],\n",
    "         'c1' :[4,5,6],\n",
    "         'c2' : [7,8,9],\n",
    "         'c3' : [10,11,12],\n",
    "         'c4' : [13,14,15],}\n",
    "\n",
    "df1 = pd.DataFrame(data1)\n",
    "df1.set_index('name', inplace =True)\n",
    "print(df1)\n",
    "print('\\n')\n",
    "\n",
    "df2 = pd.DataFrame(data2)\n",
    "df2.set_index('c0',inplace =True)\n",
    "print(df2)\n",
    "\n",
    "#df1을 'sheet1'으로 , df2 'sheet2'로 저장(엑셀파일명 'df_excel.xlxs')\n",
    "\n",
    "writer = pd.ExcelWriter('./pandas2pr/df_excelwriter.xlsx')\n",
    "df1.to_excel(writer,sheet_name='시트1')\n",
    "df2.to_excel(writer,sheet_name='시트2')\n",
    "writer.save()\n"
   ]
  },
  {
   "cell_type": "code",
   "execution_count": null,
   "metadata": {},
   "outputs": [],
   "source": [
    "\n"
   ]
  }
 ],
 "metadata": {
  "kernelspec": {
   "display_name": "Python 3",
   "language": "python",
   "name": "python3"
  },
  "language_info": {
   "codemirror_mode": {
    "name": "ipython",
    "version": 3
   },
   "file_extension": ".py",
   "mimetype": "text/x-python",
   "name": "python",
   "nbconvert_exporter": "python",
   "pygments_lexer": "ipython3",
   "version": "3.6.5"
  }
 },
 "nbformat": 4,
 "nbformat_minor": 2
}
