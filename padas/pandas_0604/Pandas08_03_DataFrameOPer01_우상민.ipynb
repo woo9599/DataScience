{
 "cells": [
  {
   "cell_type": "code",
   "execution_count": 2,
   "metadata": {},
   "outputs": [],
   "source": [
    "import pandas as pd\n",
    "import seaborn as sns"
   ]
  },
  {
   "cell_type": "code",
   "execution_count": 4,
   "metadata": {},
   "outputs": [
    {
     "name": "stdout",
     "output_type": "stream",
     "text": [
      "Index(['survived', 'pclass', 'sex', 'age', 'sibsp', 'parch', 'fare',\n",
      "       'embarked', 'class', 'who', 'adult_male', 'deck', 'embark_town',\n",
      "       'alive', 'alone'],\n",
      "      dtype='object') \n",
      " (891, 15)\n",
      "    age     fare\n",
      "0  22.0   7.2500\n",
      "1  38.0  71.2833\n",
      "2  26.0   7.9250\n",
      "3  35.0  53.1000\n",
      "4  35.0   8.0500 \n",
      "\n",
      "<class 'pandas.core.frame.DataFrame'> \n",
      "\n",
      "    age     fare\n",
      "0  32.0  17.2500\n",
      "1  48.0  81.2833\n",
      "2  36.0  17.9250\n",
      "3  45.0  63.1000\n",
      "4  45.0  18.0500 \n",
      "\n",
      "<class 'pandas.core.frame.DataFrame'>\n",
      "Index(['survived', 'pclass', 'sex', 'age', 'sibsp', 'parch', 'fare',\n",
      "       'embarked', 'class', 'who', 'adult_male', 'deck', 'embark_town',\n",
      "       'alive', 'alone'],\n",
      "      dtype='object') \n",
      " (891, 15)\n",
      "      age   fare\n",
      "886  27.0  13.00\n",
      "887  19.0  30.00\n",
      "888   NaN  23.45\n",
      "889  26.0  30.00\n",
      "890  32.0   7.75 \n",
      "\n",
      "<class 'pandas.core.frame.DataFrame'> \n",
      " (891, 2)\n",
      "      age   fare\n",
      "886  37.0  23.00\n",
      "887  29.0  40.00\n",
      "888   NaN  33.45\n",
      "889  36.0  40.00\n",
      "890  42.0  17.75 \n",
      "\n",
      "<class 'pandas.core.frame.DataFrame'>\n",
      "      age  fare\n",
      "886  10.0  10.0\n",
      "887  10.0  10.0\n",
      "888   NaN  10.0\n",
      "889  10.0  10.0\n",
      "890  10.0  10.0 \n",
      "\n",
      "<class 'pandas.core.frame.DataFrame'>\n"
     ]
    }
   ],
   "source": [
    "#titanic 데이터셋에서age,fare 2개 열을 선택하여 데이터프레임만들기\n",
    "\n",
    "titanic = sns.load_dataset('titanic')\n",
    "print(titanic.columns,\"\\n\",titanic.shape)\n",
    "df = titanic.loc[:,['age','fare']]\n",
    "print(df.head(),'\\n')\n",
    "print(type(df),'\\n')\n",
    "\n",
    "#데이터프레임에 숫자 10 더하기\n",
    "addition = df +10\n",
    "print(addition.head(),'\\n')\n",
    "print(type(addition))\n",
    "\n",
    "#\n",
    "titanic = sns.load_dataset('titanic')\n",
    "print(titanic.columns,\"\\n\",titanic.shape)\n",
    "df = titanic.loc[:,['age','fare']]\n",
    "print(df.tail(),'\\n')\n",
    "print(type(df),'\\n',df.shape)\n",
    "\n",
    "#데이터프레임에 숫자 10 더하기\n",
    "addition = df +10\n",
    "print(addition.tail(),'\\n')\n",
    "print(type(addition))\n",
    "\n",
    "#데이터 프레임끼리 연산하기(additon - df)\n",
    "subtraction = addition -df\n",
    "print(subtraction.tail(),'\\n')\n",
    "print(type(subtraction))"
   ]
  }
 ],
 "metadata": {
  "kernelspec": {
   "display_name": "Python 3",
   "language": "python",
   "name": "python3"
  },
  "language_info": {
   "codemirror_mode": {
    "name": "ipython",
    "version": 3
   },
   "file_extension": ".py",
   "mimetype": "text/x-python",
   "name": "python",
   "nbconvert_exporter": "python",
   "pygments_lexer": "ipython3",
   "version": "3.6.5"
  }
 },
 "nbformat": 4,
 "nbformat_minor": 2
}
