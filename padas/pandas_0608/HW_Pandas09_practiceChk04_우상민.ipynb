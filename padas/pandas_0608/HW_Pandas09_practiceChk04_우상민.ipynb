{
 "cells": [
  {
   "cell_type": "code",
   "execution_count": 2,
   "metadata": {},
   "outputs": [],
   "source": [
    "import pandas as pd\n",
    "sawonDB = pd.read_csv('./data/sawonDB.csv',\\\n",
    "                          names =['sabun','saname','deptno','sajob','sapay','sahire','sasex','samgr'],header=None)"
   ]
  },
  {
   "cell_type": "code",
   "execution_count": 5,
   "metadata": {},
   "outputs": [
    {
     "data": {
      "text/html": [
       "<div>\n",
       "<style scoped>\n",
       "    .dataframe tbody tr th:only-of-type {\n",
       "        vertical-align: middle;\n",
       "    }\n",
       "\n",
       "    .dataframe tbody tr th {\n",
       "        vertical-align: top;\n",
       "    }\n",
       "\n",
       "    .dataframe thead th {\n",
       "        text-align: right;\n",
       "    }\n",
       "</style>\n",
       "<table border=\"1\" class=\"dataframe\">\n",
       "  <thead>\n",
       "    <tr style=\"text-align: right;\">\n",
       "      <th></th>\n",
       "      <th>sabun</th>\n",
       "      <th>saname</th>\n",
       "      <th>deptno</th>\n",
       "      <th>sajob</th>\n",
       "      <th>sapay</th>\n",
       "      <th>sahire</th>\n",
       "      <th>sasex</th>\n",
       "      <th>samgr</th>\n",
       "    </tr>\n",
       "  </thead>\n",
       "  <tbody>\n",
       "    <tr>\n",
       "      <th>9</th>\n",
       "      <td>19</td>\n",
       "      <td>'임꺽정'</td>\n",
       "      <td>20</td>\n",
       "      <td>'사원'</td>\n",
       "      <td>2200</td>\n",
       "      <td>'1988/04/01'</td>\n",
       "      <td>'남자'</td>\n",
       "      <td>7</td>\n",
       "    </tr>\n",
       "    <tr>\n",
       "      <th>13</th>\n",
       "      <td>4</td>\n",
       "      <td>'이미라'</td>\n",
       "      <td>30</td>\n",
       "      <td>'대리'</td>\n",
       "      <td>2503</td>\n",
       "      <td>'1983/04/01'</td>\n",
       "      <td>'여자'</td>\n",
       "      <td>17</td>\n",
       "    </tr>\n",
       "    <tr>\n",
       "      <th>17</th>\n",
       "      <td>15</td>\n",
       "      <td>'최진실'</td>\n",
       "      <td>10</td>\n",
       "      <td>'사원'</td>\n",
       "      <td>2000</td>\n",
       "      <td>'1991/04/01'</td>\n",
       "      <td>'여자'</td>\n",
       "      <td>12</td>\n",
       "    </tr>\n",
       "    <tr>\n",
       "      <th>18</th>\n",
       "      <td>16</td>\n",
       "      <td>'김유신'</td>\n",
       "      <td>30</td>\n",
       "      <td>'사원'</td>\n",
       "      <td>400</td>\n",
       "      <td>'1981/04/01'</td>\n",
       "      <td>'남자'</td>\n",
       "      <td>4</td>\n",
       "    </tr>\n",
       "  </tbody>\n",
       "</table>\n",
       "</div>"
      ],
      "text/plain": [
       "    sabun  saname  deptno  sajob  sapay         sahire  sasex samgr\n",
       "9      19   '임꺽정'      20   '사원'   2200   '1988/04/01'   '남자'     7\n",
       "13      4   '이미라'      30   '대리'   2503   '1983/04/01'   '여자'    17\n",
       "17     15   '최진실'      10   '사원'   2000   '1991/04/01'   '여자'    12\n",
       "18     16   '김유신'      30   '사원'    400   '1981/04/01'   '남자'     4"
      ]
     },
     "execution_count": 5,
     "metadata": {},
     "output_type": "execute_result"
    }
   ],
   "source": [
    "q2_lst04 =[]\n",
    "for idx in range(len(sawonDB)):\n",
    "    q2_lst04.append(sawonDB['sahire'].str.strip()[idx][6:8] == '04')\n",
    "sawonDB.loc[q2_lst04]"
   ]
  }
 ],
 "metadata": {
  "kernelspec": {
   "display_name": "Python 3",
   "language": "python",
   "name": "python3"
  },
  "language_info": {
   "codemirror_mode": {
    "name": "ipython",
    "version": 3
   },
   "file_extension": ".py",
   "mimetype": "text/x-python",
   "name": "python",
   "nbconvert_exporter": "python",
   "pygments_lexer": "ipython3",
   "version": "3.6.5"
  }
 },
 "nbformat": 4,
 "nbformat_minor": 2
}
