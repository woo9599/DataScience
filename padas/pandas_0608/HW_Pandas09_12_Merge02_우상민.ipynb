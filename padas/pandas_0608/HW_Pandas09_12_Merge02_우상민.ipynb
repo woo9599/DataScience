{
 "cells": [
  {
   "cell_type": "code",
   "execution_count": 9,
   "metadata": {},
   "outputs": [],
   "source": [
    "import pandas as pd"
   ]
  },
  {
   "cell_type": "code",
   "execution_count": 25,
   "metadata": {},
   "outputs": [],
   "source": [
    "deptDB = pd.read_csv('./data/deptDB.csv',names =['deptno','dname','loc'],header=None)\n",
    "sawonDB = pd.read_csv('./data/sawonDB.csv',\\\n",
    "                          names =['sabun','saname','deptno','sajob','sapay','sahire','sasex','samgr'],header=None)\n",
    "gogekDB = pd.read_csv('./data/gogekDB.csv',\\\n",
    "                          names =['gobun','goname','gotel','gojumin','godam'],header=None)\n",
    "deptSawon = deptDB.merge(sawonDB,how='inner',on ='deptno')"
   ]
  },
  {
   "cell_type": "code",
   "execution_count": 36,
   "metadata": {},
   "outputs": [
    {
     "name": "stdout",
     "output_type": "stream",
     "text": [
      "전산부 직원의 평균 연봉 : 1959.7142857142858\n"
     ]
    }
   ],
   "source": [
    "#q7_com_30 = deptSawon[deptSawon['dname'] =='전산부']\n",
    "deptSawon = deptDB.merge(sawonDB,how='inner',on ='deptno') \n",
    "a= deptSawon[deptSawon['dname'] == ' \\'전산부\\''] \n",
    "print(\"전산부 직원의 평균 연봉 :\",a['sapay'].mean())"
   ]
  },
  {
   "cell_type": "code",
   "execution_count": null,
   "metadata": {},
   "outputs": [],
   "source": [
    " '전산부'"
   ]
  }
 ],
 "metadata": {
  "kernelspec": {
   "display_name": "Python 3",
   "language": "python",
   "name": "python3"
  },
  "language_info": {
   "codemirror_mode": {
    "name": "ipython",
    "version": 3
   },
   "file_extension": ".py",
   "mimetype": "text/x-python",
   "name": "python",
   "nbconvert_exporter": "python",
   "pygments_lexer": "ipython3",
   "version": "3.6.5"
  }
 },
 "nbformat": 4,
 "nbformat_minor": 2
}
