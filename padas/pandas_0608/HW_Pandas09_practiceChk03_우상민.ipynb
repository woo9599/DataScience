{
 "cells": [
  {
   "cell_type": "code",
   "execution_count": 15,
   "metadata": {},
   "outputs": [],
   "source": [
    "import pandas as pd\n",
    "sawonDB = pd.read_csv('./data/sawonDB.csv',\\\n",
    "                          names =['sabun','saname','deptno','sajob','sapay','sahire','sasex','samgr'],header=None)"
   ]
  },
  {
   "cell_type": "code",
   "execution_count": 27,
   "metadata": {},
   "outputs": [
    {
     "name": "stdout",
     "output_type": "stream",
     "text": [
      "\n"
     ]
    },
    {
     "data": {
      "text/html": [
       "<div>\n",
       "<style scoped>\n",
       "    .dataframe tbody tr th:only-of-type {\n",
       "        vertical-align: middle;\n",
       "    }\n",
       "\n",
       "    .dataframe tbody tr th {\n",
       "        vertical-align: top;\n",
       "    }\n",
       "\n",
       "    .dataframe thead th {\n",
       "        text-align: right;\n",
       "    }\n",
       "</style>\n",
       "<table border=\"1\" class=\"dataframe\">\n",
       "  <thead>\n",
       "    <tr style=\"text-align: right;\">\n",
       "      <th></th>\n",
       "      <th>sabun</th>\n",
       "      <th>saname</th>\n",
       "      <th>deptno</th>\n",
       "      <th>sajob</th>\n",
       "      <th>sapay</th>\n",
       "      <th>sahire</th>\n",
       "      <th>sasex</th>\n",
       "      <th>samgr</th>\n",
       "    </tr>\n",
       "  </thead>\n",
       "  <tbody>\n",
       "    <tr>\n",
       "      <th>1</th>\n",
       "      <td>2</td>\n",
       "      <td>'한국남'</td>\n",
       "      <td>20</td>\n",
       "      <td>'부장'</td>\n",
       "      <td>3000</td>\n",
       "      <td>'1988/11/01'</td>\n",
       "      <td>'남자'</td>\n",
       "      <td>1</td>\n",
       "    </tr>\n",
       "    <tr>\n",
       "      <th>9</th>\n",
       "      <td>19</td>\n",
       "      <td>'임꺽정'</td>\n",
       "      <td>20</td>\n",
       "      <td>'사원'</td>\n",
       "      <td>2200</td>\n",
       "      <td>'1988/04/01'</td>\n",
       "      <td>'남자'</td>\n",
       "      <td>7</td>\n",
       "    </tr>\n",
       "    <tr>\n",
       "      <th>14</th>\n",
       "      <td>10</td>\n",
       "      <td>'공부해'</td>\n",
       "      <td>30</td>\n",
       "      <td>'사원'</td>\n",
       "      <td>1303</td>\n",
       "      <td>'1988/11/01'</td>\n",
       "      <td>'남자'</td>\n",
       "      <td>4</td>\n",
       "    </tr>\n",
       "  </tbody>\n",
       "</table>\n",
       "</div>"
      ],
      "text/plain": [
       "    sabun  saname  deptno  sajob  sapay         sahire  sasex samgr\n",
       "1       2   '한국남'      20   '부장'   3000   '1988/11/01'   '남자'     1\n",
       "9      19   '임꺽정'      20   '사원'   2200   '1988/04/01'   '남자'     7\n",
       "14     10   '공부해'      30   '사원'   1303   '1988/11/01'   '남자'     4"
      ]
     },
     "execution_count": 27,
     "metadata": {},
     "output_type": "execute_result"
    }
   ],
   "source": [
    "q1_lst88 = []\n",
    "for idx in range(len(sawonDB)):\n",
    "    q1_lst88.append(sawonDB['sahire'].str.strip()[idx][1:5] == '1988')\n",
    "\n",
    "print()\n",
    "\n",
    "sawonDB.loc[q1_lst88]"
   ]
  }
 ],
 "metadata": {
  "kernelspec": {
   "display_name": "Python 3",
   "language": "python",
   "name": "python3"
  },
  "language_info": {
   "codemirror_mode": {
    "name": "ipython",
    "version": 3
   },
   "file_extension": ".py",
   "mimetype": "text/x-python",
   "name": "python",
   "nbconvert_exporter": "python",
   "pygments_lexer": "ipython3",
   "version": "3.6.5"
  }
 },
 "nbformat": 4,
 "nbformat_minor": 2
}
