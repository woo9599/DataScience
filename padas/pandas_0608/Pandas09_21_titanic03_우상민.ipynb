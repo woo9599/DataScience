{
 "cells": [
  {
   "cell_type": "code",
   "execution_count": 2,
   "metadata": {},
   "outputs": [],
   "source": [
    "import pandas as pd\n",
    "import seaborn as sns\n",
    "titanic = sns.load_dataset('titanic')"
   ]
  },
  {
   "cell_type": "code",
   "execution_count": 4,
   "metadata": {},
   "outputs": [
    {
     "data": {
      "text/plain": [
       "sex\n",
       "female    314\n",
       "male      577\n",
       "Name: survived, dtype: int64"
      ]
     },
     "execution_count": 4,
     "metadata": {},
     "output_type": "execute_result"
    }
   ],
   "source": [
    "#남자 여자 명수\n",
    "titanic.groupby('sex')['survived'].count()"
   ]
  },
  {
   "cell_type": "code",
   "execution_count": 12,
   "metadata": {},
   "outputs": [
    {
     "name": "stdout",
     "output_type": "stream",
     "text": [
      "0-10대 사망자수 : 62\n",
      "10-20대 사망자수 : 102\n",
      "20-30대 사망자수 : 220\n",
      "30-40대 사망자수 : 167\n",
      "40-50대 사망자수 : 89\n",
      "50-60대 사망자수 : 48\n",
      "60-70대 사망자수 : 19\n",
      "70-80대 사망자수 : 6\n",
      "80-90대 사망자수 : 1\n"
     ]
    }
   ],
   "source": [
    "age0 = titanic[(titanic['age']>=0)&(titanic['age']<10)]\n",
    "age1 = titanic[(titanic['age']>=10)&(titanic['age']<20)]\n",
    "age2 = titanic[(titanic['age']>=20)&(titanic['age']<30)]\n",
    "age3 = titanic[(titanic['age']>=30)&(titanic['age']<40)]\n",
    "age4 = titanic[(titanic['age']>=40)&(titanic['age']<50)]\n",
    "age5 = titanic[(titanic['age']>=50)&(titanic['age']<60)]\n",
    "age6 = titanic[(titanic['age']>=60)&(titanic['age']<70)]\n",
    "age7 = titanic[(titanic['age']>=70)&(titanic['age']<80)]\n",
    "age8 = titanic[(titanic['age'] >=80)&(titanic['age']<90)]\n",
    "\n",
    "print(\"0-10대 사망자수 :\" ,len(age0['survived']==0))\n",
    "print(\"10-20대 사망자수 :\" ,len(age1['survived']==0))\n",
    "print(\"20-30대 사망자수 :\" ,len(age2['survived']==0))\n",
    "print(\"30-40대 사망자수 :\" ,len(age3['survived']==0))\n",
    "print(\"40-50대 사망자수 :\" ,len(age4['survived']==0))\n",
    "print(\"50-60대 사망자수 :\" ,len(age5['survived']==0))\n",
    "print(\"60-70대 사망자수 :\" ,len(age6['survived']==0))\n",
    "print(\"70-80대 사망자수 :\" ,len(age7['survived']==0))\n",
    "print(\"80-90대 사망자수 :\" , len(age8['survived']==0))"
   ]
  }
 ],
 "metadata": {
  "kernelspec": {
   "display_name": "Python 3",
   "language": "python",
   "name": "python3"
  },
  "language_info": {
   "codemirror_mode": {
    "name": "ipython",
    "version": 3
   },
   "file_extension": ".py",
   "mimetype": "text/x-python",
   "name": "python",
   "nbconvert_exporter": "python",
   "pygments_lexer": "ipython3",
   "version": "3.6.5"
  }
 },
 "nbformat": 4,
 "nbformat_minor": 2
}
