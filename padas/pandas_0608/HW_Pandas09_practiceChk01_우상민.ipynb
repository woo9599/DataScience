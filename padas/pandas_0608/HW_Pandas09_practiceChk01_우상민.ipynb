{
 "cells": [
  {
   "cell_type": "code",
   "execution_count": 21,
   "metadata": {},
   "outputs": [],
   "source": [
    "import pandas as pd"
   ]
  },
  {
   "cell_type": "code",
   "execution_count": 22,
   "metadata": {},
   "outputs": [],
   "source": [
    "deptDB = pd.read_csv('./data/deptDB.csv',header= None)\n",
    "sawonDB = pd.read_csv('./data/sawonDB.csv',header=None)\n",
    "gogekDB = pd.read_csv('./data/gogekDB.csv',header =None)\n",
    "\n",
    "deptDB.columns = ['deptno','dname','loc']\n",
    "\n",
    "sawonDB.columns = ['subun','saname','depno','sajob','sapay','sahire',\n",
    "                  'sasex','samgr']\n",
    "\n",
    "gogekDB.columns = ['gobun','goname','gotel','gojumin','godam']\n",
    "\n",
    "deptDB = deptDB.replace(\"'\",\"\",regex =True)\n",
    "sawonDB =sawonDB.replace(\"'\",\"\",regex = True)\n",
    "gogekDB = gogekDB.replace(\"'\",\"\",regex =True)"
   ]
  },
  {
   "cell_type": "code",
   "execution_count": 28,
   "metadata": {},
   "outputs": [
    {
     "data": {
      "text/html": [
       "<div>\n",
       "<style scoped>\n",
       "    .dataframe tbody tr th:only-of-type {\n",
       "        vertical-align: middle;\n",
       "    }\n",
       "\n",
       "    .dataframe tbody tr th {\n",
       "        vertical-align: top;\n",
       "    }\n",
       "\n",
       "    .dataframe thead th {\n",
       "        text-align: right;\n",
       "    }\n",
       "</style>\n",
       "<table border=\"1\" class=\"dataframe\">\n",
       "  <thead>\n",
       "    <tr style=\"text-align: right;\">\n",
       "      <th></th>\n",
       "      <th>subun</th>\n",
       "      <th>saname</th>\n",
       "      <th>depno</th>\n",
       "      <th>sajob</th>\n",
       "      <th>sapay</th>\n",
       "      <th>sahire</th>\n",
       "      <th>sasex</th>\n",
       "      <th>samgr</th>\n",
       "    </tr>\n",
       "  </thead>\n",
       "  <tbody>\n",
       "    <tr>\n",
       "      <th>0</th>\n",
       "      <td>1</td>\n",
       "      <td>홍길동</td>\n",
       "      <td>10</td>\n",
       "      <td>회장</td>\n",
       "      <td>5000</td>\n",
       "      <td>1980/01/01</td>\n",
       "      <td>남자</td>\n",
       "      <td>null</td>\n",
       "    </tr>\n",
       "  </tbody>\n",
       "</table>\n",
       "</div>"
      ],
      "text/plain": [
       "   subun saname  depno sajob  sapay       sahire sasex  samgr\n",
       "0      1    홍길동     10    회장   5000   1980/01/01    남자   null"
      ]
     },
     "execution_count": 28,
     "metadata": {},
     "output_type": "execute_result"
    }
   ],
   "source": [
    "sawonDB1.head(1)"
   ]
  },
  {
   "cell_type": "code",
   "execution_count": 29,
   "metadata": {},
   "outputs": [],
   "source": [
    "sawonDB1 = sawonDB[:]\n",
    "sawonDB1['saname']=sawonDB1['saname'].str.strip()\n",
    "sawonDB1['sajob']=sawonDB1['sajob'].str.strip()\n",
    "sawonDB1['sahire']=sawonDB1['sahire'].str.strip()\n",
    "sawonDB1['sasex']=sawonDB1['sasex'].str.strip()\n"
   ]
  },
  {
   "cell_type": "code",
   "execution_count": 24,
   "metadata": {},
   "outputs": [
    {
     "name": "stdout",
     "output_type": "stream",
     "text": [
      "   deptno dname  loc\n",
      "0      10   총무부   서울\n",
      "1      20   영업부   대전\n",
      "2      30   전산부   부산\n",
      "3      40   관리부   광주\n",
      "    subun saname  depno sajob  sapay       sahire sasex  samgr\n",
      "0       1    홍길동     10    회장   5000   1980/01/01    남자   null\n",
      "1       2    한국남     20    부장   3000   1988/11/01    남자      1\n",
      "2       3    이순신     20    과장   3500   1985/03/01    남자      2\n",
      "3       5    이순라     20    사원   1200   1990/05/01    여자      3\n",
      "4       7    놀기만     20    과장   2300   1996/06/01    여자      2\n",
      "5      11    뷰별나     20    과장   1600   1989/12/01    여자      2\n",
      "6      14    채시라     20    사원   3400   1993/10/01    여자      3\n",
      "7      17    이성계     30    부장   2803   1984/05/01    남자      1\n",
      "8      13    무궁화     10    부장   3000   1996/11/01    여자      1\n",
      "9      19    임꺽정     20    사원   2200   1988/04/01    남자      7\n",
      "10     20    깨똥이     10    과장   4500   1990/05/01    남자     13\n",
      "11      6    공부만     30    과장   4003   1995/05/01    남자     17\n",
      "12      8    채송화     30    대리   1703   1992/06/01    여자     17\n",
      "13      4    이미라     30    대리   2503   1983/04/01    여자     17\n",
      "14     10    공부해     30    사원   1303   1988/11/01    남자      4\n",
      "15     12    뷰명한     10    대리   1800   1990/10/01    남자     20\n",
      "16      9    무궁화     10    사원   1100   1984/08/01    여자     12\n",
      "17     15    최진실     10    사원   2000   1991/04/01    여자     12\n",
      "18     16    김유신     30    사원    400   1981/04/01    남자      4\n",
      "19     18    강감찬     30    사원   1003   1986/07/01    남자      4\n",
      "   gobun goname      gotel         gojumin  godam\n",
      "0      1     뷰민   123-1234  700113-1537915    3.0\n",
      "1      2     강민  1343-1455  690216-1627914    2.0\n",
      "2      3     영희   144-1655  750320-2636215    NaN\n",
      "3      4     철이   673-1674  770430-1234567    4.0\n",
      "4      5     뷰완   123-1674  720521-1123675    3.0\n",
      "5      6     캔디   673-1764  650725-2534566    NaN\n",
      "6      7     똘이   176-7677  630608-1648614    7.0\n",
      "7      8     쇠돌   673-6774  800804-1346574    9.0\n",
      "8      9     홍이   767-1234  731225-1234689   13.0\n",
      "9     10     안나   767-1677  751015-2432168    4.0\n"
     ]
    }
   ],
   "source": [
    "print(deptDB)\n",
    "print(sawonDB)\n",
    "print(gogekDB)"
   ]
  }
 ],
 "metadata": {
  "kernelspec": {
   "display_name": "Python 3",
   "language": "python",
   "name": "python3"
  },
  "language_info": {
   "codemirror_mode": {
    "name": "ipython",
    "version": 3
   },
   "file_extension": ".py",
   "mimetype": "text/x-python",
   "name": "python",
   "nbconvert_exporter": "python",
   "pygments_lexer": "ipython3",
   "version": "3.6.5"
  }
 },
 "nbformat": 4,
 "nbformat_minor": 2
}
