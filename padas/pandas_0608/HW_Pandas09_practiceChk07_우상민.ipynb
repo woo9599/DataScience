{
 "cells": [
  {
   "cell_type": "code",
   "execution_count": 2,
   "metadata": {},
   "outputs": [],
   "source": [
    "import pandas as pd"
   ]
  },
  {
   "cell_type": "code",
   "execution_count": 3,
   "metadata": {},
   "outputs": [
    {
     "name": "stdout",
     "output_type": "stream",
     "text": [
      "오렌지\n",
      "장미\n",
      "바다\n",
      "여우\n",
      "0 오렌지\n",
      "1 장미\n",
      "2 바다\n",
      "3 여우\n"
     ]
    }
   ],
   "source": [
    "Animal = ['오렌지','장미','바다','여우']\n",
    "\n",
    "for idx in Animal:\n",
    "    print(idx)\n",
    "    \n",
    "# for aa, bb in enumerate(Animal,2):\n",
    "\n",
    "for aa, bb in enumerate(Animal):\n",
    "    print(aa,bb)"
   ]
  }
 ],
 "metadata": {
  "kernelspec": {
   "display_name": "Python 3",
   "language": "python",
   "name": "python3"
  },
  "language_info": {
   "codemirror_mode": {
    "name": "ipython",
    "version": 3
   },
   "file_extension": ".py",
   "mimetype": "text/x-python",
   "name": "python",
   "nbconvert_exporter": "python",
   "pygments_lexer": "ipython3",
   "version": "3.6.5"
  }
 },
 "nbformat": 4,
 "nbformat_minor": 2
}
