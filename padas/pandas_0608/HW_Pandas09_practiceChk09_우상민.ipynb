{
 "cells": [
  {
   "cell_type": "code",
   "execution_count": 2,
   "metadata": {},
   "outputs": [],
   "source": [
    "import pandas as pd"
   ]
  },
  {
   "cell_type": "code",
   "execution_count": 12,
   "metadata": {},
   "outputs": [],
   "source": [
    "sawonDB = pd.read_csv('./data/sawonDB.csv',header=None)\n",
    "sawonDB.columns = ['sabun','saname','detpno','sajob','sapay','sahire',\n",
    "                  'sasex','samgr']\n",
    "sawonDB =sawonDB.replace(\"'\",\"\",regex = True)"
   ]
  },
  {
   "cell_type": "code",
   "execution_count": 13,
   "metadata": {},
   "outputs": [
    {
     "name": "stdout",
     "output_type": "stream",
     "text": [
      "전산부 직원의 평균 연봉 : 1959.7142857142858\n"
     ]
    }
   ],
   "source": [
    "q7_com_30 = sawonDB[sawonDB['detpno'] == 30]\n",
    "print('전산부 직원의 평균 연봉 :',q7_com_30['sapay'].mean())"
   ]
  },
  {
   "cell_type": "code",
   "execution_count": null,
   "metadata": {},
   "outputs": [],
   "source": []
  }
 ],
 "metadata": {
  "kernelspec": {
   "display_name": "Python 3",
   "language": "python",
   "name": "python3"
  },
  "language_info": {
   "codemirror_mode": {
    "name": "ipython",
    "version": 3
   },
   "file_extension": ".py",
   "mimetype": "text/x-python",
   "name": "python",
   "nbconvert_exporter": "python",
   "pygments_lexer": "ipython3",
   "version": "3.6.5"
  }
 },
 "nbformat": 4,
 "nbformat_minor": 2
}
