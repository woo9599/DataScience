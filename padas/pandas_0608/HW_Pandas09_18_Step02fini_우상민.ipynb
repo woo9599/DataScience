{
 "cells": [
  {
   "cell_type": "code",
   "execution_count": 9,
   "metadata": {},
   "outputs": [],
   "source": [
    "import pandas as pd\n",
    "sawonDB = pd.read_csv('./data/sawonDB.csv',header=None)\n",
    "sawonDB.columns = ['sabun','saname','detpno','sajob','sapay','sahire',\n",
    "                  'sasex','samgr']\n",
    "sawonDB =sawonDB.replace(\"'\",\"\",regex = True)"
   ]
  },
  {
   "cell_type": "code",
   "execution_count": 22,
   "metadata": {},
   "outputs": [
    {
     "data": {
      "text/html": [
       "<div>\n",
       "<style scoped>\n",
       "    .dataframe tbody tr th:only-of-type {\n",
       "        vertical-align: middle;\n",
       "    }\n",
       "\n",
       "    .dataframe tbody tr th {\n",
       "        vertical-align: top;\n",
       "    }\n",
       "\n",
       "    .dataframe thead th {\n",
       "        text-align: right;\n",
       "    }\n",
       "</style>\n",
       "<table border=\"1\" class=\"dataframe\">\n",
       "  <thead>\n",
       "    <tr style=\"text-align: right;\">\n",
       "      <th></th>\n",
       "      <th>sabun</th>\n",
       "      <th>saname</th>\n",
       "      <th>detpno</th>\n",
       "      <th>sajob</th>\n",
       "      <th>sapay</th>\n",
       "      <th>sahire</th>\n",
       "      <th>sasex</th>\n",
       "      <th>samgr</th>\n",
       "    </tr>\n",
       "  </thead>\n",
       "  <tbody>\n",
       "    <tr>\n",
       "      <th>3</th>\n",
       "      <td>5</td>\n",
       "      <td>이순라</td>\n",
       "      <td>20</td>\n",
       "      <td>사원</td>\n",
       "      <td>1200</td>\n",
       "      <td>1990/05/01</td>\n",
       "      <td>여자</td>\n",
       "      <td>3</td>\n",
       "    </tr>\n",
       "    <tr>\n",
       "      <th>6</th>\n",
       "      <td>14</td>\n",
       "      <td>채시라</td>\n",
       "      <td>20</td>\n",
       "      <td>사원</td>\n",
       "      <td>3400</td>\n",
       "      <td>1993/10/01</td>\n",
       "      <td>여자</td>\n",
       "      <td>3</td>\n",
       "    </tr>\n",
       "    <tr>\n",
       "      <th>9</th>\n",
       "      <td>19</td>\n",
       "      <td>임꺽정</td>\n",
       "      <td>20</td>\n",
       "      <td>사원</td>\n",
       "      <td>2200</td>\n",
       "      <td>1988/04/01</td>\n",
       "      <td>남자</td>\n",
       "      <td>7</td>\n",
       "    </tr>\n",
       "    <tr>\n",
       "      <th>12</th>\n",
       "      <td>8</td>\n",
       "      <td>채송화</td>\n",
       "      <td>30</td>\n",
       "      <td>대리</td>\n",
       "      <td>1703</td>\n",
       "      <td>1992/06/01</td>\n",
       "      <td>여자</td>\n",
       "      <td>17</td>\n",
       "    </tr>\n",
       "    <tr>\n",
       "      <th>13</th>\n",
       "      <td>4</td>\n",
       "      <td>이미라</td>\n",
       "      <td>30</td>\n",
       "      <td>대리</td>\n",
       "      <td>2503</td>\n",
       "      <td>1983/04/01</td>\n",
       "      <td>여자</td>\n",
       "      <td>17</td>\n",
       "    </tr>\n",
       "    <tr>\n",
       "      <th>14</th>\n",
       "      <td>10</td>\n",
       "      <td>공부해</td>\n",
       "      <td>30</td>\n",
       "      <td>사원</td>\n",
       "      <td>1303</td>\n",
       "      <td>1988/11/01</td>\n",
       "      <td>남자</td>\n",
       "      <td>4</td>\n",
       "    </tr>\n",
       "    <tr>\n",
       "      <th>15</th>\n",
       "      <td>12</td>\n",
       "      <td>뷰명한</td>\n",
       "      <td>10</td>\n",
       "      <td>대리</td>\n",
       "      <td>1800</td>\n",
       "      <td>1990/10/01</td>\n",
       "      <td>남자</td>\n",
       "      <td>20</td>\n",
       "    </tr>\n",
       "    <tr>\n",
       "      <th>16</th>\n",
       "      <td>9</td>\n",
       "      <td>무궁화</td>\n",
       "      <td>10</td>\n",
       "      <td>사원</td>\n",
       "      <td>1100</td>\n",
       "      <td>1984/08/01</td>\n",
       "      <td>여자</td>\n",
       "      <td>12</td>\n",
       "    </tr>\n",
       "    <tr>\n",
       "      <th>17</th>\n",
       "      <td>15</td>\n",
       "      <td>최진실</td>\n",
       "      <td>10</td>\n",
       "      <td>사원</td>\n",
       "      <td>2000</td>\n",
       "      <td>1991/04/01</td>\n",
       "      <td>여자</td>\n",
       "      <td>12</td>\n",
       "    </tr>\n",
       "    <tr>\n",
       "      <th>18</th>\n",
       "      <td>16</td>\n",
       "      <td>김유신</td>\n",
       "      <td>30</td>\n",
       "      <td>사원</td>\n",
       "      <td>400</td>\n",
       "      <td>1981/04/01</td>\n",
       "      <td>남자</td>\n",
       "      <td>4</td>\n",
       "    </tr>\n",
       "    <tr>\n",
       "      <th>19</th>\n",
       "      <td>18</td>\n",
       "      <td>강감찬</td>\n",
       "      <td>30</td>\n",
       "      <td>사원</td>\n",
       "      <td>1003</td>\n",
       "      <td>1986/07/01</td>\n",
       "      <td>남자</td>\n",
       "      <td>4</td>\n",
       "    </tr>\n",
       "  </tbody>\n",
       "</table>\n",
       "</div>"
      ],
      "text/plain": [
       "    sabun saname  detpno sajob  sapay       sahire sasex samgr\n",
       "3       5    이순라      20    사원   1200   1990/05/01    여자     3\n",
       "6      14    채시라      20    사원   3400   1993/10/01    여자     3\n",
       "9      19    임꺽정      20    사원   2200   1988/04/01    남자     7\n",
       "12      8    채송화      30    대리   1703   1992/06/01    여자    17\n",
       "13      4    이미라      30    대리   2503   1983/04/01    여자    17\n",
       "14     10    공부해      30    사원   1303   1988/11/01    남자     4\n",
       "15     12    뷰명한      10    대리   1800   1990/10/01    남자    20\n",
       "16      9    무궁화      10    사원   1100   1984/08/01    여자    12\n",
       "17     15    최진실      10    사원   2000   1991/04/01    여자    12\n",
       "18     16    김유신      30    사원    400   1981/04/01    남자     4\n",
       "19     18    강감찬      30    사원   1003   1986/07/01    남자     4"
      ]
     },
     "execution_count": 22,
     "metadata": {},
     "output_type": "execute_result"
    }
   ],
   "source": [
    "sajobChk = sawonDB[(sawonDB['sajob'] == ' 대리')| (sawonDB['sajob'] ==' 사원')]\n",
    "sajobChk"
   ]
  },
  {
   "cell_type": "code",
   "execution_count": 25,
   "metadata": {},
   "outputs": [
    {
     "data": {
      "text/html": [
       "<div>\n",
       "<style scoped>\n",
       "    .dataframe tbody tr th:only-of-type {\n",
       "        vertical-align: middle;\n",
       "    }\n",
       "\n",
       "    .dataframe tbody tr th {\n",
       "        vertical-align: top;\n",
       "    }\n",
       "\n",
       "    .dataframe thead th {\n",
       "        text-align: right;\n",
       "    }\n",
       "</style>\n",
       "<table border=\"1\" class=\"dataframe\">\n",
       "  <thead>\n",
       "    <tr style=\"text-align: right;\">\n",
       "      <th></th>\n",
       "      <th>sabun</th>\n",
       "      <th>saname</th>\n",
       "      <th>detpno</th>\n",
       "      <th>sajob</th>\n",
       "      <th>sapay</th>\n",
       "      <th>sahire</th>\n",
       "      <th>sasex</th>\n",
       "      <th>samgr</th>\n",
       "    </tr>\n",
       "  </thead>\n",
       "  <tbody>\n",
       "  </tbody>\n",
       "</table>\n",
       "</div>"
      ],
      "text/plain": [
       "Empty DataFrame\n",
       "Columns: [sabun, saname, detpno, sajob, sapay, sahire, sasex, samgr]\n",
       "Index: []"
      ]
     },
     "execution_count": 25,
     "metadata": {},
     "output_type": "execute_result"
    }
   ],
   "source": [
    "#sawonDB[sawonDB['sajob'] == '대리' | sawonDB['sajob'] == '사원']\n",
    "sawonDB[sawonDB['sajob'].isin(['대리','사원'])]"
   ]
  },
  {
   "cell_type": "code",
   "execution_count": 15,
   "metadata": {},
   "outputs": [
    {
     "data": {
      "text/plain": [
       "sajob\n",
       " 대리    3\n",
       " 사원    8\n",
       "Name: sabun, dtype: int64"
      ]
     },
     "execution_count": 15,
     "metadata": {},
     "output_type": "execute_result"
    }
   ],
   "source": [
    "sajobChk.groupby(['sajob'])['sabun'].count()"
   ]
  },
  {
   "cell_type": "code",
   "execution_count": 17,
   "metadata": {},
   "outputs": [
    {
     "data": {
      "text/plain": [
       "sajob\n",
       " 대리    False\n",
       " 사원     True\n",
       "Name: sabun, dtype: bool"
      ]
     },
     "execution_count": 17,
     "metadata": {},
     "output_type": "execute_result"
    }
   ],
   "source": [
    "sajobChk.groupby(['sajob'])['sabun'].count() >=4"
   ]
  },
  {
   "cell_type": "code",
   "execution_count": 19,
   "metadata": {},
   "outputs": [
    {
     "data": {
      "text/plain": [
       "sajob\n",
       " 대리    False\n",
       " 사원     True\n",
       "Name: sabun, dtype: bool"
      ]
     },
     "execution_count": 19,
     "metadata": {},
     "output_type": "execute_result"
    }
   ],
   "source": [
    "sajobCntChk = (sajobChk.groupby(['sajob'])['sabun'].count() >=4)\n",
    "sajobCntChk"
   ]
  },
  {
   "cell_type": "code",
   "execution_count": 20,
   "metadata": {},
   "outputs": [
    {
     "data": {
      "text/plain": [
       "sajob\n",
       " 사원    True\n",
       "Name: sabun, dtype: bool"
      ]
     },
     "execution_count": 20,
     "metadata": {},
     "output_type": "execute_result"
    }
   ],
   "source": [
    "sajobChkResult = sajobCntChk[sajobCntChk.values]\n",
    "sajobChkResult"
   ]
  },
  {
   "cell_type": "code",
   "execution_count": 21,
   "metadata": {},
   "outputs": [],
   "source": [
    "sajobChk = sawonDB[:][(sawonDB['sajob'] =='대리') |(sawonDB['sajob']== '사원')]\n",
    "sajobCntChk = sajobChk.groupby(['sajob'])['sabun'].count() >=4\n",
    "\n",
    "sajobChkResult = sajobCntChk[sajobCntChk.values]\n",
    "\n",
    "for i, value in enumerate(sajobChkResult.index):\n",
    "    cal = sawonDB[sawonDB['sajob'] == value]\n",
    "    print(cal.groupby('sajob')['sapay'].mean())"
   ]
  }
 ],
 "metadata": {
  "kernelspec": {
   "display_name": "Python 3",
   "language": "python",
   "name": "python3"
  },
  "language_info": {
   "codemirror_mode": {
    "name": "ipython",
    "version": 3
   },
   "file_extension": ".py",
   "mimetype": "text/x-python",
   "name": "python",
   "nbconvert_exporter": "python",
   "pygments_lexer": "ipython3",
   "version": "3.6.5"
  }
 },
 "nbformat": 4,
 "nbformat_minor": 2
}
