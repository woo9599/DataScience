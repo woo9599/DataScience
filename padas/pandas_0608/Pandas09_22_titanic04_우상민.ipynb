{
 "cells": [
  {
   "cell_type": "code",
   "execution_count": 8,
   "metadata": {},
   "outputs": [],
   "source": [
    "import pandas as pd\n",
    "import seaborn as sns\n",
    "titanic = sns.load_dataset('titanic')"
   ]
  },
  {
   "cell_type": "code",
   "execution_count": 9,
   "metadata": {},
   "outputs": [
    {
     "name": "stdout",
     "output_type": "stream",
     "text": [
      "0세 이상 - 10세 미만 사망자수 : 62\n",
      "10세 이상 - 20세 미만 사망자수 : 102\n",
      "20세 이상 - 30세 미만 사망자수 : 220\n",
      "30세 이상 - 40세 미만 사망자수 : 167\n",
      "40세 이상 - 50세 미만 사망자수 : 89\n",
      "50세 이상 - 60세 미만 사망자수 : 48\n",
      "60세 이상 - 70세 미만 사망자수 : 19\n",
      "70세 이상 - 80세 미만 사망자수 : 6\n",
      "80세 이상 - 90세 미만 사망자수 : 1\n"
     ]
    }
   ],
   "source": [
    "ages = list(range(0,90,10))\n",
    "df =titanic\n",
    "for x in ages:\n",
    "    start = x\n",
    "    end = x+ 10\n",
    "    ageTemp = df[(titanic['age'] >= start)&(titanic['age'] < end)]\n",
    "    print(\"{}세 이상 - {}세 미만 사망자수 : {}\".format(start,end,(ageTemp['survived']).count()))"
   ]
  },
  {
   "cell_type": "code",
   "execution_count": 87,
   "metadata": {},
   "outputs": [
    {
     "name": "stdout",
     "output_type": "stream",
     "text": [
      "0세 이상 - 10세 미만 사망자수 : 24\n",
      "10세 이상 - 20세 미만 사망자수 : 61\n",
      "20세 이상 - 30세 미만 사망자수 : 143\n",
      "30세 이상 - 40세 미만 사망자수 : 94\n",
      "40세 이상 - 50세 미만 사망자수 : 55\n",
      "50세 이상 - 60세 미만 사망자수 : 28\n",
      "60세 이상 - 70세 미만 사망자수 : 13\n",
      "70세 이상 - 80세 미만 사망자수 : 6\n",
      "80세 이상 - 90세 미만 사망자수 : 0\n"
     ]
    }
   ],
   "source": [
    "ages = list(range(0,90,10))\n",
    "df =titanic\n",
    "for x in ages:\n",
    "    start = x\n",
    "    end = x+ 10\n",
    "    ageTemp = df[(titanic['age'] >= start)&(titanic['age'] < end)]\n",
    "    print(\"{}세 이상 - {}세 미만 사망자수 : {}\".format(start,end,(ageTemp['sex'][ageTemp['survived']==0].count())))"
   ]
  },
  {
   "cell_type": "code",
   "execution_count": 60,
   "metadata": {},
   "outputs": [
    {
     "data": {
      "text/plain": [
       "array([0, 1], dtype=int64)"
      ]
     },
     "execution_count": 60,
     "metadata": {},
     "output_type": "execute_result"
    }
   ],
   "source": [
    "    titanic['survived'].unique()"
   ]
  },
  {
   "cell_type": "code",
   "execution_count": 52,
   "metadata": {},
   "outputs": [
    {
     "data": {
      "text/plain": [
       "array(['male', 'female'], dtype=object)"
      ]
     },
     "execution_count": 52,
     "metadata": {},
     "output_type": "execute_result"
    }
   ],
   "source": [
    "titanic['sex'].unique()\n",
    "&(titanic['survived'] == 0 )"
   ]
  },
  {
   "cell_type": "code",
   "execution_count": 89,
   "metadata": {},
   "outputs": [
    {
     "name": "stdout",
     "output_type": "stream",
     "text": [
      "0세 이상 - 10세 미만 사망자수 : sex\n",
      "female    30\n",
      "male      32\n",
      "Name: survived, dtype: int64\n",
      "\n",
      "================================================================================\n",
      "10세 이상 - 20세 미만 사망자수 : sex\n",
      "female    45\n",
      "male      57\n",
      "Name: survived, dtype: int64\n",
      "\n",
      "================================================================================\n",
      "20세 이상 - 30세 미만 사망자수 : sex\n",
      "female     72\n",
      "male      148\n",
      "Name: survived, dtype: int64\n",
      "\n",
      "================================================================================\n",
      "30세 이상 - 40세 미만 사망자수 : sex\n",
      "female     60\n",
      "male      107\n",
      "Name: survived, dtype: int64\n",
      "\n",
      "================================================================================\n",
      "40세 이상 - 50세 미만 사망자수 : sex\n",
      "female    32\n",
      "male      57\n",
      "Name: survived, dtype: int64\n",
      "\n",
      "================================================================================\n",
      "50세 이상 - 60세 미만 사망자수 : sex\n",
      "female    18\n",
      "male      30\n",
      "Name: survived, dtype: int64\n",
      "\n",
      "================================================================================\n",
      "60세 이상 - 70세 미만 사망자수 : sex\n",
      "female     4\n",
      "male      15\n",
      "Name: survived, dtype: int64\n",
      "\n",
      "================================================================================\n",
      "70세 이상 - 80세 미만 사망자수 : sex\n",
      "male    6\n",
      "Name: survived, dtype: int64\n",
      "\n",
      "================================================================================\n",
      "80세 이상 - 90세 미만 사망자수 : sex\n",
      "male    1\n",
      "Name: survived, dtype: int64\n",
      "\n",
      "================================================================================\n"
     ]
    }
   ],
   "source": [
    "ages = list(range(0,90,10))\n",
    "df =titanic\n",
    "for x in ages:\n",
    "    start = x\n",
    "    end = x+ 10\n",
    "    ageTemp = df[(titanic['age'] >= start)&(titanic['age'] < end)]\n",
    "    print(\"{}세 이상 - {}세 미만 사망자수 : {}\".format(start,end,(ageTemp.groupby('sex')['survived']).count()))\n",
    "    print(\"\")\n",
    "    print(\"=\"*80)"
   ]
  },
  {
   "cell_type": "code",
   "execution_count": 100,
   "metadata": {},
   "outputs": [
    {
     "name": "stdout",
     "output_type": "stream",
     "text": [
      "24 38\n",
      "0세이상 - 10세 미만 사망자수 :sex\n",
      "female    30\n",
      "male      32\n",
      "Name: survived, dtype: int64\n",
      "61 41\n",
      "10세이상 - 20세 미만 사망자수 :sex\n",
      "female    45\n",
      "male      57\n",
      "Name: survived, dtype: int64\n",
      "143 77\n",
      "20세이상 - 30세 미만 사망자수 :sex\n",
      "female     72\n",
      "male      148\n",
      "Name: survived, dtype: int64\n",
      "94 73\n",
      "30세이상 - 40세 미만 사망자수 :sex\n",
      "female     60\n",
      "male      107\n",
      "Name: survived, dtype: int64\n",
      "55 34\n",
      "40세이상 - 50세 미만 사망자수 :sex\n",
      "female    32\n",
      "male      57\n",
      "Name: survived, dtype: int64\n",
      "28 20\n",
      "50세이상 - 60세 미만 사망자수 :sex\n",
      "female    18\n",
      "male      30\n",
      "Name: survived, dtype: int64\n",
      "13 6\n",
      "60세이상 - 70세 미만 사망자수 :sex\n",
      "female     4\n",
      "male      15\n",
      "Name: survived, dtype: int64\n",
      "6 0\n",
      "70세이상 - 80세 미만 사망자수 :sex\n",
      "male    6\n",
      "Name: survived, dtype: int64\n",
      "0 1\n",
      "80세이상 - 90세 미만 사망자수 :sex\n",
      "male    1\n",
      "Name: survived, dtype: int64\n",
      "False\n"
     ]
    }
   ],
   "source": [
    "ages = list(range(0,90,10))\n",
    "\n",
    "for x in ages:\n",
    "    start = x # \n",
    "    end = x + 10\n",
    "    ageTemp = titanic[(titanic['age'] >= start) &(titanic['age'] < end)]\n",
    "    print(ageTemp['sex'][ageTemp['survived']==0].count(),ageTemp['sex'][ageTemp['survived']==1].count()) #반증할려고 할흔적\n",
    "    print(\"{}세이상 - {}세 미만 사망자수 :{}\".format(start,end,(ageTemp.groupby('sex')['survived']).count()))\n",
    "di = ageTemp.groupby('sex')['survived'] == 0\n",
    "print(di)"
   ]
  },
  {
   "cell_type": "code",
   "execution_count": 6,
   "metadata": {},
   "outputs": [
    {
     "name": "stdout",
     "output_type": "stream",
     "text": [
      "2세이상 - 1세 미만 사망자수 :3\n",
      "1세이상 - 3세 미만 사망자수 :2\n"
     ]
    }
   ],
   "source": [
    "print(\"{1}세이상 - {0}세 미만 사망자수 :{2}\".format(1,2,3)) #{}:이 딕셔너리는 인덱스 값으로 받음 뒤에 포맷형식으로부터\n",
    "\n",
    "print(\"{a}세이상 - {c}세 미만 사망자수 :{b}\".format(a=1,b=2,c=3))  "
   ]
  },
  {
   "cell_type": "code",
   "execution_count": 12,
   "metadata": {},
   "outputs": [
    {
     "data": {
      "text/html": [
       "<div>\n",
       "<style scoped>\n",
       "    .dataframe tbody tr th:only-of-type {\n",
       "        vertical-align: middle;\n",
       "    }\n",
       "\n",
       "    .dataframe tbody tr th {\n",
       "        vertical-align: top;\n",
       "    }\n",
       "\n",
       "    .dataframe thead th {\n",
       "        text-align: right;\n",
       "    }\n",
       "</style>\n",
       "<table border=\"1\" class=\"dataframe\">\n",
       "  <thead>\n",
       "    <tr style=\"text-align: right;\">\n",
       "      <th></th>\n",
       "      <th>survived</th>\n",
       "      <th>pclass</th>\n",
       "      <th>sex</th>\n",
       "      <th>age</th>\n",
       "      <th>sibsp</th>\n",
       "      <th>parch</th>\n",
       "      <th>fare</th>\n",
       "      <th>embarked</th>\n",
       "      <th>class</th>\n",
       "      <th>who</th>\n",
       "      <th>adult_male</th>\n",
       "      <th>deck</th>\n",
       "      <th>embark_town</th>\n",
       "      <th>alive</th>\n",
       "      <th>alone</th>\n",
       "    </tr>\n",
       "  </thead>\n",
       "  <tbody>\n",
       "    <tr>\n",
       "      <th>0</th>\n",
       "      <td>0</td>\n",
       "      <td>3</td>\n",
       "      <td>male</td>\n",
       "      <td>22.0</td>\n",
       "      <td>1</td>\n",
       "      <td>0</td>\n",
       "      <td>7.2500</td>\n",
       "      <td>S</td>\n",
       "      <td>Third</td>\n",
       "      <td>man</td>\n",
       "      <td>True</td>\n",
       "      <td>NaN</td>\n",
       "      <td>Southampton</td>\n",
       "      <td>no</td>\n",
       "      <td>False</td>\n",
       "    </tr>\n",
       "    <tr>\n",
       "      <th>1</th>\n",
       "      <td>1</td>\n",
       "      <td>1</td>\n",
       "      <td>female</td>\n",
       "      <td>38.0</td>\n",
       "      <td>1</td>\n",
       "      <td>0</td>\n",
       "      <td>71.2833</td>\n",
       "      <td>C</td>\n",
       "      <td>First</td>\n",
       "      <td>woman</td>\n",
       "      <td>False</td>\n",
       "      <td>C</td>\n",
       "      <td>Cherbourg</td>\n",
       "      <td>yes</td>\n",
       "      <td>False</td>\n",
       "    </tr>\n",
       "    <tr>\n",
       "      <th>2</th>\n",
       "      <td>1</td>\n",
       "      <td>3</td>\n",
       "      <td>female</td>\n",
       "      <td>26.0</td>\n",
       "      <td>0</td>\n",
       "      <td>0</td>\n",
       "      <td>7.9250</td>\n",
       "      <td>S</td>\n",
       "      <td>Third</td>\n",
       "      <td>woman</td>\n",
       "      <td>False</td>\n",
       "      <td>NaN</td>\n",
       "      <td>Southampton</td>\n",
       "      <td>yes</td>\n",
       "      <td>True</td>\n",
       "    </tr>\n",
       "    <tr>\n",
       "      <th>3</th>\n",
       "      <td>1</td>\n",
       "      <td>1</td>\n",
       "      <td>female</td>\n",
       "      <td>35.0</td>\n",
       "      <td>1</td>\n",
       "      <td>0</td>\n",
       "      <td>53.1000</td>\n",
       "      <td>S</td>\n",
       "      <td>First</td>\n",
       "      <td>woman</td>\n",
       "      <td>False</td>\n",
       "      <td>C</td>\n",
       "      <td>Southampton</td>\n",
       "      <td>yes</td>\n",
       "      <td>False</td>\n",
       "    </tr>\n",
       "    <tr>\n",
       "      <th>4</th>\n",
       "      <td>0</td>\n",
       "      <td>3</td>\n",
       "      <td>male</td>\n",
       "      <td>35.0</td>\n",
       "      <td>0</td>\n",
       "      <td>0</td>\n",
       "      <td>8.0500</td>\n",
       "      <td>S</td>\n",
       "      <td>Third</td>\n",
       "      <td>man</td>\n",
       "      <td>True</td>\n",
       "      <td>NaN</td>\n",
       "      <td>Southampton</td>\n",
       "      <td>no</td>\n",
       "      <td>True</td>\n",
       "    </tr>\n",
       "  </tbody>\n",
       "</table>\n",
       "</div>"
      ],
      "text/plain": [
       "   survived  pclass     sex   age  sibsp  parch     fare embarked  class  \\\n",
       "0         0       3    male  22.0      1      0   7.2500        S  Third   \n",
       "1         1       1  female  38.0      1      0  71.2833        C  First   \n",
       "2         1       3  female  26.0      0      0   7.9250        S  Third   \n",
       "3         1       1  female  35.0      1      0  53.1000        S  First   \n",
       "4         0       3    male  35.0      0      0   8.0500        S  Third   \n",
       "\n",
       "     who  adult_male deck  embark_town alive  alone  \n",
       "0    man        True  NaN  Southampton    no  False  \n",
       "1  woman       False    C    Cherbourg   yes  False  \n",
       "2  woman       False  NaN  Southampton   yes   True  \n",
       "3  woman       False    C  Southampton   yes  False  \n",
       "4    man        True  NaN  Southampton    no   True  "
      ]
     },
     "execution_count": 12,
     "metadata": {},
     "output_type": "execute_result"
    }
   ],
   "source": [
    "titanic.head(5) "
   ]
  },
  {
   "cell_type": "code",
   "execution_count": 20,
   "metadata": {},
   "outputs": [
    {
     "name": "stdout",
     "output_type": "stream",
     "text": [
      "<class 'pandas.core.frame.DataFrame'>\n"
     ]
    }
   ],
   "source": [
    "print(type(titanic[['age','pclass']]))"
   ]
  }
 ],
 "metadata": {
  "kernelspec": {
   "display_name": "Python 3",
   "language": "python",
   "name": "python3"
  },
  "language_info": {
   "codemirror_mode": {
    "name": "ipython",
    "version": 3
   },
   "file_extension": ".py",
   "mimetype": "text/x-python",
   "name": "python",
   "nbconvert_exporter": "python",
   "pygments_lexer": "ipython3",
   "version": "3.6.5"
  }
 },
 "nbformat": 4,
 "nbformat_minor": 2
}
