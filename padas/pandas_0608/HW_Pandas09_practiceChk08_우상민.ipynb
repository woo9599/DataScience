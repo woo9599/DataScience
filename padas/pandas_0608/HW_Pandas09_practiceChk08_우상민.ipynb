{
 "cells": [
  {
   "cell_type": "code",
   "execution_count": 2,
   "metadata": {},
   "outputs": [],
   "source": [
    "import pandas as pd"
   ]
  },
  {
   "cell_type": "code",
   "execution_count": 8,
   "metadata": {},
   "outputs": [],
   "source": [
    "sawonDB = pd.read_csv('./data/sawonDB.csv',header=None)\n",
    "sawonDB.columns = ['sabun','saname','depno','sajob','sapay','sahire',\n",
    "                  'sasex','samgr']\n",
    "sawonDB =sawonDB.replace(\"'\",\"\",regex = True)"
   ]
  },
  {
   "cell_type": "code",
   "execution_count": 6,
   "metadata": {},
   "outputs": [
    {
     "name": "stdout",
     "output_type": "stream",
     "text": [
      "    subun saname  depno sajob  sapay       sahire sasex samgr\n",
      "1       2    한국남     20    부장   3000   1988/11/01    남자     1\n",
      "9      19    임꺽정     20    사원   2200   1988/04/01    남자     7\n",
      "14     10    공부해     30    사원   1303   1988/11/01    남자     4\n"
     ]
    }
   ],
   "source": [
    "sawon_1998 = sawonDB[sawonDB['sahire'].str.contains('1988')]\n",
    "print(sawon_1998)"
   ]
  },
  {
   "cell_type": "code",
   "execution_count": 7,
   "metadata": {},
   "outputs": [
    {
     "name": "stdout",
     "output_type": "stream",
     "text": [
      "    subun saname  depno sajob  sapay       sahire sasex samgr\n",
      "9      19    임꺽정     20    사원   2200   1988/04/01    남자     7\n",
      "13      4    이미라     30    대리   2503   1983/04/01    여자    17\n",
      "17     15    최진실     10    사원   2000   1991/04/01    여자    12\n",
      "18     16    김유신     30    사원    400   1981/04/01    남자     4\n"
     ]
    }
   ],
   "source": [
    "sawon_april = sawonDB[sawonDB['sahire'].str.contains('/04/')]\n",
    "print(sawon_april)"
   ]
  },
  {
   "cell_type": "code",
   "execution_count": 10,
   "metadata": {},
   "outputs": [
    {
     "name": "stdout",
     "output_type": "stream",
     "text": [
      "    sabun saname  depno sajob  sapay       sahire sasex samgr\n",
      "1       2    한국남     20    부장   3000   1988/11/01    남자     1\n",
      "6      14    채시라     20    사원   3400   1993/10/01    여자     3\n",
      "10     20    깨똥이     10    과장   4500   1990/05/01    남자    13\n",
      "11      6    공부만     30    과장   4003   1995/05/01    남자    17\n",
      "12      8    채송화     30    대리   1703   1992/06/01    여자    17\n",
      "13      4    이미라     30    대리   2503   1983/04/01    여자    17\n",
      "14     10    공부해     30    사원   1303   1988/11/01    남자     4\n",
      "15     12    뷰명한     10    대리   1800   1990/10/01    남자    20\n",
      "18     16    김유신     30    사원    400   1981/04/01    남자     4\n",
      "19     18    강감찬     30    사원   1003   1986/07/01    남자     4\n"
     ]
    }
   ],
   "source": [
    "#for in list\n",
    "#for in range\n",
    "#for in enumerate : 인덱스 값을 포함하는 enumerate 객체를 리턴\n",
    "# \n",
    "\n",
    "slist=[]\n",
    "for i, value in enumerate(sawonDB['sabun']):\n",
    "    if value % 2 == 0:\n",
    "        slist.append(i)\n",
    "print(sawonDB.iloc[slist])"
   ]
  }
 ],
 "metadata": {
  "kernelspec": {
   "display_name": "Python 3",
   "language": "python",
   "name": "python3"
  },
  "language_info": {
   "codemirror_mode": {
    "name": "ipython",
    "version": 3
   },
   "file_extension": ".py",
   "mimetype": "text/x-python",
   "name": "python",
   "nbconvert_exporter": "python",
   "pygments_lexer": "ipython3",
   "version": "3.6.5"
  }
 },
 "nbformat": 4,
 "nbformat_minor": 2
}
