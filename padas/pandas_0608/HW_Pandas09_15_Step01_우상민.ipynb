{
 "cells": [
  {
   "cell_type": "code",
   "execution_count": 7,
   "metadata": {},
   "outputs": [],
   "source": [
    "import pandas as pd\n",
    "sawonDB = pd.read_csv('./data/sawonDB.csv',header=None)\n",
    "sawonDB.columns = ['sabun','saname','detpno','sajob','sapay','sahire',\n",
    "                  'sasex','samgr']\n",
    "sawonDB =sawonDB.replace(\"'\",\"\",regex = True)"
   ]
  },
  {
   "cell_type": "code",
   "execution_count": 8,
   "metadata": {},
   "outputs": [
    {
     "data": {
      "text/html": [
       "<div>\n",
       "<style scoped>\n",
       "    .dataframe tbody tr th:only-of-type {\n",
       "        vertical-align: middle;\n",
       "    }\n",
       "\n",
       "    .dataframe tbody tr th {\n",
       "        vertical-align: top;\n",
       "    }\n",
       "\n",
       "    .dataframe thead th {\n",
       "        text-align: right;\n",
       "    }\n",
       "</style>\n",
       "<table border=\"1\" class=\"dataframe\">\n",
       "  <thead>\n",
       "    <tr style=\"text-align: right;\">\n",
       "      <th></th>\n",
       "      <th>sabun</th>\n",
       "      <th>saname</th>\n",
       "      <th>detpno</th>\n",
       "      <th>sajob</th>\n",
       "      <th>sapay</th>\n",
       "      <th>sahire</th>\n",
       "      <th>sasex</th>\n",
       "      <th>samgr</th>\n",
       "    </tr>\n",
       "  </thead>\n",
       "  <tbody>\n",
       "    <tr>\n",
       "      <th>12</th>\n",
       "      <td>8</td>\n",
       "      <td>채송화</td>\n",
       "      <td>30</td>\n",
       "      <td>대리</td>\n",
       "      <td>1703</td>\n",
       "      <td>1992/06/01</td>\n",
       "      <td>여자</td>\n",
       "      <td>17</td>\n",
       "    </tr>\n",
       "    <tr>\n",
       "      <th>13</th>\n",
       "      <td>4</td>\n",
       "      <td>이미라</td>\n",
       "      <td>30</td>\n",
       "      <td>대리</td>\n",
       "      <td>2503</td>\n",
       "      <td>1983/04/01</td>\n",
       "      <td>여자</td>\n",
       "      <td>17</td>\n",
       "    </tr>\n",
       "    <tr>\n",
       "      <th>15</th>\n",
       "      <td>12</td>\n",
       "      <td>뷰명한</td>\n",
       "      <td>10</td>\n",
       "      <td>대리</td>\n",
       "      <td>1800</td>\n",
       "      <td>1990/10/01</td>\n",
       "      <td>남자</td>\n",
       "      <td>20</td>\n",
       "    </tr>\n",
       "  </tbody>\n",
       "</table>\n",
       "</div>"
      ],
      "text/plain": [
       "    sabun saname  detpno sajob  sapay       sahire sasex samgr\n",
       "12      8    채송화      30    대리   1703   1992/06/01    여자    17\n",
       "13      4    이미라      30    대리   2503   1983/04/01    여자    17\n",
       "15     12    뷰명한      10    대리   1800   1990/10/01    남자    20"
      ]
     },
     "execution_count": 8,
     "metadata": {},
     "output_type": "execute_result"
    }
   ],
   "source": [
    "sajobChk = sawonDB[(sawonDB['sajob'] == ' 대리')| (sawonDB['sajob'] =='사원')]\n",
    "sajobChk"
   ]
  },
  {
   "cell_type": "code",
   "execution_count": null,
   "metadata": {},
   "outputs": [],
   "source": []
  }
 ],
 "metadata": {
  "kernelspec": {
   "display_name": "Python 3",
   "language": "python",
   "name": "python3"
  },
  "language_info": {
   "codemirror_mode": {
    "name": "ipython",
    "version": 3
   },
   "file_extension": ".py",
   "mimetype": "text/x-python",
   "name": "python",
   "nbconvert_exporter": "python",
   "pygments_lexer": "ipython3",
   "version": "3.6.5"
  }
 },
 "nbformat": 4,
 "nbformat_minor": 2
}
